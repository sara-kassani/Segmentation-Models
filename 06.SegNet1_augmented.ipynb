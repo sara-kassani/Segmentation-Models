{
 "cells": [
  {
   "cell_type": "code",
   "execution_count": 1,
   "metadata": {},
   "outputs": [],
   "source": [
    "import warnings\n",
    "warnings.filterwarnings('always')\n",
    "warnings.filterwarnings('ignore')"
   ]
  },
  {
   "cell_type": "code",
   "execution_count": 2,
   "metadata": {},
   "outputs": [
    {
     "data": {
      "text/plain": [
       "[name: \"/device:CPU:0\"\n",
       " device_type: \"CPU\"\n",
       " memory_limit: 268435456\n",
       " locality {\n",
       " }\n",
       " incarnation: 4231829428662616702, name: \"/device:GPU:0\"\n",
       " device_type: \"GPU\"\n",
       " memory_limit: 9214062756\n",
       " locality {\n",
       "   bus_id: 1\n",
       "   links {\n",
       "   }\n",
       " }\n",
       " incarnation: 972926104994060374\n",
       " physical_device_desc: \"device: 0, name: GeForce GTX 1080 Ti, pci bus id: 0000:01:00.0, compute capability: 6.1\"]"
      ]
     },
     "execution_count": 2,
     "metadata": {},
     "output_type": "execute_result"
    }
   ],
   "source": [
    "from tensorflow.python.client import device_lib\n",
    "device_lib.list_local_devices()"
   ]
  },
  {
   "cell_type": "code",
   "execution_count": 3,
   "metadata": {},
   "outputs": [
    {
     "name": "stderr",
     "output_type": "stream",
     "text": [
      "Using TensorFlow backend.\n"
     ]
    }
   ],
   "source": [
    "import sys\n",
    "import time\n",
    "import math\n",
    "import os\n",
    "import pandas as pd\n",
    "import numpy as np\n",
    "\n",
    "import keras\n",
    "from keras import layers, metrics, models, optimizers\n",
    "from keras.optimizers import Adam, RMSprop,SGD\n",
    "from keras.models import Model\n",
    "from keras.models import Sequential\n",
    "from keras.layers import Input, concatenate, Flatten, Dense, Activation, Dropout, Conv2D, MaxPooling2D, BatchNormalization, GlobalAveragePooling2D\n",
    "from keras.preprocessing.image import ImageDataGenerator\n",
    "\n",
    "\n",
    "import matplotlib.pyplot as plt\n",
    "%matplotlib inline"
   ]
  },
  {
   "cell_type": "code",
   "execution_count": 4,
   "metadata": {},
   "outputs": [
    {
     "name": "stdout",
     "output_type": "stream",
     "text": [
      "Keras Version 2.2.4\n",
      "tensorflow Version 1.9.0\n"
     ]
    }
   ],
   "source": [
    "import keras\n",
    "import tensorflow as tf\n",
    "\n",
    "print(\"Keras Version\", keras.__version__)\n",
    "print(\"tensorflow Version\", tf.__version__)\n",
    "# print(\"dim_ordering:\", K.image_dim_ordering())"
   ]
  },
  {
   "cell_type": "code",
   "execution_count": 5,
   "metadata": {},
   "outputs": [],
   "source": [
    "batch_size = 16\n",
    "img_rows, img_cols = 256, 256\n",
    "input_shape = (img_rows, img_cols, 3)\n",
    "epochs = 150"
   ]
  },
  {
   "cell_type": "code",
   "execution_count": 6,
   "metadata": {},
   "outputs": [],
   "source": [
    "train_dir = 'data_augmented/cvc300_train/'\n",
    "validation_dir = 'data_augmented/cvc300_validation/'\n",
    "test_dir = 'data_augmented/cvc300_test/'\n",
    "\n",
    "image_folder = 'images'\n",
    "masks_folder = 'masks'"
   ]
  },
  {
   "cell_type": "code",
   "execution_count": 7,
   "metadata": {},
   "outputs": [],
   "source": [
    "from keras.layers import Input\n",
    "from keras.layers.core import Activation, Lambda\n",
    "from keras.layers.convolutional import Conv2D, MaxPooling2D, UpSampling2D\n",
    "from keras.layers.normalization import BatchNormalization\n",
    "from keras.models import Model\n",
    "\n",
    "\n",
    "def SegNet(img_size):\n",
    "\n",
    "    inputs = Input(shape=(img_size, img_size, 3))\n",
    "    s = Lambda(lambda x: x / 255)(inputs)\n",
    "\n",
    "    x = Conv2D(64, (3, 3), padding=\"same\")(s)\n",
    "    x = BatchNormalization()(x)\n",
    "    x = Activation(\"relu\")(x)\n",
    "    x = MaxPooling2D(pool_size=(2, 2))(x)\n",
    "\n",
    "    x = Conv2D(128, (3, 3), padding=\"same\")(x)\n",
    "    x = BatchNormalization()(x)\n",
    "    x = Activation(\"relu\")(x)\n",
    "    x = MaxPooling2D(pool_size=(2, 2))(x)\n",
    "\n",
    "    x = Conv2D(256, (3, 3), padding=\"same\")(x)\n",
    "    x = BatchNormalization()(x)\n",
    "    x = Activation(\"relu\")(x)\n",
    "    x = MaxPooling2D(pool_size=(2, 2))(x)\n",
    "\n",
    "    x = Conv2D(512, (3, 3), padding=\"same\")(x)\n",
    "    x = BatchNormalization()(x)\n",
    "    x = Activation(\"relu\")(x)\n",
    "\n",
    "    x = Conv2D(512, (3, 3), padding=\"same\")(x)\n",
    "    x = BatchNormalization()(x)\n",
    "    x = Activation(\"relu\")(x)\n",
    "\n",
    "    x = UpSampling2D(size=(2, 2))(x)\n",
    "    x = Conv2D(256, (3, 3), padding=\"same\")(x)\n",
    "    x = BatchNormalization()(x)\n",
    "    x = Activation(\"relu\")(x)\n",
    "\n",
    "    x = UpSampling2D(size=(2, 2))(x)\n",
    "    x = Conv2D(128, (3, 3), padding=\"same\")(x)\n",
    "    x = BatchNormalization()(x)\n",
    "    x = Activation(\"relu\")(x)\n",
    "\n",
    "    x = UpSampling2D(size=(2, 2))(x)\n",
    "    x = Conv2D(64, (3, 3), padding=\"same\")(x)\n",
    "    x = BatchNormalization()(x)\n",
    "    x = Activation(\"relu\")(x)\n",
    "\n",
    "    x = Conv2D(1, (1, 1), padding=\"valid\")(x)\n",
    "    x = Activation(\"sigmoid\")(x)\n",
    "    model = Model(inputs, x)\n",
    "    return model"
   ]
  },
  {
   "cell_type": "code",
   "execution_count": 8,
   "metadata": {},
   "outputs": [
    {
     "name": "stdout",
     "output_type": "stream",
     "text": [
      "Found 26112 images belonging to 1 classes.\n",
      "Found 26112 images belonging to 1 classes.\n",
      "Found 8704 images belonging to 1 classes.\n",
      "Found 8704 images belonging to 1 classes.\n",
      "Found 28 images belonging to 1 classes.\n",
      "Found 28 images belonging to 1 classes.\n"
     ]
    }
   ],
   "source": [
    "seed = 1142\n",
    "data_gen_args = dict(rescale=1. / 255, featurewise_center=True, featurewise_std_normalization=True)\n",
    "image_datagen = ImageDataGenerator(**data_gen_args)\n",
    "masks_datagen = ImageDataGenerator(**data_gen_args)\n",
    "\n",
    "test_datagen = ImageDataGenerator(rescale=1./255)\n",
    "\n",
    "image_generator = image_datagen.flow_from_directory(\n",
    "    train_dir,\n",
    "    classes = [image_folder],\n",
    "    target_size=(img_rows, img_cols),\n",
    "    batch_size=batch_size,\n",
    "    class_mode=None,\n",
    "    seed=seed)\n",
    "\n",
    "mask_generator = masks_datagen.flow_from_directory(\n",
    "    train_dir,\n",
    "    classes = [masks_folder],\n",
    "    color_mode='grayscale',\n",
    "    target_size=(img_rows, img_cols),\n",
    "    batch_size=batch_size,\n",
    "    class_mode=None,\n",
    "    seed=seed)\n",
    "\n",
    "validation_image_generator = image_datagen.flow_from_directory(\n",
    "    validation_dir,\n",
    "    classes = [image_folder],\n",
    "    target_size=(img_rows, img_cols),\n",
    "    batch_size=batch_size,\n",
    "    class_mode=None,\n",
    "    seed=seed)\n",
    "\n",
    "validation_mask_generator = masks_datagen.flow_from_directory(\n",
    "    validation_dir,\n",
    "    classes = [masks_folder],\n",
    "    color_mode='grayscale',\n",
    "    target_size=(img_rows, img_cols),\n",
    "    batch_size=batch_size,\n",
    "    class_mode=None,\n",
    "    seed=seed)\n",
    "\n",
    "test_image_generator = test_datagen.flow_from_directory(\n",
    "    test_dir,\n",
    "    classes = [image_folder],\n",
    "    target_size=(img_rows, img_cols),\n",
    "    batch_size=batch_size,\n",
    "    class_mode=None,\n",
    "    seed=seed)\n",
    "\n",
    "test_mask_generator = test_datagen.flow_from_directory(\n",
    "    test_dir,\n",
    "    classes = [masks_folder],\n",
    "    color_mode='grayscale',\n",
    "    target_size=(img_rows, img_cols),\n",
    "    batch_size=batch_size,\n",
    "    class_mode=None,\n",
    "    seed=seed)"
   ]
  },
  {
   "cell_type": "code",
   "execution_count": 9,
   "metadata": {},
   "outputs": [],
   "source": [
    "train_generator = zip(image_generator, mask_generator)\n",
    "validation_generator = zip(validation_image_generator, validation_mask_generator)\n",
    "test_generator = zip(test_image_generator, test_mask_generator)"
   ]
  },
  {
   "cell_type": "code",
   "execution_count": 10,
   "metadata": {},
   "outputs": [
    {
     "name": "stdout",
     "output_type": "stream",
     "text": [
      "nb_train_samples: 26112\n",
      "nb_validation_samples: 8704\n",
      "nb_test_samples: 28\n",
      "\n",
      "predict_size_train: 1632\n",
      "predict_size_validation: 544\n",
      "predict_size_test: 2\n"
     ]
    }
   ],
   "source": [
    "nb_train_samples = len(image_generator.filenames)\n",
    "nb_validation_samples = len(validation_image_generator.filenames)\n",
    "nb_test_samples = len(test_image_generator.filenames)\n",
    "\n",
    "predict_size_train = int(math.ceil(nb_train_samples / batch_size))\n",
    "predict_size_validation = int(math.ceil(nb_validation_samples / batch_size))\n",
    "predict_size_test = int(math.ceil(nb_test_samples / batch_size))\n",
    "\n",
    "print(\"nb_train_samples:\", nb_train_samples)\n",
    "print(\"nb_validation_samples:\", nb_validation_samples)\n",
    "print(\"nb_test_samples:\", nb_test_samples)\n",
    "\n",
    "print(\"\\npredict_size_train:\", predict_size_train)\n",
    "print(\"predict_size_validation:\", predict_size_validation)\n",
    "print(\"predict_size_test:\", predict_size_test)"
   ]
  },
  {
   "cell_type": "code",
   "execution_count": 11,
   "metadata": {},
   "outputs": [],
   "source": [
    "smooth = 1.\n",
    "from keras import backend as K\n",
    "\n",
    "def dice_coef(y_true, y_pred):\n",
    "    y_true_f = K.flatten(y_true)\n",
    "    y_pred_f = K.flatten(y_pred)\n",
    "    intersection = K.sum(y_true_f * y_pred_f)\n",
    "    return (2. * intersection + smooth) / (K.sum(y_true_f) + K.sum(y_pred_f) + smooth)\n",
    "\n",
    "\n",
    "def dice_coef_loss(y_true, y_pred):\n",
    "    return -dice_coef(y_true, y_pred)\n",
    "\n",
    "\n",
    "def Specificity(y_true, y_pred):\n",
    "    true_negatives = K.abs(y_pred)- K.abs(y_true)\n",
    "    return ((true_negatives+smooth)/(y_pred+ smooth))\n",
    "\n",
    "def Sensitivity(y_true, y_pred):\n",
    "    y_true = K.flatten(y_true)\n",
    "    y_pred = K.flatten(y_pred)\n",
    "    return ((y_pred+smooth)/ (y_true+smooth))\n",
    "\n",
    "def Jaccard_index(y_true,y_pred):\n",
    "    y_true_f = K.flatten(y_true)\n",
    "    y_pred_f = K.flatten(y_pred)\n",
    "    intersection = K.sum(y_true_f * y_pred_f)\n",
    "    return ((intersection + smooth) / (K.sum(y_true_f) + K.sum(y_pred_f) - intersection + smooth))\n",
    "\n",
    "def precision(y_true, y_pred):\n",
    "    \"\"\"Precision metric.\n",
    "    Only computes a batch-wise average of precision.\n",
    "    Computes the precision, a metric for multi-label classification of\n",
    "    how many selected items are relevant.\n",
    "    \"\"\"\n",
    "    true_positives = K.sum(K.round(K.clip(y_true * y_pred, 0, 1)))\n",
    "    predicted_positives = K.sum(K.round(K.clip(y_pred, 0, 1)))\n",
    "    precision = true_positives / (predicted_positives + K.epsilon())\n",
    "    return precision\n",
    "\n",
    "\n",
    "def recall(y_true, y_pred):\n",
    "    \"\"\"Recall metric.\n",
    "    Only computes a batch-wise average of recall.\n",
    "    Computes the recall, a metric for multi-label classification of\n",
    "    how many relevant items are selected.\n",
    "    \"\"\"\n",
    "    true_positives = K.sum(K.round(K.clip(y_true * y_pred, 0, 1)))\n",
    "    possible_positives = K.sum(K.round(K.clip(y_true, 0, 1)))\n",
    "    recall = true_positives / (possible_positives + K.epsilon())\n",
    "    return recall\n",
    "\n",
    "\n",
    "def f1score(y_true, y_pred):\n",
    "    def recall(y_true, y_pred):\n",
    "        \"\"\"Recall metric.\n",
    "        Only computes a batch-wise average of recall.\n",
    "        Computes the recall, a metric for multi-label classification of\n",
    "        how many relevant items are selected.\n",
    "        \"\"\"\n",
    "        true_positives = K.sum(K.round(K.clip(y_true * y_pred, 0, 1)))\n",
    "        possible_positives = K.sum(K.round(K.clip(y_true, 0, 1)))\n",
    "        recall = true_positives / (possible_positives + K.epsilon())\n",
    "        return recall\n",
    "\n",
    "    def precision(y_true, y_pred):\n",
    "        \"\"\"Precision metric.\n",
    "        Only computes a batch-wise average of precision.\n",
    "        Computes the precision, a metric for multi-label classification of\n",
    "        how many selected items are relevant.\n",
    "        \"\"\"\n",
    "        true_positives = K.sum(K.round(K.clip(y_true * y_pred, 0, 1)))\n",
    "        predicted_positives = K.sum(K.round(K.clip(y_pred, 0, 1)))\n",
    "        precision = true_positives / (predicted_positives + K.epsilon())\n",
    "        return precision\n",
    "\n",
    "    precision = precision(y_true, y_pred)\n",
    "    recall = recall(y_true, y_pred)\n",
    "    return 2 * ((precision * recall) / (precision + recall))"
   ]
  },
  {
   "cell_type": "code",
   "execution_count": 12,
   "metadata": {},
   "outputs": [
    {
     "name": "stdout",
     "output_type": "stream",
     "text": [
      "_________________________________________________________________\n",
      "Layer (type)                 Output Shape              Param #   \n",
      "=================================================================\n",
      "input_1 (InputLayer)         (None, 256, 256, 3)       0         \n",
      "_________________________________________________________________\n",
      "lambda_1 (Lambda)            (None, 256, 256, 3)       0         \n",
      "_________________________________________________________________\n",
      "conv2d_1 (Conv2D)            (None, 256, 256, 64)      1792      \n",
      "_________________________________________________________________\n",
      "batch_normalization_1 (Batch (None, 256, 256, 64)      256       \n",
      "_________________________________________________________________\n",
      "activation_1 (Activation)    (None, 256, 256, 64)      0         \n",
      "_________________________________________________________________\n",
      "max_pooling2d_1 (MaxPooling2 (None, 128, 128, 64)      0         \n",
      "_________________________________________________________________\n",
      "conv2d_2 (Conv2D)            (None, 128, 128, 128)     73856     \n",
      "_________________________________________________________________\n",
      "batch_normalization_2 (Batch (None, 128, 128, 128)     512       \n",
      "_________________________________________________________________\n",
      "activation_2 (Activation)    (None, 128, 128, 128)     0         \n",
      "_________________________________________________________________\n",
      "max_pooling2d_2 (MaxPooling2 (None, 64, 64, 128)       0         \n",
      "_________________________________________________________________\n",
      "conv2d_3 (Conv2D)            (None, 64, 64, 256)       295168    \n",
      "_________________________________________________________________\n",
      "batch_normalization_3 (Batch (None, 64, 64, 256)       1024      \n",
      "_________________________________________________________________\n",
      "activation_3 (Activation)    (None, 64, 64, 256)       0         \n",
      "_________________________________________________________________\n",
      "max_pooling2d_3 (MaxPooling2 (None, 32, 32, 256)       0         \n",
      "_________________________________________________________________\n",
      "conv2d_4 (Conv2D)            (None, 32, 32, 512)       1180160   \n",
      "_________________________________________________________________\n",
      "batch_normalization_4 (Batch (None, 32, 32, 512)       2048      \n",
      "_________________________________________________________________\n",
      "activation_4 (Activation)    (None, 32, 32, 512)       0         \n",
      "_________________________________________________________________\n",
      "conv2d_5 (Conv2D)            (None, 32, 32, 512)       2359808   \n",
      "_________________________________________________________________\n",
      "batch_normalization_5 (Batch (None, 32, 32, 512)       2048      \n",
      "_________________________________________________________________\n",
      "activation_5 (Activation)    (None, 32, 32, 512)       0         \n",
      "_________________________________________________________________\n",
      "up_sampling2d_1 (UpSampling2 (None, 64, 64, 512)       0         \n",
      "_________________________________________________________________\n",
      "conv2d_6 (Conv2D)            (None, 64, 64, 256)       1179904   \n",
      "_________________________________________________________________\n",
      "batch_normalization_6 (Batch (None, 64, 64, 256)       1024      \n",
      "_________________________________________________________________\n",
      "activation_6 (Activation)    (None, 64, 64, 256)       0         \n",
      "_________________________________________________________________\n",
      "up_sampling2d_2 (UpSampling2 (None, 128, 128, 256)     0         \n",
      "_________________________________________________________________\n",
      "conv2d_7 (Conv2D)            (None, 128, 128, 128)     295040    \n",
      "_________________________________________________________________\n",
      "batch_normalization_7 (Batch (None, 128, 128, 128)     512       \n",
      "_________________________________________________________________\n",
      "activation_7 (Activation)    (None, 128, 128, 128)     0         \n",
      "_________________________________________________________________\n",
      "up_sampling2d_3 (UpSampling2 (None, 256, 256, 128)     0         \n",
      "_________________________________________________________________\n",
      "conv2d_8 (Conv2D)            (None, 256, 256, 64)      73792     \n",
      "_________________________________________________________________\n",
      "batch_normalization_8 (Batch (None, 256, 256, 64)      256       \n",
      "_________________________________________________________________\n",
      "activation_8 (Activation)    (None, 256, 256, 64)      0         \n",
      "_________________________________________________________________\n",
      "conv2d_9 (Conv2D)            (None, 256, 256, 1)       65        \n",
      "_________________________________________________________________\n",
      "activation_9 (Activation)    (None, 256, 256, 1)       0         \n",
      "=================================================================\n",
      "Total params: 5,467,265\n",
      "Trainable params: 5,463,425\n",
      "Non-trainable params: 3,840\n",
      "_________________________________________________________________\n"
     ]
    }
   ],
   "source": [
    "model = SegNet(256)\n",
    "model.summary()\n",
    "adam_opt = Adam(lr=1e-5, beta_1=0.9, beta_2=0.999, epsilon=None, decay=0.0, amsgrad=False)\n",
    "\n",
    "model.compile(optimizer= adam_opt, loss=dice_coef_loss, \n",
    "              metrics=[dice_coef, 'acc','mse', Jaccard_index, Specificity, Sensitivity, precision, recall, f1score])"
   ]
  },
  {
   "cell_type": "code",
   "execution_count": 13,
   "metadata": {
    "scrolled": true
   },
   "outputs": [
    {
     "name": "stdout",
     "output_type": "stream",
     "text": [
      "Epoch 1/150\n",
      "1632/1632 [==============================] - 550s 337ms/step - loss: -0.1265 - dice_coef: 0.1265 - acc: 0.5014 - mean_squared_error: 0.3654 - Jaccard_index: 0.0677 - Specificity: 0.9698 - Sensitivity: 1.4008 - precision: 0.0799 - recall: 0.6374 - f1score: 0.1414 - val_loss: -0.1910 - val_dice_coef: 0.1910 - val_acc: 0.5802 - val_mean_squared_error: 0.2707 - val_Jaccard_index: 0.1062 - val_Specificity: 0.9640 - val_Sensitivity: 1.3028 - val_precision: 0.1311 - val_recall: 0.6826 - val_f1score: 0.2186\n",
      "Epoch 2/150\n",
      "1632/1632 [==============================] - 510s 312ms/step - loss: -0.2839 - dice_coef: 0.2839 - acc: 0.7488 - mean_squared_error: 0.1051 - Jaccard_index: 0.1672 - Specificity: 0.9711 - Sensitivity: 1.1545 - precision: 0.2889 - recall: 0.6937 - f1score: 0.3995 - val_loss: -0.2336 - val_dice_coef: 0.2336 - val_acc: 0.6676 - val_mean_squared_error: 0.1814 - val_Jaccard_index: 0.1328 - val_Specificity: 0.9632 - val_Sensitivity: 1.2174 - val_precision: 0.1839 - val_recall: 0.6556 - val_f1score: 0.2843\n",
      "Epoch 3/150\n",
      "1632/1632 [==============================] - 511s 313ms/step - loss: -0.4052 - dice_coef: 0.4052 - acc: 0.8027 - mean_squared_error: 0.0466 - Jaccard_index: 0.2559 - Specificity: 0.9713 - Sensitivity: 1.0793 - precision: 0.4872 - recall: 0.7236 - f1score: 0.5778 - val_loss: -0.1021 - val_dice_coef: 0.1021 - val_acc: 0.8174 - val_mean_squared_error: 0.0446 - val_Jaccard_index: 0.0539 - val_Specificity: 0.9470 - val_Sensitivity: 1.0096 - val_precision: 0.6072 - val_recall: 0.0379 - val_f1score: 0.0707\n",
      "Epoch 4/150\n",
      "1632/1632 [==============================] - 512s 314ms/step - loss: -0.4996 - dice_coef: 0.4996 - acc: 0.8181 - mean_squared_error: 0.0297 - Jaccard_index: 0.3352 - Specificity: 0.9715 - Sensitivity: 1.0495 - precision: 0.6286 - recall: 0.7485 - f1score: 0.6797 - val_loss: -0.0605 - val_dice_coef: 0.0605 - val_acc: 0.8175 - val_mean_squared_error: 0.0469 - val_Jaccard_index: 0.0313 - val_Specificity: 0.9453 - val_Sensitivity: 0.9972 - val_precision: 0.5408 - val_recall: 0.0136 - val_f1score: nan\n",
      "Epoch 5/150\n",
      "1632/1632 [==============================] - 512s 314ms/step - loss: -0.5792 - dice_coef: 0.5792 - acc: 0.8255 - mean_squared_error: 0.0214 - Jaccard_index: 0.4098 - Specificity: 0.9717 - Sensitivity: 1.0321 - precision: 0.7281 - recall: 0.7695 - f1score: 0.7456 - val_loss: -0.2048 - val_dice_coef: 0.2048 - val_acc: 0.7812 - val_mean_squared_error: 0.0776 - val_Jaccard_index: 0.1148 - val_Specificity: 0.9510 - val_Sensitivity: 1.0414 - val_precision: 0.2411 - val_recall: 0.2253 - val_f1score: 0.2260\n",
      "Epoch 6/150\n",
      "1632/1632 [==============================] - 512s 314ms/step - loss: -0.6439 - dice_coef: 0.6439 - acc: 0.8295 - mean_squared_error: 0.0169 - Jaccard_index: 0.4768 - Specificity: 0.9720 - Sensitivity: 1.0217 - precision: 0.7933 - recall: 0.7889 - f1score: 0.7893 - val_loss: -0.3625 - val_dice_coef: 0.3625 - val_acc: 0.7862 - val_mean_squared_error: 0.0652 - val_Jaccard_index: 0.2225 - val_Specificity: 0.9573 - val_Sensitivity: 1.0459 - val_precision: 0.3800 - val_recall: 0.4618 - val_f1score: 0.4108\n",
      "Epoch 7/150\n",
      "1632/1632 [==============================] - 514s 315ms/step - loss: -0.6967 - dice_coef: 0.6967 - acc: 0.8320 - mean_squared_error: 0.0140 - Jaccard_index: 0.5363 - Specificity: 0.9724 - Sensitivity: 1.0153 - precision: 0.8375 - recall: 0.8113 - f1score: 0.8229 - val_loss: -0.0915 - val_dice_coef: 0.0915 - val_acc: 0.8129 - val_mean_squared_error: 0.0508 - val_Jaccard_index: 0.0484 - val_Specificity: 0.9453 - val_Sensitivity: 0.9853 - val_precision: 0.3544 - val_recall: 0.0497 - val_f1score: 0.0851\n",
      "Epoch 8/150\n",
      "1632/1632 [==============================] - 513s 315ms/step - loss: -0.7351 - dice_coef: 0.7351 - acc: 0.8335 - mean_squared_error: 0.0122 - Jaccard_index: 0.5827 - Specificity: 0.9727 - Sensitivity: 1.0111 - precision: 0.8657 - recall: 0.8266 - f1score: 0.8448 - val_loss: -0.3372 - val_dice_coef: 0.3372 - val_acc: 0.7904 - val_mean_squared_error: 0.0654 - val_Jaccard_index: 0.2043 - val_Specificity: 0.9547 - val_Sensitivity: 1.0318 - val_precision: 0.3673 - val_recall: 0.3856 - val_f1score: 0.3711\n",
      "Epoch 9/150\n",
      "1632/1632 [==============================] - 513s 315ms/step - loss: -0.7670 - dice_coef: 0.7670 - acc: 0.8346 - mean_squared_error: 0.0108 - Jaccard_index: 0.6235 - Specificity: 0.9730 - Sensitivity: 1.0083 - precision: 0.8879 - recall: 0.8433 - f1score: 0.8642 - val_loss: -0.2340 - val_dice_coef: 0.2340 - val_acc: 0.6121 - val_mean_squared_error: 0.2519 - val_Jaccard_index: 0.1332 - val_Specificity: 0.9641 - val_Sensitivity: 1.2457 - val_precision: 0.1599 - val_recall: 0.7431 - val_f1score: 0.2602\n",
      "Epoch 10/150\n",
      "1632/1632 [==============================] - 514s 315ms/step - loss: -0.7903 - dice_coef: 0.7903 - acc: 0.8354 - mean_squared_error: 0.0098 - Jaccard_index: 0.6546 - Specificity: 0.9733 - Sensitivity: 1.0065 - precision: 0.9022 - recall: 0.8568 - f1score: 0.8784 - val_loss: -0.3166 - val_dice_coef: 0.3166 - val_acc: 0.8201 - val_mean_squared_error: 0.0406 - val_Jaccard_index: 0.1907 - val_Specificity: 0.9495 - val_Sensitivity: 0.9822 - val_precision: 0.7909 - val_recall: 0.2061 - val_f1score: 0.3219\n",
      "Epoch 11/150\n",
      "1632/1632 [==============================] - 520s 319ms/step - loss: -0.8098 - dice_coef: 0.8098 - acc: 0.8360 - mean_squared_error: 0.0089 - Jaccard_index: 0.6815 - Specificity: 0.9735 - Sensitivity: 1.0053 - precision: 0.9146 - recall: 0.8699 - f1score: 0.8912 - val_loss: -0.2656 - val_dice_coef: 0.2656 - val_acc: 0.8161 - val_mean_squared_error: 0.0449 - val_Jaccard_index: 0.1544 - val_Specificity: 0.9485 - val_Sensitivity: 0.9829 - val_precision: 0.6601 - val_recall: 0.1741 - val_f1score: 0.2721\n",
      "Epoch 12/150\n",
      "1632/1632 [==============================] - 513s 314ms/step - loss: -0.8239 - dice_coef: 0.8239 - acc: 0.8365 - mean_squared_error: 0.0083 - Jaccard_index: 0.7016 - Specificity: 0.9737 - Sensitivity: 1.0045 - precision: 0.9230 - recall: 0.8806 - f1score: 0.9009 - val_loss: -0.1783 - val_dice_coef: 0.1783 - val_acc: 0.8145 - val_mean_squared_error: 0.0491 - val_Jaccard_index: 0.0991 - val_Specificity: 0.9465 - val_Sensitivity: 0.9809 - val_precision: 0.5095 - val_recall: 0.1076 - val_f1score: 0.1744\n",
      "Epoch 13/150\n",
      "1632/1632 [==============================] - 510s 313ms/step - loss: -0.8363 - dice_coef: 0.8363 - acc: 0.8369 - mean_squared_error: 0.0076 - Jaccard_index: 0.7197 - Specificity: 0.9739 - Sensitivity: 1.0039 - precision: 0.9311 - recall: 0.8907 - f1score: 0.9102 - val_loss: -0.3647 - val_dice_coef: 0.3647 - val_acc: 0.8193 - val_mean_squared_error: 0.0391 - val_Jaccard_index: 0.2249 - val_Specificity: 0.9507 - val_Sensitivity: 0.9826 - val_precision: 0.7876 - val_recall: 0.2448 - val_f1score: 0.3710\n",
      "Epoch 14/150\n",
      "1632/1632 [==============================] - 510s 313ms/step - loss: -0.8454 - dice_coef: 0.8454 - acc: 0.8372 - mean_squared_error: 0.0072 - Jaccard_index: 0.7331 - Specificity: 0.9741 - Sensitivity: 1.0035 - precision: 0.9367 - recall: 0.8990 - f1score: 0.9172 - val_loss: -0.1368 - val_dice_coef: 0.1368 - val_acc: 0.8185 - val_mean_squared_error: 0.0461 - val_Jaccard_index: 0.0741 - val_Specificity: 0.9455 - val_Sensitivity: 0.9734 - val_precision: 0.8075 - val_recall: 0.0722 - val_f1score: 0.1315\n",
      "Epoch 15/150\n",
      "1632/1632 [==============================] - 512s 314ms/step - loss: -0.8526 - dice_coef: 0.8526 - acc: 0.8375 - mean_squared_error: 0.0068 - Jaccard_index: 0.7440 - Specificity: 0.9742 - Sensitivity: 1.0033 - precision: 0.9412 - recall: 0.9063 - f1score: 0.9231 - val_loss: -0.2223 - val_dice_coef: 0.2223 - val_acc: 0.7958 - val_mean_squared_error: 0.0673 - val_Jaccard_index: 0.1264 - val_Specificity: 0.9489 - val_Sensitivity: 1.0067 - val_precision: 0.2914 - val_recall: 0.1976 - val_f1score: 0.2304\n",
      "Epoch 16/150\n",
      "1632/1632 [==============================] - 513s 315ms/step - loss: -0.8593 - dice_coef: 0.8593 - acc: 0.8377 - mean_squared_error: 0.0064 - Jaccard_index: 0.7543 - Specificity: 0.9744 - Sensitivity: 1.0032 - precision: 0.9460 - recall: 0.9136 - f1score: 0.9293 - val_loss: -0.3056 - val_dice_coef: 0.3056 - val_acc: 0.8172 - val_mean_squared_error: 0.0440 - val_Jaccard_index: 0.1829 - val_Specificity: 0.9492 - val_Sensitivity: 0.9827 - val_precision: 0.6759 - val_recall: 0.2062 - val_f1score: 0.3113\n"
     ]
    },
    {
     "name": "stdout",
     "output_type": "stream",
     "text": [
      "Epoch 17/150\n",
      "1632/1632 [==============================] - 511s 313ms/step - loss: -0.8644 - dice_coef: 0.8644 - acc: 0.8379 - mean_squared_error: 0.0061 - Jaccard_index: 0.7622 - Specificity: 0.9745 - Sensitivity: 1.0030 - precision: 0.9495 - recall: 0.9196 - f1score: 0.9341 - val_loss: -0.2665 - val_dice_coef: 0.2665 - val_acc: 0.8190 - val_mean_squared_error: 0.0429 - val_Jaccard_index: 0.1554 - val_Specificity: 0.9480 - val_Sensitivity: 0.9776 - val_precision: 0.7857 - val_recall: 0.1622 - val_f1score: 0.2664\n",
      "Epoch 18/150\n",
      "1632/1632 [==============================] - 513s 314ms/step - loss: -0.8691 - dice_coef: 0.8691 - acc: 0.8381 - mean_squared_error: 0.0058 - Jaccard_index: 0.7695 - Specificity: 0.9746 - Sensitivity: 1.0030 - precision: 0.9529 - recall: 0.9253 - f1score: 0.9388 - val_loss: -0.2500 - val_dice_coef: 0.2500 - val_acc: 0.8164 - val_mean_squared_error: 0.0461 - val_Jaccard_index: 0.1449 - val_Specificity: 0.9478 - val_Sensitivity: 0.9802 - val_precision: 0.6481 - val_recall: 0.1600 - val_f1score: 0.2523\n",
      "Epoch 19/150\n",
      "1632/1632 [==============================] - 511s 313ms/step - loss: -0.8724 - dice_coef: 0.8724 - acc: 0.8382 - mean_squared_error: 0.0055 - Jaccard_index: 0.7746 - Specificity: 0.9747 - Sensitivity: 1.0029 - precision: 0.9552 - recall: 0.9299 - f1score: 0.9422 - val_loss: -0.1425 - val_dice_coef: 0.1425 - val_acc: 0.8009 - val_mean_squared_error: 0.0636 - val_Jaccard_index: 0.0774 - val_Specificity: 0.9463 - val_Sensitivity: 0.9950 - val_precision: 0.2413 - val_recall: 0.1086 - val_f1score: 0.1474\n",
      "Epoch 20/150\n",
      "1632/1632 [==============================] - 511s 313ms/step - loss: -0.8754 - dice_coef: 0.8754 - acc: 0.8384 - mean_squared_error: 0.0054 - Jaccard_index: 0.7794 - Specificity: 0.9748 - Sensitivity: 1.0029 - precision: 0.9574 - recall: 0.9337 - f1score: 0.9453 - val_loss: -0.0255 - val_dice_coef: 0.0255 - val_acc: 0.8108 - val_mean_squared_error: 0.0560 - val_Jaccard_index: 0.0130 - val_Specificity: 0.9436 - val_Sensitivity: 0.9786 - val_precision: 0.1014 - val_recall: 0.0144 - val_f1score: nan\n",
      "Epoch 21/150\n",
      "1632/1632 [==============================] - 511s 313ms/step - loss: -0.8779 - dice_coef: 0.8779 - acc: 0.8385 - mean_squared_error: 0.0052 - Jaccard_index: 0.7832 - Specificity: 0.9749 - Sensitivity: 1.0029 - precision: 0.9590 - recall: 0.9369 - f1score: 0.9477 - val_loss: -0.1687 - val_dice_coef: 0.1687 - val_acc: 0.8191 - val_mean_squared_error: 0.0452 - val_Jaccard_index: 0.0930 - val_Specificity: 0.9459 - val_Sensitivity: 0.9729 - val_precision: 0.9013 - val_recall: 0.0924 - val_f1score: 0.1660\n",
      "Epoch 22/150\n",
      "1632/1632 [==============================] - 513s 314ms/step - loss: -0.8805 - dice_coef: 0.8805 - acc: 0.8386 - mean_squared_error: 0.0050 - Jaccard_index: 0.7873 - Specificity: 0.9749 - Sensitivity: 1.0029 - precision: 0.9611 - recall: 0.9405 - f1score: 0.9506 - val_loss: -0.3987 - val_dice_coef: 0.3987 - val_acc: 0.8205 - val_mean_squared_error: 0.0379 - val_Jaccard_index: 0.2518 - val_Specificity: 0.9510 - val_Sensitivity: 0.9808 - val_precision: 0.8650 - val_recall: 0.2723 - val_f1score: 0.4104\n",
      "Epoch 23/150\n",
      "1632/1632 [==============================] - 514s 315ms/step - loss: -0.8833 - dice_coef: 0.8833 - acc: 0.8387 - mean_squared_error: 0.0048 - Jaccard_index: 0.7918 - Specificity: 0.9750 - Sensitivity: 1.0029 - precision: 0.9632 - recall: 0.9443 - f1score: 0.9536 - val_loss: -0.1711 - val_dice_coef: 0.1711 - val_acc: 0.8165 - val_mean_squared_error: 0.0479 - val_Jaccard_index: 0.0947 - val_Specificity: 0.9461 - val_Sensitivity: 0.9765 - val_precision: 0.6132 - val_recall: 0.1007 - val_f1score: 0.1708\n",
      "Epoch 24/150\n",
      "1632/1632 [==============================] - 512s 314ms/step - loss: -0.8847 - dice_coef: 0.8847 - acc: 0.8388 - mean_squared_error: 0.0047 - Jaccard_index: 0.7941 - Specificity: 0.9750 - Sensitivity: 1.0028 - precision: 0.9644 - recall: 0.9465 - f1score: 0.9553 - val_loss: -0.3185 - val_dice_coef: 0.3185 - val_acc: 0.8194 - val_mean_squared_error: 0.0419 - val_Jaccard_index: 0.1919 - val_Specificity: 0.9491 - val_Sensitivity: 0.9795 - val_precision: 0.7841 - val_recall: 0.2060 - val_f1score: 0.3221\n",
      "Epoch 25/150\n",
      "1632/1632 [==============================] - 511s 313ms/step - loss: -0.8874 - dice_coef: 0.8874 - acc: 0.8389 - mean_squared_error: 0.0045 - Jaccard_index: 0.7984 - Specificity: 0.9751 - Sensitivity: 1.0028 - precision: 0.9666 - recall: 0.9500 - f1score: 0.9581 - val_loss: -0.2845 - val_dice_coef: 0.2845 - val_acc: 0.8176 - val_mean_squared_error: 0.0444 - val_Jaccard_index: 0.1679 - val_Specificity: 0.9486 - val_Sensitivity: 0.9806 - val_precision: 0.6803 - val_recall: 0.1836 - val_f1score: 0.2857\n",
      "Epoch 26/150\n",
      "1632/1632 [==============================] - 510s 313ms/step - loss: -0.8879 - dice_coef: 0.8879 - acc: 0.8389 - mean_squared_error: 0.0045 - Jaccard_index: 0.7994 - Specificity: 0.9751 - Sensitivity: 1.0028 - precision: 0.9671 - recall: 0.9508 - f1score: 0.9588 - val_loss: -0.1212 - val_dice_coef: 0.1212 - val_acc: 0.8185 - val_mean_squared_error: 0.0469 - val_Jaccard_index: 0.0652 - val_Specificity: 0.9450 - val_Sensitivity: 0.9721 - val_precision: 0.8330 - val_recall: 0.0641 - val_f1score: 0.1178\n",
      "Epoch 27/150\n",
      "1632/1632 [==============================] - 511s 313ms/step - loss: -0.8899 - dice_coef: 0.8899 - acc: 0.8390 - mean_squared_error: 0.0043 - Jaccard_index: 0.8025 - Specificity: 0.9752 - Sensitivity: 1.0028 - precision: 0.9686 - recall: 0.9534 - f1score: 0.9609 - val_loss: -0.3367 - val_dice_coef: 0.3367 - val_acc: 0.8205 - val_mean_squared_error: 0.0403 - val_Jaccard_index: 0.2049 - val_Specificity: 0.9494 - val_Sensitivity: 0.9789 - val_precision: 0.8568 - val_recall: 0.2184 - val_f1score: 0.3444\n",
      "Epoch 28/150\n",
      "1632/1632 [==============================] - 511s 313ms/step - loss: -0.8911 - dice_coef: 0.8911 - acc: 0.8391 - mean_squared_error: 0.0042 - Jaccard_index: 0.8046 - Specificity: 0.9752 - Sensitivity: 1.0028 - precision: 0.9699 - recall: 0.9557 - f1score: 0.9627 - val_loss: -0.0888 - val_dice_coef: 0.0888 - val_acc: 0.8180 - val_mean_squared_error: 0.0481 - val_Jaccard_index: 0.0471 - val_Specificity: 0.9445 - val_Sensitivity: 0.9718 - val_precision: 0.7388 - val_recall: 0.0464 - val_f1score: 0.0861\n",
      "Epoch 29/150\n",
      "1632/1632 [==============================] - 511s 313ms/step - loss: -0.8923 - dice_coef: 0.8923 - acc: 0.8391 - mean_squared_error: 0.0042 - Jaccard_index: 0.8064 - Specificity: 0.9753 - Sensitivity: 1.0028 - precision: 0.9706 - recall: 0.9570 - f1score: 0.9637 - val_loss: -0.0980 - val_dice_coef: 0.0980 - val_acc: 0.8157 - val_mean_squared_error: 0.0503 - val_Jaccard_index: 0.0530 - val_Specificity: 0.9447 - val_Sensitivity: 0.9747 - val_precision: 0.4743 - val_recall: 0.0543 - val_f1score: nan\n",
      "Epoch 30/150\n",
      "1632/1632 [==============================] - 511s 313ms/step - loss: -0.8939 - dice_coef: 0.8939 - acc: 0.8392 - mean_squared_error: 0.0040 - Jaccard_index: 0.8090 - Specificity: 0.9753 - Sensitivity: 1.0028 - precision: 0.9720 - recall: 0.9592 - f1score: 0.9655 - val_loss: -0.2791 - val_dice_coef: 0.2791 - val_acc: 0.8131 - val_mean_squared_error: 0.0478 - val_Jaccard_index: 0.1638 - val_Specificity: 0.9489 - val_Sensitivity: 0.9852 - val_precision: 0.5775 - val_recall: 0.1963 - val_f1score: 0.2883\n",
      "Epoch 31/150\n",
      "1632/1632 [==============================] - 511s 313ms/step - loss: -0.8944 - dice_coef: 0.8944 - acc: 0.8392 - mean_squared_error: 0.0040 - Jaccard_index: 0.8098 - Specificity: 0.9753 - Sensitivity: 1.0028 - precision: 0.9725 - recall: 0.9601 - f1score: 0.9662 - val_loss: -0.2379 - val_dice_coef: 0.2379 - val_acc: 0.8199 - val_mean_squared_error: 0.0429 - val_Jaccard_index: 0.1363 - val_Specificity: 0.9472 - val_Sensitivity: 0.9745 - val_precision: 0.9170 - val_recall: 0.1375 - val_f1score: 0.2370\n",
      "Epoch 32/150\n",
      "1632/1632 [==============================] - 511s 313ms/step - loss: -0.8957 - dice_coef: 0.8957 - acc: 0.8393 - mean_squared_error: 0.0039 - Jaccard_index: 0.8119 - Specificity: 0.9754 - Sensitivity: 1.0028 - precision: 0.9737 - recall: 0.9620 - f1score: 0.9678 - val_loss: -0.1153 - val_dice_coef: 0.1153 - val_acc: 0.8183 - val_mean_squared_error: 0.0471 - val_Jaccard_index: 0.0616 - val_Specificity: 0.9449 - val_Sensitivity: 0.9719 - val_precision: 0.8613 - val_recall: 0.0619 - val_f1score: 0.1146\n"
     ]
    },
    {
     "name": "stdout",
     "output_type": "stream",
     "text": [
      "Epoch 33/150\n",
      "1632/1632 [==============================] - 512s 314ms/step - loss: -0.8971 - dice_coef: 0.8971 - acc: 0.8393 - mean_squared_error: 0.0038 - Jaccard_index: 0.8143 - Specificity: 0.9754 - Sensitivity: 1.0028 - precision: 0.9747 - recall: 0.9637 - f1score: 0.9691 - val_loss: -0.3456 - val_dice_coef: 0.3456 - val_acc: 0.8184 - val_mean_squared_error: 0.0421 - val_Jaccard_index: 0.2111 - val_Specificity: 0.9500 - val_Sensitivity: 0.9827 - val_precision: 0.7232 - val_recall: 0.2371 - val_f1score: 0.3536\n",
      "Epoch 34/150\n",
      "1632/1632 [==============================] - 511s 313ms/step - loss: -0.8974 - dice_coef: 0.8974 - acc: 0.8393 - mean_squared_error: 0.0038 - Jaccard_index: 0.8147 - Specificity: 0.9754 - Sensitivity: 1.0028 - precision: 0.9750 - recall: 0.9640 - f1score: 0.9694 - val_loss: -0.3272 - val_dice_coef: 0.3272 - val_acc: 0.7814 - val_mean_squared_error: 0.0766 - val_Jaccard_index: 0.1972 - val_Specificity: 0.9539 - val_Sensitivity: 1.0304 - val_precision: 0.3310 - val_recall: 0.3789 - val_f1score: 0.3468\n",
      "Epoch 35/150\n",
      "1632/1632 [==============================] - 511s 313ms/step - loss: -0.8989 - dice_coef: 0.8989 - acc: 0.8394 - mean_squared_error: 0.0036 - Jaccard_index: 0.8172 - Specificity: 0.9754 - Sensitivity: 1.0028 - precision: 0.9763 - recall: 0.9660 - f1score: 0.9711 - val_loss: -0.0291 - val_dice_coef: 0.0291 - val_acc: 0.8175 - val_mean_squared_error: 0.0495 - val_Jaccard_index: 0.0148 - val_Specificity: 0.9435 - val_Sensitivity: 0.9704 - val_precision: 0.6031 - val_recall: 0.0139 - val_f1score: 0.0270\n",
      "Epoch 36/150\n",
      "1632/1632 [==============================] - 509s 312ms/step - loss: -0.8995 - dice_coef: 0.8995 - acc: 0.8394 - mean_squared_error: 0.0036 - Jaccard_index: 0.8183 - Specificity: 0.9755 - Sensitivity: 1.0028 - precision: 0.9768 - recall: 0.9669 - f1score: 0.9718 - val_loss: -0.0930 - val_dice_coef: 0.0930 - val_acc: 0.8182 - val_mean_squared_error: 0.0476 - val_Jaccard_index: 0.0492 - val_Specificity: 0.9446 - val_Sensitivity: 0.9716 - val_precision: 0.8060 - val_recall: 0.0475 - val_f1score: 0.0890\n",
      "Epoch 37/150\n",
      "1632/1632 [==============================] - 501s 307ms/step - loss: -0.8999 - dice_coef: 0.8999 - acc: 0.8395 - mean_squared_error: 0.0036 - Jaccard_index: 0.8189 - Specificity: 0.9755 - Sensitivity: 1.0028 - precision: 0.9771 - recall: 0.9677 - f1score: 0.9724 - val_loss: -0.1515 - val_dice_coef: 0.1515 - val_acc: 0.8177 - val_mean_squared_error: 0.0475 - val_Jaccard_index: 0.0831 - val_Specificity: 0.9456 - val_Sensitivity: 0.9747 - val_precision: 0.6568 - val_recall: 0.0841 - val_f1score: 0.1467\n",
      "Epoch 38/150\n",
      "1632/1632 [==============================] - 498s 305ms/step - loss: -0.9009 - dice_coef: 0.9009 - acc: 0.8395 - mean_squared_error: 0.0035 - Jaccard_index: 0.8204 - Specificity: 0.9755 - Sensitivity: 1.0028 - precision: 0.9780 - recall: 0.9692 - f1score: 0.9736 - val_loss: -0.3913 - val_dice_coef: 0.3913 - val_acc: 0.8211 - val_mean_squared_error: 0.0383 - val_Jaccard_index: 0.2461 - val_Specificity: 0.9508 - val_Sensitivity: 0.9807 - val_precision: 0.8498 - val_recall: 0.2630 - val_f1score: 0.3978\n",
      "Epoch 39/150\n",
      "1632/1632 [==============================] - 501s 307ms/step - loss: -0.9014 - dice_coef: 0.9014 - acc: 0.8395 - mean_squared_error: 0.0034 - Jaccard_index: 0.8213 - Specificity: 0.9755 - Sensitivity: 1.0028 - precision: 0.9783 - recall: 0.9699 - f1score: 0.9741 - val_loss: -0.1377 - val_dice_coef: 0.1377 - val_acc: 0.8189 - val_mean_squared_error: 0.0463 - val_Jaccard_index: 0.0746 - val_Specificity: 0.9453 - val_Sensitivity: 0.9723 - val_precision: 0.8858 - val_recall: 0.0738 - val_f1score: 0.1352\n",
      "Epoch 40/150\n",
      "1632/1632 [==============================] - 501s 307ms/step - loss: -0.9023 - dice_coef: 0.9023 - acc: 0.8396 - mean_squared_error: 0.0034 - Jaccard_index: 0.8229 - Specificity: 0.9755 - Sensitivity: 1.0028 - precision: 0.9791 - recall: 0.9711 - f1score: 0.9750 - val_loss: -0.1066 - val_dice_coef: 0.1066 - val_acc: 0.8187 - val_mean_squared_error: 0.0472 - val_Jaccard_index: 0.0570 - val_Specificity: 0.9448 - val_Sensitivity: 0.9716 - val_precision: 0.8678 - val_recall: 0.0559 - val_f1score: 0.1039\n",
      "Epoch 41/150\n",
      "1632/1632 [==============================] - 501s 307ms/step - loss: -0.9028 - dice_coef: 0.9028 - acc: 0.8396 - mean_squared_error: 0.0033 - Jaccard_index: 0.8238 - Specificity: 0.9756 - Sensitivity: 1.0028 - precision: 0.9795 - recall: 0.9716 - f1score: 0.9755 - val_loss: -0.3627 - val_dice_coef: 0.3627 - val_acc: 0.8073 - val_mean_squared_error: 0.0512 - val_Jaccard_index: 0.2239 - val_Specificity: 0.9519 - val_Sensitivity: 0.9980 - val_precision: 0.5202 - val_recall: 0.3088 - val_f1score: 0.3812\n",
      "Epoch 42/150\n",
      "1632/1632 [==============================] - 501s 307ms/step - loss: -0.9031 - dice_coef: 0.9031 - acc: 0.8396 - mean_squared_error: 0.0033 - Jaccard_index: 0.8242 - Specificity: 0.9756 - Sensitivity: 1.0028 - precision: 0.9799 - recall: 0.9720 - f1score: 0.9759 - val_loss: -0.1554 - val_dice_coef: 0.1554 - val_acc: 0.8187 - val_mean_squared_error: 0.0462 - val_Jaccard_index: 0.0850 - val_Specificity: 0.9456 - val_Sensitivity: 0.9733 - val_precision: 0.8125 - val_recall: 0.0857 - val_f1score: 0.1535\n",
      "Epoch 43/150\n",
      "1632/1632 [==============================] - 508s 311ms/step - loss: -0.9038 - dice_coef: 0.9038 - acc: 0.8396 - mean_squared_error: 0.0033 - Jaccard_index: 0.8253 - Specificity: 0.9756 - Sensitivity: 1.0028 - precision: 0.9803 - recall: 0.9729 - f1score: 0.9766 - val_loss: -0.0263 - val_dice_coef: 0.0263 - val_acc: 0.8177 - val_mean_squared_error: 0.0494 - val_Jaccard_index: 0.0134 - val_Specificity: 0.9435 - val_Sensitivity: 0.9701 - val_precision: 0.7113 - val_recall: 0.0125 - val_f1score: 0.0244\n",
      "Epoch 44/150\n",
      "1632/1632 [==============================] - 508s 311ms/step - loss: -0.9041 - dice_coef: 0.9041 - acc: 0.8397 - mean_squared_error: 0.0032 - Jaccard_index: 0.8259 - Specificity: 0.9756 - Sensitivity: 1.0028 - precision: 0.9807 - recall: 0.9738 - f1score: 0.9772 - val_loss: -0.1461 - val_dice_coef: 0.1461 - val_acc: 0.8188 - val_mean_squared_error: 0.0462 - val_Jaccard_index: 0.0795 - val_Specificity: 0.9455 - val_Sensitivity: 0.9727 - val_precision: 0.8519 - val_recall: 0.0790 - val_f1score: 0.1434\n",
      "Epoch 45/150\n",
      "1632/1632 [==============================] - 509s 312ms/step - loss: -0.9046 - dice_coef: 0.9046 - acc: 0.8397 - mean_squared_error: 0.0032 - Jaccard_index: 0.8267 - Specificity: 0.9756 - Sensitivity: 1.0028 - precision: 0.9812 - recall: 0.9743 - f1score: 0.9777 - val_loss: -0.4163 - val_dice_coef: 0.4163 - val_acc: 0.7963 - val_mean_squared_error: 0.0596 - val_Jaccard_index: 0.2643 - val_Specificity: 0.9558 - val_Sensitivity: 1.0186 - val_precision: 0.4470 - val_recall: 0.4474 - val_f1score: 0.4420\n",
      "Epoch 46/150\n",
      "1632/1632 [==============================] - 507s 311ms/step - loss: -0.9055 - dice_coef: 0.9055 - acc: 0.8397 - mean_squared_error: 0.0031 - Jaccard_index: 0.8283 - Specificity: 0.9756 - Sensitivity: 1.0028 - precision: 0.9820 - recall: 0.9756 - f1score: 0.9788 - val_loss: -0.2209 - val_dice_coef: 0.2209 - val_acc: 0.8162 - val_mean_squared_error: 0.0472 - val_Jaccard_index: 0.1251 - val_Specificity: 0.9471 - val_Sensitivity: 0.9787 - val_precision: 0.6441 - val_recall: 0.1381 - val_f1score: 0.2251\n",
      "Epoch 47/150\n",
      "1632/1632 [==============================] - 509s 312ms/step - loss: -0.9058 - dice_coef: 0.9058 - acc: 0.8397 - mean_squared_error: 0.0031 - Jaccard_index: 0.8288 - Specificity: 0.9756 - Sensitivity: 1.0028 - precision: 0.9822 - recall: 0.9758 - f1score: 0.9790 - val_loss: -0.4008 - val_dice_coef: 0.4008 - val_acc: 0.8144 - val_mean_squared_error: 0.0435 - val_Jaccard_index: 0.2531 - val_Specificity: 0.9521 - val_Sensitivity: 0.9904 - val_precision: 0.6445 - val_recall: 0.3151 - val_f1score: 0.4195\n",
      "Epoch 48/150\n",
      "1632/1632 [==============================] - 511s 313ms/step - loss: -0.9060 - dice_coef: 0.9060 - acc: 0.8397 - mean_squared_error: 0.0031 - Jaccard_index: 0.8289 - Specificity: 0.9756 - Sensitivity: 1.0028 - precision: 0.9823 - recall: 0.9762 - f1score: 0.9792 - val_loss: -0.3573 - val_dice_coef: 0.3573 - val_acc: 0.8183 - val_mean_squared_error: 0.0421 - val_Jaccard_index: 0.2203 - val_Specificity: 0.9502 - val_Sensitivity: 0.9828 - val_precision: 0.7316 - val_recall: 0.2470 - val_f1score: 0.3647\n"
     ]
    },
    {
     "name": "stdout",
     "output_type": "stream",
     "text": [
      "Epoch 49/150\n",
      "1632/1632 [==============================] - 511s 313ms/step - loss: -0.9061 - dice_coef: 0.9061 - acc: 0.8398 - mean_squared_error: 0.0031 - Jaccard_index: 0.8293 - Specificity: 0.9756 - Sensitivity: 1.0028 - precision: 0.9826 - recall: 0.9765 - f1score: 0.9795 - val_loss: -0.1065 - val_dice_coef: 0.1065 - val_acc: 0.8122 - val_mean_squared_error: 0.0532 - val_Jaccard_index: 0.0566 - val_Specificity: 0.9450 - val_Sensitivity: 0.9792 - val_precision: 0.3438 - val_recall: 0.0638 - val_f1score: 0.1063\n",
      "Epoch 50/150\n",
      "1632/1632 [==============================] - 510s 313ms/step - loss: -0.9069 - dice_coef: 0.9069 - acc: 0.8398 - mean_squared_error: 0.0030 - Jaccard_index: 0.8306 - Specificity: 0.9757 - Sensitivity: 1.0028 - precision: 0.9834 - recall: 0.9777 - f1score: 0.9805 - val_loss: -0.3852 - val_dice_coef: 0.3852 - val_acc: 0.8085 - val_mean_squared_error: 0.0495 - val_Jaccard_index: 0.2401 - val_Specificity: 0.9525 - val_Sensitivity: 0.9981 - val_precision: 0.5407 - val_recall: 0.3302 - val_f1score: 0.4042\n",
      "Epoch 51/150\n",
      "1632/1632 [==============================] - 509s 312ms/step - loss: -0.9071 - dice_coef: 0.9071 - acc: 0.8398 - mean_squared_error: 0.0030 - Jaccard_index: 0.8308 - Specificity: 0.9757 - Sensitivity: 1.0028 - precision: 0.9835 - recall: 0.9776 - f1score: 0.9805 - val_loss: -0.4075 - val_dice_coef: 0.4075 - val_acc: 0.8211 - val_mean_squared_error: 0.0382 - val_Jaccard_index: 0.2586 - val_Specificity: 0.9512 - val_Sensitivity: 0.9816 - val_precision: 0.8470 - val_recall: 0.2817 - val_f1score: 0.4183\n",
      "Epoch 52/150\n",
      "1632/1632 [==============================] - 509s 312ms/step - loss: -0.9073 - dice_coef: 0.9073 - acc: 0.8398 - mean_squared_error: 0.0030 - Jaccard_index: 0.8312 - Specificity: 0.9757 - Sensitivity: 1.0028 - precision: 0.9838 - recall: 0.9783 - f1score: 0.9810 - val_loss: -0.1621 - val_dice_coef: 0.1621 - val_acc: 0.8193 - val_mean_squared_error: 0.0456 - val_Jaccard_index: 0.0895 - val_Specificity: 0.9457 - val_Sensitivity: 0.9727 - val_precision: 0.9037 - val_recall: 0.0890 - val_f1score: 0.1598\n",
      "Epoch 53/150\n",
      "1632/1632 [==============================] - 507s 311ms/step - loss: -0.9077 - dice_coef: 0.9077 - acc: 0.8398 - mean_squared_error: 0.0029 - Jaccard_index: 0.8319 - Specificity: 0.9757 - Sensitivity: 1.0027 - precision: 0.9840 - recall: 0.9784 - f1score: 0.9812 - val_loss: -0.0634 - val_dice_coef: 0.0634 - val_acc: 0.8163 - val_mean_squared_error: 0.0503 - val_Jaccard_index: 0.0331 - val_Specificity: 0.9441 - val_Sensitivity: 0.9729 - val_precision: 0.4434 - val_recall: 0.0340 - val_f1score: 0.0626\n",
      "Epoch 54/150\n",
      "1632/1632 [==============================] - 508s 311ms/step - loss: -0.9078 - dice_coef: 0.9078 - acc: 0.8398 - mean_squared_error: 0.0029 - Jaccard_index: 0.8320 - Specificity: 0.9757 - Sensitivity: 1.0027 - precision: 0.9843 - recall: 0.9786 - f1score: 0.9814 - val_loss: -0.2542 - val_dice_coef: 0.2542 - val_acc: 0.8202 - val_mean_squared_error: 0.0429 - val_Jaccard_index: 0.1476 - val_Specificity: 0.9474 - val_Sensitivity: 0.9751 - val_precision: 0.9029 - val_recall: 0.1519 - val_f1score: 0.2570\n",
      "Epoch 55/150\n",
      "1632/1632 [==============================] - 509s 312ms/step - loss: -0.9086 - dice_coef: 0.9086 - acc: 0.8399 - mean_squared_error: 0.0029 - Jaccard_index: 0.8334 - Specificity: 0.9757 - Sensitivity: 1.0027 - precision: 0.9850 - recall: 0.9797 - f1score: 0.9823 - val_loss: -0.2496 - val_dice_coef: 0.2496 - val_acc: 0.8156 - val_mean_squared_error: 0.0473 - val_Jaccard_index: 0.1438 - val_Specificity: 0.9478 - val_Sensitivity: 0.9811 - val_precision: 0.6138 - val_recall: 0.1633 - val_f1score: 0.2557\n",
      "Epoch 56/150\n",
      "1632/1632 [==============================] - 508s 311ms/step - loss: -0.9089 - dice_coef: 0.9089 - acc: 0.8399 - mean_squared_error: 0.0029 - Jaccard_index: 0.8339 - Specificity: 0.9757 - Sensitivity: 1.0027 - precision: 0.9851 - recall: 0.9800 - f1score: 0.9825 - val_loss: -0.2516 - val_dice_coef: 0.2516 - val_acc: 0.8063 - val_mean_squared_error: 0.0563 - val_Jaccard_index: 0.1451 - val_Specificity: 0.9486 - val_Sensitivity: 0.9929 - val_precision: 0.4131 - val_recall: 0.1951 - val_f1score: 0.2610\n",
      "Epoch 57/150\n",
      "1632/1632 [==============================] - 509s 312ms/step - loss: -0.9085 - dice_coef: 0.9085 - acc: 0.8399 - mean_squared_error: 0.0029 - Jaccard_index: 0.8333 - Specificity: 0.9757 - Sensitivity: 1.0027 - precision: 0.9848 - recall: 0.9797 - f1score: 0.9823 - val_loss: -0.1896 - val_dice_coef: 0.1896 - val_acc: 0.8189 - val_mean_squared_error: 0.0453 - val_Jaccard_index: 0.1057 - val_Specificity: 0.9463 - val_Sensitivity: 0.9742 - val_precision: 0.8222 - val_recall: 0.1078 - val_f1score: 0.1889\n",
      "Epoch 58/150\n",
      "1632/1632 [==============================] - 508s 311ms/step - loss: -0.9087 - dice_coef: 0.9087 - acc: 0.8399 - mean_squared_error: 0.0029 - Jaccard_index: 0.8335 - Specificity: 0.9757 - Sensitivity: 1.0027 - precision: 0.9851 - recall: 0.9798 - f1score: 0.9824 - val_loss: -0.1407 - val_dice_coef: 0.1407 - val_acc: 0.8192 - val_mean_squared_error: 0.0462 - val_Jaccard_index: 0.0768 - val_Specificity: 0.9453 - val_Sensitivity: 0.9721 - val_precision: 0.9048 - val_recall: 0.0758 - val_f1score: 0.1379\n",
      "Epoch 59/150\n",
      "1632/1632 [==============================] - 508s 311ms/step - loss: -0.9097 - dice_coef: 0.9097 - acc: 0.8399 - mean_squared_error: 0.0028 - Jaccard_index: 0.8352 - Specificity: 0.9757 - Sensitivity: 1.0027 - precision: 0.9860 - recall: 0.9812 - f1score: 0.9836 - val_loss: -0.1931 - val_dice_coef: 0.1931 - val_acc: 0.8189 - val_mean_squared_error: 0.0453 - val_Jaccard_index: 0.1081 - val_Specificity: 0.9463 - val_Sensitivity: 0.9743 - val_precision: 0.8186 - val_recall: 0.1113 - val_f1score: 0.1937\n",
      "Epoch 60/150\n",
      "1632/1632 [==============================] - 509s 312ms/step - loss: -0.9095 - dice_coef: 0.9095 - acc: 0.8399 - mean_squared_error: 0.0028 - Jaccard_index: 0.8349 - Specificity: 0.9757 - Sensitivity: 1.0027 - precision: 0.9859 - recall: 0.9810 - f1score: 0.9835 - val_loss: -0.2452 - val_dice_coef: 0.2452 - val_acc: 0.8200 - val_mean_squared_error: 0.0433 - val_Jaccard_index: 0.1412 - val_Specificity: 0.9473 - val_Sensitivity: 0.9751 - val_precision: 0.8826 - val_recall: 0.1446 - val_f1score: 0.2462\n",
      "Epoch 61/150\n",
      "1632/1632 [==============================] - 508s 311ms/step - loss: -0.9098 - dice_coef: 0.9098 - acc: 0.8399 - mean_squared_error: 0.0028 - Jaccard_index: 0.8353 - Specificity: 0.9757 - Sensitivity: 1.0027 - precision: 0.9861 - recall: 0.9813 - f1score: 0.9837 - val_loss: -0.4767 - val_dice_coef: 0.4767 - val_acc: 0.8150 - val_mean_squared_error: 0.0410 - val_Jaccard_index: 0.3162 - val_Specificity: 0.9546 - val_Sensitivity: 0.9951 - val_precision: 0.6638 - val_recall: 0.4062 - val_f1score: 0.4990\n",
      "Epoch 62/150\n",
      "1632/1632 [==============================] - 508s 311ms/step - loss: -0.9101 - dice_coef: 0.9101 - acc: 0.8399 - mean_squared_error: 0.0028 - Jaccard_index: 0.8360 - Specificity: 0.9757 - Sensitivity: 1.0027 - precision: 0.9863 - recall: 0.9817 - f1score: 0.9840 - val_loss: -0.1075 - val_dice_coef: 0.1075 - val_acc: 0.8184 - val_mean_squared_error: 0.0473 - val_Jaccard_index: 0.0574 - val_Specificity: 0.9448 - val_Sensitivity: 0.9717 - val_precision: 0.8537 - val_recall: 0.0573 - val_f1score: 0.1064\n",
      "Epoch 63/150\n",
      "1632/1632 [==============================] - 508s 311ms/step - loss: -0.9101 - dice_coef: 0.9101 - acc: 0.8399 - mean_squared_error: 0.0028 - Jaccard_index: 0.8359 - Specificity: 0.9757 - Sensitivity: 1.0027 - precision: 0.9863 - recall: 0.9817 - f1score: 0.9840 - val_loss: -0.1253 - val_dice_coef: 0.1253 - val_acc: 0.8181 - val_mean_squared_error: 0.0475 - val_Jaccard_index: 0.0679 - val_Specificity: 0.9451 - val_Sensitivity: 0.9728 - val_precision: 0.7422 - val_recall: 0.0689 - val_f1score: 0.1245\n",
      "Epoch 64/150\n",
      "1632/1632 [==============================] - 509s 312ms/step - loss: -0.9106 - dice_coef: 0.9106 - acc: 0.8400 - mean_squared_error: 0.0027 - Jaccard_index: 0.8367 - Specificity: 0.9758 - Sensitivity: 1.0027 - precision: 0.9868 - recall: 0.9822 - f1score: 0.9845 - val_loss: -0.4131 - val_dice_coef: 0.4131 - val_acc: 0.7999 - val_mean_squared_error: 0.0564 - val_Jaccard_index: 0.2622 - val_Specificity: 0.9550 - val_Sensitivity: 1.0128 - val_precision: 0.4724 - val_recall: 0.4208 - val_f1score: 0.4406\n"
     ]
    },
    {
     "name": "stdout",
     "output_type": "stream",
     "text": [
      "Epoch 65/150\n",
      "1632/1632 [==============================] - 507s 311ms/step - loss: -0.9110 - dice_coef: 0.9110 - acc: 0.8400 - mean_squared_error: 0.0027 - Jaccard_index: 0.8373 - Specificity: 0.9758 - Sensitivity: 1.0027 - precision: 0.9871 - recall: 0.9827 - f1score: 0.9849 - val_loss: -0.1644 - val_dice_coef: 0.1644 - val_acc: 0.8178 - val_mean_squared_error: 0.0470 - val_Jaccard_index: 0.0904 - val_Specificity: 0.9458 - val_Sensitivity: 0.9746 - val_precision: 0.7085 - val_recall: 0.0942 - val_f1score: 0.1648\n",
      "Epoch 66/150\n",
      "1632/1632 [==============================] - 508s 311ms/step - loss: -0.9110 - dice_coef: 0.9110 - acc: 0.8400 - mean_squared_error: 0.0027 - Jaccard_index: 0.8374 - Specificity: 0.9758 - Sensitivity: 1.0027 - precision: 0.9873 - recall: 0.9829 - f1score: 0.9851 - val_loss: -0.2032 - val_dice_coef: 0.2032 - val_acc: 0.8197 - val_mean_squared_error: 0.0445 - val_Jaccard_index: 0.1145 - val_Specificity: 0.9465 - val_Sensitivity: 0.9740 - val_precision: 0.8728 - val_recall: 0.1158 - val_f1score: 0.2020\n",
      "Epoch 67/150\n",
      "1632/1632 [==============================] - 510s 313ms/step - loss: -0.9109 - dice_coef: 0.9109 - acc: 0.8400 - mean_squared_error: 0.0027 - Jaccard_index: 0.8373 - Specificity: 0.9758 - Sensitivity: 1.0027 - precision: 0.9871 - recall: 0.9828 - f1score: 0.9849 - val_loss: -0.0654 - val_dice_coef: 0.0654 - val_acc: 0.8173 - val_mean_squared_error: 0.0493 - val_Jaccard_index: 0.0343 - val_Specificity: 0.9441 - val_Sensitivity: 0.9718 - val_precision: 0.5714 - val_recall: 0.0345 - val_f1score: 0.0641\n",
      "Epoch 68/150\n",
      "1632/1632 [==============================] - 510s 312ms/step - loss: -0.9112 - dice_coef: 0.9112 - acc: 0.8400 - mean_squared_error: 0.0027 - Jaccard_index: 0.8378 - Specificity: 0.9758 - Sensitivity: 1.0027 - precision: 0.9876 - recall: 0.9834 - f1score: 0.9855 - val_loss: -0.3018 - val_dice_coef: 0.3018 - val_acc: 0.8200 - val_mean_squared_error: 0.0421 - val_Jaccard_index: 0.1801 - val_Specificity: 0.9485 - val_Sensitivity: 0.9776 - val_precision: 0.8319 - val_recall: 0.1902 - val_f1score: 0.3058\n",
      "Epoch 69/150\n",
      "1632/1632 [==============================] - 509s 312ms/step - loss: -0.9112 - dice_coef: 0.9112 - acc: 0.8400 - mean_squared_error: 0.0027 - Jaccard_index: 0.8378 - Specificity: 0.9758 - Sensitivity: 1.0027 - precision: 0.9876 - recall: 0.9833 - f1score: 0.9854 - val_loss: -0.1851 - val_dice_coef: 0.1851 - val_acc: 0.8170 - val_mean_squared_error: 0.0476 - val_Jaccard_index: 0.1035 - val_Specificity: 0.9463 - val_Sensitivity: 0.9765 - val_precision: 0.6436 - val_recall: 0.1112 - val_f1score: 0.1869\n",
      "Epoch 70/150\n",
      "1632/1632 [==============================] - 509s 312ms/step - loss: -0.9115 - dice_coef: 0.9115 - acc: 0.8400 - mean_squared_error: 0.0027 - Jaccard_index: 0.8383 - Specificity: 0.9758 - Sensitivity: 1.0027 - precision: 0.9878 - recall: 0.9836 - f1score: 0.9857 - val_loss: -0.2692 - val_dice_coef: 0.2692 - val_acc: 0.8195 - val_mean_squared_error: 0.0432 - val_Jaccard_index: 0.1570 - val_Specificity: 0.9478 - val_Sensitivity: 0.9767 - val_precision: 0.8327 - val_recall: 0.1658 - val_f1score: 0.2740\n",
      "Epoch 71/150\n",
      "1632/1632 [==============================] - 508s 311ms/step - loss: -0.9119 - dice_coef: 0.9119 - acc: 0.8400 - mean_squared_error: 0.0026 - Jaccard_index: 0.8389 - Specificity: 0.9758 - Sensitivity: 1.0027 - precision: 0.9882 - recall: 0.9843 - f1score: 0.9862 - val_loss: -0.1893 - val_dice_coef: 0.1893 - val_acc: 0.8186 - val_mean_squared_error: 0.0460 - val_Jaccard_index: 0.1059 - val_Specificity: 0.9463 - val_Sensitivity: 0.9749 - val_precision: 0.7601 - val_recall: 0.1100 - val_f1score: 0.1897\n",
      "Epoch 72/150\n",
      "1632/1632 [==============================] - 509s 312ms/step - loss: -0.9117 - dice_coef: 0.9117 - acc: 0.8400 - mean_squared_error: 0.0026 - Jaccard_index: 0.8386 - Specificity: 0.9758 - Sensitivity: 1.0027 - precision: 0.9881 - recall: 0.9840 - f1score: 0.9860 - val_loss: -0.0804 - val_dice_coef: 0.0804 - val_acc: 0.8152 - val_mean_squared_error: 0.0510 - val_Jaccard_index: 0.0421 - val_Specificity: 0.9444 - val_Sensitivity: 0.9748 - val_precision: 0.4424 - val_recall: 0.0445 - val_f1score: 0.0794\n",
      "Epoch 73/150\n",
      "1632/1632 [==============================] - 510s 313ms/step - loss: -0.9120 - dice_coef: 0.9120 - acc: 0.8400 - mean_squared_error: 0.0026 - Jaccard_index: 0.8392 - Specificity: 0.9758 - Sensitivity: 1.0027 - precision: 0.9884 - recall: 0.9844 - f1score: 0.9864 - val_loss: -0.2383 - val_dice_coef: 0.2383 - val_acc: 0.8191 - val_mean_squared_error: 0.0441 - val_Jaccard_index: 0.1368 - val_Specificity: 0.9472 - val_Sensitivity: 0.9758 - val_precision: 0.8237 - val_recall: 0.1429 - val_f1score: 0.2408\n",
      "Epoch 74/150\n",
      "1632/1632 [==============================] - 508s 311ms/step - loss: -0.9117 - dice_coef: 0.9117 - acc: 0.8400 - mean_squared_error: 0.0026 - Jaccard_index: 0.8387 - Specificity: 0.9758 - Sensitivity: 1.0027 - precision: 0.9880 - recall: 0.9838 - f1score: 0.9859 - val_loss: -0.1400 - val_dice_coef: 0.1400 - val_acc: 0.8187 - val_mean_squared_error: 0.0466 - val_Jaccard_index: 0.0762 - val_Specificity: 0.9453 - val_Sensitivity: 0.9725 - val_precision: 0.8483 - val_recall: 0.0767 - val_f1score: 0.1391\n",
      "Epoch 75/150\n",
      "1632/1632 [==============================] - 508s 312ms/step - loss: -0.9125 - dice_coef: 0.9125 - acc: 0.8401 - mean_squared_error: 0.0026 - Jaccard_index: 0.8400 - Specificity: 0.9758 - Sensitivity: 1.0027 - precision: 0.9888 - recall: 0.9849 - f1score: 0.9869 - val_loss: -0.3978 - val_dice_coef: 0.3978 - val_acc: 0.8149 - val_mean_squared_error: 0.0438 - val_Jaccard_index: 0.2516 - val_Specificity: 0.9519 - val_Sensitivity: 0.9901 - val_precision: 0.6474 - val_recall: 0.3120 - val_f1score: 0.4149\n",
      "Epoch 76/150\n",
      "1632/1632 [==============================] - 508s 311ms/step - loss: -0.9126 - dice_coef: 0.9126 - acc: 0.8401 - mean_squared_error: 0.0026 - Jaccard_index: 0.8402 - Specificity: 0.9758 - Sensitivity: 1.0027 - precision: 0.9888 - recall: 0.9850 - f1score: 0.9869 - val_loss: -0.2027 - val_dice_coef: 0.2027 - val_acc: 0.8179 - val_mean_squared_error: 0.0460 - val_Jaccard_index: 0.1138 - val_Specificity: 0.9466 - val_Sensitivity: 0.9760 - val_precision: 0.7204 - val_recall: 0.1200 - val_f1score: 0.2039\n",
      "Epoch 77/150\n",
      "1632/1632 [==============================] - 509s 312ms/step - loss: -0.9124 - dice_coef: 0.9124 - acc: 0.8400 - mean_squared_error: 0.0026 - Jaccard_index: 0.8397 - Specificity: 0.9758 - Sensitivity: 1.0027 - precision: 0.9886 - recall: 0.9845 - f1score: 0.9865 - val_loss: -0.2278 - val_dice_coef: 0.2278 - val_acc: 0.8128 - val_mean_squared_error: 0.0507 - val_Jaccard_index: 0.1300 - val_Specificity: 0.9475 - val_Sensitivity: 0.9837 - val_precision: 0.4957 - val_recall: 0.1538 - val_f1score: 0.2319\n",
      "Epoch 78/150\n",
      "1632/1632 [==============================] - 509s 312ms/step - loss: -0.9129 - dice_coef: 0.9129 - acc: 0.8401 - mean_squared_error: 0.0025 - Jaccard_index: 0.8407 - Specificity: 0.9758 - Sensitivity: 1.0027 - precision: 0.9892 - recall: 0.9854 - f1score: 0.9873 - val_loss: -0.3232 - val_dice_coef: 0.3232 - val_acc: 0.8203 - val_mean_squared_error: 0.0412 - val_Jaccard_index: 0.1946 - val_Specificity: 0.9490 - val_Sensitivity: 0.9783 - val_precision: 0.8438 - val_recall: 0.2062 - val_f1score: 0.3283\n",
      "Epoch 79/150\n",
      "1632/1632 [==============================] - 509s 312ms/step - loss: -0.9128 - dice_coef: 0.9128 - acc: 0.8401 - mean_squared_error: 0.0025 - Jaccard_index: 0.8405 - Specificity: 0.9758 - Sensitivity: 1.0027 - precision: 0.9892 - recall: 0.9854 - f1score: 0.9873 - val_loss: -0.0601 - val_dice_coef: 0.0601 - val_acc: 0.8179 - val_mean_squared_error: 0.0487 - val_Jaccard_index: 0.0313 - val_Specificity: 0.9440 - val_Sensitivity: 0.9708 - val_precision: 0.7655 - val_recall: 0.0307 - val_f1score: 0.0587\n",
      "Epoch 80/150\n",
      "1632/1632 [==============================] - 509s 312ms/step - loss: -0.9127 - dice_coef: 0.9127 - acc: 0.8401 - mean_squared_error: 0.0025 - Jaccard_index: 0.8404 - Specificity: 0.9758 - Sensitivity: 1.0027 - precision: 0.9893 - recall: 0.9854 - f1score: 0.9874 - val_loss: -0.0986 - val_dice_coef: 0.0986 - val_acc: 0.8185 - val_mean_squared_error: 0.0474 - val_Jaccard_index: 0.0523 - val_Specificity: 0.9446 - val_Sensitivity: 0.9713 - val_precision: 0.9018 - val_recall: 0.0519 - val_f1score: 0.0975\n"
     ]
    },
    {
     "name": "stdout",
     "output_type": "stream",
     "text": [
      "Epoch 81/150\n",
      "1632/1632 [==============================] - 508s 311ms/step - loss: -0.9127 - dice_coef: 0.9127 - acc: 0.8401 - mean_squared_error: 0.0026 - Jaccard_index: 0.8403 - Specificity: 0.9758 - Sensitivity: 1.0027 - precision: 0.9891 - recall: 0.9852 - f1score: 0.9871 - val_loss: -0.0893 - val_dice_coef: 0.0893 - val_acc: 0.8175 - val_mean_squared_error: 0.0488 - val_Jaccard_index: 0.0473 - val_Specificity: 0.9445 - val_Sensitivity: 0.9723 - val_precision: 0.6430 - val_recall: 0.0482 - val_f1score: 0.0886\n",
      "Epoch 82/150\n",
      "1632/1632 [==============================] - 508s 311ms/step - loss: -0.9131 - dice_coef: 0.9131 - acc: 0.8401 - mean_squared_error: 0.0025 - Jaccard_index: 0.8410 - Specificity: 0.9758 - Sensitivity: 1.0027 - precision: 0.9895 - recall: 0.9857 - f1score: 0.9876 - val_loss: -0.4384 - val_dice_coef: 0.4384 - val_acc: 0.8113 - val_mean_squared_error: 0.0458 - val_Jaccard_index: 0.2829 - val_Specificity: 0.9539 - val_Sensitivity: 0.9982 - val_precision: 0.5910 - val_recall: 0.3825 - val_f1score: 0.4596\n",
      "Epoch 83/150\n",
      "1632/1632 [==============================] - 507s 311ms/step - loss: -0.9134 - dice_coef: 0.9134 - acc: 0.8401 - mean_squared_error: 0.0025 - Jaccard_index: 0.8415 - Specificity: 0.9758 - Sensitivity: 1.0027 - precision: 0.9898 - recall: 0.9862 - f1score: 0.9880 - val_loss: -0.0450 - val_dice_coef: 0.0450 - val_acc: 0.8166 - val_mean_squared_error: 0.0503 - val_Jaccard_index: 0.0232 - val_Specificity: 0.9438 - val_Sensitivity: 0.9718 - val_precision: 0.4664 - val_recall: 0.0234 - val_f1score: 0.0440\n",
      "Epoch 84/150\n",
      "1632/1632 [==============================] - 509s 312ms/step - loss: -0.9133 - dice_coef: 0.9133 - acc: 0.8401 - mean_squared_error: 0.0025 - Jaccard_index: 0.8413 - Specificity: 0.9758 - Sensitivity: 1.0027 - precision: 0.9897 - recall: 0.9861 - f1score: 0.9879 - val_loss: -0.0609 - val_dice_coef: 0.0609 - val_acc: 0.8177 - val_mean_squared_error: 0.0489 - val_Jaccard_index: 0.0317 - val_Specificity: 0.9440 - val_Sensitivity: 0.9710 - val_precision: 0.6982 - val_recall: 0.0316 - val_f1score: 0.0599\n",
      "Epoch 85/150\n",
      "1632/1632 [==============================] - 510s 312ms/step - loss: -0.9135 - dice_coef: 0.9135 - acc: 0.8401 - mean_squared_error: 0.0025 - Jaccard_index: 0.8418 - Specificity: 0.9758 - Sensitivity: 1.0027 - precision: 0.9899 - recall: 0.9863 - f1score: 0.9881 - val_loss: -0.2343 - val_dice_coef: 0.2343 - val_acc: 0.8171 - val_mean_squared_error: 0.0463 - val_Jaccard_index: 0.1337 - val_Specificity: 0.9473 - val_Sensitivity: 0.9784 - val_precision: 0.6807 - val_recall: 0.1468 - val_f1score: 0.2395\n",
      "Epoch 86/150\n",
      "1632/1632 [==============================] - 508s 311ms/step - loss: -0.9133 - dice_coef: 0.9133 - acc: 0.8401 - mean_squared_error: 0.0025 - Jaccard_index: 0.8413 - Specificity: 0.9758 - Sensitivity: 1.0027 - precision: 0.9899 - recall: 0.9864 - f1score: 0.9881 - val_loss: -0.4297 - val_dice_coef: 0.4297 - val_acc: 0.8104 - val_mean_squared_error: 0.0468 - val_Jaccard_index: 0.2760 - val_Specificity: 0.9537 - val_Sensitivity: 0.9985 - val_precision: 0.5804 - val_recall: 0.3760 - val_f1score: 0.4513\n",
      "Epoch 87/150\n",
      "1632/1632 [==============================] - 508s 311ms/step - loss: -0.9138 - dice_coef: 0.9138 - acc: 0.8401 - mean_squared_error: 0.0025 - Jaccard_index: 0.8422 - Specificity: 0.9758 - Sensitivity: 1.0027 - precision: 0.9901 - recall: 0.9866 - f1score: 0.9884 - val_loss: -0.1925 - val_dice_coef: 0.1925 - val_acc: 0.8186 - val_mean_squared_error: 0.0457 - val_Jaccard_index: 0.1075 - val_Specificity: 0.9463 - val_Sensitivity: 0.9748 - val_precision: 0.7826 - val_recall: 0.1118 - val_f1score: 0.1941\n",
      "Epoch 88/150\n",
      "1632/1632 [==============================] - 509s 312ms/step - loss: -0.9138 - dice_coef: 0.9138 - acc: 0.8401 - mean_squared_error: 0.0025 - Jaccard_index: 0.8422 - Specificity: 0.9758 - Sensitivity: 1.0027 - precision: 0.9901 - recall: 0.9866 - f1score: 0.9884 - val_loss: -0.4216 - val_dice_coef: 0.4216 - val_acc: 0.8218 - val_mean_squared_error: 0.0371 - val_Jaccard_index: 0.2697 - val_Specificity: 0.9513 - val_Sensitivity: 0.9807 - val_precision: 0.8948 - val_recall: 0.2904 - val_f1score: 0.4347\n",
      "Epoch 89/150\n",
      "1632/1632 [==============================] - 509s 312ms/step - loss: -0.9137 - dice_coef: 0.9137 - acc: 0.8401 - mean_squared_error: 0.0025 - Jaccard_index: 0.8420 - Specificity: 0.9758 - Sensitivity: 1.0027 - precision: 0.9900 - recall: 0.9864 - f1score: 0.9882 - val_loss: -0.3759 - val_dice_coef: 0.3759 - val_acc: 0.8207 - val_mean_squared_error: 0.0394 - val_Jaccard_index: 0.2334 - val_Specificity: 0.9503 - val_Sensitivity: 0.9802 - val_precision: 0.8522 - val_recall: 0.2521 - val_f1score: 0.3863\n",
      "Epoch 90/150\n",
      "1632/1632 [==============================] - 508s 311ms/step - loss: -0.9140 - dice_coef: 0.9140 - acc: 0.8401 - mean_squared_error: 0.0024 - Jaccard_index: 0.8426 - Specificity: 0.9759 - Sensitivity: 1.0027 - precision: 0.9905 - recall: 0.9871 - f1score: 0.9887 - val_loss: -0.0370 - val_dice_coef: 0.0370 - val_acc: 0.8179 - val_mean_squared_error: 0.0491 - val_Jaccard_index: 0.0190 - val_Specificity: 0.9436 - val_Sensitivity: 0.9701 - val_precision: 0.8134 - val_recall: 0.0181 - val_f1score: 0.0353\n",
      "Epoch 91/150\n",
      "1632/1632 [==============================] - 510s 312ms/step - loss: -0.9140 - dice_coef: 0.9140 - acc: 0.8401 - mean_squared_error: 0.0025 - Jaccard_index: 0.8424 - Specificity: 0.9758 - Sensitivity: 1.0027 - precision: 0.9903 - recall: 0.9868 - f1score: 0.9885 - val_loss: -0.3152 - val_dice_coef: 0.3152 - val_acc: 0.7996 - val_mean_squared_error: 0.0612 - val_Jaccard_index: 0.1887 - val_Specificity: 0.9513 - val_Sensitivity: 1.0061 - val_precision: 0.3962 - val_recall: 0.2902 - val_f1score: 0.3305\n",
      "Epoch 92/150\n",
      "1632/1632 [==============================] - 509s 312ms/step - loss: -0.9141 - dice_coef: 0.9141 - acc: 0.8401 - mean_squared_error: 0.0024 - Jaccard_index: 0.8427 - Specificity: 0.9759 - Sensitivity: 1.0027 - precision: 0.9906 - recall: 0.9873 - f1score: 0.9889 - val_loss: -0.2299 - val_dice_coef: 0.2299 - val_acc: 0.8120 - val_mean_squared_error: 0.0517 - val_Jaccard_index: 0.1310 - val_Specificity: 0.9477 - val_Sensitivity: 0.9854 - val_precision: 0.4760 - val_recall: 0.1584 - val_f1score: 0.2355\n",
      "Epoch 93/150\n",
      "1632/1632 [==============================] - 508s 311ms/step - loss: -0.9143 - dice_coef: 0.9143 - acc: 0.8401 - mean_squared_error: 0.0024 - Jaccard_index: 0.8431 - Specificity: 0.9759 - Sensitivity: 1.0027 - precision: 0.9907 - recall: 0.9874 - f1score: 0.9891 - val_loss: -0.2401 - val_dice_coef: 0.2401 - val_acc: 0.8142 - val_mean_squared_error: 0.0491 - val_Jaccard_index: 0.1381 - val_Specificity: 0.9477 - val_Sensitivity: 0.9823 - val_precision: 0.5584 - val_recall: 0.1597 - val_f1score: 0.2444\n",
      "Epoch 94/150\n",
      "1632/1632 [==============================] - 509s 312ms/step - loss: -0.9144 - dice_coef: 0.9144 - acc: 0.8401 - mean_squared_error: 0.0024 - Jaccard_index: 0.8432 - Specificity: 0.9759 - Sensitivity: 1.0027 - precision: 0.9908 - recall: 0.9875 - f1score: 0.9891 - val_loss: -0.4252 - val_dice_coef: 0.4252 - val_acc: 0.8192 - val_mean_squared_error: 0.0391 - val_Jaccard_index: 0.2729 - val_Specificity: 0.9519 - val_Sensitivity: 0.9849 - val_precision: 0.7778 - val_recall: 0.3141 - val_f1score: 0.4435\n",
      "Epoch 95/150\n",
      "1632/1632 [==============================] - 508s 311ms/step - loss: -0.9142 - dice_coef: 0.9142 - acc: 0.8401 - mean_squared_error: 0.0024 - Jaccard_index: 0.8429 - Specificity: 0.9759 - Sensitivity: 1.0027 - precision: 0.9907 - recall: 0.9873 - f1score: 0.9890 - val_loss: -0.0462 - val_dice_coef: 0.0462 - val_acc: 0.8180 - val_mean_squared_error: 0.0488 - val_Jaccard_index: 0.0239 - val_Specificity: 0.9438 - val_Sensitivity: 0.9702 - val_precision: 0.8557 - val_recall: 0.0231 - val_f1score: 0.0445\n",
      "Epoch 96/150\n",
      "1632/1632 [==============================] - 508s 312ms/step - loss: -0.9145 - dice_coef: 0.9145 - acc: 0.8401 - mean_squared_error: 0.0024 - Jaccard_index: 0.8433 - Specificity: 0.9759 - Sensitivity: 1.0027 - precision: 0.9907 - recall: 0.9874 - f1score: 0.9890 - val_loss: -0.2931 - val_dice_coef: 0.2931 - val_acc: 0.8137 - val_mean_squared_error: 0.0484 - val_Jaccard_index: 0.1738 - val_Specificity: 0.9490 - val_Sensitivity: 0.9857 - val_precision: 0.5695 - val_recall: 0.2091 - val_f1score: 0.3015\n"
     ]
    },
    {
     "name": "stdout",
     "output_type": "stream",
     "text": [
      "Epoch 97/150\n",
      "1632/1632 [==============================] - 509s 312ms/step - loss: -0.9148 - dice_coef: 0.9148 - acc: 0.8402 - mean_squared_error: 0.0024 - Jaccard_index: 0.8439 - Specificity: 0.9759 - Sensitivity: 1.0027 - precision: 0.9911 - recall: 0.9879 - f1score: 0.9895 - val_loss: -0.3127 - val_dice_coef: 0.3127 - val_acc: 0.8196 - val_mean_squared_error: 0.0421 - val_Jaccard_index: 0.1872 - val_Specificity: 0.9488 - val_Sensitivity: 0.9787 - val_precision: 0.8129 - val_recall: 0.2019 - val_f1score: 0.3206\n",
      "Epoch 98/150\n",
      "1632/1632 [==============================] - 508s 312ms/step - loss: -0.9144 - dice_coef: 0.9144 - acc: 0.8401 - mean_squared_error: 0.0024 - Jaccard_index: 0.8432 - Specificity: 0.9759 - Sensitivity: 1.0027 - precision: 0.9909 - recall: 0.9875 - f1score: 0.9892 - val_loss: -0.2591 - val_dice_coef: 0.2591 - val_acc: 0.8188 - val_mean_squared_error: 0.0441 - val_Jaccard_index: 0.1505 - val_Specificity: 0.9477 - val_Sensitivity: 0.9771 - val_precision: 0.7817 - val_recall: 0.1596 - val_f1score: 0.2624\n",
      "Epoch 99/150\n",
      "1632/1632 [==============================] - 508s 311ms/step - loss: -0.9144 - dice_coef: 0.9144 - acc: 0.8401 - mean_squared_error: 0.0024 - Jaccard_index: 0.8432 - Specificity: 0.9759 - Sensitivity: 1.0027 - precision: 0.9910 - recall: 0.9875 - f1score: 0.9892 - val_loss: -0.4212 - val_dice_coef: 0.4212 - val_acc: 0.8154 - val_mean_squared_error: 0.0428 - val_Jaccard_index: 0.2688 - val_Specificity: 0.9525 - val_Sensitivity: 0.9907 - val_precision: 0.6605 - val_recall: 0.3321 - val_f1score: 0.4382\n",
      "Epoch 100/150\n",
      "1632/1632 [==============================] - 510s 312ms/step - loss: -0.9148 - dice_coef: 0.9148 - acc: 0.8402 - mean_squared_error: 0.0024 - Jaccard_index: 0.8439 - Specificity: 0.9759 - Sensitivity: 1.0027 - precision: 0.9914 - recall: 0.9882 - f1score: 0.9898 - val_loss: -0.3096 - val_dice_coef: 0.3096 - val_acc: 0.8047 - val_mean_squared_error: 0.0556 - val_Jaccard_index: 0.1847 - val_Specificity: 0.9504 - val_Sensitivity: 0.9980 - val_precision: 0.4691 - val_recall: 0.2594 - val_f1score: 0.3262\n",
      "Epoch 101/150\n",
      "1632/1632 [==============================] - 509s 312ms/step - loss: -0.9148 - dice_coef: 0.9148 - acc: 0.8402 - mean_squared_error: 0.0024 - Jaccard_index: 0.8440 - Specificity: 0.9759 - Sensitivity: 1.0027 - precision: 0.9913 - recall: 0.9880 - f1score: 0.9896 - val_loss: -0.1169 - val_dice_coef: 0.1169 - val_acc: 0.8184 - val_mean_squared_error: 0.0473 - val_Jaccard_index: 0.0626 - val_Specificity: 0.9449 - val_Sensitivity: 0.9722 - val_precision: 0.8008 - val_recall: 0.0624 - val_f1score: 0.1149\n",
      "Epoch 102/150\n",
      "1632/1632 [==============================] - 509s 312ms/step - loss: -0.9151 - dice_coef: 0.9151 - acc: 0.8402 - mean_squared_error: 0.0024 - Jaccard_index: 0.8445 - Specificity: 0.9759 - Sensitivity: 1.0027 - precision: 0.9915 - recall: 0.9883 - f1score: 0.9899 - val_loss: -0.2545 - val_dice_coef: 0.2545 - val_acc: 0.8162 - val_mean_squared_error: 0.0465 - val_Jaccard_index: 0.1469 - val_Specificity: 0.9478 - val_Sensitivity: 0.9802 - val_precision: 0.6523 - val_recall: 0.1644 - val_f1score: 0.2604\n",
      "Epoch 103/150\n",
      "1632/1632 [==============================] - 509s 312ms/step - loss: -0.9150 - dice_coef: 0.9150 - acc: 0.8402 - mean_squared_error: 0.0024 - Jaccard_index: 0.8442 - Specificity: 0.9759 - Sensitivity: 1.0027 - precision: 0.9914 - recall: 0.9882 - f1score: 0.9898 - val_loss: -0.5225 - val_dice_coef: 0.5225 - val_acc: 0.8195 - val_mean_squared_error: 0.0354 - val_Jaccard_index: 0.3571 - val_Specificity: 0.9551 - val_Sensitivity: 0.9904 - val_precision: 0.7851 - val_recall: 0.4288 - val_f1score: 0.5497\n",
      "Epoch 104/150\n",
      "1632/1632 [==============================] - 509s 312ms/step - loss: -0.9151 - dice_coef: 0.9151 - acc: 0.8402 - mean_squared_error: 0.0024 - Jaccard_index: 0.8444 - Specificity: 0.9759 - Sensitivity: 1.0027 - precision: 0.9916 - recall: 0.9884 - f1score: 0.9900 - val_loss: -0.1529 - val_dice_coef: 0.1529 - val_acc: 0.8187 - val_mean_squared_error: 0.0463 - val_Jaccard_index: 0.0837 - val_Specificity: 0.9455 - val_Sensitivity: 0.9730 - val_precision: 0.8221 - val_recall: 0.0843 - val_f1score: 0.1514\n",
      "Epoch 105/150\n",
      "1632/1632 [==============================] - 508s 311ms/step - loss: -0.9151 - dice_coef: 0.9151 - acc: 0.8402 - mean_squared_error: 0.0024 - Jaccard_index: 0.8444 - Specificity: 0.9759 - Sensitivity: 1.0027 - precision: 0.9915 - recall: 0.9882 - f1score: 0.9899 - val_loss: -0.2363 - val_dice_coef: 0.2363 - val_acc: 0.8203 - val_mean_squared_error: 0.0434 - val_Jaccard_index: 0.1360 - val_Specificity: 0.9471 - val_Sensitivity: 0.9746 - val_precision: 0.9039 - val_recall: 0.1383 - val_f1score: 0.2368\n",
      "Epoch 106/150\n",
      "1632/1632 [==============================] - 508s 311ms/step - loss: -0.9154 - dice_coef: 0.9154 - acc: 0.8402 - mean_squared_error: 0.0023 - Jaccard_index: 0.8449 - Specificity: 0.9759 - Sensitivity: 1.0027 - precision: 0.9918 - recall: 0.9887 - f1score: 0.9903 - val_loss: -0.2225 - val_dice_coef: 0.2225 - val_acc: 0.8180 - val_mean_squared_error: 0.0458 - val_Jaccard_index: 0.1269 - val_Specificity: 0.9470 - val_Sensitivity: 0.9767 - val_precision: 0.7243 - val_recall: 0.1357 - val_f1score: 0.2257\n",
      "Epoch 107/150\n",
      "1632/1632 [==============================] - 508s 311ms/step - loss: -0.9149 - dice_coef: 0.9149 - acc: 0.8402 - mean_squared_error: 0.0024 - Jaccard_index: 0.8441 - Specificity: 0.9759 - Sensitivity: 1.0026 - precision: 0.9914 - recall: 0.9880 - f1score: 0.9897 - val_loss: -0.1573 - val_dice_coef: 0.1573 - val_acc: 0.8184 - val_mean_squared_error: 0.0464 - val_Jaccard_index: 0.0862 - val_Specificity: 0.9456 - val_Sensitivity: 0.9734 - val_precision: 0.8017 - val_recall: 0.0876 - val_f1score: 0.1564\n",
      "Epoch 108/150\n",
      "1632/1632 [==============================] - 507s 311ms/step - loss: -0.9156 - dice_coef: 0.9156 - acc: 0.8402 - mean_squared_error: 0.0023 - Jaccard_index: 0.8451 - Specificity: 0.9759 - Sensitivity: 1.0027 - precision: 0.9919 - recall: 0.9889 - f1score: 0.9903 - val_loss: -0.2096 - val_dice_coef: 0.2096 - val_acc: 0.8198 - val_mean_squared_error: 0.0444 - val_Jaccard_index: 0.1189 - val_Specificity: 0.9466 - val_Sensitivity: 0.9740 - val_precision: 0.8841 - val_recall: 0.1201 - val_f1score: 0.2085\n",
      "Epoch 109/150\n",
      "1632/1632 [==============================] - 507s 311ms/step - loss: -0.9155 - dice_coef: 0.9155 - acc: 0.8402 - mean_squared_error: 0.0023 - Jaccard_index: 0.8452 - Specificity: 0.9759 - Sensitivity: 1.0027 - precision: 0.9920 - recall: 0.9889 - f1score: 0.9904 - val_loss: -0.2557 - val_dice_coef: 0.2557 - val_acc: 0.8193 - val_mean_squared_error: 0.0439 - val_Jaccard_index: 0.1480 - val_Specificity: 0.9475 - val_Sensitivity: 0.9765 - val_precision: 0.8114 - val_recall: 0.1561 - val_f1score: 0.2594\n",
      "Epoch 110/150\n",
      "1632/1632 [==============================] - 508s 311ms/step - loss: -0.9154 - dice_coef: 0.9154 - acc: 0.8402 - mean_squared_error: 0.0023 - Jaccard_index: 0.8450 - Specificity: 0.9759 - Sensitivity: 1.0026 - precision: 0.9919 - recall: 0.9888 - f1score: 0.9904 - val_loss: -0.2638 - val_dice_coef: 0.2638 - val_acc: 0.8185 - val_mean_squared_error: 0.0441 - val_Jaccard_index: 0.1534 - val_Specificity: 0.9478 - val_Sensitivity: 0.9775 - val_precision: 0.7807 - val_recall: 0.1662 - val_f1score: 0.2713\n",
      "Epoch 111/150\n",
      "1632/1632 [==============================] - 507s 310ms/step - loss: -0.9155 - dice_coef: 0.9155 - acc: 0.8402 - mean_squared_error: 0.0023 - Jaccard_index: 0.8450 - Specificity: 0.9759 - Sensitivity: 1.0026 - precision: 0.9921 - recall: 0.9890 - f1score: 0.9905 - val_loss: -0.4432 - val_dice_coef: 0.4432 - val_acc: 0.8060 - val_mean_squared_error: 0.0506 - val_Jaccard_index: 0.2872 - val_Specificity: 0.9550 - val_Sensitivity: 1.0060 - val_precision: 0.5366 - val_recall: 0.4252 - val_f1score: 0.4686\n",
      "Epoch 112/150\n",
      "1632/1632 [==============================] - 508s 311ms/step - loss: -0.9155 - dice_coef: 0.9155 - acc: 0.8402 - mean_squared_error: 0.0023 - Jaccard_index: 0.8451 - Specificity: 0.9759 - Sensitivity: 1.0026 - precision: 0.9921 - recall: 0.9890 - f1score: 0.9906 - val_loss: -0.3418 - val_dice_coef: 0.3418 - val_acc: 0.8173 - val_mean_squared_error: 0.0434 - val_Jaccard_index: 0.2080 - val_Specificity: 0.9499 - val_Sensitivity: 0.9833 - val_precision: 0.6990 - val_recall: 0.2385 - val_f1score: 0.3522\n"
     ]
    },
    {
     "name": "stdout",
     "output_type": "stream",
     "text": [
      "Epoch 113/150\n",
      "1632/1632 [==============================] - 507s 311ms/step - loss: -0.9154 - dice_coef: 0.9154 - acc: 0.8402 - mean_squared_error: 0.0023 - Jaccard_index: 0.8448 - Specificity: 0.9759 - Sensitivity: 1.0026 - precision: 0.9919 - recall: 0.9887 - f1score: 0.9903 - val_loss: -0.0975 - val_dice_coef: 0.0975 - val_acc: 0.8180 - val_mean_squared_error: 0.0481 - val_Jaccard_index: 0.0519 - val_Specificity: 0.9446 - val_Sensitivity: 0.9720 - val_precision: 0.7260 - val_recall: 0.0520 - val_f1score: 0.0960\n",
      "Epoch 114/150\n",
      "1632/1632 [==============================] - 518s 318ms/step - loss: -0.9159 - dice_coef: 0.9159 - acc: 0.8402 - mean_squared_error: 0.0023 - Jaccard_index: 0.8457 - Specificity: 0.9759 - Sensitivity: 1.0026 - precision: 0.9923 - recall: 0.9893 - f1score: 0.9908 - val_loss: -0.2107 - val_dice_coef: 0.2107 - val_acc: 0.8036 - val_mean_squared_error: 0.0606 - val_Jaccard_index: 0.1190 - val_Specificity: 0.9478 - val_Sensitivity: 0.9946 - val_precision: 0.3384 - val_recall: 0.1630 - val_f1score: 0.2167\n",
      "Epoch 115/150\n",
      "1632/1632 [==============================] - 510s 312ms/step - loss: -0.9159 - dice_coef: 0.9159 - acc: 0.8402 - mean_squared_error: 0.0023 - Jaccard_index: 0.8457 - Specificity: 0.9759 - Sensitivity: 1.0026 - precision: 0.9923 - recall: 0.9893 - f1score: 0.9908 - val_loss: -0.3415 - val_dice_coef: 0.3415 - val_acc: 0.8209 - val_mean_squared_error: 0.0402 - val_Jaccard_index: 0.2087 - val_Specificity: 0.9493 - val_Sensitivity: 0.9781 - val_precision: 0.8882 - val_recall: 0.2212 - val_f1score: 0.3500\n",
      "Epoch 116/150\n",
      "1632/1632 [==============================] - 509s 312ms/step - loss: -0.9158 - dice_coef: 0.9158 - acc: 0.8402 - mean_squared_error: 0.0023 - Jaccard_index: 0.8455 - Specificity: 0.9759 - Sensitivity: 1.0026 - precision: 0.9924 - recall: 0.9893 - f1score: 0.9908 - val_loss: -0.0665 - val_dice_coef: 0.0665 - val_acc: 0.8182 - val_mean_squared_error: 0.0484 - val_Jaccard_index: 0.0348 - val_Specificity: 0.9441 - val_Sensitivity: 0.9707 - val_precision: 0.8281 - val_recall: 0.0340 - val_f1score: 0.0646\n",
      "Epoch 117/150\n",
      "1632/1632 [==============================] - 509s 312ms/step - loss: -0.9159 - dice_coef: 0.9159 - acc: 0.8402 - mean_squared_error: 0.0023 - Jaccard_index: 0.8458 - Specificity: 0.9759 - Sensitivity: 1.0026 - precision: 0.9924 - recall: 0.9894 - f1score: 0.9909 - val_loss: -0.5185 - val_dice_coef: 0.5185 - val_acc: 0.8217 - val_mean_squared_error: 0.0341 - val_Jaccard_index: 0.3535 - val_Specificity: 0.9546 - val_Sensitivity: 0.9877 - val_precision: 0.8262 - val_recall: 0.4059 - val_f1score: 0.5399\n",
      "Epoch 118/150\n",
      "1632/1632 [==============================] - 510s 312ms/step - loss: -0.9157 - dice_coef: 0.9157 - acc: 0.8402 - mean_squared_error: 0.0023 - Jaccard_index: 0.8455 - Specificity: 0.9759 - Sensitivity: 1.0026 - precision: 0.9924 - recall: 0.9893 - f1score: 0.9908 - val_loss: -0.1454 - val_dice_coef: 0.1454 - val_acc: 0.8181 - val_mean_squared_error: 0.0470 - val_Jaccard_index: 0.0793 - val_Specificity: 0.9455 - val_Sensitivity: 0.9737 - val_precision: 0.7367 - val_recall: 0.0811 - val_f1score: 0.1443\n",
      "Epoch 119/150\n",
      "1632/1632 [==============================] - 509s 312ms/step - loss: -0.9161 - dice_coef: 0.9161 - acc: 0.8402 - mean_squared_error: 0.0023 - Jaccard_index: 0.8460 - Specificity: 0.9759 - Sensitivity: 1.0026 - precision: 0.9926 - recall: 0.9896 - f1score: 0.9911 - val_loss: -0.4132 - val_dice_coef: 0.4132 - val_acc: 0.8006 - val_mean_squared_error: 0.0561 - val_Jaccard_index: 0.2625 - val_Specificity: 0.9547 - val_Sensitivity: 1.0110 - val_precision: 0.4792 - val_recall: 0.4148 - val_f1score: 0.4406\n",
      "Epoch 120/150\n",
      "1632/1632 [==============================] - 507s 310ms/step - loss: -0.9160 - dice_coef: 0.9160 - acc: 0.8402 - mean_squared_error: 0.0023 - Jaccard_index: 0.8459 - Specificity: 0.9759 - Sensitivity: 1.0026 - precision: 0.9925 - recall: 0.9896 - f1score: 0.9911 - val_loss: -0.4453 - val_dice_coef: 0.4453 - val_acc: 0.8169 - val_mean_squared_error: 0.0406 - val_Jaccard_index: 0.2892 - val_Specificity: 0.9530 - val_Sensitivity: 0.9897 - val_precision: 0.7084 - val_recall: 0.3530 - val_f1score: 0.4662\n",
      "Epoch 121/150\n",
      "1632/1632 [==============================] - 516s 316ms/step - loss: -0.9160 - dice_coef: 0.9160 - acc: 0.8402 - mean_squared_error: 0.0023 - Jaccard_index: 0.8460 - Specificity: 0.9759 - Sensitivity: 1.0026 - precision: 0.9924 - recall: 0.9894 - f1score: 0.9909 - val_loss: -0.5790 - val_dice_coef: 0.5790 - val_acc: 0.8176 - val_mean_squared_error: 0.0345 - val_Jaccard_index: 0.4103 - val_Specificity: 0.9579 - val_Sensitivity: 0.9982 - val_precision: 0.7422 - val_recall: 0.5341 - val_f1score: 0.6171\n",
      "Epoch 122/150\n",
      "1632/1632 [==============================] - 516s 316ms/step - loss: -0.9163 - dice_coef: 0.9163 - acc: 0.8402 - mean_squared_error: 0.0023 - Jaccard_index: 0.8464 - Specificity: 0.9759 - Sensitivity: 1.0026 - precision: 0.9928 - recall: 0.9899 - f1score: 0.9913 - val_loss: -0.0612 - val_dice_coef: 0.0612 - val_acc: 0.8176 - val_mean_squared_error: 0.0491 - val_Jaccard_index: 0.0320 - val_Specificity: 0.9440 - val_Sensitivity: 0.9712 - val_precision: 0.6797 - val_recall: 0.0322 - val_f1score: 0.0606\n",
      "Epoch 123/150\n",
      "1632/1632 [==============================] - 516s 316ms/step - loss: -0.9163 - dice_coef: 0.9163 - acc: 0.8402 - mean_squared_error: 0.0023 - Jaccard_index: 0.8464 - Specificity: 0.9759 - Sensitivity: 1.0026 - precision: 0.9927 - recall: 0.9898 - f1score: 0.9912 - val_loss: -0.0428 - val_dice_coef: 0.0428 - val_acc: 0.8180 - val_mean_squared_error: 0.0489 - val_Jaccard_index: 0.0221 - val_Specificity: 0.9437 - val_Sensitivity: 0.9701 - val_precision: 0.8504 - val_recall: 0.0214 - val_f1score: 0.0414\n",
      "Epoch 124/150\n",
      "1632/1632 [==============================] - 516s 316ms/step - loss: -0.9161 - dice_coef: 0.9161 - acc: 0.8402 - mean_squared_error: 0.0023 - Jaccard_index: 0.8463 - Specificity: 0.9759 - Sensitivity: 1.0026 - precision: 0.9928 - recall: 0.9899 - f1score: 0.9913 - val_loss: -0.2768 - val_dice_coef: 0.2768 - val_acc: 0.8141 - val_mean_squared_error: 0.0482 - val_Jaccard_index: 0.1624 - val_Specificity: 0.9485 - val_Sensitivity: 0.9842 - val_precision: 0.5725 - val_recall: 0.1922 - val_f1score: 0.2848\n",
      "Epoch 125/150\n",
      "1632/1632 [==============================] - 516s 316ms/step - loss: -0.9163 - dice_coef: 0.9163 - acc: 0.8402 - mean_squared_error: 0.0023 - Jaccard_index: 0.8464 - Specificity: 0.9759 - Sensitivity: 1.0026 - precision: 0.9928 - recall: 0.9900 - f1score: 0.9914 - val_loss: -0.1301 - val_dice_coef: 0.1301 - val_acc: 0.8191 - val_mean_squared_error: 0.0465 - val_Jaccard_index: 0.0704 - val_Specificity: 0.9451 - val_Sensitivity: 0.9718 - val_precision: 0.9335 - val_recall: 0.0701 - val_f1score: 0.1290\n",
      "Epoch 126/150\n",
      "1632/1632 [==============================] - 516s 316ms/step - loss: -0.9163 - dice_coef: 0.9163 - acc: 0.8402 - mean_squared_error: 0.0023 - Jaccard_index: 0.8464 - Specificity: 0.9759 - Sensitivity: 1.0026 - precision: 0.9929 - recall: 0.9900 - f1score: 0.9915 - val_loss: -0.1833 - val_dice_coef: 0.1833 - val_acc: 0.8195 - val_mean_squared_error: 0.0451 - val_Jaccard_index: 0.1020 - val_Specificity: 0.9461 - val_Sensitivity: 0.9733 - val_precision: 0.8934 - val_recall: 0.1033 - val_f1score: 0.1835\n",
      "Epoch 127/150\n",
      "1632/1632 [==============================] - 516s 316ms/step - loss: -0.9165 - dice_coef: 0.9165 - acc: 0.8402 - mean_squared_error: 0.0023 - Jaccard_index: 0.8468 - Specificity: 0.9759 - Sensitivity: 1.0026 - precision: 0.9929 - recall: 0.9901 - f1score: 0.9915 - val_loss: -0.4283 - val_dice_coef: 0.4283 - val_acc: 0.8064 - val_mean_squared_error: 0.0502 - val_Jaccard_index: 0.2747 - val_Specificity: 0.9544 - val_Sensitivity: 1.0041 - val_precision: 0.5481 - val_recall: 0.3967 - val_f1score: 0.4515\n",
      "Epoch 128/150\n",
      "1632/1632 [==============================] - 517s 317ms/step - loss: -0.9163 - dice_coef: 0.9163 - acc: 0.8402 - mean_squared_error: 0.0023 - Jaccard_index: 0.8465 - Specificity: 0.9759 - Sensitivity: 1.0026 - precision: 0.9929 - recall: 0.9899 - f1score: 0.9914 - val_loss: -0.4653 - val_dice_coef: 0.4653 - val_acc: 0.8084 - val_mean_squared_error: 0.0473 - val_Jaccard_index: 0.3051 - val_Specificity: 0.9555 - val_Sensitivity: 1.0044 - val_precision: 0.5700 - val_recall: 0.4402 - val_f1score: 0.4924\n"
     ]
    },
    {
     "name": "stdout",
     "output_type": "stream",
     "text": [
      "Epoch 129/150\n",
      "1632/1632 [==============================] - 517s 317ms/step - loss: -0.9167 - dice_coef: 0.9167 - acc: 0.8402 - mean_squared_error: 0.0022 - Jaccard_index: 0.8471 - Specificity: 0.9759 - Sensitivity: 1.0026 - precision: 0.9933 - recall: 0.9904 - f1score: 0.9918 - val_loss: -0.0069 - val_dice_coef: 0.0069 - val_acc: 0.8176 - val_mean_squared_error: 0.0498 - val_Jaccard_index: 0.0035 - val_Specificity: 0.9432 - val_Sensitivity: 0.9695 - val_precision: 0.7051 - val_recall: 0.0032 - val_f1score: nan\n",
      "Epoch 130/150\n",
      "1632/1632 [==============================] - 516s 316ms/step - loss: -0.9160 - dice_coef: 0.9160 - acc: 0.8402 - mean_squared_error: 0.0023 - Jaccard_index: 0.8459 - Specificity: 0.9759 - Sensitivity: 1.0026 - precision: 0.9927 - recall: 0.9896 - f1score: 0.9911 - val_loss: -0.4900 - val_dice_coef: 0.4900 - val_acc: 0.8222 - val_mean_squared_error: 0.0345 - val_Jaccard_index: 0.3275 - val_Specificity: 0.9533 - val_Sensitivity: 0.9841 - val_precision: 0.8818 - val_recall: 0.3647 - val_f1score: 0.5120\n",
      "Epoch 131/150\n",
      "1632/1632 [==============================] - 517s 317ms/step - loss: -0.9169 - dice_coef: 0.9169 - acc: 0.8402 - mean_squared_error: 0.0022 - Jaccard_index: 0.8475 - Specificity: 0.9759 - Sensitivity: 1.0026 - precision: 0.9932 - recall: 0.9905 - f1score: 0.9919 - val_loss: -0.4182 - val_dice_coef: 0.4182 - val_acc: 0.8143 - val_mean_squared_error: 0.0442 - val_Jaccard_index: 0.2667 - val_Specificity: 0.9526 - val_Sensitivity: 0.9922 - val_precision: 0.6363 - val_recall: 0.3388 - val_f1score: 0.4378\n",
      "Epoch 132/150\n",
      "1632/1632 [==============================] - 517s 317ms/step - loss: -0.9165 - dice_coef: 0.9165 - acc: 0.8402 - mean_squared_error: 0.0022 - Jaccard_index: 0.8468 - Specificity: 0.9759 - Sensitivity: 1.0026 - precision: 0.9932 - recall: 0.9904 - f1score: 0.9918 - val_loss: -0.1760 - val_dice_coef: 0.1760 - val_acc: 0.8195 - val_mean_squared_error: 0.0452 - val_Jaccard_index: 0.0977 - val_Specificity: 0.9459 - val_Sensitivity: 0.9729 - val_precision: 0.9165 - val_recall: 0.0979 - val_f1score: 0.1749\n",
      "Epoch 133/150\n",
      "1632/1632 [==============================] - 517s 317ms/step - loss: -0.9163 - dice_coef: 0.9163 - acc: 0.8402 - mean_squared_error: 0.0023 - Jaccard_index: 0.8465 - Specificity: 0.9759 - Sensitivity: 1.0026 - precision: 0.9929 - recall: 0.9900 - f1score: 0.9914 - val_loss: -0.2365 - val_dice_coef: 0.2365 - val_acc: 0.7803 - val_mean_squared_error: 0.0841 - val_Jaccard_index: 0.1352 - val_Specificity: 0.9505 - val_Sensitivity: 1.0270 - val_precision: 0.2491 - val_recall: 0.2587 - val_f1score: 0.2494\n",
      "Epoch 134/150\n",
      "1632/1632 [==============================] - 516s 316ms/step - loss: -0.9168 - dice_coef: 0.9168 - acc: 0.8403 - mean_squared_error: 0.0022 - Jaccard_index: 0.8473 - Specificity: 0.9759 - Sensitivity: 1.0026 - precision: 0.9934 - recall: 0.9907 - f1score: 0.9920 - val_loss: -0.2224 - val_dice_coef: 0.2224 - val_acc: 0.8127 - val_mean_squared_error: 0.0509 - val_Jaccard_index: 0.1266 - val_Specificity: 0.9473 - val_Sensitivity: 0.9832 - val_precision: 0.5014 - val_recall: 0.1496 - val_f1score: 0.2266\n",
      "Epoch 135/150\n",
      "1632/1632 [==============================] - 514s 315ms/step - loss: -0.9167 - dice_coef: 0.9167 - acc: 0.8402 - mean_squared_error: 0.0022 - Jaccard_index: 0.8472 - Specificity: 0.9759 - Sensitivity: 1.0026 - precision: 0.9934 - recall: 0.9905 - f1score: 0.9920 - val_loss: -0.3379 - val_dice_coef: 0.3379 - val_acc: 0.8201 - val_mean_squared_error: 0.0412 - val_Jaccard_index: 0.2056 - val_Specificity: 0.9495 - val_Sensitivity: 0.9797 - val_precision: 0.8037 - val_recall: 0.2206 - val_f1score: 0.3428\n",
      "Epoch 136/150\n",
      "1632/1632 [==============================] - 513s 314ms/step - loss: -0.9168 - dice_coef: 0.9168 - acc: 0.8402 - mean_squared_error: 0.0022 - Jaccard_index: 0.8473 - Specificity: 0.9759 - Sensitivity: 1.0026 - precision: 0.9934 - recall: 0.9905 - f1score: 0.9920 - val_loss: -0.3927 - val_dice_coef: 0.3927 - val_acc: 0.8215 - val_mean_squared_error: 0.0385 - val_Jaccard_index: 0.2468 - val_Specificity: 0.9506 - val_Sensitivity: 0.9800 - val_precision: 0.8848 - val_recall: 0.2657 - val_f1score: 0.4048\n",
      "Epoch 137/150\n",
      "1632/1632 [==============================] - 514s 315ms/step - loss: -0.9169 - dice_coef: 0.9169 - acc: 0.8403 - mean_squared_error: 0.0022 - Jaccard_index: 0.8474 - Specificity: 0.9759 - Sensitivity: 1.0026 - precision: 0.9934 - recall: 0.9907 - f1score: 0.9920 - val_loss: -0.1263 - val_dice_coef: 0.1263 - val_acc: 0.8186 - val_mean_squared_error: 0.0471 - val_Jaccard_index: 0.0685 - val_Specificity: 0.9451 - val_Sensitivity: 0.9723 - val_precision: 0.8211 - val_recall: 0.0691 - val_f1score: 0.1256\n",
      "Epoch 138/150\n",
      "1632/1632 [==============================] - 514s 315ms/step - loss: -0.9163 - dice_coef: 0.9163 - acc: 0.8402 - mean_squared_error: 0.0023 - Jaccard_index: 0.8465 - Specificity: 0.9759 - Sensitivity: 1.0026 - precision: 0.9930 - recall: 0.9899 - f1score: 0.9915 - val_loss: -0.3155 - val_dice_coef: 0.3155 - val_acc: 0.8194 - val_mean_squared_error: 0.0422 - val_Jaccard_index: 0.1889 - val_Specificity: 0.9489 - val_Sensitivity: 0.9791 - val_precision: 0.7964 - val_recall: 0.2049 - val_f1score: 0.3231\n",
      "Epoch 139/150\n",
      "1632/1632 [==============================] - 514s 315ms/step - loss: -0.9171 - dice_coef: 0.9171 - acc: 0.8403 - mean_squared_error: 0.0022 - Jaccard_index: 0.8478 - Specificity: 0.9759 - Sensitivity: 1.0026 - precision: 0.9938 - recall: 0.9911 - f1score: 0.9924 - val_loss: -0.3137 - val_dice_coef: 0.3137 - val_acc: 0.8200 - val_mean_squared_error: 0.0417 - val_Jaccard_index: 0.1878 - val_Specificity: 0.9488 - val_Sensitivity: 0.9780 - val_precision: 0.8498 - val_recall: 0.2016 - val_f1score: 0.3230\n",
      "Epoch 140/150\n",
      "1632/1632 [==============================] - 514s 315ms/step - loss: -0.9169 - dice_coef: 0.9169 - acc: 0.8403 - mean_squared_error: 0.0022 - Jaccard_index: 0.8474 - Specificity: 0.9759 - Sensitivity: 1.0026 - precision: 0.9935 - recall: 0.9906 - f1score: 0.9920 - val_loss: -0.1181 - val_dice_coef: 0.1181 - val_acc: 0.8189 - val_mean_squared_error: 0.0468 - val_Jaccard_index: 0.0635 - val_Specificity: 0.9449 - val_Sensitivity: 0.9716 - val_precision: 0.9111 - val_recall: 0.0627 - val_f1score: 0.1161\n",
      "Epoch 141/150\n",
      "1632/1632 [==============================] - 510s 313ms/step - loss: -0.9165 - dice_coef: 0.9165 - acc: 0.8402 - mean_squared_error: 0.0023 - Jaccard_index: 0.8468 - Specificity: 0.9759 - Sensitivity: 1.0026 - precision: 0.9932 - recall: 0.9903 - f1score: 0.9917 - val_loss: -0.0521 - val_dice_coef: 0.0521 - val_acc: 0.7939 - val_mean_squared_error: 0.0749 - val_Jaccard_index: 0.0270 - val_Specificity: 0.9443 - val_Sensitivity: 0.9986 - val_precision: 0.0832 - val_recall: 0.0406 - val_f1score: 0.0537\n",
      "Epoch 142/150\n",
      "1632/1632 [==============================] - 510s 312ms/step - loss: -0.9173 - dice_coef: 0.9173 - acc: 0.8403 - mean_squared_error: 0.0022 - Jaccard_index: 0.8482 - Specificity: 0.9759 - Sensitivity: 1.0026 - precision: 0.9940 - recall: 0.9913 - f1score: 0.9926 - val_loss: -0.3095 - val_dice_coef: 0.3095 - val_acc: 0.8201 - val_mean_squared_error: 0.0416 - val_Jaccard_index: 0.1852 - val_Specificity: 0.9487 - val_Sensitivity: 0.9775 - val_precision: 0.8567 - val_recall: 0.1956 - val_f1score: 0.3152\n",
      "Epoch 143/150\n",
      "1632/1632 [==============================] - 509s 312ms/step - loss: -0.9170 - dice_coef: 0.9170 - acc: 0.8403 - mean_squared_error: 0.0022 - Jaccard_index: 0.8477 - Specificity: 0.9759 - Sensitivity: 1.0026 - precision: 0.9937 - recall: 0.9910 - f1score: 0.9923 - val_loss: -0.1501 - val_dice_coef: 0.1501 - val_acc: 0.8169 - val_mean_squared_error: 0.0483 - val_Jaccard_index: 0.0823 - val_Specificity: 0.9456 - val_Sensitivity: 0.9753 - val_precision: 0.6147 - val_recall: 0.0876 - val_f1score: 0.1513\n",
      "Epoch 144/150\n",
      "1632/1632 [==============================] - 510s 313ms/step - loss: -0.9169 - dice_coef: 0.9169 - acc: 0.8403 - mean_squared_error: 0.0022 - Jaccard_index: 0.8476 - Specificity: 0.9759 - Sensitivity: 1.0026 - precision: 0.9937 - recall: 0.9910 - f1score: 0.9924 - val_loss: -0.2526 - val_dice_coef: 0.2526 - val_acc: 0.8132 - val_mean_squared_error: 0.0496 - val_Jaccard_index: 0.1460 - val_Specificity: 0.9481 - val_Sensitivity: 0.9842 - val_precision: 0.5406 - val_recall: 0.1735 - val_f1score: 0.2589\n"
     ]
    },
    {
     "name": "stdout",
     "output_type": "stream",
     "text": [
      "Epoch 145/150\n",
      "1632/1632 [==============================] - 508s 312ms/step - loss: -0.9170 - dice_coef: 0.9170 - acc: 0.8403 - mean_squared_error: 0.0022 - Jaccard_index: 0.8478 - Specificity: 0.9759 - Sensitivity: 1.0026 - precision: 0.9936 - recall: 0.9909 - f1score: 0.9922 - val_loss: -0.5611 - val_dice_coef: 0.5611 - val_acc: 0.8197 - val_mean_squared_error: 0.0336 - val_Jaccard_index: 0.3930 - val_Specificity: 0.9566 - val_Sensitivity: 0.9932 - val_precision: 0.7869 - val_recall: 0.4836 - val_f1score: 0.5946\n",
      "Epoch 146/150\n",
      "1632/1632 [==============================] - 509s 312ms/step - loss: -0.9172 - dice_coef: 0.9172 - acc: 0.8403 - mean_squared_error: 0.0022 - Jaccard_index: 0.8479 - Specificity: 0.9759 - Sensitivity: 1.0026 - precision: 0.9939 - recall: 0.9912 - f1score: 0.9925 - val_loss: -0.1209 - val_dice_coef: 0.1209 - val_acc: 0.8188 - val_mean_squared_error: 0.0470 - val_Jaccard_index: 0.0654 - val_Specificity: 0.9450 - val_Sensitivity: 0.9719 - val_precision: 0.8755 - val_recall: 0.0657 - val_f1score: 0.1205\n",
      "Epoch 147/150\n",
      "1632/1632 [==============================] - 509s 312ms/step - loss: -0.9171 - dice_coef: 0.9171 - acc: 0.8403 - mean_squared_error: 0.0022 - Jaccard_index: 0.8478 - Specificity: 0.9759 - Sensitivity: 1.0026 - precision: 0.9937 - recall: 0.9911 - f1score: 0.9924 - val_loss: -0.3899 - val_dice_coef: 0.3899 - val_acc: 0.8200 - val_mean_squared_error: 0.0398 - val_Jaccard_index: 0.2439 - val_Specificity: 0.9507 - val_Sensitivity: 0.9820 - val_precision: 0.8097 - val_recall: 0.2698 - val_f1score: 0.4018\n",
      "Epoch 148/150\n",
      "1632/1632 [==============================] - 509s 312ms/step - loss: -0.9173 - dice_coef: 0.9173 - acc: 0.8403 - mean_squared_error: 0.0022 - Jaccard_index: 0.8481 - Specificity: 0.9759 - Sensitivity: 1.0026 - precision: 0.9939 - recall: 0.9912 - f1score: 0.9926 - val_loss: -0.3326 - val_dice_coef: 0.3326 - val_acc: 0.8197 - val_mean_squared_error: 0.0414 - val_Jaccard_index: 0.2009 - val_Specificity: 0.9494 - val_Sensitivity: 0.9794 - val_precision: 0.8140 - val_recall: 0.2173 - val_f1score: 0.3407\n",
      "Epoch 149/150\n",
      "1632/1632 [==============================] - 508s 311ms/step - loss: -0.9172 - dice_coef: 0.9172 - acc: 0.8403 - mean_squared_error: 0.0022 - Jaccard_index: 0.8481 - Specificity: 0.9759 - Sensitivity: 1.0026 - precision: 0.9938 - recall: 0.9911 - f1score: 0.9925 - val_loss: -0.1123 - val_dice_coef: 0.1123 - val_acc: 0.8174 - val_mean_squared_error: 0.0486 - val_Jaccard_index: 0.0603 - val_Specificity: 0.9449 - val_Sensitivity: 0.9734 - val_precision: 0.6339 - val_recall: 0.0617 - val_f1score: 0.1111\n",
      "Epoch 150/150\n",
      "1632/1632 [==============================] - 508s 311ms/step - loss: -0.9171 - dice_coef: 0.9171 - acc: 0.8403 - mean_squared_error: 0.0022 - Jaccard_index: 0.8478 - Specificity: 0.9759 - Sensitivity: 1.0026 - precision: 0.9939 - recall: 0.9913 - f1score: 0.9926 - val_loss: -0.1916 - val_dice_coef: 0.1916 - val_acc: 0.8187 - val_mean_squared_error: 0.0454 - val_Jaccard_index: 0.1068 - val_Specificity: 0.9463 - val_Sensitivity: 0.9743 - val_precision: 0.8241 - val_recall: 0.1106 - val_f1score: 0.1936\n"
     ]
    }
   ],
   "source": [
    "history = model.fit_generator(train_generator,\n",
    "                    steps_per_epoch=nb_train_samples//batch_size,\n",
    "                    epochs=epochs,\n",
    "                    validation_data = validation_generator,\n",
    "                    validation_steps = nb_validation_samples//batch_size)"
   ]
  },
  {
   "cell_type": "code",
   "execution_count": 14,
   "metadata": {},
   "outputs": [
    {
     "name": "stdout",
     "output_type": "stream",
     "text": [
      "Validation Score:  -0.19155051320791244\n",
      "Validation Accuracy:  0.19155051320791244\n"
     ]
    }
   ],
   "source": [
    "score = model.evaluate_generator(validation_generator, steps=50)\n",
    "\n",
    "print ('Validation Score: ', score[0])\n",
    "print ('Validation Accuracy: ',score[1])"
   ]
  },
  {
   "cell_type": "code",
   "execution_count": 15,
   "metadata": {},
   "outputs": [
    {
     "name": "stdout",
     "output_type": "stream",
     "text": [
      "28/28 [==============================] - 5s 174ms/step\n"
     ]
    }
   ],
   "source": [
    "prediction = model.predict_generator(test_generator, verbose=1, steps=nb_test_samples)"
   ]
  },
  {
   "cell_type": "code",
   "execution_count": 16,
   "metadata": {},
   "outputs": [
    {
     "data": {
      "text/plain": [
       "(392, 256, 256, 1)"
      ]
     },
     "execution_count": 16,
     "metadata": {},
     "output_type": "execute_result"
    }
   ],
   "source": [
    "prediction.shape"
   ]
  },
  {
   "cell_type": "code",
   "execution_count": 30,
   "metadata": {},
   "outputs": [
    {
     "name": "stdout",
     "output_type": "stream",
     "text": [
      "['loss', 'dice_coef', 'acc', 'mean_squared_error', 'Jaccard_index', 'Specificity', 'Sensitivity', 'precision', 'recall', 'f1score']\n",
      "[-0.2636129552977426, 0.26361295453139716, 0.9570642110279628, 0.0425383888397898, 0.15343288110835213, 0.9541650104522705, 0.9796974291120256, 0.9050391905648367, 0.15552550094468254, 0.2630666926928929]\n"
     ]
    }
   ],
   "source": [
    "test_results = model.evaluate_generator(test_generator, steps=50)\n",
    "\n",
    "print(model.metrics_names)\n",
    "print(test_results)"
   ]
  },
  {
   "cell_type": "code",
   "execution_count": 17,
   "metadata": {},
   "outputs": [
    {
     "name": "stdout",
     "output_type": "stream",
     "text": [
      "Training co-effiency    : 0.8481925048810595;\n",
      "Validation co-effiency : 0.18517565130776562\n"
     ]
    }
   ],
   "source": [
    "coef = np.array(history.history['Jaccard_index'])\n",
    "val_coef = np.array(history.history['val_Jaccard_index'])\n",
    "print(\"Training co-effiency    : {};\\nValidation co-effiency : {}\".format(coef[coef==max(coef)][0], val_coef[np.argmax(coef)]))"
   ]
  },
  {
   "cell_type": "code",
   "execution_count": 18,
   "metadata": {},
   "outputs": [],
   "source": [
    "import skimage.io as io\n",
    "\n",
    "def labelVisualize(num_class,color_dict,img):\n",
    "    img = img[:,:,0] if len(img.shape) == 3 else img\n",
    "    img_out = np.zeros(img.shape + (3,))\n",
    "    for i in range(num_class):\n",
    "        img_out[img == i,:] = color_dict[i]\n",
    "    return img_out / 255\n",
    "\n",
    "def saveResult(save_path,npyfile,flag_multi_class = False,num_class = 2):\n",
    "    for i,item in enumerate(npyfile):\n",
    "        img = labelVisualize(num_class,COLOR_DICT,item) if flag_multi_class else item[:,:,0]\n",
    "        io.imsave(os.path.join(save_path,\"%d_predict.png\"%i),img)\n",
    "\n",
    "os.mkdir('06.SegNet1_results_dir')"
   ]
  },
  {
   "cell_type": "code",
   "execution_count": 19,
   "metadata": {},
   "outputs": [],
   "source": [
    "saveResult('06.SegNet1_results_dir',prediction)"
   ]
  },
  {
   "cell_type": "code",
   "execution_count": 20,
   "metadata": {},
   "outputs": [],
   "source": [
    "def normalizeData(img,mask):\n",
    "    mean = np.mean(img)\n",
    "    std = np.std(img)\n",
    "    img -= mean\n",
    "    img /= std\n",
    "    mask = mask /255\n",
    "    mask[mask > 0.5] = 1\n",
    "    mask[mask <= 0.5] = 0\n",
    "    return (img,mask)\n",
    "\n",
    "test_data_dir= \"data_augmented/cvc300_test/images/\"\n",
    "test_data_mask_dir = \"data_augmented/cvc300_test/masks/\"\n",
    "test_data_pred_dir = \"06.SegNet1_results_dir\"\n",
    "img_rows, img_cols = 256, 256"
   ]
  },
  {
   "cell_type": "code",
   "execution_count": 21,
   "metadata": {},
   "outputs": [
    {
     "name": "stdout",
     "output_type": "stream",
     "text": [
      "1.png -- jaccard index: 0.00048393054748885334\n",
      "11.png -- jaccard index: 0.07397783547639847\n",
      "113.png -- jaccard index: 0.6560110449790955\n",
      "12.png -- jaccard index: 0.2904166281223297\n",
      "144.png -- jaccard index: 0.412222683429718\n",
      "156.png -- jaccard index: 0.1516391932964325\n",
      "169.png -- jaccard index: 0.249680757522583\n",
      "171.png -- jaccard index: 0.0653996542096138\n",
      "175.png -- jaccard index: 0.4309198558330536\n",
      "182.png -- jaccard index: 0.42662301659584045\n",
      "185.png -- jaccard index: 0.33668380975723267\n",
      "19.png -- jaccard index: 0.7439830303192139\n",
      "193.png -- jaccard index: 0.3493901193141937\n",
      "214.png -- jaccard index: 0.1748296320438385\n",
      "23.png -- jaccard index: 0.5480345487594604\n",
      "238.png -- jaccard index: 0.36330732703208923\n",
      "239.png -- jaccard index: 0.5436392426490784\n",
      "244.png -- jaccard index: 0.003782410640269518\n",
      "246.png -- jaccard index: 0.3560684621334076\n",
      "256.png -- jaccard index: 0.5518061518669128\n",
      "269.png -- jaccard index: 0.07891912013292313\n",
      "3.png -- jaccard index: 0.22850631177425385\n",
      "42.png -- jaccard index: 0.17136169970035553\n",
      "44.png -- jaccard index: 0.10192448645830154\n",
      "68.png -- jaccard index: 0.22117485105991364\n",
      "74.png -- jaccard index: 0.0004156693466939032\n",
      "76.png -- jaccard index: 0.47757428884506226\n",
      "77.png -- jaccard index: 0.3418704867362976\n"
     ]
    }
   ],
   "source": [
    "from keras.preprocessing import image as image_utils\n",
    "from keras.preprocessing.image import load_img\n",
    "from keras.preprocessing.image import img_to_array\n",
    "from keras.preprocessing.image import array_to_img\n",
    "\n",
    "file_names = next(os.walk(test_data_dir))[2]\n",
    "scores = []\n",
    "for file in file_names:\n",
    "    grey_img = load_img(os.path.join(test_data_dir,file), target_size=(img_rows, img_cols), grayscale=False)\n",
    "    mask_img = load_img(os.path.join(test_data_mask_dir,file), target_size=(img_rows, img_cols), grayscale=True)\n",
    "    img = img_to_array(grey_img)\n",
    "    img_mask = img_to_array(mask_img)\n",
    "    \n",
    "    img, img_mask = normalizeData(img, img_mask)\n",
    "    img = np.reshape(img,(1,)+img.shape)\n",
    "    \n",
    "    pred = model.predict([img])\n",
    "    sess = tf.Session()\n",
    "    score = sess.run(Jaccard_index(img_mask, pred))\n",
    "    print(\"{} -- jaccard index: {}\".format(file,score))\n",
    "    scores.append([file,score])\n",
    "\n",
    "    result_img = array_to_img(pred[0] * 255 )\n",
    "    result_img.save(os.path.join(test_data_pred_dir, file.split('.')[0] + '_predict.jpg'))\n",
    "\n",
    "with open(\"segnet1_test_result.csv\", 'w') as f:\n",
    "    f.write(\"filename, jaccard_index\\n\")\n",
    "    for i in range(len(scores)):\n",
    "        #print(scores[i])\n",
    "        f.write(\"{},{}\\n\".format(scores[i][0], scores[i][1]))"
   ]
  },
  {
   "cell_type": "code",
   "execution_count": 24,
   "metadata": {},
   "outputs": [
    {
     "name": "stdout",
     "output_type": "stream",
     "text": [
      "Populating the interactive namespace from numpy and matplotlib\n"
     ]
    },
    {
     "data": {
      "image/png": "[encoded data removed]",
      "text/plain": [
       "<Figure size 432x288 with 1 Axes>"
      ]
     },
     "metadata": {
      "needs_background": "light"
     },
     "output_type": "display_data"
    }
   ],
   "source": [
    "%pylab inline\n",
    "import matplotlib.pyplot as plt\n",
    "import matplotlib.image as mpimg\n",
    "img=mpimg.imread('06.SegNet1_results_dir/104_predict.png')\n",
    "imgplot = plt.imshow(img)\n",
    "plt.show()"
   ]
  },
  {
   "cell_type": "code",
   "execution_count": 25,
   "metadata": {},
   "outputs": [
    {
     "data": {
      "text/plain": [
       "<matplotlib.image.AxesImage at 0x1589f4b82e8>"
      ]
     },
     "execution_count": 25,
     "metadata": {},
     "output_type": "execute_result"
    },
    {
     "data": {
      "image/png": "[encoded data removed]",
      "text/plain": [
       "<Figure size 432x288 with 1 Axes>"
      ]
     },
     "metadata": {
      "needs_background": "light"
     },
     "output_type": "display_data"
    }
   ],
   "source": [
    "plt.imshow(np.squeeze(prediction[1]), cmap = \"gray\")"
   ]
  },
  {
   "cell_type": "code",
   "execution_count": 26,
   "metadata": {},
   "outputs": [
    {
     "data": {
      "text/plain": [
       "<matplotlib.image.AxesImage at 0x1589f468c50>"
      ]
     },
     "execution_count": 26,
     "metadata": {},
     "output_type": "execute_result"
    },
    {
     "data": {
      "image/png": "[encoded data removed]",
      "text/plain": [
       "<Figure size 432x288 with 1 Axes>"
      ]
     },
     "metadata": {
      "needs_background": "light"
     },
     "output_type": "display_data"
    }
   ],
   "source": [
    "plt.imshow(np.squeeze(prediction[1]), cmap = \"gray\", vmin = 0.0, vmax= 0.09)"
   ]
  },
  {
   "cell_type": "code",
   "execution_count": 27,
   "metadata": {},
   "outputs": [
    {
     "name": "stdout",
     "output_type": "stream",
     "text": [
      "[[1.2132761e-09 1.6249433e-05 3.9374456e-05 ... 1.5388366e-07\n",
      "  1.4622403e-09 1.7193921e-12]\n",
      " [2.5046516e-08 2.8889492e-06 6.0736504e-05 ... 1.2163662e-03\n",
      "  5.4151138e-07 3.3162911e-07]\n",
      " [7.2613418e-08 6.2738283e-05 1.2843184e-04 ... 3.6346694e-04\n",
      "  4.0347409e-06 1.2210256e-04]\n",
      " ...\n",
      " [3.5719634e-07 5.6007748e-06 1.6717117e-06 ... 6.2341474e-05\n",
      "  3.6773305e-05 8.4162139e-06]\n",
      " [1.8784665e-06 3.5654899e-05 1.6867660e-05 ... 5.7604619e-05\n",
      "  4.8798956e-06 3.7607020e-08]\n",
      " [1.0628542e-09 1.7290279e-08 4.0846120e-07 ... 6.9146841e-07\n",
      "  3.7269709e-07 1.5565587e-09]]\n"
     ]
    },
    {
     "data": {
      "image/png": "[encoded data removed]",
      "text/plain": [
       "<Figure size 432x288 with 1 Axes>"
      ]
     },
     "metadata": {
      "needs_background": "light"
     },
     "output_type": "display_data"
    }
   ],
   "source": [
    "results_ =  np.squeeze(np.multiply(prediction[1], 255))\n",
    "print(results_)\n",
    "\n",
    "plt.imshow(results_, cmap = \"gray\", vmin = 0.0, vmax= 0.7)\n",
    "plt.show()"
   ]
  },
  {
   "cell_type": "code",
   "execution_count": 28,
   "metadata": {},
   "outputs": [
    {
     "name": "stdout",
     "output_type": "stream",
     "text": [
      "Populating the interactive namespace from numpy and matplotlib\n"
     ]
    },
    {
     "data": {
      "image/png": "[encoded data removed]",
      "text/plain": [
       "<Figure size 432x288 with 1 Axes>"
      ]
     },
     "metadata": {
      "needs_background": "light"
     },
     "output_type": "display_data"
    }
   ],
   "source": [
    "%pylab inline\n",
    "import matplotlib.pyplot as plt\n",
    "import matplotlib.image as mpimg\n",
    "img=mpimg.imread('05.U-Net2_results_dir/35_predict.png')\n",
    "imgplot = plt.imshow(img)\n",
    "plt.show()"
   ]
  },
  {
   "cell_type": "code",
   "execution_count": 29,
   "metadata": {},
   "outputs": [
    {
     "name": "stdout",
     "output_type": "stream",
     "text": [
      "dict_keys(['val_Specificity', 'val_Sensitivity', 'Sensitivity', 'Jaccard_index', 'loss', 'val_dice_coef', 'val_Jaccard_index', 'dice_coef', 'precision', 'recall', 'val_acc', 'val_loss', 'val_mean_squared_error', 'mean_squared_error', 'acc', 'val_recall', 'f1score', 'val_precision', 'val_f1score', 'Specificity'])\n"
     ]
    },
    {
     "data": {
      "image/png": "[encoded data removed]",
      "text/plain": [
       "<Figure size 432x288 with 1 Axes>"
      ]
     },
     "metadata": {
      "needs_background": "light"
     },
     "output_type": "display_data"
    },
    {
     "data": {
      "image/png": "[encoded data removed]",
      "text/plain": [
       "<Figure size 432x288 with 1 Axes>"
      ]
     },
     "metadata": {
      "needs_background": "light"
     },
     "output_type": "display_data"
    }
   ],
   "source": [
    "print(history.history.keys())\n",
    "# summarize history for accuracy\n",
    "plt.plot(history.history['dice_coef'])\n",
    "plt.plot(history.history['val_dice_coef'])\n",
    "plt.title('model dice_coeff')\n",
    "plt.ylabel('dice_coef')\n",
    "plt.xlabel('epoch')\n",
    "plt.legend(['train', 'validation'], loc='upper left')\n",
    "plt.show()\n",
    "# summarize history for loss\n",
    "plt.plot(history.history['loss'])\n",
    "plt.plot(history.history['val_loss'])\n",
    "plt.title('model loss')\n",
    "plt.ylabel('loss')\n",
    "plt.xlabel('epoch')\n",
    "plt.legend(['train', 'validation'], loc='upper left')\n",
    "plt.show()"
   ]
  },
  {
   "cell_type": "code",
   "execution_count": null,
   "metadata": {},
   "outputs": [],
   "source": []
  }
 ],
 "metadata": {
  "kernelspec": {
   "display_name": "Python 3",
   "language": "python",
   "name": "python3"
  },
  "language_info": {
   "codemirror_mode": {
    "name": "ipython",
    "version": 3
   },
   "file_extension": ".py",
   "mimetype": "text/x-python",
   "name": "python",
   "nbconvert_exporter": "python",
   "pygments_lexer": "ipython3",
   "version": "3.5.2"
  }
 },
 "nbformat": 4,
 "nbformat_minor": 1
}
