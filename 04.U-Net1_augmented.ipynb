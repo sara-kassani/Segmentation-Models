{
 "cells": [
  {
   "cell_type": "code",
   "execution_count": 1,
   "metadata": {},
   "outputs": [],
   "source": [
    "import warnings\n",
    "warnings.filterwarnings('always')\n",
    "warnings.filterwarnings('ignore')"
   ]
  },
  {
   "cell_type": "code",
   "execution_count": 2,
   "metadata": {},
   "outputs": [
    {
     "data": {
      "text/plain": [
       "[name: \"/device:CPU:0\"\n",
       " device_type: \"CPU\"\n",
       " memory_limit: 268435456\n",
       " locality {\n",
       " }\n",
       " incarnation: 7410639482389068391, name: \"/device:GPU:0\"\n",
       " device_type: \"GPU\"\n",
       " memory_limit: 9214062756\n",
       " locality {\n",
       "   bus_id: 1\n",
       "   links {\n",
       "   }\n",
       " }\n",
       " incarnation: 16374923066512124775\n",
       " physical_device_desc: \"device: 0, name: GeForce GTX 1080 Ti, pci bus id: 0000:01:00.0, compute capability: 6.1\"]"
      ]
     },
     "execution_count": 2,
     "metadata": {},
     "output_type": "execute_result"
    }
   ],
   "source": [
    "from tensorflow.python.client import device_lib\n",
    "device_lib.list_local_devices()"
   ]
  },
  {
   "cell_type": "code",
   "execution_count": 3,
   "metadata": {},
   "outputs": [
    {
     "name": "stderr",
     "output_type": "stream",
     "text": [
      "Using TensorFlow backend.\n"
     ]
    }
   ],
   "source": [
    "import sys\n",
    "import time\n",
    "import math\n",
    "import os\n",
    "import pandas as pd\n",
    "import numpy as np\n",
    "\n",
    "import keras\n",
    "from keras import layers, metrics, models, optimizers\n",
    "from keras.optimizers import Adam, RMSprop,SGD\n",
    "from keras.models import Model\n",
    "from keras.models import Sequential\n",
    "from keras.layers import Input, concatenate, Flatten, Dense, Activation, Dropout, Conv2D, MaxPooling2D, BatchNormalization, GlobalAveragePooling2D\n",
    "from keras.preprocessing.image import ImageDataGenerator\n",
    "\n",
    "\n",
    "import matplotlib.pyplot as plt\n",
    "%matplotlib inline"
   ]
  },
  {
   "cell_type": "code",
   "execution_count": 4,
   "metadata": {},
   "outputs": [
    {
     "name": "stdout",
     "output_type": "stream",
     "text": [
      "Keras Version 2.2.4\n",
      "tensorflow Version 1.9.0\n"
     ]
    }
   ],
   "source": [
    "import keras\n",
    "import tensorflow as tf\n",
    "\n",
    "print(\"Keras Version\", keras.__version__)\n",
    "print(\"tensorflow Version\", tf.__version__)\n",
    "# print(\"dim_ordering:\", K.image_dim_ordering())"
   ]
  },
  {
   "cell_type": "code",
   "execution_count": 5,
   "metadata": {},
   "outputs": [],
   "source": [
    "batch_size = 16\n",
    "img_rows, img_cols = 512, 512\n",
    "input_shape = (img_rows, img_cols, 3)\n",
    "epochs = 150"
   ]
  },
  {
   "cell_type": "code",
   "execution_count": 6,
   "metadata": {},
   "outputs": [],
   "source": [
    "train_dir = 'data_augmented/cvc300_train/'\n",
    "validation_dir = 'data_augmented/cvc300_validation/'\n",
    "test_dir = 'data_augmented/cvc300_test/'\n",
    "\n",
    "image_folder = 'images'\n",
    "masks_folder = 'masks'"
   ]
  },
  {
   "cell_type": "code",
   "execution_count": 7,
   "metadata": {},
   "outputs": [],
   "source": [
    "def down_block(x, filters, kernel_size=(3, 3), padding=\"same\", strides=1):\n",
    "    c = keras.layers.Conv2D(filters, kernel_size, padding=padding, strides=strides, activation=\"relu\")(x)\n",
    "    c = keras.layers.Conv2D(filters, kernel_size, padding=padding, strides=strides, activation=\"relu\")(c)\n",
    "    p = keras.layers.MaxPool2D((2, 2), (2, 2))(c)\n",
    "    return c, p\n",
    "\n",
    "def up_block(x, skip, filters, kernel_size=(3, 3), padding=\"same\", strides=1):\n",
    "    us = keras.layers.UpSampling2D((2, 2))(x)\n",
    "    concat = keras.layers.Concatenate()([us, skip])\n",
    "    c = keras.layers.Conv2D(filters, kernel_size, padding=padding, strides=strides, activation=\"relu\")(concat)\n",
    "    c = keras.layers.Conv2D(filters, kernel_size, padding=padding, strides=strides, activation=\"relu\")(c)\n",
    "    return c\n",
    "\n",
    "def bottleneck(x, filters, kernel_size=(3, 3), padding=\"same\", strides=1):\n",
    "    c = keras.layers.Conv2D(filters, kernel_size, padding=padding, strides=strides, activation=\"relu\")(x)\n",
    "    c = keras.layers.Conv2D(filters, kernel_size, padding=padding, strides=strides, activation=\"relu\")(c)\n",
    "    return c\n",
    "\n",
    "def UNet():\n",
    "    f = [16, 32, 64, 128, 256]\n",
    "    inputs = keras.layers.Input((img_rows, img_cols, 3))\n",
    "    \n",
    "    p0 = inputs\n",
    "    c1, p1 = down_block(p0, f[0]) #128 -> 64\n",
    "    c2, p2 = down_block(p1, f[1]) #64 -> 32\n",
    "    c3, p3 = down_block(p2, f[2]) #32 -> 16\n",
    "    c4, p4 = down_block(p3, f[3]) #16->8\n",
    "    \n",
    "    bn = bottleneck(p4, f[4])\n",
    "    \n",
    "    u1 = up_block(bn, c4, f[3]) #8 -> 16\n",
    "    u2 = up_block(u1, c3, f[2]) #16 -> 32\n",
    "    u3 = up_block(u2, c2, f[1]) #32 -> 64\n",
    "    u4 = up_block(u3, c1, f[0]) #64 -> 128\n",
    "    \n",
    "    outputs = keras.layers.Conv2D(1, (1, 1), padding=\"same\", activation=\"sigmoid\")(u4)\n",
    "    model = keras.models.Model(inputs, outputs)\n",
    "    return model"
   ]
  },
  {
   "cell_type": "code",
   "execution_count": 8,
   "metadata": {},
   "outputs": [
    {
     "name": "stdout",
     "output_type": "stream",
     "text": [
      "Found 26112 images belonging to 1 classes.\n",
      "Found 26112 images belonging to 1 classes.\n",
      "Found 8704 images belonging to 1 classes.\n",
      "Found 8704 images belonging to 1 classes.\n",
      "Found 28 images belonging to 1 classes.\n",
      "Found 28 images belonging to 1 classes.\n"
     ]
    }
   ],
   "source": [
    "seed = 1142\n",
    "data_gen_args = dict(rescale=1. / 255, featurewise_center=True, featurewise_std_normalization=True)\n",
    "image_datagen = ImageDataGenerator(**data_gen_args)\n",
    "masks_datagen = ImageDataGenerator(**data_gen_args)\n",
    "\n",
    "test_datagen = ImageDataGenerator(rescale=1./255)\n",
    "\n",
    "image_generator = image_datagen.flow_from_directory(\n",
    "    train_dir,\n",
    "    classes = [image_folder],\n",
    "    target_size=(img_rows, img_cols),\n",
    "    batch_size=batch_size,\n",
    "    class_mode=None,\n",
    "    seed=seed)\n",
    "\n",
    "mask_generator = masks_datagen.flow_from_directory(\n",
    "    train_dir,\n",
    "    classes = [masks_folder],\n",
    "    color_mode='grayscale',\n",
    "    target_size=(img_rows, img_cols),\n",
    "    batch_size=batch_size,\n",
    "    class_mode=None,\n",
    "    seed=seed)\n",
    "\n",
    "validation_image_generator = image_datagen.flow_from_directory(\n",
    "    validation_dir,\n",
    "    classes = [image_folder],\n",
    "    target_size=(img_rows, img_cols),\n",
    "    batch_size=batch_size,\n",
    "    class_mode=None,\n",
    "    seed=seed)\n",
    "\n",
    "validation_mask_generator = masks_datagen.flow_from_directory(\n",
    "    validation_dir,\n",
    "    classes = [masks_folder],\n",
    "    color_mode='grayscale',\n",
    "    target_size=(img_rows, img_cols),\n",
    "    batch_size=batch_size,\n",
    "    class_mode=None,\n",
    "    seed=seed)\n",
    "\n",
    "test_image_generator = test_datagen.flow_from_directory(\n",
    "    test_dir,\n",
    "    classes = [image_folder],\n",
    "    target_size=(img_rows, img_cols),\n",
    "    batch_size=batch_size,\n",
    "    class_mode=None,\n",
    "    seed=seed)\n",
    "\n",
    "test_mask_generator = test_datagen.flow_from_directory(\n",
    "    test_dir,\n",
    "    classes = [masks_folder],\n",
    "    color_mode='grayscale',\n",
    "    target_size=(img_rows, img_cols),\n",
    "    batch_size=batch_size,\n",
    "    class_mode=None,\n",
    "    seed=seed)"
   ]
  },
  {
   "cell_type": "code",
   "execution_count": 9,
   "metadata": {},
   "outputs": [],
   "source": [
    "train_generator = zip(image_generator, mask_generator)\n",
    "validation_generator = zip(validation_image_generator, validation_mask_generator)\n",
    "test_generator = zip(test_image_generator, test_mask_generator)"
   ]
  },
  {
   "cell_type": "code",
   "execution_count": 10,
   "metadata": {},
   "outputs": [
    {
     "name": "stdout",
     "output_type": "stream",
     "text": [
      "nb_train_samples: 26112\n",
      "nb_validation_samples: 8704\n",
      "nb_test_samples: 28\n",
      "\n",
      "predict_size_train: 1632\n",
      "predict_size_validation: 544\n",
      "predict_size_test: 2\n"
     ]
    }
   ],
   "source": [
    "nb_train_samples = len(image_generator.filenames)\n",
    "nb_validation_samples = len(validation_image_generator.filenames)\n",
    "nb_test_samples = len(test_image_generator.filenames)\n",
    "\n",
    "predict_size_train = int(math.ceil(nb_train_samples / batch_size))\n",
    "predict_size_validation = int(math.ceil(nb_validation_samples / batch_size))\n",
    "predict_size_test = int(math.ceil(nb_test_samples / batch_size))\n",
    "\n",
    "print(\"nb_train_samples:\", nb_train_samples)\n",
    "print(\"nb_validation_samples:\", nb_validation_samples)\n",
    "print(\"nb_test_samples:\", nb_test_samples)\n",
    "\n",
    "print(\"\\npredict_size_train:\", predict_size_train)\n",
    "print(\"predict_size_validation:\", predict_size_validation)\n",
    "print(\"predict_size_test:\", predict_size_test)"
   ]
  },
  {
   "cell_type": "code",
   "execution_count": 11,
   "metadata": {},
   "outputs": [],
   "source": [
    "smooth = 1.\n",
    "from keras import backend as K\n",
    "\n",
    "def dice_coef(y_true, y_pred):\n",
    "    y_true_f = K.flatten(y_true)\n",
    "    y_pred_f = K.flatten(y_pred)\n",
    "    intersection = K.sum(y_true_f * y_pred_f)\n",
    "    return (2. * intersection + smooth) / (K.sum(y_true_f) + K.sum(y_pred_f) + smooth)\n",
    "\n",
    "\n",
    "def dice_coef_loss(y_true, y_pred):\n",
    "    return -dice_coef(y_true, y_pred)\n",
    "\n",
    "\n",
    "def Specificity(y_true, y_pred):\n",
    "    true_negatives = K.abs(y_pred)- K.abs(y_true)\n",
    "    return ((true_negatives+smooth)/(y_pred+ smooth))\n",
    "\n",
    "def Sensitivity(y_true, y_pred):\n",
    "    y_true = K.flatten(y_true)\n",
    "    y_pred = K.flatten(y_pred)\n",
    "    return ((y_pred+smooth)/ (y_true+smooth))\n",
    "\n",
    "def Jaccard_index(y_true,y_pred):\n",
    "    y_true_f = K.flatten(y_true)\n",
    "    y_pred_f = K.flatten(y_pred)\n",
    "    intersection = K.sum(y_true_f * y_pred_f)\n",
    "    return ((intersection + smooth) / (K.sum(y_true_f) + K.sum(y_pred_f) - intersection + smooth))\n",
    "\n",
    "def precision(y_true, y_pred):\n",
    "    \"\"\"Precision metric.\n",
    "    Only computes a batch-wise average of precision.\n",
    "    Computes the precision, a metric for multi-label classification of\n",
    "    how many selected items are relevant.\n",
    "    \"\"\"\n",
    "    true_positives = K.sum(K.round(K.clip(y_true * y_pred, 0, 1)))\n",
    "    predicted_positives = K.sum(K.round(K.clip(y_pred, 0, 1)))\n",
    "    precision = true_positives / (predicted_positives + K.epsilon())\n",
    "    return precision\n",
    "\n",
    "\n",
    "def recall(y_true, y_pred):\n",
    "    \"\"\"Recall metric.\n",
    "    Only computes a batch-wise average of recall.\n",
    "    Computes the recall, a metric for multi-label classification of\n",
    "    how many relevant items are selected.\n",
    "    \"\"\"\n",
    "    true_positives = K.sum(K.round(K.clip(y_true * y_pred, 0, 1)))\n",
    "    possible_positives = K.sum(K.round(K.clip(y_true, 0, 1)))\n",
    "    recall = true_positives / (possible_positives + K.epsilon())\n",
    "    return recall\n",
    "\n",
    "\n",
    "def f1score(y_true, y_pred):\n",
    "    def recall(y_true, y_pred):\n",
    "        \"\"\"Recall metric.\n",
    "        Only computes a batch-wise average of recall.\n",
    "        Computes the recall, a metric for multi-label classification of\n",
    "        how many relevant items are selected.\n",
    "        \"\"\"\n",
    "        true_positives = K.sum(K.round(K.clip(y_true * y_pred, 0, 1)))\n",
    "        possible_positives = K.sum(K.round(K.clip(y_true, 0, 1)))\n",
    "        recall = true_positives / (possible_positives + K.epsilon())\n",
    "        return recall\n",
    "\n",
    "    def precision(y_true, y_pred):\n",
    "        \"\"\"Precision metric.\n",
    "        Only computes a batch-wise average of precision.\n",
    "        Computes the precision, a metric for multi-label classification of\n",
    "        how many selected items are relevant.\n",
    "        \"\"\"\n",
    "        true_positives = K.sum(K.round(K.clip(y_true * y_pred, 0, 1)))\n",
    "        predicted_positives = K.sum(K.round(K.clip(y_pred, 0, 1)))\n",
    "        precision = true_positives / (predicted_positives + K.epsilon())\n",
    "        return precision\n",
    "\n",
    "    precision = precision(y_true, y_pred)\n",
    "    recall = recall(y_true, y_pred)\n",
    "    return 2 * ((precision * recall) / (precision + recall))"
   ]
  },
  {
   "cell_type": "code",
   "execution_count": 12,
   "metadata": {},
   "outputs": [
    {
     "name": "stdout",
     "output_type": "stream",
     "text": [
      "__________________________________________________________________________________________________\n",
      "Layer (type)                    Output Shape         Param #     Connected to                     \n",
      "==================================================================================================\n",
      "input_1 (InputLayer)            (None, 512, 512, 3)  0                                            \n",
      "__________________________________________________________________________________________________\n",
      "conv2d_1 (Conv2D)               (None, 512, 512, 16) 448         input_1[0][0]                    \n",
      "__________________________________________________________________________________________________\n",
      "conv2d_2 (Conv2D)               (None, 512, 512, 16) 2320        conv2d_1[0][0]                   \n",
      "__________________________________________________________________________________________________\n",
      "max_pooling2d_1 (MaxPooling2D)  (None, 256, 256, 16) 0           conv2d_2[0][0]                   \n",
      "__________________________________________________________________________________________________\n",
      "conv2d_3 (Conv2D)               (None, 256, 256, 32) 4640        max_pooling2d_1[0][0]            \n",
      "__________________________________________________________________________________________________\n",
      "conv2d_4 (Conv2D)               (None, 256, 256, 32) 9248        conv2d_3[0][0]                   \n",
      "__________________________________________________________________________________________________\n",
      "max_pooling2d_2 (MaxPooling2D)  (None, 128, 128, 32) 0           conv2d_4[0][0]                   \n",
      "__________________________________________________________________________________________________\n",
      "conv2d_5 (Conv2D)               (None, 128, 128, 64) 18496       max_pooling2d_2[0][0]            \n",
      "__________________________________________________________________________________________________\n",
      "conv2d_6 (Conv2D)               (None, 128, 128, 64) 36928       conv2d_5[0][0]                   \n",
      "__________________________________________________________________________________________________\n",
      "max_pooling2d_3 (MaxPooling2D)  (None, 64, 64, 64)   0           conv2d_6[0][0]                   \n",
      "__________________________________________________________________________________________________\n",
      "conv2d_7 (Conv2D)               (None, 64, 64, 128)  73856       max_pooling2d_3[0][0]            \n",
      "__________________________________________________________________________________________________\n",
      "conv2d_8 (Conv2D)               (None, 64, 64, 128)  147584      conv2d_7[0][0]                   \n",
      "__________________________________________________________________________________________________\n",
      "max_pooling2d_4 (MaxPooling2D)  (None, 32, 32, 128)  0           conv2d_8[0][0]                   \n",
      "__________________________________________________________________________________________________\n",
      "conv2d_9 (Conv2D)               (None, 32, 32, 256)  295168      max_pooling2d_4[0][0]            \n",
      "__________________________________________________________________________________________________\n",
      "conv2d_10 (Conv2D)              (None, 32, 32, 256)  590080      conv2d_9[0][0]                   \n",
      "__________________________________________________________________________________________________\n",
      "up_sampling2d_1 (UpSampling2D)  (None, 64, 64, 256)  0           conv2d_10[0][0]                  \n",
      "__________________________________________________________________________________________________\n",
      "concatenate_1 (Concatenate)     (None, 64, 64, 384)  0           up_sampling2d_1[0][0]            \n",
      "                                                                 conv2d_8[0][0]                   \n",
      "__________________________________________________________________________________________________\n",
      "conv2d_11 (Conv2D)              (None, 64, 64, 128)  442496      concatenate_1[0][0]              \n",
      "__________________________________________________________________________________________________\n",
      "conv2d_12 (Conv2D)              (None, 64, 64, 128)  147584      conv2d_11[0][0]                  \n",
      "__________________________________________________________________________________________________\n",
      "up_sampling2d_2 (UpSampling2D)  (None, 128, 128, 128 0           conv2d_12[0][0]                  \n",
      "__________________________________________________________________________________________________\n",
      "concatenate_2 (Concatenate)     (None, 128, 128, 192 0           up_sampling2d_2[0][0]            \n",
      "                                                                 conv2d_6[0][0]                   \n",
      "__________________________________________________________________________________________________\n",
      "conv2d_13 (Conv2D)              (None, 128, 128, 64) 110656      concatenate_2[0][0]              \n",
      "__________________________________________________________________________________________________\n",
      "conv2d_14 (Conv2D)              (None, 128, 128, 64) 36928       conv2d_13[0][0]                  \n",
      "__________________________________________________________________________________________________\n",
      "up_sampling2d_3 (UpSampling2D)  (None, 256, 256, 64) 0           conv2d_14[0][0]                  \n",
      "__________________________________________________________________________________________________\n",
      "concatenate_3 (Concatenate)     (None, 256, 256, 96) 0           up_sampling2d_3[0][0]            \n",
      "                                                                 conv2d_4[0][0]                   \n",
      "__________________________________________________________________________________________________\n",
      "conv2d_15 (Conv2D)              (None, 256, 256, 32) 27680       concatenate_3[0][0]              \n",
      "__________________________________________________________________________________________________\n",
      "conv2d_16 (Conv2D)              (None, 256, 256, 32) 9248        conv2d_15[0][0]                  \n",
      "__________________________________________________________________________________________________\n",
      "up_sampling2d_4 (UpSampling2D)  (None, 512, 512, 32) 0           conv2d_16[0][0]                  \n",
      "__________________________________________________________________________________________________\n",
      "concatenate_4 (Concatenate)     (None, 512, 512, 48) 0           up_sampling2d_4[0][0]            \n",
      "                                                                 conv2d_2[0][0]                   \n",
      "__________________________________________________________________________________________________\n",
      "conv2d_17 (Conv2D)              (None, 512, 512, 16) 6928        concatenate_4[0][0]              \n",
      "__________________________________________________________________________________________________\n",
      "conv2d_18 (Conv2D)              (None, 512, 512, 16) 2320        conv2d_17[0][0]                  \n",
      "__________________________________________________________________________________________________\n",
      "conv2d_19 (Conv2D)              (None, 512, 512, 1)  17          conv2d_18[0][0]                  \n",
      "==================================================================================================\n",
      "Total params: 1,962,625\n",
      "Trainable params: 1,962,625\n",
      "Non-trainable params: 0\n",
      "__________________________________________________________________________________________________\n"
     ]
    }
   ],
   "source": [
    "model = UNet()\n",
    "model.summary()\n",
    "adam_opt = Adam(lr=1e-5, beta_1=0.9, beta_2=0.999, epsilon=None, decay=0.0, amsgrad=False)\n",
    "\n",
    "model.compile(optimizer= adam_opt, loss=dice_coef_loss, \n",
    "              metrics=[dice_coef, 'acc','mse', Jaccard_index, Specificity, Sensitivity, precision, recall, f1score])"
   ]
  },
  {
   "cell_type": "code",
   "execution_count": 13,
   "metadata": {
    "scrolled": true
   },
   "outputs": [
    {
     "name": "stdout",
     "output_type": "stream",
     "text": [
      "Epoch 1/150\n",
      "1632/1632 [==============================] - 752s 461ms/step - loss: -0.0711 - dice_coef: 0.0711 - acc: 0.4973 - mean_squared_error: 0.3114 - Jaccard_index: 0.0378 - Specificity: 0.9647 - Sensitivity: 1.3228 - precision: 0.0403 - recall: 0.4540 - f1score: nan - val_loss: -0.1775 - val_dice_coef: 0.1775 - val_acc: 0.5064 - val_mean_squared_error: 0.3701 - val_Jaccard_index: 0.0979 - val_Specificity: 0.9643 - val_Sensitivity: 1.3618 - val_precision: 0.1133 - val_recall: 0.7461 - val_f1score: 0.1957\n",
      "Epoch 2/150\n",
      "1632/1632 [==============================] - 748s 459ms/step - loss: -0.1639 - dice_coef: 0.1639 - acc: 0.5941 - mean_squared_error: 0.2760 - Jaccard_index: 0.0897 - Specificity: 0.9678 - Sensitivity: 1.2613 - precision: 0.1052 - recall: 0.6114 - f1score: 0.1773 - val_loss: -0.2176 - val_dice_coef: 0.2176 - val_acc: 0.6460 - val_mean_squared_error: 0.2170 - val_Jaccard_index: 0.1233 - val_Specificity: 0.9596 - val_Sensitivity: 1.1923 - val_precision: 0.1489 - val_recall: 0.5702 - val_f1score: 0.2333\n",
      "Epoch 3/150\n",
      "1632/1632 [==============================] - 745s 456ms/step - loss: -0.1861 - dice_coef: 0.1861 - acc: 0.6733 - mean_squared_error: 0.1923 - Jaccard_index: 0.1034 - Specificity: 0.9652 - Sensitivity: 1.1688 - precision: 0.1313 - recall: 0.4935 - f1score: 0.1982 - val_loss: -0.2460 - val_dice_coef: 0.2460 - val_acc: 0.7846 - val_mean_squared_error: 0.0725 - val_Jaccard_index: 0.1415 - val_Specificity: 0.9510 - val_Sensitivity: 1.0227 - val_precision: 0.2681 - val_recall: 0.2504 - val_f1score: 0.2537\n",
      "Epoch 4/150\n",
      "1632/1632 [==============================] - 746s 457ms/step - loss: -0.3185 - dice_coef: 0.3185 - acc: 0.7804 - mean_squared_error: 0.0788 - Jaccard_index: 0.1925 - Specificity: 0.9632 - Sensitivity: 1.0458 - precision: 0.3167 - recall: 0.4114 - f1score: 0.3355 - val_loss: -0.3400 - val_dice_coef: 0.3400 - val_acc: 0.8091 - val_mean_squared_error: 0.0508 - val_Jaccard_index: 0.2060 - val_Specificity: 0.9510 - val_Sensitivity: 0.9948 - val_precision: 0.5133 - val_recall: 0.2735 - val_f1score: 0.3524\n",
      "Epoch 5/150\n",
      "1632/1632 [==============================] - 748s 458ms/step - loss: -0.3923 - dice_coef: 0.3923 - acc: 0.8019 - mean_squared_error: 0.0556 - Jaccard_index: 0.2463 - Specificity: 0.9639 - Sensitivity: 1.0229 - precision: 0.4148 - recall: 0.4467 - f1score: 0.4157 - val_loss: -0.4026 - val_dice_coef: 0.4026 - val_acc: 0.7806 - val_mean_squared_error: 0.0745 - val_Jaccard_index: 0.2537 - val_Specificity: 0.9577 - val_Sensitivity: 1.0399 - val_precision: 0.3807 - val_recall: 0.5159 - val_f1score: 0.4323\n",
      "Epoch 6/150\n",
      "1632/1632 [==============================] - 750s 459ms/step - loss: -0.4351 - dice_coef: 0.4351 - acc: 0.8067 - mean_squared_error: 0.0498 - Jaccard_index: 0.2804 - Specificity: 0.9648 - Sensitivity: 1.0194 - precision: 0.4684 - recall: 0.4848 - f1score: 0.4623 - val_loss: -0.4280 - val_dice_coef: 0.4280 - val_acc: 0.8115 - val_mean_squared_error: 0.0460 - val_Jaccard_index: 0.2740 - val_Specificity: 0.9536 - val_Sensitivity: 0.9972 - val_precision: 0.5931 - val_recall: 0.3653 - val_f1score: 0.4480\n",
      "Epoch 7/150\n",
      "1632/1632 [==============================] - 750s 460ms/step - loss: -0.4702 - dice_coef: 0.4702 - acc: 0.8107 - mean_squared_error: 0.0449 - Jaccard_index: 0.3099 - Specificity: 0.9654 - Sensitivity: 1.0160 - precision: 0.5198 - recall: 0.5116 - f1score: 0.5007 - val_loss: -0.4559 - val_dice_coef: 0.4559 - val_acc: 0.8132 - val_mean_squared_error: 0.0433 - val_Jaccard_index: 0.2976 - val_Specificity: 0.9543 - val_Sensitivity: 0.9966 - val_precision: 0.6323 - val_recall: 0.3912 - val_f1score: 0.4787\n",
      "Epoch 8/150\n",
      "1632/1632 [==============================] - 750s 459ms/step - loss: -0.5025 - dice_coef: 0.5025 - acc: 0.8142 - mean_squared_error: 0.0406 - Jaccard_index: 0.3381 - Specificity: 0.9659 - Sensitivity: 1.0132 - precision: 0.5629 - recall: 0.5355 - f1score: 0.5360 - val_loss: -0.5007 - val_dice_coef: 0.5007 - val_acc: 0.8120 - val_mean_squared_error: 0.0422 - val_Jaccard_index: 0.3361 - val_Specificity: 0.9562 - val_Sensitivity: 1.0016 - val_precision: 0.6321 - val_recall: 0.4626 - val_f1score: 0.5306\n",
      "Epoch 9/150\n",
      "1632/1632 [==============================] - 752s 461ms/step - loss: -0.5330 - dice_coef: 0.5330 - acc: 0.8173 - mean_squared_error: 0.0367 - Jaccard_index: 0.3660 - Specificity: 0.9664 - Sensitivity: 1.0105 - precision: 0.6073 - recall: 0.5567 - f1score: 0.5692 - val_loss: -0.5244 - val_dice_coef: 0.5244 - val_acc: 0.8079 - val_mean_squared_error: 0.0444 - val_Jaccard_index: 0.3578 - val_Specificity: 0.9583 - val_Sensitivity: 1.0102 - val_precision: 0.5960 - val_recall: 0.5389 - val_f1score: 0.5615\n",
      "Epoch 10/150\n",
      "1632/1632 [==============================] - 752s 461ms/step - loss: -0.5637 - dice_coef: 0.5637 - acc: 0.8200 - mean_squared_error: 0.0331 - Jaccard_index: 0.3952 - Specificity: 0.9669 - Sensitivity: 1.0085 - precision: 0.6512 - recall: 0.5806 - f1score: 0.6026 - val_loss: -0.5535 - val_dice_coef: 0.5535 - val_acc: 0.8107 - val_mean_squared_error: 0.0403 - val_Jaccard_index: 0.3852 - val_Specificity: 0.9590 - val_Sensitivity: 1.0084 - val_precision: 0.6340 - val_recall: 0.5618 - val_f1score: 0.5918\n",
      "Epoch 11/150\n",
      "1632/1632 [==============================] - 752s 461ms/step - loss: -0.5922 - dice_coef: 0.5922 - acc: 0.8223 - mean_squared_error: 0.0301 - Jaccard_index: 0.4232 - Specificity: 0.9674 - Sensitivity: 1.0069 - precision: 0.6881 - recall: 0.6034 - f1score: 0.6329 - val_loss: -0.5607 - val_dice_coef: 0.5607 - val_acc: 0.8148 - val_mean_squared_error: 0.0370 - val_Jaccard_index: 0.3922 - val_Specificity: 0.9581 - val_Sensitivity: 1.0017 - val_precision: 0.6924 - val_recall: 0.5310 - val_f1score: 0.5973\n",
      "Epoch 12/150\n",
      "1632/1632 [==============================] - 753s 461ms/step - loss: -0.6161 - dice_coef: 0.6161 - acc: 0.8241 - mean_squared_error: 0.0277 - Jaccard_index: 0.4478 - Specificity: 0.9679 - Sensitivity: 1.0058 - precision: 0.7176 - recall: 0.6241 - f1score: 0.6591 - val_loss: -0.5342 - val_dice_coef: 0.5342 - val_acc: 0.8207 - val_mean_squared_error: 0.0335 - val_Jaccard_index: 0.3668 - val_Specificity: 0.9554 - val_Sensitivity: 0.9896 - val_precision: 0.8183 - val_recall: 0.4312 - val_f1score: 0.5618\n",
      "Epoch 13/150\n",
      "1632/1632 [==============================] - 752s 461ms/step - loss: -0.6407 - dice_coef: 0.6407 - acc: 0.8258 - mean_squared_error: 0.0252 - Jaccard_index: 0.4740 - Specificity: 0.9684 - Sensitivity: 1.0048 - precision: 0.7478 - recall: 0.6456 - f1score: 0.6854 - val_loss: -0.5978 - val_dice_coef: 0.5978 - val_acc: 0.8170 - val_mean_squared_error: 0.0330 - val_Jaccard_index: 0.4291 - val_Specificity: 0.9593 - val_Sensitivity: 1.0015 - val_precision: 0.7329 - val_recall: 0.5707 - val_f1score: 0.6387\n",
      "Epoch 14/150\n",
      "1632/1632 [==============================] - 753s 461ms/step - loss: -0.6590 - dice_coef: 0.6590 - acc: 0.8270 - mean_squared_error: 0.0235 - Jaccard_index: 0.4938 - Specificity: 0.9689 - Sensitivity: 1.0044 - precision: 0.7689 - recall: 0.6635 - f1score: 0.7050 - val_loss: -0.5878 - val_dice_coef: 0.5878 - val_acc: 0.8211 - val_mean_squared_error: 0.0306 - val_Jaccard_index: 0.4193 - val_Specificity: 0.9575 - val_Sensitivity: 0.9932 - val_precision: 0.8164 - val_recall: 0.5056 - val_f1score: 0.6213\n",
      "Epoch 15/150\n",
      "1632/1632 [==============================] - 754s 462ms/step - loss: -0.6806 - dice_coef: 0.6806 - acc: 0.8284 - mean_squared_error: 0.0214 - Jaccard_index: 0.5182 - Specificity: 0.9693 - Sensitivity: 1.0037 - precision: 0.7935 - recall: 0.6836 - f1score: 0.7285 - val_loss: -0.6387 - val_dice_coef: 0.6387 - val_acc: 0.8192 - val_mean_squared_error: 0.0293 - val_Jaccard_index: 0.4719 - val_Specificity: 0.9607 - val_Sensitivity: 1.0019 - val_precision: 0.7654 - val_recall: 0.6189 - val_f1score: 0.6817\n",
      "Epoch 16/150\n",
      "1632/1632 [==============================] - 755s 462ms/step - loss: -0.7012 - dice_coef: 0.7012 - acc: 0.8296 - mean_squared_error: 0.0196 - Jaccard_index: 0.5420 - Specificity: 0.9698 - Sensitivity: 1.0032 - precision: 0.8135 - recall: 0.7052 - f1score: 0.7509 - val_loss: -0.6466 - val_dice_coef: 0.6466 - val_acc: 0.8186 - val_mean_squared_error: 0.0292 - val_Jaccard_index: 0.4806 - val_Specificity: 0.9613 - val_Sensitivity: 1.0038 - val_precision: 0.7558 - val_recall: 0.6417 - val_f1score: 0.6912\n"
     ]
    },
    {
     "name": "stdout",
     "output_type": "stream",
     "text": [
      "Epoch 17/150\n",
      "1632/1632 [==============================] - 759s 465ms/step - loss: -0.7152 - dice_coef: 0.7152 - acc: 0.8304 - mean_squared_error: 0.0184 - Jaccard_index: 0.5586 - Specificity: 0.9702 - Sensitivity: 1.0031 - precision: 0.8269 - recall: 0.7219 - f1score: 0.7664 - val_loss: -0.6380 - val_dice_coef: 0.6380 - val_acc: 0.8230 - val_mean_squared_error: 0.0268 - val_Jaccard_index: 0.4718 - val_Specificity: 0.9592 - val_Sensitivity: 0.9945 - val_precision: 0.8446 - val_recall: 0.5663 - val_f1score: 0.6751\n",
      "Epoch 18/150\n",
      "1632/1632 [==============================] - 758s 464ms/step - loss: -0.7309 - dice_coef: 0.7309 - acc: 0.8312 - mean_squared_error: 0.0171 - Jaccard_index: 0.5780 - Specificity: 0.9706 - Sensitivity: 1.0029 - precision: 0.8410 - recall: 0.7403 - f1score: 0.7838 - val_loss: -0.6595 - val_dice_coef: 0.6595 - val_acc: 0.8200 - val_mean_squared_error: 0.0276 - val_Jaccard_index: 0.4949 - val_Specificity: 0.9613 - val_Sensitivity: 1.0020 - val_precision: 0.7832 - val_recall: 0.6465 - val_f1score: 0.7056\n",
      "Epoch 19/150\n",
      "1632/1632 [==============================] - 758s 464ms/step - loss: -0.7416 - dice_coef: 0.7416 - acc: 0.8318 - mean_squared_error: 0.0163 - Jaccard_index: 0.5913 - Specificity: 0.9708 - Sensitivity: 1.0028 - precision: 0.8518 - recall: 0.7534 - f1score: 0.7960 - val_loss: -0.6754 - val_dice_coef: 0.6754 - val_acc: 0.8216 - val_mean_squared_error: 0.0258 - val_Jaccard_index: 0.5125 - val_Specificity: 0.9615 - val_Sensitivity: 1.0006 - val_precision: 0.8101 - val_recall: 0.6540 - val_f1score: 0.7209\n",
      "Epoch 20/150\n",
      "1632/1632 [==============================] - 754s 462ms/step - loss: -0.7554 - dice_coef: 0.7554 - acc: 0.8324 - mean_squared_error: 0.0153 - Jaccard_index: 0.6087 - Specificity: 0.9712 - Sensitivity: 1.0028 - precision: 0.8616 - recall: 0.7716 - f1score: 0.8111 - val_loss: -0.6885 - val_dice_coef: 0.6885 - val_acc: 0.8185 - val_mean_squared_error: 0.0269 - val_Jaccard_index: 0.5270 - val_Specificity: 0.9636 - val_Sensitivity: 1.0082 - val_precision: 0.7586 - val_recall: 0.7289 - val_f1score: 0.7411\n",
      "Epoch 21/150\n",
      "1632/1632 [==============================] - 751s 460ms/step - loss: -0.7674 - dice_coef: 0.7674 - acc: 0.8329 - mean_squared_error: 0.0144 - Jaccard_index: 0.6242 - Specificity: 0.9716 - Sensitivity: 1.0029 - precision: 0.8708 - recall: 0.7874 - f1score: 0.8244 - val_loss: -0.6661 - val_dice_coef: 0.6661 - val_acc: 0.8238 - val_mean_squared_error: 0.0251 - val_Jaccard_index: 0.5026 - val_Specificity: 0.9601 - val_Sensitivity: 0.9950 - val_precision: 0.8655 - val_recall: 0.6044 - val_f1score: 0.7085\n",
      "Epoch 22/150\n",
      "1632/1632 [==============================] - 755s 463ms/step - loss: -0.7776 - dice_coef: 0.7776 - acc: 0.8334 - mean_squared_error: 0.0136 - Jaccard_index: 0.6377 - Specificity: 0.9718 - Sensitivity: 1.0027 - precision: 0.8803 - recall: 0.7990 - f1score: 0.8356 - val_loss: -0.6893 - val_dice_coef: 0.6893 - val_acc: 0.8210 - val_mean_squared_error: 0.0256 - val_Jaccard_index: 0.5287 - val_Specificity: 0.9625 - val_Sensitivity: 1.0031 - val_precision: 0.8005 - val_recall: 0.6933 - val_f1score: 0.7401\n",
      "Epoch 23/150\n",
      "1632/1632 [==============================] - 752s 461ms/step - loss: -0.7850 - dice_coef: 0.7850 - acc: 0.8338 - mean_squared_error: 0.0131 - Jaccard_index: 0.6476 - Specificity: 0.9720 - Sensitivity: 1.0027 - precision: 0.8863 - recall: 0.8089 - f1score: 0.8438 - val_loss: -0.6645 - val_dice_coef: 0.6645 - val_acc: 0.8245 - val_mean_squared_error: 0.0248 - val_Jaccard_index: 0.5005 - val_Specificity: 0.9597 - val_Sensitivity: 0.9936 - val_precision: 0.8860 - val_recall: 0.5917 - val_f1score: 0.7068\n",
      "Epoch 24/150\n",
      "1632/1632 [==============================] - 753s 462ms/step - loss: -0.7924 - dice_coef: 0.7924 - acc: 0.8341 - mean_squared_error: 0.0125 - Jaccard_index: 0.6576 - Specificity: 0.9722 - Sensitivity: 1.0027 - precision: 0.8928 - recall: 0.8188 - f1score: 0.8525 - val_loss: -0.0988 - val_dice_coef: 0.0988 - val_acc: 0.7837 - val_mean_squared_error: 0.0849 - val_Jaccard_index: 0.0532 - val_Specificity: 0.9457 - val_Sensitivity: 1.0134 - val_precision: 0.1224 - val_recall: 0.0914 - val_f1score: 0.1032\n",
      "Epoch 25/150\n",
      "1632/1632 [==============================] - 780s 478ms/step - loss: -0.7993 - dice_coef: 0.7993 - acc: 0.8345 - mean_squared_error: 0.0120 - Jaccard_index: 0.6671 - Specificity: 0.9724 - Sensitivity: 1.0027 - precision: 0.8983 - recall: 0.8277 - f1score: 0.8601 - val_loss: -0.6648 - val_dice_coef: 0.6648 - val_acc: 0.8238 - val_mean_squared_error: 0.0253 - val_Jaccard_index: 0.5016 - val_Specificity: 0.9599 - val_Sensitivity: 0.9946 - val_precision: 0.8715 - val_recall: 0.6024 - val_f1score: 0.7086\n",
      "Epoch 26/150\n",
      "1632/1632 [==============================] - 785s 481ms/step - loss: -0.8041 - dice_coef: 0.8041 - acc: 0.8348 - mean_squared_error: 0.0116 - Jaccard_index: 0.6738 - Specificity: 0.9726 - Sensitivity: 1.0027 - precision: 0.9027 - recall: 0.8339 - f1score: 0.8654 - val_loss: -0.6688 - val_dice_coef: 0.6688 - val_acc: 0.8243 - val_mean_squared_error: 0.0248 - val_Jaccard_index: 0.5059 - val_Specificity: 0.9599 - val_Sensitivity: 0.9941 - val_precision: 0.8835 - val_recall: 0.6022 - val_f1score: 0.7125\n",
      "Epoch 27/150\n",
      "1632/1632 [==============================] - 758s 465ms/step - loss: -0.8095 - dice_coef: 0.8095 - acc: 0.8350 - mean_squared_error: 0.0112 - Jaccard_index: 0.6813 - Specificity: 0.9727 - Sensitivity: 1.0027 - precision: 0.9070 - recall: 0.8414 - f1score: 0.8715 - val_loss: -0.7067 - val_dice_coef: 0.7067 - val_acc: 0.8222 - val_mean_squared_error: 0.0241 - val_Jaccard_index: 0.5495 - val_Specificity: 0.9629 - val_Sensitivity: 1.0026 - val_precision: 0.8214 - val_recall: 0.7113 - val_f1score: 0.7596\n",
      "Epoch 28/150\n",
      "1632/1632 [==============================] - 754s 462ms/step - loss: -0.8159 - dice_coef: 0.8159 - acc: 0.8353 - mean_squared_error: 0.0107 - Jaccard_index: 0.6902 - Specificity: 0.9729 - Sensitivity: 1.0027 - precision: 0.9120 - recall: 0.8501 - f1score: 0.8788 - val_loss: -0.6898 - val_dice_coef: 0.6898 - val_acc: 0.8243 - val_mean_squared_error: 0.0237 - val_Jaccard_index: 0.5300 - val_Specificity: 0.9610 - val_Sensitivity: 0.9963 - val_precision: 0.8739 - val_recall: 0.6423 - val_f1score: 0.7372\n",
      "Epoch 29/150\n",
      "1632/1632 [==============================] - 762s 467ms/step - loss: -0.8202 - dice_coef: 0.8202 - acc: 0.8355 - mean_squared_error: 0.0103 - Jaccard_index: 0.6964 - Specificity: 0.9730 - Sensitivity: 1.0026 - precision: 0.9159 - recall: 0.8551 - f1score: 0.8834 - val_loss: -0.7042 - val_dice_coef: 0.7042 - val_acc: 0.8224 - val_mean_squared_error: 0.0241 - val_Jaccard_index: 0.5462 - val_Specificity: 0.9627 - val_Sensitivity: 1.0018 - val_precision: 0.8266 - val_recall: 0.7036 - val_f1score: 0.7574\n",
      "Epoch 30/150\n",
      "1632/1632 [==============================] - 760s 466ms/step - loss: -0.8248 - dice_coef: 0.8248 - acc: 0.8358 - mean_squared_error: 0.0100 - Jaccard_index: 0.7029 - Specificity: 0.9732 - Sensitivity: 1.0026 - precision: 0.9198 - recall: 0.8616 - f1score: 0.8887 - val_loss: -0.6686 - val_dice_coef: 0.6686 - val_acc: 0.8248 - val_mean_squared_error: 0.0245 - val_Jaccard_index: 0.5068 - val_Specificity: 0.9597 - val_Sensitivity: 0.9931 - val_precision: 0.8980 - val_recall: 0.5963 - val_f1score: 0.7123\n",
      "Epoch 31/150\n",
      "1632/1632 [==============================] - 753s 461ms/step - loss: -0.8283 - dice_coef: 0.8283 - acc: 0.8359 - mean_squared_error: 0.0097 - Jaccard_index: 0.7080 - Specificity: 0.9733 - Sensitivity: 1.0027 - precision: 0.9223 - recall: 0.8667 - f1score: 0.8927 - val_loss: -0.7065 - val_dice_coef: 0.7065 - val_acc: 0.8231 - val_mean_squared_error: 0.0236 - val_Jaccard_index: 0.5493 - val_Specificity: 0.9624 - val_Sensitivity: 1.0006 - val_precision: 0.8412 - val_recall: 0.6972 - val_f1score: 0.7594\n",
      "Epoch 32/150\n",
      "1632/1632 [==============================] - 753s 462ms/step - loss: -0.8324 - dice_coef: 0.8324 - acc: 0.8361 - mean_squared_error: 0.0093 - Jaccard_index: 0.7141 - Specificity: 0.9734 - Sensitivity: 1.0026 - precision: 0.9258 - recall: 0.8724 - f1score: 0.8975 - val_loss: -0.7028 - val_dice_coef: 0.7028 - val_acc: 0.8243 - val_mean_squared_error: 0.0232 - val_Jaccard_index: 0.5448 - val_Specificity: 0.9616 - val_Sensitivity: 0.9975 - val_precision: 0.8708 - val_recall: 0.6690 - val_f1score: 0.7533\n"
     ]
    },
    {
     "name": "stdout",
     "output_type": "stream",
     "text": [
      "Epoch 33/150\n",
      "1632/1632 [==============================] - 754s 462ms/step - loss: -0.8378 - dice_coef: 0.8378 - acc: 0.8364 - mean_squared_error: 0.0089 - Jaccard_index: 0.7219 - Specificity: 0.9735 - Sensitivity: 1.0026 - precision: 0.9300 - recall: 0.8792 - f1score: 0.9032 - val_loss: -0.7058 - val_dice_coef: 0.7058 - val_acc: 0.8242 - val_mean_squared_error: 0.0230 - val_Jaccard_index: 0.5487 - val_Specificity: 0.9618 - val_Sensitivity: 0.9979 - val_precision: 0.8692 - val_recall: 0.6747 - val_f1score: 0.7566\n",
      "Epoch 34/150\n",
      "1632/1632 [==============================] - 754s 462ms/step - loss: -0.8402 - dice_coef: 0.8402 - acc: 0.8365 - mean_squared_error: 0.0088 - Jaccard_index: 0.7255 - Specificity: 0.9736 - Sensitivity: 1.0027 - precision: 0.9317 - recall: 0.8828 - f1score: 0.9059 - val_loss: -0.0832 - val_dice_coef: 0.0832 - val_acc: 0.7827 - val_mean_squared_error: 0.0866 - val_Jaccard_index: 0.0440 - val_Specificity: 0.9453 - val_Sensitivity: 1.0133 - val_precision: 0.1048 - val_recall: 0.0770 - val_f1score: 0.0875\n",
      "Epoch 35/150\n",
      "1632/1632 [==============================] - 753s 461ms/step - loss: -0.8438 - dice_coef: 0.8438 - acc: 0.8367 - mean_squared_error: 0.0085 - Jaccard_index: 0.7308 - Specificity: 0.9737 - Sensitivity: 1.0026 - precision: 0.9347 - recall: 0.8879 - f1score: 0.9101 - val_loss: -0.7136 - val_dice_coef: 0.7136 - val_acc: 0.8249 - val_mean_squared_error: 0.0222 - val_Jaccard_index: 0.5573 - val_Specificity: 0.9620 - val_Sensitivity: 0.9976 - val_precision: 0.8799 - val_recall: 0.6802 - val_f1score: 0.7647\n",
      "Epoch 36/150\n",
      "1632/1632 [==============================] - 754s 462ms/step - loss: -0.8467 - dice_coef: 0.8467 - acc: 0.8368 - mean_squared_error: 0.0082 - Jaccard_index: 0.7352 - Specificity: 0.9738 - Sensitivity: 1.0026 - precision: 0.9370 - recall: 0.8916 - f1score: 0.9131 - val_loss: -0.7226 - val_dice_coef: 0.7226 - val_acc: 0.8225 - val_mean_squared_error: 0.0231 - val_Jaccard_index: 0.5683 - val_Specificity: 0.9637 - val_Sensitivity: 1.0038 - val_precision: 0.8240 - val_recall: 0.7423 - val_f1score: 0.7787\n",
      "Epoch 37/150\n",
      "1632/1632 [==============================] - 753s 461ms/step - loss: -0.8487 - dice_coef: 0.8487 - acc: 0.8370 - mean_squared_error: 0.0081 - Jaccard_index: 0.7382 - Specificity: 0.9739 - Sensitivity: 1.0026 - precision: 0.9388 - recall: 0.8946 - f1score: 0.9156 - val_loss: -0.7127 - val_dice_coef: 0.7127 - val_acc: 0.8251 - val_mean_squared_error: 0.0223 - val_Jaccard_index: 0.5565 - val_Specificity: 0.9618 - val_Sensitivity: 0.9970 - val_precision: 0.8863 - val_recall: 0.6760 - val_f1score: 0.7642\n",
      "Epoch 38/150\n",
      "1632/1632 [==============================] - 766s 470ms/step - loss: -0.8522 - dice_coef: 0.8522 - acc: 0.8371 - mean_squared_error: 0.0078 - Jaccard_index: 0.7434 - Specificity: 0.9740 - Sensitivity: 1.0027 - precision: 0.9415 - recall: 0.8995 - f1score: 0.9195 - val_loss: -0.7243 - val_dice_coef: 0.7243 - val_acc: 0.8238 - val_mean_squared_error: 0.0223 - val_Jaccard_index: 0.5707 - val_Specificity: 0.9630 - val_Sensitivity: 1.0009 - val_precision: 0.8534 - val_recall: 0.7210 - val_f1score: 0.7787\n",
      "Epoch 39/150\n",
      "1632/1632 [==============================] - 767s 470ms/step - loss: -0.8541 - dice_coef: 0.8541 - acc: 0.8372 - mean_squared_error: 0.0076 - Jaccard_index: 0.7462 - Specificity: 0.9740 - Sensitivity: 1.0027 - precision: 0.9430 - recall: 0.9021 - f1score: 0.9216 - val_loss: -0.6953 - val_dice_coef: 0.6953 - val_acc: 0.8250 - val_mean_squared_error: 0.0232 - val_Jaccard_index: 0.5372 - val_Specificity: 0.9608 - val_Sensitivity: 0.9951 - val_precision: 0.8968 - val_recall: 0.6423 - val_f1score: 0.7441\n",
      "Epoch 40/150\n",
      "1632/1632 [==============================] - 751s 460ms/step - loss: -0.8568 - dice_coef: 0.8568 - acc: 0.8373 - mean_squared_error: 0.0074 - Jaccard_index: 0.7505 - Specificity: 0.9741 - Sensitivity: 1.0027 - precision: 0.9450 - recall: 0.9058 - f1score: 0.9245 - val_loss: -0.7268 - val_dice_coef: 0.7268 - val_acc: 0.8238 - val_mean_squared_error: 0.0222 - val_Jaccard_index: 0.5733 - val_Specificity: 0.9633 - val_Sensitivity: 1.0014 - val_precision: 0.8511 - val_recall: 0.7273 - val_f1score: 0.7821\n",
      "Epoch 41/150\n",
      "1632/1632 [==============================] - 752s 461ms/step - loss: -0.8594 - dice_coef: 0.8594 - acc: 0.8375 - mean_squared_error: 0.0072 - Jaccard_index: 0.7544 - Specificity: 0.9742 - Sensitivity: 1.0027 - precision: 0.9467 - recall: 0.9095 - f1score: 0.9273 - val_loss: -0.7088 - val_dice_coef: 0.7088 - val_acc: 0.8258 - val_mean_squared_error: 0.0220 - val_Jaccard_index: 0.5527 - val_Specificity: 0.9613 - val_Sensitivity: 0.9952 - val_precision: 0.9074 - val_recall: 0.6580 - val_f1score: 0.7593\n",
      "Epoch 42/150\n",
      "1632/1632 [==============================] - 753s 461ms/step - loss: -0.8611 - dice_coef: 0.8611 - acc: 0.8375 - mean_squared_error: 0.0071 - Jaccard_index: 0.7569 - Specificity: 0.9742 - Sensitivity: 1.0027 - precision: 0.9479 - recall: 0.9122 - f1score: 0.9293 - val_loss: -0.7150 - val_dice_coef: 0.7150 - val_acc: 0.8252 - val_mean_squared_error: 0.0221 - val_Jaccard_index: 0.5600 - val_Specificity: 0.9619 - val_Sensitivity: 0.9972 - val_precision: 0.8863 - val_recall: 0.6815 - val_f1score: 0.7669\n",
      "Epoch 43/150\n",
      "1632/1632 [==============================] - 750s 460ms/step - loss: -0.8639 - dice_coef: 0.8639 - acc: 0.8377 - mean_squared_error: 0.0068 - Jaccard_index: 0.7612 - Specificity: 0.9743 - Sensitivity: 1.0027 - precision: 0.9500 - recall: 0.9160 - f1score: 0.9323 - val_loss: -0.7232 - val_dice_coef: 0.7232 - val_acc: 0.8252 - val_mean_squared_error: 0.0216 - val_Jaccard_index: 0.5695 - val_Specificity: 0.9624 - val_Sensitivity: 0.9980 - val_precision: 0.8852 - val_recall: 0.6965 - val_f1score: 0.7766\n",
      "Epoch 44/150\n",
      "1632/1632 [==============================] - 754s 462ms/step - loss: -0.8645 - dice_coef: 0.8645 - acc: 0.8377 - mean_squared_error: 0.0068 - Jaccard_index: 0.7622 - Specificity: 0.9743 - Sensitivity: 1.0027 - precision: 0.9504 - recall: 0.9174 - f1score: 0.9332 - val_loss: -0.7247 - val_dice_coef: 0.7247 - val_acc: 0.8250 - val_mean_squared_error: 0.0217 - val_Jaccard_index: 0.5710 - val_Specificity: 0.9625 - val_Sensitivity: 0.9985 - val_precision: 0.8805 - val_recall: 0.7025 - val_f1score: 0.7790\n",
      "Epoch 45/150\n",
      "1632/1632 [==============================] - 755s 463ms/step - loss: -0.8665 - dice_coef: 0.8665 - acc: 0.8378 - mean_squared_error: 0.0066 - Jaccard_index: 0.7654 - Specificity: 0.9744 - Sensitivity: 1.0027 - precision: 0.9519 - recall: 0.9204 - f1score: 0.9355 - val_loss: -0.7343 - val_dice_coef: 0.7343 - val_acc: 0.8248 - val_mean_squared_error: 0.0212 - val_Jaccard_index: 0.5830 - val_Specificity: 0.9632 - val_Sensitivity: 1.0001 - val_precision: 0.8704 - val_recall: 0.7269 - val_f1score: 0.7898\n",
      "Epoch 46/150\n",
      "1632/1632 [==============================] - 752s 461ms/step - loss: -0.8695 - dice_coef: 0.8695 - acc: 0.8379 - mean_squared_error: 0.0064 - Jaccard_index: 0.7700 - Specificity: 0.9745 - Sensitivity: 1.0028 - precision: 0.9542 - recall: 0.9243 - f1score: 0.9387 - val_loss: -0.7170 - val_dice_coef: 0.7170 - val_acc: 0.8256 - val_mean_squared_error: 0.0218 - val_Jaccard_index: 0.5627 - val_Specificity: 0.9618 - val_Sensitivity: 0.9963 - val_precision: 0.8999 - val_recall: 0.6769 - val_f1score: 0.7691\n",
      "Epoch 47/150\n",
      "1632/1632 [==============================] - 753s 461ms/step - loss: -0.8707 - dice_coef: 0.8707 - acc: 0.8380 - mean_squared_error: 0.0063 - Jaccard_index: 0.7720 - Specificity: 0.9745 - Sensitivity: 1.0028 - precision: 0.9550 - recall: 0.9262 - f1score: 0.9401 - val_loss: -0.7111 - val_dice_coef: 0.7111 - val_acc: 0.8256 - val_mean_squared_error: 0.0221 - val_Jaccard_index: 0.5563 - val_Specificity: 0.9615 - val_Sensitivity: 0.9958 - val_precision: 0.9020 - val_recall: 0.6670 - val_f1score: 0.7628\n",
      "Epoch 48/150\n",
      "1632/1632 [==============================] - 753s 461ms/step - loss: -0.8713 - dice_coef: 0.8713 - acc: 0.8380 - mean_squared_error: 0.0062 - Jaccard_index: 0.7728 - Specificity: 0.9746 - Sensitivity: 1.0028 - precision: 0.9552 - recall: 0.9274 - f1score: 0.9408 - val_loss: -0.7292 - val_dice_coef: 0.7292 - val_acc: 0.8250 - val_mean_squared_error: 0.0214 - val_Jaccard_index: 0.5767 - val_Specificity: 0.9627 - val_Sensitivity: 0.9989 - val_precision: 0.8802 - val_recall: 0.7115 - val_f1score: 0.7842\n"
     ]
    },
    {
     "name": "stdout",
     "output_type": "stream",
     "text": [
      "Epoch 49/150\n",
      "1632/1632 [==============================] - 754s 462ms/step - loss: -0.8727 - dice_coef: 0.8727 - acc: 0.8381 - mean_squared_error: 0.0061 - Jaccard_index: 0.7751 - Specificity: 0.9746 - Sensitivity: 1.0028 - precision: 0.9564 - recall: 0.9295 - f1score: 0.9425 - val_loss: -0.7272 - val_dice_coef: 0.7272 - val_acc: 0.8248 - val_mean_squared_error: 0.0218 - val_Jaccard_index: 0.5743 - val_Specificity: 0.9627 - val_Sensitivity: 0.9992 - val_precision: 0.8749 - val_recall: 0.7139 - val_f1score: 0.7829\n",
      "Epoch 50/150\n",
      "1632/1632 [==============================] - 753s 461ms/step - loss: -0.8743 - dice_coef: 0.8743 - acc: 0.8382 - mean_squared_error: 0.0059 - Jaccard_index: 0.7777 - Specificity: 0.9747 - Sensitivity: 1.0028 - precision: 0.9577 - recall: 0.9320 - f1score: 0.9445 - val_loss: -0.7186 - val_dice_coef: 0.7186 - val_acc: 0.8257 - val_mean_squared_error: 0.0217 - val_Jaccard_index: 0.5649 - val_Specificity: 0.9618 - val_Sensitivity: 0.9964 - val_precision: 0.9015 - val_recall: 0.6800 - val_f1score: 0.7714\n",
      "Epoch 51/150\n",
      "1632/1632 [==============================] - 753s 462ms/step - loss: -0.8747 - dice_coef: 0.8747 - acc: 0.8382 - mean_squared_error: 0.0059 - Jaccard_index: 0.7782 - Specificity: 0.9747 - Sensitivity: 1.0028 - precision: 0.9577 - recall: 0.9324 - f1score: 0.9446 - val_loss: -0.7241 - val_dice_coef: 0.7241 - val_acc: 0.8233 - val_mean_squared_error: 0.0229 - val_Jaccard_index: 0.5702 - val_Specificity: 0.9633 - val_Sensitivity: 1.0021 - val_precision: 0.8422 - val_recall: 0.7328 - val_f1score: 0.7808\n",
      "Epoch 52/150\n",
      "1632/1632 [==============================] - 753s 461ms/step - loss: -0.8767 - dice_coef: 0.8767 - acc: 0.8383 - mean_squared_error: 0.0057 - Jaccard_index: 0.7814 - Specificity: 0.9747 - Sensitivity: 1.0028 - precision: 0.9595 - recall: 0.9357 - f1score: 0.9473 - val_loss: -0.0825 - val_dice_coef: 0.0825 - val_acc: 0.7828 - val_mean_squared_error: 0.0870 - val_Jaccard_index: 0.0436 - val_Specificity: 0.9453 - val_Sensitivity: 1.0132 - val_precision: 0.1044 - val_recall: 0.0763 - val_f1score: 0.0869\n",
      "Epoch 53/150\n",
      "1632/1632 [==============================] - 752s 461ms/step - loss: -0.8787 - dice_coef: 0.8787 - acc: 0.8384 - mean_squared_error: 0.0056 - Jaccard_index: 0.7846 - Specificity: 0.9748 - Sensitivity: 1.0028 - precision: 0.9608 - recall: 0.9382 - f1score: 0.9492 - val_loss: -0.7168 - val_dice_coef: 0.7168 - val_acc: 0.8259 - val_mean_squared_error: 0.0217 - val_Jaccard_index: 0.5625 - val_Specificity: 0.9616 - val_Sensitivity: 0.9958 - val_precision: 0.9076 - val_recall: 0.6734 - val_f1score: 0.7693\n",
      "Epoch 54/150\n",
      "1632/1632 [==============================] - 753s 461ms/step - loss: -0.8778 - dice_coef: 0.8778 - acc: 0.8383 - mean_squared_error: 0.0057 - Jaccard_index: 0.7831 - Specificity: 0.9748 - Sensitivity: 1.0028 - precision: 0.9601 - recall: 0.9373 - f1score: 0.9483 - val_loss: -0.7262 - val_dice_coef: 0.7262 - val_acc: 0.8254 - val_mean_squared_error: 0.0215 - val_Jaccard_index: 0.5737 - val_Specificity: 0.9624 - val_Sensitivity: 0.9979 - val_precision: 0.8888 - val_recall: 0.7012 - val_f1score: 0.7807\n",
      "Epoch 55/150\n",
      "1632/1632 [==============================] - 752s 461ms/step - loss: -0.8810 - dice_coef: 0.8810 - acc: 0.8385 - mean_squared_error: 0.0054 - Jaccard_index: 0.7882 - Specificity: 0.9749 - Sensitivity: 1.0028 - precision: 0.9627 - recall: 0.9416 - f1score: 0.9519 - val_loss: -0.7338 - val_dice_coef: 0.7338 - val_acc: 0.8247 - val_mean_squared_error: 0.0215 - val_Jaccard_index: 0.5824 - val_Specificity: 0.9632 - val_Sensitivity: 1.0002 - val_precision: 0.8703 - val_recall: 0.7285 - val_f1score: 0.7903\n",
      "Epoch 56/150\n",
      "1632/1632 [==============================] - 751s 460ms/step - loss: -0.8807 - dice_coef: 0.8807 - acc: 0.8385 - mean_squared_error: 0.0054 - Jaccard_index: 0.7878 - Specificity: 0.9749 - Sensitivity: 1.0028 - precision: 0.9623 - recall: 0.9413 - f1score: 0.9515 - val_loss: -0.6391 - val_dice_coef: 0.6391 - val_acc: 0.8258 - val_mean_squared_error: 0.0257 - val_Jaccard_index: 0.4744 - val_Specificity: 0.9578 - val_Sensitivity: 0.9885 - val_precision: 0.9531 - val_recall: 0.5348 - val_f1score: 0.6802\n",
      "Epoch 57/150\n",
      "1632/1632 [==============================] - 752s 461ms/step - loss: -0.8823 - dice_coef: 0.8823 - acc: 0.8385 - mean_squared_error: 0.0053 - Jaccard_index: 0.7903 - Specificity: 0.9749 - Sensitivity: 1.0028 - precision: 0.9636 - recall: 0.9436 - f1score: 0.9534 - val_loss: -0.7096 - val_dice_coef: 0.7096 - val_acc: 0.8260 - val_mean_squared_error: 0.0221 - val_Jaccard_index: 0.5539 - val_Specificity: 0.9612 - val_Sensitivity: 0.9948 - val_precision: 0.9153 - val_recall: 0.6568 - val_f1score: 0.7609\n",
      "Epoch 58/150\n",
      "1632/1632 [==============================] - 752s 461ms/step - loss: -0.8824 - dice_coef: 0.8824 - acc: 0.8385 - mean_squared_error: 0.0053 - Jaccard_index: 0.7905 - Specificity: 0.9749 - Sensitivity: 1.0028 - precision: 0.9637 - recall: 0.9439 - f1score: 0.9535 - val_loss: -0.7232 - val_dice_coef: 0.7232 - val_acc: 0.8255 - val_mean_squared_error: 0.0216 - val_Jaccard_index: 0.5701 - val_Specificity: 0.9621 - val_Sensitivity: 0.9972 - val_precision: 0.8950 - val_recall: 0.6920 - val_f1score: 0.7770\n",
      "Epoch 59/150\n",
      "1632/1632 [==============================] - 753s 461ms/step - loss: -0.8844 - dice_coef: 0.8844 - acc: 0.8386 - mean_squared_error: 0.0051 - Jaccard_index: 0.7937 - Specificity: 0.9750 - Sensitivity: 1.0028 - precision: 0.9653 - recall: 0.9467 - f1score: 0.9557 - val_loss: -0.7304 - val_dice_coef: 0.7304 - val_acc: 0.8258 - val_mean_squared_error: 0.0210 - val_Jaccard_index: 0.5789 - val_Specificity: 0.9625 - val_Sensitivity: 0.9977 - val_precision: 0.8966 - val_recall: 0.7042 - val_f1score: 0.7857\n",
      "Epoch 60/150\n",
      "1632/1632 [==============================] - 753s 462ms/step - loss: -0.8849 - dice_coef: 0.8849 - acc: 0.8387 - mean_squared_error: 0.0051 - Jaccard_index: 0.7944 - Specificity: 0.9750 - Sensitivity: 1.0028 - precision: 0.9656 - recall: 0.9475 - f1score: 0.9563 - val_loss: -0.7192 - val_dice_coef: 0.7192 - val_acc: 0.8257 - val_mean_squared_error: 0.0218 - val_Jaccard_index: 0.5650 - val_Specificity: 0.9618 - val_Sensitivity: 0.9965 - val_precision: 0.8995 - val_recall: 0.6811 - val_f1score: 0.7720\n",
      "Epoch 61/150\n",
      "1632/1632 [==============================] - 753s 461ms/step - loss: -0.8855 - dice_coef: 0.8855 - acc: 0.8387 - mean_squared_error: 0.0050 - Jaccard_index: 0.7954 - Specificity: 0.9750 - Sensitivity: 1.0028 - precision: 0.9660 - recall: 0.9483 - f1score: 0.9569 - val_loss: -0.7270 - val_dice_coef: 0.7270 - val_acc: 0.8258 - val_mean_squared_error: 0.0212 - val_Jaccard_index: 0.5753 - val_Specificity: 0.9622 - val_Sensitivity: 0.9970 - val_precision: 0.9009 - val_recall: 0.6951 - val_f1score: 0.7813\n",
      "Epoch 62/150\n",
      "1632/1632 [==============================] - 753s 461ms/step - loss: -0.8852 - dice_coef: 0.8852 - acc: 0.8387 - mean_squared_error: 0.0051 - Jaccard_index: 0.7951 - Specificity: 0.9750 - Sensitivity: 1.0029 - precision: 0.9655 - recall: 0.9482 - f1score: 0.9565 - val_loss: -0.7340 - val_dice_coef: 0.7340 - val_acc: 0.8253 - val_mean_squared_error: 0.0211 - val_Jaccard_index: 0.5835 - val_Specificity: 0.9629 - val_Sensitivity: 0.9990 - val_precision: 0.8832 - val_recall: 0.7196 - val_f1score: 0.7895\n",
      "Epoch 63/150\n",
      "1632/1632 [==============================] - 753s 461ms/step - loss: -0.8882 - dice_coef: 0.8882 - acc: 0.8388 - mean_squared_error: 0.0048 - Jaccard_index: 0.7997 - Specificity: 0.9751 - Sensitivity: 1.0028 - precision: 0.9681 - recall: 0.9519 - f1score: 0.9598 - val_loss: -0.7336 - val_dice_coef: 0.7336 - val_acc: 0.8254 - val_mean_squared_error: 0.0211 - val_Jaccard_index: 0.5824 - val_Specificity: 0.9628 - val_Sensitivity: 0.9987 - val_precision: 0.8876 - val_recall: 0.7167 - val_f1score: 0.7900\n",
      "Epoch 64/150\n",
      "1632/1632 [==============================] - 751s 460ms/step - loss: -0.8881 - dice_coef: 0.8881 - acc: 0.8388 - mean_squared_error: 0.0048 - Jaccard_index: 0.7995 - Specificity: 0.9751 - Sensitivity: 1.0028 - precision: 0.9679 - recall: 0.9518 - f1score: 0.9597 - val_loss: -0.7261 - val_dice_coef: 0.7261 - val_acc: 0.8262 - val_mean_squared_error: 0.0210 - val_Jaccard_index: 0.5739 - val_Specificity: 0.9620 - val_Sensitivity: 0.9963 - val_precision: 0.9105 - val_recall: 0.6879 - val_f1score: 0.7801\n"
     ]
    },
    {
     "name": "stdout",
     "output_type": "stream",
     "text": [
      "Epoch 65/150\n",
      "1632/1632 [==============================] - 751s 460ms/step - loss: -0.8894 - dice_coef: 0.8894 - acc: 0.8389 - mean_squared_error: 0.0047 - Jaccard_index: 0.8016 - Specificity: 0.9751 - Sensitivity: 1.0029 - precision: 0.9688 - recall: 0.9536 - f1score: 0.9611 - val_loss: -0.2727 - val_dice_coef: 0.2727 - val_acc: 0.7919 - val_mean_squared_error: 0.0713 - val_Jaccard_index: 0.1736 - val_Specificity: 0.9506 - val_Sensitivity: 1.0131 - val_precision: 0.3272 - val_recall: 0.2697 - val_f1score: nan\n",
      "Epoch 66/150\n",
      "1632/1632 [==============================] - 752s 461ms/step - loss: -0.8892 - dice_coef: 0.8892 - acc: 0.8389 - mean_squared_error: 0.0047 - Jaccard_index: 0.8014 - Specificity: 0.9751 - Sensitivity: 1.0029 - precision: 0.9688 - recall: 0.9538 - f1score: 0.9611 - val_loss: -0.7265 - val_dice_coef: 0.7265 - val_acc: 0.8247 - val_mean_squared_error: 0.0220 - val_Jaccard_index: 0.5746 - val_Specificity: 0.9627 - val_Sensitivity: 0.9993 - val_precision: 0.8731 - val_recall: 0.7152 - val_f1score: 0.7823\n",
      "Epoch 67/150\n",
      "1632/1632 [==============================] - 752s 461ms/step - loss: -0.8900 - dice_coef: 0.8900 - acc: 0.8389 - mean_squared_error: 0.0047 - Jaccard_index: 0.8027 - Specificity: 0.9752 - Sensitivity: 1.0029 - precision: 0.9693 - recall: 0.9548 - f1score: 0.9619 - val_loss: -0.7324 - val_dice_coef: 0.7324 - val_acc: 0.8250 - val_mean_squared_error: 0.0214 - val_Jaccard_index: 0.5815 - val_Specificity: 0.9629 - val_Sensitivity: 0.9993 - val_precision: 0.8791 - val_recall: 0.7208 - val_f1score: 0.7887\n",
      "Epoch 68/150\n",
      "1632/1632 [==============================] - 751s 460ms/step - loss: -0.8908 - dice_coef: 0.8908 - acc: 0.8390 - mean_squared_error: 0.0046 - Jaccard_index: 0.8039 - Specificity: 0.9752 - Sensitivity: 1.0029 - precision: 0.9701 - recall: 0.9561 - f1score: 0.9629 - val_loss: -0.7171 - val_dice_coef: 0.7171 - val_acc: 0.8258 - val_mean_squared_error: 0.0219 - val_Jaccard_index: 0.5632 - val_Specificity: 0.9616 - val_Sensitivity: 0.9958 - val_precision: 0.9080 - val_recall: 0.6749 - val_f1score: 0.7705\n",
      "Epoch 69/150\n",
      "1632/1632 [==============================] - 751s 460ms/step - loss: -0.8917 - dice_coef: 0.8917 - acc: 0.8390 - mean_squared_error: 0.0045 - Jaccard_index: 0.8054 - Specificity: 0.9752 - Sensitivity: 1.0028 - precision: 0.9710 - recall: 0.9571 - f1score: 0.9639 - val_loss: -0.7278 - val_dice_coef: 0.7278 - val_acc: 0.8258 - val_mean_squared_error: 0.0213 - val_Jaccard_index: 0.5755 - val_Specificity: 0.9622 - val_Sensitivity: 0.9971 - val_precision: 0.9009 - val_recall: 0.6965 - val_f1score: 0.7822\n",
      "Epoch 70/150\n",
      "1632/1632 [==============================] - 752s 461ms/step - loss: -0.8911 - dice_coef: 0.8911 - acc: 0.8390 - mean_squared_error: 0.0046 - Jaccard_index: 0.8046 - Specificity: 0.9752 - Sensitivity: 1.0029 - precision: 0.9703 - recall: 0.9566 - f1score: 0.9632 - val_loss: -0.7434 - val_dice_coef: 0.7434 - val_acc: 0.8248 - val_mean_squared_error: 0.0209 - val_Jaccard_index: 0.5941 - val_Specificity: 0.9637 - val_Sensitivity: 1.0010 - val_precision: 0.8703 - val_recall: 0.7479 - val_f1score: 0.8016\n",
      "Epoch 71/150\n",
      "1632/1632 [==============================] - 751s 460ms/step - loss: -0.8930 - dice_coef: 0.8930 - acc: 0.8391 - mean_squared_error: 0.0044 - Jaccard_index: 0.8076 - Specificity: 0.9752 - Sensitivity: 1.0028 - precision: 0.9721 - recall: 0.9591 - f1score: 0.9655 - val_loss: -0.7375 - val_dice_coef: 0.7375 - val_acc: 0.8255 - val_mean_squared_error: 0.0209 - val_Jaccard_index: 0.5877 - val_Specificity: 0.9630 - val_Sensitivity: 0.9991 - val_precision: 0.8860 - val_recall: 0.7260 - val_f1score: 0.7950\n",
      "Epoch 72/150\n",
      "1632/1632 [==============================] - 750s 460ms/step - loss: -0.8925 - dice_coef: 0.8925 - acc: 0.8390 - mean_squared_error: 0.0044 - Jaccard_index: 0.8068 - Specificity: 0.9752 - Sensitivity: 1.0028 - precision: 0.9716 - recall: 0.9586 - f1score: 0.9649 - val_loss: -0.7353 - val_dice_coef: 0.7353 - val_acc: 0.8252 - val_mean_squared_error: 0.0212 - val_Jaccard_index: 0.5848 - val_Specificity: 0.9630 - val_Sensitivity: 0.9994 - val_precision: 0.8813 - val_recall: 0.7244 - val_f1score: 0.7922\n",
      "Epoch 73/150\n",
      "1632/1632 [==============================] - 751s 460ms/step - loss: -0.8935 - dice_coef: 0.8935 - acc: 0.8391 - mean_squared_error: 0.0043 - Jaccard_index: 0.8084 - Specificity: 0.9753 - Sensitivity: 1.0028 - precision: 0.9726 - recall: 0.9597 - f1score: 0.9660 - val_loss: -0.7346 - val_dice_coef: 0.7346 - val_acc: 0.8256 - val_mean_squared_error: 0.0210 - val_Jaccard_index: 0.5843 - val_Specificity: 0.9627 - val_Sensitivity: 0.9983 - val_precision: 0.8923 - val_recall: 0.7154 - val_f1score: 0.7905\n",
      "Epoch 74/150\n",
      "1632/1632 [==============================] - 751s 460ms/step - loss: -0.8941 - dice_coef: 0.8941 - acc: 0.8391 - mean_squared_error: 0.0043 - Jaccard_index: 0.8094 - Specificity: 0.9753 - Sensitivity: 1.0028 - precision: 0.9730 - recall: 0.9604 - f1score: 0.9666 - val_loss: -0.7381 - val_dice_coef: 0.7381 - val_acc: 0.8260 - val_mean_squared_error: 0.0206 - val_Jaccard_index: 0.5881 - val_Specificity: 0.9627 - val_Sensitivity: 0.9978 - val_precision: 0.9006 - val_recall: 0.7152 - val_f1score: 0.7943\n",
      "Epoch 75/150\n",
      "1632/1632 [==============================] - 751s 460ms/step - loss: -0.8949 - dice_coef: 0.8949 - acc: 0.8392 - mean_squared_error: 0.0042 - Jaccard_index: 0.8106 - Specificity: 0.9753 - Sensitivity: 1.0028 - precision: 0.9737 - recall: 0.9614 - f1score: 0.9674 - val_loss: -0.7306 - val_dice_coef: 0.7306 - val_acc: 0.8256 - val_mean_squared_error: 0.0213 - val_Jaccard_index: 0.5797 - val_Specificity: 0.9625 - val_Sensitivity: 0.9979 - val_precision: 0.8931 - val_recall: 0.7078 - val_f1score: 0.7858\n",
      "Epoch 76/150\n",
      "1632/1632 [==============================] - 750s 460ms/step - loss: -0.8948 - dice_coef: 0.8948 - acc: 0.8392 - mean_squared_error: 0.0042 - Jaccard_index: 0.8106 - Specificity: 0.9753 - Sensitivity: 1.0028 - precision: 0.9735 - recall: 0.9614 - f1score: 0.9674 - val_loss: -0.7317 - val_dice_coef: 0.7317 - val_acc: 0.8252 - val_mean_squared_error: 0.0214 - val_Jaccard_index: 0.5805 - val_Specificity: 0.9628 - val_Sensitivity: 0.9989 - val_precision: 0.8828 - val_recall: 0.7171 - val_f1score: 0.7878\n",
      "Epoch 77/150\n",
      "1632/1632 [==============================] - 751s 460ms/step - loss: -0.8956 - dice_coef: 0.8956 - acc: 0.8392 - mean_squared_error: 0.0042 - Jaccard_index: 0.8119 - Specificity: 0.9753 - Sensitivity: 1.0028 - precision: 0.9742 - recall: 0.9624 - f1score: 0.9682 - val_loss: -0.7225 - val_dice_coef: 0.7225 - val_acc: 0.8259 - val_mean_squared_error: 0.0215 - val_Jaccard_index: 0.5698 - val_Specificity: 0.9619 - val_Sensitivity: 0.9963 - val_precision: 0.9070 - val_recall: 0.6857 - val_f1score: 0.7768\n",
      "Epoch 78/150\n",
      "1632/1632 [==============================] - 750s 460ms/step - loss: -0.8958 - dice_coef: 0.8958 - acc: 0.8392 - mean_squared_error: 0.0041 - Jaccard_index: 0.8122 - Specificity: 0.9753 - Sensitivity: 1.0028 - precision: 0.9744 - recall: 0.9629 - f1score: 0.9685 - val_loss: -0.0844 - val_dice_coef: 0.0844 - val_acc: 0.7804 - val_mean_squared_error: 0.0897 - val_Jaccard_index: 0.0447 - val_Specificity: 0.9454 - val_Sensitivity: 1.0160 - val_precision: 0.1028 - val_recall: 0.0808 - val_f1score: 0.0895\n",
      "Epoch 79/150\n",
      "1632/1632 [==============================] - 752s 461ms/step - loss: -0.8957 - dice_coef: 0.8957 - acc: 0.8392 - mean_squared_error: 0.0042 - Jaccard_index: 0.8121 - Specificity: 0.9753 - Sensitivity: 1.0028 - precision: 0.9744 - recall: 0.9628 - f1score: 0.9685 - val_loss: -0.7322 - val_dice_coef: 0.7322 - val_acc: 0.8260 - val_mean_squared_error: 0.0210 - val_Jaccard_index: 0.5812 - val_Specificity: 0.9624 - val_Sensitivity: 0.9973 - val_precision: 0.9026 - val_recall: 0.7045 - val_f1score: 0.7876\n",
      "Epoch 80/150\n",
      "1632/1632 [==============================] - 750s 460ms/step - loss: -0.8972 - dice_coef: 0.8972 - acc: 0.8393 - mean_squared_error: 0.0040 - Jaccard_index: 0.8145 - Specificity: 0.9754 - Sensitivity: 1.0028 - precision: 0.9760 - recall: 0.9647 - f1score: 0.9702 - val_loss: -0.7306 - val_dice_coef: 0.7306 - val_acc: 0.8262 - val_mean_squared_error: 0.0209 - val_Jaccard_index: 0.5794 - val_Specificity: 0.9623 - val_Sensitivity: 0.9968 - val_precision: 0.9076 - val_recall: 0.6983 - val_f1score: 0.7859\n"
     ]
    },
    {
     "name": "stdout",
     "output_type": "stream",
     "text": [
      "Epoch 81/150\n",
      "1632/1632 [==============================] - 749s 459ms/step - loss: -0.8955 - dice_coef: 0.8955 - acc: 0.8392 - mean_squared_error: 0.0042 - Jaccard_index: 0.8118 - Specificity: 0.9753 - Sensitivity: 1.0028 - precision: 0.9743 - recall: 0.9625 - f1score: 0.9682 - val_loss: -0.7197 - val_dice_coef: 0.7197 - val_acc: 0.8261 - val_mean_squared_error: 0.0216 - val_Jaccard_index: 0.5664 - val_Specificity: 0.9617 - val_Sensitivity: 0.9957 - val_precision: 0.9120 - val_recall: 0.6770 - val_f1score: 0.7732\n",
      "Epoch 82/150\n",
      "1632/1632 [==============================] - 749s 459ms/step - loss: -0.8982 - dice_coef: 0.8982 - acc: 0.8393 - mean_squared_error: 0.0039 - Jaccard_index: 0.8161 - Specificity: 0.9754 - Sensitivity: 1.0028 - precision: 0.9767 - recall: 0.9658 - f1score: 0.9712 - val_loss: -0.7392 - val_dice_coef: 0.7392 - val_acc: 0.8251 - val_mean_squared_error: 0.0211 - val_Jaccard_index: 0.5893 - val_Specificity: 0.9633 - val_Sensitivity: 1.0001 - val_precision: 0.8762 - val_recall: 0.7356 - val_f1score: 0.7965\n",
      "Epoch 83/150\n",
      "1632/1632 [==============================] - 749s 459ms/step - loss: -0.8979 - dice_coef: 0.8979 - acc: 0.8393 - mean_squared_error: 0.0040 - Jaccard_index: 0.8156 - Specificity: 0.9754 - Sensitivity: 1.0028 - precision: 0.9765 - recall: 0.9655 - f1score: 0.9709 - val_loss: -0.7415 - val_dice_coef: 0.7415 - val_acc: 0.8251 - val_mean_squared_error: 0.0210 - val_Jaccard_index: 0.5921 - val_Specificity: 0.9634 - val_Sensitivity: 1.0003 - val_precision: 0.8760 - val_recall: 0.7397 - val_f1score: 0.7994\n",
      "Epoch 84/150\n",
      "1632/1632 [==============================] - 748s 458ms/step - loss: -0.8971 - dice_coef: 0.8971 - acc: 0.8393 - mean_squared_error: 0.0040 - Jaccard_index: 0.8143 - Specificity: 0.9754 - Sensitivity: 1.0028 - precision: 0.9758 - recall: 0.9646 - f1score: 0.9701 - val_loss: -0.7290 - val_dice_coef: 0.7290 - val_acc: 0.8259 - val_mean_squared_error: 0.0212 - val_Jaccard_index: 0.5773 - val_Specificity: 0.9623 - val_Sensitivity: 0.9971 - val_precision: 0.9026 - val_recall: 0.6987 - val_f1score: 0.7845\n",
      "Epoch 85/150\n",
      "1632/1632 [==============================] - 749s 459ms/step - loss: -0.8993 - dice_coef: 0.8993 - acc: 0.8394 - mean_squared_error: 0.0038 - Jaccard_index: 0.8179 - Specificity: 0.9754 - Sensitivity: 1.0028 - precision: 0.9777 - recall: 0.9674 - f1score: 0.9724 - val_loss: -0.7283 - val_dice_coef: 0.7283 - val_acc: 0.8259 - val_mean_squared_error: 0.0212 - val_Jaccard_index: 0.5763 - val_Specificity: 0.9622 - val_Sensitivity: 0.9970 - val_precision: 0.9036 - val_recall: 0.6972 - val_f1score: 0.7836\n",
      "Epoch 86/150\n",
      "1632/1632 [==============================] - 750s 460ms/step - loss: -0.8984 - dice_coef: 0.8984 - acc: 0.8394 - mean_squared_error: 0.0039 - Jaccard_index: 0.8164 - Specificity: 0.9754 - Sensitivity: 1.0028 - precision: 0.9771 - recall: 0.9666 - f1score: 0.9717 - val_loss: -0.7265 - val_dice_coef: 0.7265 - val_acc: 0.8259 - val_mean_squared_error: 0.0213 - val_Jaccard_index: 0.5744 - val_Specificity: 0.9621 - val_Sensitivity: 0.9968 - val_precision: 0.9034 - val_recall: 0.6938 - val_f1score: 0.7813\n",
      "Epoch 87/150\n",
      "1632/1632 [==============================] - 748s 458ms/step - loss: -0.8982 - dice_coef: 0.8982 - acc: 0.8393 - mean_squared_error: 0.0040 - Jaccard_index: 0.8161 - Specificity: 0.9754 - Sensitivity: 1.0028 - precision: 0.9766 - recall: 0.9660 - f1score: 0.9712 - val_loss: -0.0843 - val_dice_coef: 0.0843 - val_acc: 0.7795 - val_mean_squared_error: 0.0907 - val_Jaccard_index: 0.0446 - val_Specificity: 0.9454 - val_Sensitivity: 1.0171 - val_precision: 0.1017 - val_recall: 0.0813 - val_f1score: 0.0890\n",
      "Epoch 88/150\n",
      "1632/1632 [==============================] - 748s 458ms/step - loss: -0.8994 - dice_coef: 0.8994 - acc: 0.8394 - mean_squared_error: 0.0038 - Jaccard_index: 0.8182 - Specificity: 0.9754 - Sensitivity: 1.0028 - precision: 0.9778 - recall: 0.9675 - f1score: 0.9725 - val_loss: -0.7394 - val_dice_coef: 0.7394 - val_acc: 0.8260 - val_mean_squared_error: 0.0206 - val_Jaccard_index: 0.5896 - val_Specificity: 0.9629 - val_Sensitivity: 0.9982 - val_precision: 0.8984 - val_recall: 0.7202 - val_f1score: 0.7964\n",
      "Epoch 89/150\n",
      "1632/1632 [==============================] - 770s 472ms/step - loss: -0.9005 - dice_coef: 0.9005 - acc: 0.8395 - mean_squared_error: 0.0037 - Jaccard_index: 0.8198 - Specificity: 0.9755 - Sensitivity: 1.0028 - precision: 0.9786 - recall: 0.9689 - f1score: 0.9736 - val_loss: -0.7329 - val_dice_coef: 0.7329 - val_acc: 0.8254 - val_mean_squared_error: 0.0213 - val_Jaccard_index: 0.5821 - val_Specificity: 0.9627 - val_Sensitivity: 0.9984 - val_precision: 0.8895 - val_recall: 0.7139 - val_f1score: 0.7888\n",
      "Epoch 90/150\n",
      "1632/1632 [==============================] - 746s 457ms/step - loss: -0.9001 - dice_coef: 0.9001 - acc: 0.8394 - mean_squared_error: 0.0038 - Jaccard_index: 0.8193 - Specificity: 0.9754 - Sensitivity: 1.0028 - precision: 0.9785 - recall: 0.9686 - f1score: 0.9735 - val_loss: -0.7430 - val_dice_coef: 0.7430 - val_acc: 0.8260 - val_mean_squared_error: 0.0204 - val_Jaccard_index: 0.5942 - val_Specificity: 0.9631 - val_Sensitivity: 0.9985 - val_precision: 0.8973 - val_recall: 0.7273 - val_f1score: 0.8005\n",
      "Epoch 91/150\n",
      "1632/1632 [==============================] - 749s 459ms/step - loss: -0.9001 - dice_coef: 0.9001 - acc: 0.8394 - mean_squared_error: 0.0038 - Jaccard_index: 0.8192 - Specificity: 0.9754 - Sensitivity: 1.0028 - precision: 0.9782 - recall: 0.9685 - f1score: 0.9733 - val_loss: -0.7318 - val_dice_coef: 0.7318 - val_acc: 0.8255 - val_mean_squared_error: 0.0214 - val_Jaccard_index: 0.5808 - val_Specificity: 0.9626 - val_Sensitivity: 0.9981 - val_precision: 0.8920 - val_recall: 0.7119 - val_f1score: 0.7881\n",
      "Epoch 92/150\n",
      "1632/1632 [==============================] - 747s 458ms/step - loss: -0.9005 - dice_coef: 0.9005 - acc: 0.8395 - mean_squared_error: 0.0037 - Jaccard_index: 0.8199 - Specificity: 0.9755 - Sensitivity: 1.0028 - precision: 0.9787 - recall: 0.9693 - f1score: 0.9739 - val_loss: -0.7317 - val_dice_coef: 0.7317 - val_acc: 0.8258 - val_mean_squared_error: 0.0212 - val_Jaccard_index: 0.5805 - val_Specificity: 0.9625 - val_Sensitivity: 0.9977 - val_precision: 0.8978 - val_recall: 0.7071 - val_f1score: 0.7877\n",
      "Epoch 93/150\n",
      "1632/1632 [==============================] - 747s 458ms/step - loss: -0.9010 - dice_coef: 0.9010 - acc: 0.8395 - mean_squared_error: 0.0037 - Jaccard_index: 0.8207 - Specificity: 0.9755 - Sensitivity: 1.0028 - precision: 0.9792 - recall: 0.9697 - f1score: 0.9743 - val_loss: -0.7236 - val_dice_coef: 0.7236 - val_acc: 0.8263 - val_mean_squared_error: 0.0214 - val_Jaccard_index: 0.5706 - val_Specificity: 0.9618 - val_Sensitivity: 0.9958 - val_precision: 0.9146 - val_recall: 0.6815 - val_f1score: 0.7774\n",
      "Epoch 94/150\n",
      "1632/1632 [==============================] - 747s 458ms/step - loss: -0.9010 - dice_coef: 0.9010 - acc: 0.8395 - mean_squared_error: 0.0037 - Jaccard_index: 0.8208 - Specificity: 0.9755 - Sensitivity: 1.0028 - precision: 0.9792 - recall: 0.9699 - f1score: 0.9745 - val_loss: -0.7280 - val_dice_coef: 0.7280 - val_acc: 0.8258 - val_mean_squared_error: 0.0213 - val_Jaccard_index: 0.5761 - val_Specificity: 0.9622 - val_Sensitivity: 0.9970 - val_precision: 0.9026 - val_recall: 0.6981 - val_f1score: 0.7832\n",
      "Epoch 95/150\n",
      "1632/1632 [==============================] - 747s 458ms/step - loss: -0.9015 - dice_coef: 0.9015 - acc: 0.8395 - mean_squared_error: 0.0036 - Jaccard_index: 0.8215 - Specificity: 0.9755 - Sensitivity: 1.0028 - precision: 0.9796 - recall: 0.9705 - f1score: 0.9750 - val_loss: -0.7366 - val_dice_coef: 0.7366 - val_acc: 0.8256 - val_mean_squared_error: 0.0210 - val_Jaccard_index: 0.5866 - val_Specificity: 0.9628 - val_Sensitivity: 0.9985 - val_precision: 0.8912 - val_recall: 0.7202 - val_f1score: 0.7934\n",
      "Epoch 96/150\n",
      "1632/1632 [==============================] - 747s 458ms/step - loss: -0.9017 - dice_coef: 0.9017 - acc: 0.8395 - mean_squared_error: 0.0036 - Jaccard_index: 0.8219 - Specificity: 0.9755 - Sensitivity: 1.0028 - precision: 0.9797 - recall: 0.9705 - f1score: 0.9750 - val_loss: -0.7315 - val_dice_coef: 0.7315 - val_acc: 0.8260 - val_mean_squared_error: 0.0210 - val_Jaccard_index: 0.5803 - val_Specificity: 0.9623 - val_Sensitivity: 0.9971 - val_precision: 0.9049 - val_recall: 0.7022 - val_f1score: 0.7872\n"
     ]
    },
    {
     "name": "stdout",
     "output_type": "stream",
     "text": [
      "Epoch 97/150\n",
      "1632/1632 [==============================] - 749s 459ms/step - loss: -0.9020 - dice_coef: 0.9020 - acc: 0.8395 - mean_squared_error: 0.0036 - Jaccard_index: 0.8224 - Specificity: 0.9755 - Sensitivity: 1.0028 - precision: 0.9800 - recall: 0.9711 - f1score: 0.9754 - val_loss: -0.7301 - val_dice_coef: 0.7301 - val_acc: 0.8261 - val_mean_squared_error: 0.0211 - val_Jaccard_index: 0.5788 - val_Specificity: 0.9622 - val_Sensitivity: 0.9968 - val_precision: 0.9076 - val_recall: 0.6990 - val_f1score: 0.7858\n",
      "Epoch 98/150\n",
      "1632/1632 [==============================] - 748s 458ms/step - loss: -0.9018 - dice_coef: 0.9018 - acc: 0.8395 - mean_squared_error: 0.0036 - Jaccard_index: 0.8221 - Specificity: 0.9755 - Sensitivity: 1.0028 - precision: 0.9800 - recall: 0.9710 - f1score: 0.9754 - val_loss: -0.7341 - val_dice_coef: 0.7341 - val_acc: 0.8261 - val_mean_squared_error: 0.0209 - val_Jaccard_index: 0.5832 - val_Specificity: 0.9625 - val_Sensitivity: 0.9973 - val_precision: 0.9046 - val_recall: 0.7067 - val_f1score: 0.7903\n",
      "Epoch 99/150\n",
      "1632/1632 [==============================] - 748s 458ms/step - loss: -0.9027 - dice_coef: 0.9027 - acc: 0.8396 - mean_squared_error: 0.0035 - Jaccard_index: 0.8236 - Specificity: 0.9755 - Sensitivity: 1.0028 - precision: 0.9808 - recall: 0.9721 - f1score: 0.9764 - val_loss: -0.7324 - val_dice_coef: 0.7324 - val_acc: 0.8259 - val_mean_squared_error: 0.0211 - val_Jaccard_index: 0.5813 - val_Specificity: 0.9624 - val_Sensitivity: 0.9975 - val_precision: 0.9008 - val_recall: 0.7058 - val_f1score: 0.7882\n",
      "Epoch 100/150\n",
      "1632/1632 [==============================] - 748s 458ms/step - loss: -0.9025 - dice_coef: 0.9025 - acc: 0.8396 - mean_squared_error: 0.0036 - Jaccard_index: 0.8232 - Specificity: 0.9755 - Sensitivity: 1.0028 - precision: 0.9806 - recall: 0.9719 - f1score: 0.9762 - val_loss: -0.7444 - val_dice_coef: 0.7444 - val_acc: 0.8260 - val_mean_squared_error: 0.0203 - val_Jaccard_index: 0.5961 - val_Specificity: 0.9631 - val_Sensitivity: 0.9987 - val_precision: 0.8974 - val_recall: 0.7298 - val_f1score: 0.8020\n",
      "Epoch 101/150\n",
      "1632/1632 [==============================] - 748s 459ms/step - loss: -0.9027 - dice_coef: 0.9027 - acc: 0.8396 - mean_squared_error: 0.0035 - Jaccard_index: 0.8235 - Specificity: 0.9755 - Sensitivity: 1.0028 - precision: 0.9807 - recall: 0.9719 - f1score: 0.9763 - val_loss: -0.0829 - val_dice_coef: 0.0829 - val_acc: 0.7804 - val_mean_squared_error: 0.0901 - val_Jaccard_index: 0.0437 - val_Specificity: 0.9453 - val_Sensitivity: 1.0163 - val_precision: 0.1011 - val_recall: 0.0791 - val_f1score: 0.0874\n",
      "Epoch 102/150\n",
      "1632/1632 [==============================] - 748s 458ms/step - loss: -0.9034 - dice_coef: 0.9034 - acc: 0.8396 - mean_squared_error: 0.0035 - Jaccard_index: 0.8247 - Specificity: 0.9755 - Sensitivity: 1.0028 - precision: 0.9813 - recall: 0.9727 - f1score: 0.9769 - val_loss: -0.7340 - val_dice_coef: 0.7340 - val_acc: 0.8254 - val_mean_squared_error: 0.0213 - val_Jaccard_index: 0.5833 - val_Specificity: 0.9628 - val_Sensitivity: 0.9986 - val_precision: 0.8885 - val_recall: 0.7178 - val_f1score: 0.7904\n",
      "Epoch 103/150\n",
      "1632/1632 [==============================] - 750s 459ms/step - loss: -0.9030 - dice_coef: 0.9030 - acc: 0.8396 - mean_squared_error: 0.0035 - Jaccard_index: 0.8240 - Specificity: 0.9755 - Sensitivity: 1.0028 - precision: 0.9810 - recall: 0.9724 - f1score: 0.9766 - val_loss: -0.7282 - val_dice_coef: 0.7282 - val_acc: 0.8255 - val_mean_squared_error: 0.0216 - val_Jaccard_index: 0.5764 - val_Specificity: 0.9623 - val_Sensitivity: 0.9976 - val_precision: 0.8951 - val_recall: 0.7026 - val_f1score: 0.7834\n",
      "Epoch 104/150\n",
      "1632/1632 [==============================] - 749s 459ms/step - loss: -0.9031 - dice_coef: 0.9031 - acc: 0.8396 - mean_squared_error: 0.0035 - Jaccard_index: 0.8242 - Specificity: 0.9755 - Sensitivity: 1.0028 - precision: 0.9811 - recall: 0.9725 - f1score: 0.9767 - val_loss: -0.7336 - val_dice_coef: 0.7336 - val_acc: 0.8261 - val_mean_squared_error: 0.0209 - val_Jaccard_index: 0.5830 - val_Specificity: 0.9623 - val_Sensitivity: 0.9970 - val_precision: 0.9079 - val_recall: 0.7033 - val_f1score: 0.7891\n",
      "Epoch 105/150\n",
      "1632/1632 [==============================] - 749s 459ms/step - loss: -0.9039 - dice_coef: 0.9039 - acc: 0.8396 - mean_squared_error: 0.0034 - Jaccard_index: 0.8256 - Specificity: 0.9755 - Sensitivity: 1.0027 - precision: 0.9818 - recall: 0.9734 - f1score: 0.9776 - val_loss: -0.7190 - val_dice_coef: 0.7190 - val_acc: 0.8258 - val_mean_squared_error: 0.0219 - val_Jaccard_index: 0.5655 - val_Specificity: 0.9618 - val_Sensitivity: 0.9962 - val_precision: 0.9063 - val_recall: 0.6804 - val_f1score: 0.7730\n",
      "Epoch 106/150\n",
      "1632/1632 [==============================] - 749s 459ms/step - loss: -0.9038 - dice_coef: 0.9038 - acc: 0.8396 - mean_squared_error: 0.0035 - Jaccard_index: 0.8254 - Specificity: 0.9755 - Sensitivity: 1.0027 - precision: 0.9818 - recall: 0.9732 - f1score: 0.9774 - val_loss: -0.7384 - val_dice_coef: 0.7384 - val_acc: 0.8251 - val_mean_squared_error: 0.0213 - val_Jaccard_index: 0.5885 - val_Specificity: 0.9631 - val_Sensitivity: 0.9997 - val_precision: 0.8803 - val_recall: 0.7309 - val_f1score: 0.7955\n",
      "Epoch 107/150\n",
      "1632/1632 [==============================] - 749s 459ms/step - loss: -0.9042 - dice_coef: 0.9042 - acc: 0.8397 - mean_squared_error: 0.0034 - Jaccard_index: 0.8261 - Specificity: 0.9756 - Sensitivity: 1.0027 - precision: 0.9822 - recall: 0.9739 - f1score: 0.9780 - val_loss: -0.7402 - val_dice_coef: 0.7402 - val_acc: 0.8258 - val_mean_squared_error: 0.0207 - val_Jaccard_index: 0.5908 - val_Specificity: 0.9630 - val_Sensitivity: 0.9988 - val_precision: 0.8930 - val_recall: 0.7253 - val_f1score: 0.7977\n",
      "Epoch 108/150\n",
      "1632/1632 [==============================] - 748s 458ms/step - loss: -0.9044 - dice_coef: 0.9044 - acc: 0.8397 - mean_squared_error: 0.0034 - Jaccard_index: 0.8263 - Specificity: 0.9756 - Sensitivity: 1.0027 - precision: 0.9823 - recall: 0.9739 - f1score: 0.9780 - val_loss: -0.7260 - val_dice_coef: 0.7260 - val_acc: 0.8258 - val_mean_squared_error: 0.0215 - val_Jaccard_index: 0.5738 - val_Specificity: 0.9621 - val_Sensitivity: 0.9969 - val_precision: 0.9027 - val_recall: 0.6945 - val_f1score: 0.7813\n",
      "Epoch 109/150\n",
      "1632/1632 [==============================] - 748s 459ms/step - loss: -0.9040 - dice_coef: 0.9040 - acc: 0.8396 - mean_squared_error: 0.0034 - Jaccard_index: 0.8257 - Specificity: 0.9755 - Sensitivity: 1.0027 - precision: 0.9820 - recall: 0.9736 - f1score: 0.9777 - val_loss: -0.7371 - val_dice_coef: 0.7371 - val_acc: 0.8255 - val_mean_squared_error: 0.0211 - val_Jaccard_index: 0.5872 - val_Specificity: 0.9629 - val_Sensitivity: 0.9988 - val_precision: 0.8882 - val_recall: 0.7238 - val_f1score: 0.7944\n",
      "Epoch 110/150\n",
      "1632/1632 [==============================] - 749s 459ms/step - loss: -0.9045 - dice_coef: 0.9045 - acc: 0.8397 - mean_squared_error: 0.0034 - Jaccard_index: 0.8266 - Specificity: 0.9756 - Sensitivity: 1.0027 - precision: 0.9825 - recall: 0.9743 - f1score: 0.9784 - val_loss: -0.7324 - val_dice_coef: 0.7324 - val_acc: 0.8259 - val_mean_squared_error: 0.0211 - val_Jaccard_index: 0.5817 - val_Specificity: 0.9624 - val_Sensitivity: 0.9974 - val_precision: 0.9014 - val_recall: 0.7062 - val_f1score: 0.7883\n",
      "Epoch 111/150\n",
      "1632/1632 [==============================] - 750s 459ms/step - loss: -0.9046 - dice_coef: 0.9046 - acc: 0.8397 - mean_squared_error: 0.0034 - Jaccard_index: 0.8266 - Specificity: 0.9756 - Sensitivity: 1.0027 - precision: 0.9826 - recall: 0.9745 - f1score: 0.9785 - val_loss: -0.7316 - val_dice_coef: 0.7316 - val_acc: 0.8259 - val_mean_squared_error: 0.0212 - val_Jaccard_index: 0.5803 - val_Specificity: 0.9624 - val_Sensitivity: 0.9974 - val_precision: 0.9006 - val_recall: 0.7055 - val_f1score: 0.7875\n",
      "Epoch 112/150\n",
      "1632/1632 [==============================] - 748s 459ms/step - loss: -0.9048 - dice_coef: 0.9048 - acc: 0.8397 - mean_squared_error: 0.0033 - Jaccard_index: 0.8271 - Specificity: 0.9756 - Sensitivity: 1.0027 - precision: 0.9830 - recall: 0.9748 - f1score: 0.9788 - val_loss: -0.7310 - val_dice_coef: 0.7310 - val_acc: 0.8260 - val_mean_squared_error: 0.0211 - val_Jaccard_index: 0.5798 - val_Specificity: 0.9623 - val_Sensitivity: 0.9971 - val_precision: 0.9046 - val_recall: 0.7019 - val_f1score: 0.7867\n"
     ]
    },
    {
     "name": "stdout",
     "output_type": "stream",
     "text": [
      "Epoch 113/150\n",
      "1632/1632 [==============================] - 749s 459ms/step - loss: -0.9039 - dice_coef: 0.9039 - acc: 0.8396 - mean_squared_error: 0.0034 - Jaccard_index: 0.8256 - Specificity: 0.9755 - Sensitivity: 1.0027 - precision: 0.9820 - recall: 0.9735 - f1score: 0.9777 - val_loss: -0.7398 - val_dice_coef: 0.7398 - val_acc: 0.8254 - val_mean_squared_error: 0.0210 - val_Jaccard_index: 0.5905 - val_Specificity: 0.9631 - val_Sensitivity: 0.9993 - val_precision: 0.8848 - val_recall: 0.7312 - val_f1score: 0.7975\n",
      "Epoch 114/150\n",
      "1632/1632 [==============================] - 749s 459ms/step - loss: -0.9059 - dice_coef: 0.9059 - acc: 0.8397 - mean_squared_error: 0.0033 - Jaccard_index: 0.8289 - Specificity: 0.9756 - Sensitivity: 1.0027 - precision: 0.9838 - recall: 0.9760 - f1score: 0.9798 - val_loss: -0.7320 - val_dice_coef: 0.7320 - val_acc: 0.8256 - val_mean_squared_error: 0.0213 - val_Jaccard_index: 0.5808 - val_Specificity: 0.9626 - val_Sensitivity: 0.9980 - val_precision: 0.8946 - val_recall: 0.7100 - val_f1score: 0.7885\n",
      "Epoch 115/150\n",
      "1632/1632 [==============================] - 749s 459ms/step - loss: -0.9052 - dice_coef: 0.9052 - acc: 0.8397 - mean_squared_error: 0.0033 - Jaccard_index: 0.8277 - Specificity: 0.9756 - Sensitivity: 1.0027 - precision: 0.9830 - recall: 0.9752 - f1score: 0.9791 - val_loss: -0.7350 - val_dice_coef: 0.7350 - val_acc: 0.8252 - val_mean_squared_error: 0.0214 - val_Jaccard_index: 0.5851 - val_Specificity: 0.9630 - val_Sensitivity: 0.9994 - val_precision: 0.8808 - val_recall: 0.7263 - val_f1score: 0.7923\n",
      "Epoch 116/150\n",
      "1632/1632 [==============================] - 748s 459ms/step - loss: -0.9048 - dice_coef: 0.9048 - acc: 0.8397 - mean_squared_error: 0.0034 - Jaccard_index: 0.8271 - Specificity: 0.9756 - Sensitivity: 1.0027 - precision: 0.9828 - recall: 0.9748 - f1score: 0.9788 - val_loss: -0.7224 - val_dice_coef: 0.7224 - val_acc: 0.8260 - val_mean_squared_error: 0.0216 - val_Jaccard_index: 0.5702 - val_Specificity: 0.9618 - val_Sensitivity: 0.9960 - val_precision: 0.9108 - val_recall: 0.6836 - val_f1score: 0.7767\n",
      "Epoch 117/150\n",
      "1632/1632 [==============================] - 748s 459ms/step - loss: -0.9060 - dice_coef: 0.9060 - acc: 0.8397 - mean_squared_error: 0.0033 - Jaccard_index: 0.8291 - Specificity: 0.9756 - Sensitivity: 1.0027 - precision: 0.9838 - recall: 0.9763 - f1score: 0.9800 - val_loss: -0.7177 - val_dice_coef: 0.7177 - val_acc: 0.8260 - val_mean_squared_error: 0.0219 - val_Jaccard_index: 0.5638 - val_Specificity: 0.9616 - val_Sensitivity: 0.9956 - val_precision: 0.9123 - val_recall: 0.6741 - val_f1score: 0.7716\n",
      "Epoch 118/150\n",
      "1632/1632 [==============================] - 749s 459ms/step - loss: -0.9045 - dice_coef: 0.9045 - acc: 0.8397 - mean_squared_error: 0.0034 - Jaccard_index: 0.8266 - Specificity: 0.9756 - Sensitivity: 1.0027 - precision: 0.9825 - recall: 0.9746 - f1score: 0.9785 - val_loss: -0.7429 - val_dice_coef: 0.7429 - val_acc: 0.8256 - val_mean_squared_error: 0.0207 - val_Jaccard_index: 0.5941 - val_Specificity: 0.9632 - val_Sensitivity: 0.9994 - val_precision: 0.8884 - val_recall: 0.7351 - val_f1score: 0.8013\n",
      "Epoch 119/150\n",
      "1632/1632 [==============================] - 748s 458ms/step - loss: -0.9068 - dice_coef: 0.9068 - acc: 0.8398 - mean_squared_error: 0.0032 - Jaccard_index: 0.8305 - Specificity: 0.9756 - Sensitivity: 1.0027 - precision: 0.9846 - recall: 0.9773 - f1score: 0.9809 - val_loss: -0.7392 - val_dice_coef: 0.7392 - val_acc: 0.8254 - val_mean_squared_error: 0.0210 - val_Jaccard_index: 0.5898 - val_Specificity: 0.9631 - val_Sensitivity: 0.9994 - val_precision: 0.8837 - val_recall: 0.7311 - val_f1score: 0.7969\n",
      "Epoch 120/150\n",
      "1632/1632 [==============================] - 748s 458ms/step - loss: -0.9062 - dice_coef: 0.9062 - acc: 0.8398 - mean_squared_error: 0.0032 - Jaccard_index: 0.8293 - Specificity: 0.9756 - Sensitivity: 1.0027 - precision: 0.9840 - recall: 0.9765 - f1score: 0.9802 - val_loss: -0.7277 - val_dice_coef: 0.7277 - val_acc: 0.8256 - val_mean_squared_error: 0.0216 - val_Jaccard_index: 0.5759 - val_Specificity: 0.9623 - val_Sensitivity: 0.9975 - val_precision: 0.8955 - val_recall: 0.7023 - val_f1score: 0.7832\n",
      "Epoch 121/150\n",
      "1632/1632 [==============================] - 749s 459ms/step - loss: -0.9059 - dice_coef: 0.9059 - acc: 0.8397 - mean_squared_error: 0.0033 - Jaccard_index: 0.8288 - Specificity: 0.9756 - Sensitivity: 1.0027 - precision: 0.9835 - recall: 0.9760 - f1score: 0.9797 - val_loss: -0.7316 - val_dice_coef: 0.7316 - val_acc: 0.8255 - val_mean_squared_error: 0.0214 - val_Jaccard_index: 0.5803 - val_Specificity: 0.9626 - val_Sensitivity: 0.9981 - val_precision: 0.8932 - val_recall: 0.7111 - val_f1score: 0.7885\n",
      "Epoch 122/150\n",
      "1632/1632 [==============================] - 748s 458ms/step - loss: -0.9066 - dice_coef: 0.9066 - acc: 0.8398 - mean_squared_error: 0.0032 - Jaccard_index: 0.8301 - Specificity: 0.9756 - Sensitivity: 1.0027 - precision: 0.9843 - recall: 0.9771 - f1score: 0.9807 - val_loss: -0.7413 - val_dice_coef: 0.7413 - val_acc: 0.8252 - val_mean_squared_error: 0.0210 - val_Jaccard_index: 0.5921 - val_Specificity: 0.9634 - val_Sensitivity: 1.0002 - val_precision: 0.8777 - val_recall: 0.7396 - val_f1score: 0.7997\n",
      "Epoch 123/150\n",
      "1632/1632 [==============================] - 747s 458ms/step - loss: -0.9064 - dice_coef: 0.9064 - acc: 0.8398 - mean_squared_error: 0.0032 - Jaccard_index: 0.8297 - Specificity: 0.9756 - Sensitivity: 1.0027 - precision: 0.9841 - recall: 0.9768 - f1score: 0.9804 - val_loss: -0.7395 - val_dice_coef: 0.7395 - val_acc: 0.8257 - val_mean_squared_error: 0.0209 - val_Jaccard_index: 0.5898 - val_Specificity: 0.9630 - val_Sensitivity: 0.9987 - val_precision: 0.8926 - val_recall: 0.7249 - val_f1score: 0.7970\n",
      "Epoch 124/150\n",
      "1632/1632 [==============================] - 748s 459ms/step - loss: -0.9066 - dice_coef: 0.9066 - acc: 0.8398 - mean_squared_error: 0.0032 - Jaccard_index: 0.8302 - Specificity: 0.9756 - Sensitivity: 1.0027 - precision: 0.9844 - recall: 0.9772 - f1score: 0.9808 - val_loss: -0.7321 - val_dice_coef: 0.7321 - val_acc: 0.8256 - val_mean_squared_error: 0.0214 - val_Jaccard_index: 0.5811 - val_Specificity: 0.9626 - val_Sensitivity: 0.9980 - val_precision: 0.8940 - val_recall: 0.7107 - val_f1score: 0.7885\n",
      "Epoch 125/150\n",
      "1632/1632 [==============================] - 752s 461ms/step - loss: -0.9065 - dice_coef: 0.9065 - acc: 0.8398 - mean_squared_error: 0.0032 - Jaccard_index: 0.8299 - Specificity: 0.9756 - Sensitivity: 1.0027 - precision: 0.9843 - recall: 0.9770 - f1score: 0.9806 - val_loss: -0.0863 - val_dice_coef: 0.0863 - val_acc: 0.7805 - val_mean_squared_error: 0.0895 - val_Jaccard_index: 0.0457 - val_Specificity: 0.9454 - val_Sensitivity: 1.0159 - val_precision: 0.1053 - val_recall: 0.0822 - val_f1score: 0.0911\n",
      "Epoch 126/150\n",
      "1632/1632 [==============================] - 755s 463ms/step - loss: -0.9068 - dice_coef: 0.9068 - acc: 0.8398 - mean_squared_error: 0.0032 - Jaccard_index: 0.8304 - Specificity: 0.9756 - Sensitivity: 1.0027 - precision: 0.9847 - recall: 0.9775 - f1score: 0.9810 - val_loss: -0.7281 - val_dice_coef: 0.7281 - val_acc: 0.8257 - val_mean_squared_error: 0.0215 - val_Jaccard_index: 0.5766 - val_Specificity: 0.9623 - val_Sensitivity: 0.9975 - val_precision: 0.8981 - val_recall: 0.7021 - val_f1score: 0.7839\n",
      "Epoch 127/150\n",
      "1632/1632 [==============================] - 755s 463ms/step - loss: -0.9070 - dice_coef: 0.9070 - acc: 0.8398 - mean_squared_error: 0.0032 - Jaccard_index: 0.8307 - Specificity: 0.9756 - Sensitivity: 1.0027 - precision: 0.9846 - recall: 0.9774 - f1score: 0.9809 - val_loss: -0.7313 - val_dice_coef: 0.7313 - val_acc: 0.8259 - val_mean_squared_error: 0.0212 - val_Jaccard_index: 0.5802 - val_Specificity: 0.9624 - val_Sensitivity: 0.9972 - val_precision: 0.9029 - val_recall: 0.7036 - val_f1score: 0.7874\n",
      "Epoch 128/150\n",
      "1632/1632 [==============================] - 755s 462ms/step - loss: -0.9061 - dice_coef: 0.9061 - acc: 0.8397 - mean_squared_error: 0.0033 - Jaccard_index: 0.8292 - Specificity: 0.9756 - Sensitivity: 1.0027 - precision: 0.9838 - recall: 0.9764 - f1score: 0.9800 - val_loss: -0.7297 - val_dice_coef: 0.7297 - val_acc: 0.8259 - val_mean_squared_error: 0.0213 - val_Jaccard_index: 0.5783 - val_Specificity: 0.9622 - val_Sensitivity: 0.9970 - val_precision: 0.9044 - val_recall: 0.6993 - val_f1score: 0.7848\n"
     ]
    },
    {
     "name": "stdout",
     "output_type": "stream",
     "text": [
      "Epoch 129/150\n",
      "1632/1632 [==============================] - 754s 462ms/step - loss: -0.9077 - dice_coef: 0.9077 - acc: 0.8398 - mean_squared_error: 0.0031 - Jaccard_index: 0.8320 - Specificity: 0.9757 - Sensitivity: 1.0027 - precision: 0.9855 - recall: 0.9785 - f1score: 0.9819 - val_loss: -0.7371 - val_dice_coef: 0.7371 - val_acc: 0.8257 - val_mean_squared_error: 0.0210 - val_Jaccard_index: 0.5870 - val_Specificity: 0.9628 - val_Sensitivity: 0.9984 - val_precision: 0.8942 - val_recall: 0.7191 - val_f1score: 0.7939\n",
      "Epoch 130/150\n",
      "1632/1632 [==============================] - 748s 459ms/step - loss: -0.9073 - dice_coef: 0.9073 - acc: 0.8398 - mean_squared_error: 0.0031 - Jaccard_index: 0.8312 - Specificity: 0.9756 - Sensitivity: 1.0027 - precision: 0.9851 - recall: 0.9780 - f1score: 0.9815 - val_loss: -0.7309 - val_dice_coef: 0.7309 - val_acc: 0.8260 - val_mean_squared_error: 0.0212 - val_Jaccard_index: 0.5797 - val_Specificity: 0.9623 - val_Sensitivity: 0.9971 - val_precision: 0.9044 - val_recall: 0.7026 - val_f1score: 0.7872\n",
      "Epoch 131/150\n",
      "1632/1632 [==============================] - 747s 458ms/step - loss: -0.9073 - dice_coef: 0.9073 - acc: 0.8398 - mean_squared_error: 0.0032 - Jaccard_index: 0.8313 - Specificity: 0.9756 - Sensitivity: 1.0027 - precision: 0.9849 - recall: 0.9778 - f1score: 0.9813 - val_loss: -0.7254 - val_dice_coef: 0.7254 - val_acc: 0.8258 - val_mean_squared_error: 0.0216 - val_Jaccard_index: 0.5729 - val_Specificity: 0.9620 - val_Sensitivity: 0.9968 - val_precision: 0.9034 - val_recall: 0.6936 - val_f1score: 0.7809\n",
      "Epoch 132/150\n",
      "1632/1632 [==============================] - 748s 458ms/step - loss: -0.9073 - dice_coef: 0.9073 - acc: 0.8398 - mean_squared_error: 0.0031 - Jaccard_index: 0.8312 - Specificity: 0.9756 - Sensitivity: 1.0027 - precision: 0.9851 - recall: 0.9781 - f1score: 0.9816 - val_loss: -0.7272 - val_dice_coef: 0.7272 - val_acc: 0.8257 - val_mean_squared_error: 0.0215 - val_Jaccard_index: 0.5751 - val_Specificity: 0.9622 - val_Sensitivity: 0.9972 - val_precision: 0.8993 - val_recall: 0.6991 - val_f1score: 0.7830\n",
      "Epoch 133/150\n",
      "1632/1632 [==============================] - 747s 458ms/step - loss: -0.9076 - dice_coef: 0.9076 - acc: 0.8398 - mean_squared_error: 0.0031 - Jaccard_index: 0.8317 - Specificity: 0.9757 - Sensitivity: 1.0027 - precision: 0.9853 - recall: 0.9783 - f1score: 0.9818 - val_loss: -0.7318 - val_dice_coef: 0.7318 - val_acc: 0.8258 - val_mean_squared_error: 0.0213 - val_Jaccard_index: 0.5809 - val_Specificity: 0.9624 - val_Sensitivity: 0.9975 - val_precision: 0.8999 - val_recall: 0.7070 - val_f1score: 0.7881\n",
      "Epoch 134/150\n",
      "1632/1632 [==============================] - 748s 458ms/step - loss: -0.9074 - dice_coef: 0.9074 - acc: 0.8398 - mean_squared_error: 0.0031 - Jaccard_index: 0.8314 - Specificity: 0.9756 - Sensitivity: 1.0027 - precision: 0.9852 - recall: 0.9782 - f1score: 0.9816 - val_loss: -0.7344 - val_dice_coef: 0.7344 - val_acc: 0.8258 - val_mean_squared_error: 0.0211 - val_Jaccard_index: 0.5839 - val_Specificity: 0.9626 - val_Sensitivity: 0.9979 - val_precision: 0.8980 - val_recall: 0.7120 - val_f1score: 0.7908\n",
      "Epoch 135/150\n",
      "1632/1632 [==============================] - 748s 458ms/step - loss: -0.9078 - dice_coef: 0.9078 - acc: 0.8398 - mean_squared_error: 0.0031 - Jaccard_index: 0.8321 - Specificity: 0.9757 - Sensitivity: 1.0027 - precision: 0.9856 - recall: 0.9787 - f1score: 0.9821 - val_loss: -0.7318 - val_dice_coef: 0.7318 - val_acc: 0.8257 - val_mean_squared_error: 0.0213 - val_Jaccard_index: 0.5809 - val_Specificity: 0.9624 - val_Sensitivity: 0.9976 - val_precision: 0.8984 - val_recall: 0.7080 - val_f1score: 0.7881\n",
      "Epoch 136/150\n",
      "1632/1632 [==============================] - 747s 458ms/step - loss: -0.9074 - dice_coef: 0.9074 - acc: 0.8398 - mean_squared_error: 0.0031 - Jaccard_index: 0.8314 - Specificity: 0.9756 - Sensitivity: 1.0027 - precision: 0.9852 - recall: 0.9781 - f1score: 0.9816 - val_loss: -0.7333 - val_dice_coef: 0.7333 - val_acc: 0.8258 - val_mean_squared_error: 0.0212 - val_Jaccard_index: 0.5823 - val_Specificity: 0.9625 - val_Sensitivity: 0.9976 - val_precision: 0.8990 - val_recall: 0.7094 - val_f1score: 0.7897\n",
      "Epoch 137/150\n",
      "1632/1632 [==============================] - 749s 459ms/step - loss: -0.9079 - dice_coef: 0.9079 - acc: 0.8398 - mean_squared_error: 0.0031 - Jaccard_index: 0.8322 - Specificity: 0.9757 - Sensitivity: 1.0027 - precision: 0.9857 - recall: 0.9787 - f1score: 0.9821 - val_loss: -0.7290 - val_dice_coef: 0.7290 - val_acc: 0.8261 - val_mean_squared_error: 0.0212 - val_Jaccard_index: 0.5773 - val_Specificity: 0.9621 - val_Sensitivity: 0.9966 - val_precision: 0.9090 - val_recall: 0.6956 - val_f1score: 0.7843\n",
      "Epoch 138/150\n",
      "1632/1632 [==============================] - 748s 459ms/step - loss: -0.9080 - dice_coef: 0.9080 - acc: 0.8398 - mean_squared_error: 0.0031 - Jaccard_index: 0.8324 - Specificity: 0.9757 - Sensitivity: 1.0027 - precision: 0.9858 - recall: 0.9789 - f1score: 0.9823 - val_loss: -0.7354 - val_dice_coef: 0.7354 - val_acc: 0.8259 - val_mean_squared_error: 0.0210 - val_Jaccard_index: 0.5850 - val_Specificity: 0.9626 - val_Sensitivity: 0.9977 - val_precision: 0.9004 - val_recall: 0.7129 - val_f1score: 0.7923\n",
      "Epoch 139/150\n",
      "1632/1632 [==============================] - 748s 458ms/step - loss: -0.9082 - dice_coef: 0.9082 - acc: 0.8399 - mean_squared_error: 0.0031 - Jaccard_index: 0.8327 - Specificity: 0.9757 - Sensitivity: 1.0027 - precision: 0.9860 - recall: 0.9792 - f1score: 0.9825 - val_loss: -0.7413 - val_dice_coef: 0.7413 - val_acc: 0.8256 - val_mean_squared_error: 0.0208 - val_Jaccard_index: 0.5924 - val_Specificity: 0.9631 - val_Sensitivity: 0.9991 - val_precision: 0.8894 - val_recall: 0.7299 - val_f1score: 0.7988\n",
      "Epoch 140/150\n",
      "1632/1632 [==============================] - 747s 458ms/step - loss: -0.9080 - dice_coef: 0.9080 - acc: 0.8399 - mean_squared_error: 0.0031 - Jaccard_index: 0.8325 - Specificity: 0.9757 - Sensitivity: 1.0027 - precision: 0.9858 - recall: 0.9788 - f1score: 0.9822 - val_loss: -0.7415 - val_dice_coef: 0.7415 - val_acc: 0.8254 - val_mean_squared_error: 0.0209 - val_Jaccard_index: 0.5922 - val_Specificity: 0.9632 - val_Sensitivity: 0.9995 - val_precision: 0.8853 - val_recall: 0.7343 - val_f1score: 0.7999\n",
      "Epoch 141/150\n",
      "1632/1632 [==============================] - 747s 458ms/step - loss: -0.9083 - dice_coef: 0.9083 - acc: 0.8399 - mean_squared_error: 0.0031 - Jaccard_index: 0.8328 - Specificity: 0.9757 - Sensitivity: 1.0027 - precision: 0.9860 - recall: 0.9793 - f1score: 0.9826 - val_loss: -0.7328 - val_dice_coef: 0.7328 - val_acc: 0.8257 - val_mean_squared_error: 0.0213 - val_Jaccard_index: 0.5818 - val_Specificity: 0.9626 - val_Sensitivity: 0.9979 - val_precision: 0.8962 - val_recall: 0.7117 - val_f1score: 0.7895\n",
      "Epoch 142/150\n",
      "1632/1632 [==============================] - 747s 458ms/step - loss: -0.9082 - dice_coef: 0.9082 - acc: 0.8399 - mean_squared_error: 0.0031 - Jaccard_index: 0.8328 - Specificity: 0.9757 - Sensitivity: 1.0027 - precision: 0.9860 - recall: 0.9791 - f1score: 0.9825 - val_loss: -0.7430 - val_dice_coef: 0.7430 - val_acc: 0.8259 - val_mean_squared_error: 0.0205 - val_Jaccard_index: 0.5942 - val_Specificity: 0.9630 - val_Sensitivity: 0.9986 - val_precision: 0.8966 - val_recall: 0.7277 - val_f1score: 0.8004\n",
      "Epoch 143/150\n",
      "1632/1632 [==============================] - 748s 458ms/step - loss: -0.9080 - dice_coef: 0.9080 - acc: 0.8398 - mean_squared_error: 0.0031 - Jaccard_index: 0.8324 - Specificity: 0.9757 - Sensitivity: 1.0027 - precision: 0.9858 - recall: 0.9788 - f1score: 0.9823 - val_loss: -0.7371 - val_dice_coef: 0.7371 - val_acc: 0.8257 - val_mean_squared_error: 0.0210 - val_Jaccard_index: 0.5870 - val_Specificity: 0.9628 - val_Sensitivity: 0.9983 - val_precision: 0.8947 - val_recall: 0.7199 - val_f1score: 0.7944\n",
      "Epoch 144/150\n",
      "1632/1632 [==============================] - 747s 458ms/step - loss: -0.9086 - dice_coef: 0.9086 - acc: 0.8399 - mean_squared_error: 0.0030 - Jaccard_index: 0.8336 - Specificity: 0.9757 - Sensitivity: 1.0027 - precision: 0.9866 - recall: 0.9799 - f1score: 0.9832 - val_loss: -0.7293 - val_dice_coef: 0.7293 - val_acc: 0.8262 - val_mean_squared_error: 0.0212 - val_Jaccard_index: 0.5777 - val_Specificity: 0.9620 - val_Sensitivity: 0.9963 - val_precision: 0.9129 - val_recall: 0.6939 - val_f1score: 0.7848\n"
     ]
    },
    {
     "name": "stdout",
     "output_type": "stream",
     "text": [
      "Epoch 145/150\n",
      "1632/1632 [==============================] - 748s 458ms/step - loss: -0.9087 - dice_coef: 0.9087 - acc: 0.8399 - mean_squared_error: 0.0030 - Jaccard_index: 0.8336 - Specificity: 0.9757 - Sensitivity: 1.0027 - precision: 0.9864 - recall: 0.9797 - f1score: 0.9830 - val_loss: -0.7353 - val_dice_coef: 0.7353 - val_acc: 0.8260 - val_mean_squared_error: 0.0209 - val_Jaccard_index: 0.5851 - val_Specificity: 0.9625 - val_Sensitivity: 0.9974 - val_precision: 0.9049 - val_recall: 0.7101 - val_f1score: 0.7923\n",
      "Epoch 146/150\n",
      "1632/1632 [==============================] - 748s 458ms/step - loss: -0.9083 - dice_coef: 0.9083 - acc: 0.8399 - mean_squared_error: 0.0031 - Jaccard_index: 0.8328 - Specificity: 0.9757 - Sensitivity: 1.0027 - precision: 0.9861 - recall: 0.9793 - f1score: 0.9827 - val_loss: -0.6930 - val_dice_coef: 0.6930 - val_acc: 0.8263 - val_mean_squared_error: 0.0231 - val_Jaccard_index: 0.5350 - val_Specificity: 0.9601 - val_Sensitivity: 0.9924 - val_precision: 0.9377 - val_recall: 0.6224 - val_f1score: 0.7431\n",
      "Epoch 147/150\n",
      "1632/1632 [==============================] - 746s 457ms/step - loss: -0.9087 - dice_coef: 0.9087 - acc: 0.8399 - mean_squared_error: 0.0030 - Jaccard_index: 0.8336 - Specificity: 0.9757 - Sensitivity: 1.0027 - precision: 0.9865 - recall: 0.9797 - f1score: 0.9831 - val_loss: -0.7376 - val_dice_coef: 0.7376 - val_acc: 0.8259 - val_mean_squared_error: 0.0209 - val_Jaccard_index: 0.5875 - val_Specificity: 0.9627 - val_Sensitivity: 0.9979 - val_precision: 0.9004 - val_recall: 0.7157 - val_f1score: 0.7942\n",
      "Epoch 148/150\n",
      "1632/1632 [==============================] - 748s 459ms/step - loss: -0.9089 - dice_coef: 0.9089 - acc: 0.8399 - mean_squared_error: 0.0030 - Jaccard_index: 0.8339 - Specificity: 0.9757 - Sensitivity: 1.0027 - precision: 0.9866 - recall: 0.9800 - f1score: 0.9833 - val_loss: -0.7310 - val_dice_coef: 0.7310 - val_acc: 0.8260 - val_mean_squared_error: 0.0212 - val_Jaccard_index: 0.5801 - val_Specificity: 0.9623 - val_Sensitivity: 0.9971 - val_precision: 0.9053 - val_recall: 0.7028 - val_f1score: 0.7879\n",
      "Epoch 149/150\n",
      "1632/1632 [==============================] - 752s 461ms/step - loss: -0.9089 - dice_coef: 0.9089 - acc: 0.8399 - mean_squared_error: 0.0030 - Jaccard_index: 0.8339 - Specificity: 0.9757 - Sensitivity: 1.0027 - precision: 0.9866 - recall: 0.9799 - f1score: 0.9832 - val_loss: -0.7389 - val_dice_coef: 0.7389 - val_acc: 0.8255 - val_mean_squared_error: 0.0210 - val_Jaccard_index: 0.5896 - val_Specificity: 0.9630 - val_Sensitivity: 0.9991 - val_precision: 0.8876 - val_recall: 0.7286 - val_f1score: 0.7969\n",
      "Epoch 150/150\n",
      "1632/1632 [==============================] - 759s 465ms/step - loss: -0.9088 - dice_coef: 0.9088 - acc: 0.8399 - mean_squared_error: 0.0030 - Jaccard_index: 0.8337 - Specificity: 0.9757 - Sensitivity: 1.0027 - precision: 0.9868 - recall: 0.9801 - f1score: 0.9834 - val_loss: -0.7342 - val_dice_coef: 0.7342 - val_acc: 0.8256 - val_mean_squared_error: 0.0212 - val_Jaccard_index: 0.5835 - val_Specificity: 0.9627 - val_Sensitivity: 0.9982 - val_precision: 0.8940 - val_recall: 0.7149 - val_f1score: 0.7914\n"
     ]
    }
   ],
   "source": [
    "history = model.fit_generator(train_generator,\n",
    "                    steps_per_epoch=nb_train_samples//batch_size,\n",
    "                    epochs=epochs,\n",
    "                    validation_data = validation_generator,\n",
    "                    validation_steps = nb_validation_samples//batch_size)"
   ]
  },
  {
   "cell_type": "code",
   "execution_count": 14,
   "metadata": {},
   "outputs": [
    {
     "name": "stdout",
     "output_type": "stream",
     "text": [
      "Validation Score:  -0.7345293974876403\n",
      "Validation Accuracy:  0.7345293974876403\n"
     ]
    }
   ],
   "source": [
    "score = model.evaluate_generator(validation_generator, steps=50)\n",
    "\n",
    "print ('Validation Score: ', score[0])\n",
    "print ('Validation Accuracy: ',score[1])"
   ]
  },
  {
   "cell_type": "code",
   "execution_count": 15,
   "metadata": {},
   "outputs": [
    {
     "name": "stdout",
     "output_type": "stream",
     "text": [
      "28/28 [==============================] - 8s 275ms/step\n"
     ]
    }
   ],
   "source": [
    "prediction = model.predict_generator(test_generator, verbose=1, steps=nb_test_samples)"
   ]
  },
  {
   "cell_type": "code",
   "execution_count": 16,
   "metadata": {},
   "outputs": [
    {
     "data": {
      "text/plain": [
       "(392, 512, 512, 1)"
      ]
     },
     "execution_count": 16,
     "metadata": {},
     "output_type": "execute_result"
    }
   ],
   "source": [
    "prediction.shape"
   ]
  },
  {
   "cell_type": "code",
   "execution_count": 17,
   "metadata": {},
   "outputs": [
    {
     "name": "stdout",
     "output_type": "stream",
     "text": [
      "['loss', 'dice_coef', 'acc', 'mean_squared_error', 'Jaccard_index', 'Specificity', 'Sensitivity', 'precision', 'recall', 'f1score']\n",
      "[-0.7849434120314461, 0.784943415096828, 0.9799841182572501, 0.01990354716245617, 0.6484354243959699, 0.968473733152662, 1.0000162448201861, 0.8443169767516, 0.7393758862359183, 0.7849854336466108]\n"
     ]
    }
   ],
   "source": [
    "test_results = model.evaluate_generator(test_generator, steps=50)\n",
    "\n",
    "print(model.metrics_names)\n",
    "print(test_results)"
   ]
  },
  {
   "cell_type": "code",
   "execution_count": 25,
   "metadata": {},
   "outputs": [
    {
     "name": "stdout",
     "output_type": "stream",
     "text": [
      "Training co-effiency    : 0.8339199975279032;\n",
      "Validation co-effiency : 0.5895812416120487\n"
     ]
    }
   ],
   "source": [
    "coef = np.array(history.history['Jaccard_index'])\n",
    "val_coef = np.array(history.history['val_Jaccard_index'])\n",
    "print(\"Training co-effiency    : {};\\nValidation co-effiency : {}\".format(coef[coef==max(coef)][0], val_coef[np.argmax(coef)]))"
   ]
  },
  {
   "cell_type": "code",
   "execution_count": 22,
   "metadata": {},
   "outputs": [],
   "source": [
    "import skimage.io as io\n",
    "\n",
    "def labelVisualize(num_class,color_dict,img):\n",
    "    img = img[:,:,0] if len(img.shape) == 3 else img\n",
    "    img_out = np.zeros(img.shape + (3,))\n",
    "    for i in range(num_class):\n",
    "        img_out[img == i,:] = color_dict[i]\n",
    "    return img_out / 255\n",
    "\n",
    "def saveResult(save_path,npyfile,flag_multi_class = False,num_class = 2):\n",
    "    for i,item in enumerate(npyfile):\n",
    "        img = labelVisualize(num_class,COLOR_DICT,item) if flag_multi_class else item[:,:,0]\n",
    "        io.imsave(os.path.join(save_path,\"%d_predict.png\"%i),img)\n",
    "\n",
    "# os.mkdir('04.U-Net1_results_dir')"
   ]
  },
  {
   "cell_type": "code",
   "execution_count": 23,
   "metadata": {},
   "outputs": [],
   "source": [
    "saveResult('04.U-Net1_results_dir',prediction)"
   ]
  },
  {
   "cell_type": "code",
   "execution_count": 29,
   "metadata": {},
   "outputs": [],
   "source": [
    "def normalizeData(img,mask):\n",
    "    mean = np.mean(img)\n",
    "    std = np.std(img)\n",
    "    img -= mean\n",
    "    img /= std\n",
    "    mask = mask /255\n",
    "    mask[mask > 0.5] = 1\n",
    "    mask[mask <= 0.5] = 0\n",
    "    return (img,mask)\n",
    "\n",
    "test_data_dir= \"data_augmented/cvc300_test/images/\"\n",
    "test_data_mask_dir = \"data_augmented/cvc300_test/masks/\"\n",
    "test_data_pred_dir = \"04.U-Net1_results_dir\"\n",
    "img_rows, img_cols = 512, 512"
   ]
  },
  {
   "cell_type": "code",
   "execution_count": 31,
   "metadata": {},
   "outputs": [
    {
     "name": "stdout",
     "output_type": "stream",
     "text": [
      "1.png -- jaccard index: 0.0007457121391780674\n",
      "11.png -- jaccard index: 0.002782362513244152\n",
      "113.png -- jaccard index: 0.2656401991844177\n",
      "12.png -- jaccard index: 0.518083930015564\n",
      "144.png -- jaccard index: 0.3765115439891815\n",
      "156.png -- jaccard index: 0.05834575742483139\n",
      "169.png -- jaccard index: 0.26028677821159363\n",
      "171.png -- jaccard index: 0.3579050302505493\n",
      "175.png -- jaccard index: 0.650025486946106\n",
      "182.png -- jaccard index: 0.5279740691184998\n",
      "185.png -- jaccard index: 0.4226638376712799\n",
      "19.png -- jaccard index: 0.8852477073669434\n",
      "193.png -- jaccard index: 0.42929700016975403\n",
      "214.png -- jaccard index: 0.5620811581611633\n",
      "23.png -- jaccard index: 0.6570042371749878\n",
      "238.png -- jaccard index: 0.356876403093338\n",
      "239.png -- jaccard index: 0.3380938172340393\n",
      "244.png -- jaccard index: 0.00013676841626875103\n",
      "246.png -- jaccard index: 0.23316484689712524\n",
      "256.png -- jaccard index: 0.7367081642150879\n",
      "269.png -- jaccard index: 0.10808122158050537\n",
      "3.png -- jaccard index: 0.5006229877471924\n",
      "42.png -- jaccard index: 0.6061117053031921\n",
      "44.png -- jaccard index: 0.00036088054184801877\n",
      "68.png -- jaccard index: 4.686093961936422e-05\n",
      "74.png -- jaccard index: 0.0001663860457483679\n",
      "76.png -- jaccard index: 0.2700905203819275\n",
      "77.png -- jaccard index: 0.6577996015548706\n"
     ]
    }
   ],
   "source": [
    "from keras.preprocessing import image as image_utils\n",
    "from keras.preprocessing.image import load_img\n",
    "from keras.preprocessing.image import img_to_array\n",
    "from keras.preprocessing.image import array_to_img\n",
    "\n",
    "file_names = next(os.walk(test_data_dir))[2]\n",
    "scores = []\n",
    "for file in file_names:\n",
    "    grey_img = load_img(os.path.join(test_data_dir,file), target_size=(img_rows, img_cols), grayscale=False)\n",
    "    mask_img = load_img(os.path.join(test_data_mask_dir,file), target_size=(img_rows, img_cols), grayscale=True)\n",
    "    img = img_to_array(grey_img)\n",
    "    img_mask = img_to_array(mask_img)\n",
    "    \n",
    "    img, img_mask = normalizeData(img, img_mask)\n",
    "    img = np.reshape(img,(1,)+img.shape)\n",
    "    \n",
    "    pred = model.predict([img])\n",
    "    sess = tf.Session()\n",
    "    score = sess.run(Jaccard_index(img_mask, pred))\n",
    "    print(\"{} -- jaccard index: {}\".format(file,score))\n",
    "    scores.append([file,score])\n",
    "\n",
    "    result_img = array_to_img(pred[0] * 255 )\n",
    "    result_img.save(os.path.join(test_data_pred_dir, file.split('.')[0] + '_predict.jpg'))\n",
    "\n",
    "with open(\"unet_test_result.csv\", 'w') as f:\n",
    "    f.write(\"filename, jaccard_index\\n\")\n",
    "    for i in range(len(scores)):\n",
    "        #print(scores[i])\n",
    "        f.write(\"{},{}\\n\".format(scores[i][0], scores[i][1]))"
   ]
  },
  {
   "cell_type": "code",
   "execution_count": 24,
   "metadata": {},
   "outputs": [
    {
     "name": "stdout",
     "output_type": "stream",
     "text": [
      "Populating the interactive namespace from numpy and matplotlib\n"
     ]
    },
    {
     "data": {
      "image/png": "[encoded data removed]",
      "text/plain": [
       "<Figure size 432x288 with 1 Axes>"
      ]
     },
     "metadata": {
      "needs_background": "light"
     },
     "output_type": "display_data"
    }
   ],
   "source": [
    "%pylab inline\n",
    "import matplotlib.pyplot as plt\n",
    "import matplotlib.image as mpimg\n",
    "img=mpimg.imread('04.U-Net1_results_dir/101_predict.png')\n",
    "imgplot = plt.imshow(img)\n",
    "plt.show()"
   ]
  },
  {
   "cell_type": "code",
   "execution_count": 18,
   "metadata": {},
   "outputs": [
    {
     "data": {
      "text/plain": [
       "<matplotlib.image.AxesImage at 0x1631cb679e8>"
      ]
     },
     "execution_count": 18,
     "metadata": {},
     "output_type": "execute_result"
    },
    {
     "data": {
      "image/png": "[encoded data removed]",
      "text/plain": [
       "<Figure size 432x288 with 1 Axes>"
      ]
     },
     "metadata": {
      "needs_background": "light"
     },
     "output_type": "display_data"
    }
   ],
   "source": [
    "plt.imshow(np.squeeze(prediction[1]), cmap = \"gray\")"
   ]
  },
  {
   "cell_type": "code",
   "execution_count": 19,
   "metadata": {},
   "outputs": [
    {
     "data": {
      "text/plain": [
       "<matplotlib.image.AxesImage at 0x1631c943978>"
      ]
     },
     "execution_count": 19,
     "metadata": {},
     "output_type": "execute_result"
    },
    {
     "data": {
      "image/png": "[encoded data removed]",
      "text/plain": [
       "<Figure size 432x288 with 1 Axes>"
      ]
     },
     "metadata": {
      "needs_background": "light"
     },
     "output_type": "display_data"
    }
   ],
   "source": [
    "plt.imshow(np.squeeze(prediction[1]), cmap = \"gray\", vmin = 0.0, vmax= 0.09)"
   ]
  },
  {
   "cell_type": "code",
   "execution_count": 20,
   "metadata": {},
   "outputs": [
    {
     "name": "stdout",
     "output_type": "stream",
     "text": [
      "[[2.0629561e-01 9.0392336e-04 1.4742263e-05 ... 2.5926038e-05\n",
      "  1.1089244e-03 1.4843126e-01]\n",
      " [9.3615276e-04 7.0756883e-08 5.1407722e-11 ... 8.8841184e-11\n",
      "  7.9038657e-08 6.7879743e-04]\n",
      " [3.1334090e-05 1.7578129e-10 1.3664632e-14 ... 3.2751999e-14\n",
      "  1.8978377e-10 2.2925035e-05]\n",
      " ...\n",
      " [1.0474886e-05 2.4142709e-11 5.0711376e-16 ... 3.5151362e-26\n",
      "  2.3644186e-20 4.0212469e-11]\n",
      " [1.2426430e-03 7.6615073e-08 2.7319728e-11 ... 1.6932534e-18\n",
      "  1.3631364e-14 7.4695684e-08]\n",
      " [1.5508819e-01 8.1716850e-04 9.4105335e-06 ... 1.7557596e-09\n",
      "  2.0083732e-07 1.5457271e-03]]\n"
     ]
    },
    {
     "data": {
      "image/png": "[encoded data removed]",
      "text/plain": [
       "<Figure size 432x288 with 1 Axes>"
      ]
     },
     "metadata": {
      "needs_background": "light"
     },
     "output_type": "display_data"
    }
   ],
   "source": [
    "results_ =  np.squeeze(np.multiply(prediction[1], 255))\n",
    "print(results_)\n",
    "\n",
    "plt.imshow(results_, cmap = \"gray\", vmin = 0.0, vmax= 0.7)\n",
    "plt.show()"
   ]
  },
  {
   "cell_type": "code",
   "execution_count": 35,
   "metadata": {},
   "outputs": [
    {
     "name": "stdout",
     "output_type": "stream",
     "text": [
      "Populating the interactive namespace from numpy and matplotlib\n"
     ]
    },
    {
     "data": {
      "image/png": "[encoded data removed]",
      "text/plain": [
       "<Figure size 432x288 with 1 Axes>"
      ]
     },
     "metadata": {
      "needs_background": "light"
     },
     "output_type": "display_data"
    }
   ],
   "source": [
    "%pylab inline\n",
    "import matplotlib.pyplot as plt\n",
    "import matplotlib.image as mpimg\n",
    "img=mpimg.imread('04.U-Net1_results_dir/35_predict.png')\n",
    "imgplot = plt.imshow(img)\n",
    "plt.show()"
   ]
  },
  {
   "cell_type": "code",
   "execution_count": 21,
   "metadata": {},
   "outputs": [
    {
     "name": "stdout",
     "output_type": "stream",
     "text": [
      "dict_keys(['val_mean_squared_error', 'val_precision', 'loss', 'val_Specificity', 'val_recall', 'acc', 'val_Sensitivity', 'val_f1score', 'precision', 'Specificity', 'f1score', 'recall', 'dice_coef', 'val_loss', 'val_acc', 'val_dice_coef', 'Jaccard_index', 'Sensitivity', 'val_Jaccard_index', 'mean_squared_error'])\n"
     ]
    },
    {
     "data": {
      "image/png": "[encoded data removed]",
      "text/plain": [
       "<Figure size 432x288 with 1 Axes>"
      ]
     },
     "metadata": {
      "needs_background": "light"
     },
     "output_type": "display_data"
    },
    {
     "data": {
      "image/png": "[encoded data removed]",
      "text/plain": [
       "<Figure size 432x288 with 1 Axes>"
      ]
     },
     "metadata": {
      "needs_background": "light"
     },
     "output_type": "display_data"
    }
   ],
   "source": [
    "print(history.history.keys())\n",
    "# summarize history for accuracy\n",
    "plt.plot(history.history['dice_coef'])\n",
    "plt.plot(history.history['val_dice_coef'])\n",
    "plt.title('model dice_coeff')\n",
    "plt.ylabel('dice_coef')\n",
    "plt.xlabel('epoch')\n",
    "plt.legend(['train', 'validation'], loc='upper left')\n",
    "plt.show()\n",
    "# summarize history for loss\n",
    "plt.plot(history.history['loss'])\n",
    "plt.plot(history.history['val_loss'])\n",
    "plt.title('model loss')\n",
    "plt.ylabel('loss')\n",
    "plt.xlabel('epoch')\n",
    "plt.legend(['train', 'validation'], loc='upper left')\n",
    "plt.show()"
   ]
  },
  {
   "cell_type": "code",
   "execution_count": null,
   "metadata": {},
   "outputs": [],
   "source": []
  }
 ],
 "metadata": {
  "kernelspec": {
   "display_name": "Python 3",
   "language": "python",
   "name": "python3"
  },
  "language_info": {
   "codemirror_mode": {
    "name": "ipython",
    "version": 3
   },
   "file_extension": ".py",
   "mimetype": "text/x-python",
   "name": "python",
   "nbconvert_exporter": "python",
   "pygments_lexer": "ipython3",
   "version": "3.5.2"
  }
 },
 "nbformat": 4,
 "nbformat_minor": 1
}
