{
 "cells": [
  {
   "cell_type": "code",
   "execution_count": 1,
   "metadata": {},
   "outputs": [],
   "source": [
    "import warnings\n",
    "warnings.filterwarnings('always')\n",
    "warnings.filterwarnings('ignore')"
   ]
  },
  {
   "cell_type": "code",
   "execution_count": 2,
   "metadata": {},
   "outputs": [
    {
     "data": {
      "text/plain": [
       "[name: \"/device:CPU:0\"\n",
       " device_type: \"CPU\"\n",
       " memory_limit: 268435456\n",
       " locality {\n",
       " }\n",
       " incarnation: 13154031514498188062, name: \"/device:GPU:0\"\n",
       " device_type: \"GPU\"\n",
       " memory_limit: 9214062756\n",
       " locality {\n",
       "   bus_id: 1\n",
       "   links {\n",
       "   }\n",
       " }\n",
       " incarnation: 15870695997489903410\n",
       " physical_device_desc: \"device: 0, name: GeForce GTX 1080 Ti, pci bus id: 0000:01:00.0, compute capability: 6.1\"]"
      ]
     },
     "execution_count": 2,
     "metadata": {},
     "output_type": "execute_result"
    }
   ],
   "source": [
    "from tensorflow.python.client import device_lib\n",
    "device_lib.list_local_devices()"
   ]
  },
  {
   "cell_type": "code",
   "execution_count": 3,
   "metadata": {},
   "outputs": [
    {
     "name": "stderr",
     "output_type": "stream",
     "text": [
      "Using TensorFlow backend.\n"
     ]
    }
   ],
   "source": [
    "import sys\n",
    "import time\n",
    "import math\n",
    "import os\n",
    "import pandas as pd\n",
    "import numpy as np\n",
    "\n",
    "import keras\n",
    "from keras import layers, metrics, models, optimizers\n",
    "from keras.optimizers import Adam, RMSprop,SGD\n",
    "from keras.models import Model\n",
    "from keras.models import Sequential\n",
    "from keras.layers import Input, concatenate, Flatten, Dense, Activation, Dropout, Conv2D, MaxPooling2D, BatchNormalization, GlobalAveragePooling2D\n",
    "from keras.preprocessing.image import ImageDataGenerator\n",
    "\n",
    "\n",
    "import matplotlib.pyplot as plt\n",
    "%matplotlib inline"
   ]
  },
  {
   "cell_type": "code",
   "execution_count": 4,
   "metadata": {},
   "outputs": [
    {
     "name": "stdout",
     "output_type": "stream",
     "text": [
      "Keras Version 2.2.4\n",
      "tensorflow Version 1.9.0\n"
     ]
    }
   ],
   "source": [
    "import keras\n",
    "import tensorflow as tf\n",
    "\n",
    "print(\"Keras Version\", keras.__version__)\n",
    "print(\"tensorflow Version\", tf.__version__)\n",
    "# print(\"dim_ordering:\", K.image_dim_ordering())"
   ]
  },
  {
   "cell_type": "code",
   "execution_count": 5,
   "metadata": {},
   "outputs": [],
   "source": [
    "batch_size = 16\n",
    "img_rows, img_cols = 256, 256\n",
    "input_shape = (img_rows, img_cols, 3)\n",
    "epochs = 150"
   ]
  },
  {
   "cell_type": "code",
   "execution_count": 6,
   "metadata": {},
   "outputs": [],
   "source": [
    "train_dir = 'data_augmented/cvc300_train/'\n",
    "validation_dir = 'data_augmented/cvc300_validation/'\n",
    "test_dir = 'data_augmented/cvc300_test/'\n",
    "\n",
    "image_folder = 'images'\n",
    "masks_folder = 'masks'"
   ]
  },
  {
   "cell_type": "code",
   "execution_count": 7,
   "metadata": {},
   "outputs": [],
   "source": [
    "import numpy as np \n",
    "import os\n",
    "from keras.models import *\n",
    "from keras.layers import *\n",
    "from keras.optimizers import *\n",
    "from keras.callbacks import ModelCheckpoint, LearningRateScheduler\n",
    "\n",
    "def unet(pretrained_weights = None,input_size = (img_rows, img_cols,3)):\n",
    "    inputs = Input(input_size)\n",
    "    conv1 = Conv2D(64, 3, activation = 'relu', padding = 'same', kernel_initializer = 'he_normal')(inputs)\n",
    "    conv1 = Conv2D(64, 3, activation = 'relu', padding = 'same', kernel_initializer = 'he_normal')(conv1)\n",
    "    pool1 = MaxPooling2D(pool_size=(2, 2))(conv1)\n",
    "    conv2 = Conv2D(128, 3, activation = 'relu', padding = 'same', kernel_initializer = 'he_normal')(pool1)\n",
    "    conv2 = Conv2D(128, 3, activation = 'relu', padding = 'same', kernel_initializer = 'he_normal')(conv2)\n",
    "    pool2 = MaxPooling2D(pool_size=(2, 2))(conv2)\n",
    "    conv3 = Conv2D(256, 3, activation = 'relu', padding = 'same', kernel_initializer = 'he_normal')(pool2)\n",
    "    conv3 = Conv2D(256, 3, activation = 'relu', padding = 'same', kernel_initializer = 'he_normal')(conv3)\n",
    "    pool3 = MaxPooling2D(pool_size=(2, 2))(conv3)\n",
    "    conv4 = Conv2D(512, 3, activation = 'relu', padding = 'same', kernel_initializer = 'he_normal')(pool3)\n",
    "    conv4 = Conv2D(512, 3, activation = 'relu', padding = 'same', kernel_initializer = 'he_normal')(conv4)\n",
    "    drop4 = Dropout(0.5)(conv4)\n",
    "    pool4 = MaxPooling2D(pool_size=(2, 2))(drop4)\n",
    "\n",
    "    conv5 = Conv2D(1024, 3, activation = 'relu', padding = 'same', kernel_initializer = 'he_normal')(pool4)\n",
    "    conv5 = Conv2D(1024, 3, activation = 'relu', padding = 'same', kernel_initializer = 'he_normal')(conv5)\n",
    "    drop5 = Dropout(0.5)(conv5)\n",
    "\n",
    "    up6 = Conv2D(512, 2, activation = 'relu', padding = 'same', kernel_initializer = 'he_normal')(UpSampling2D(size = (2,2))(drop5))\n",
    "    merge6 = concatenate([drop4,up6], axis = 3)\n",
    "    conv6 = Conv2D(512, 3, activation = 'relu', padding = 'same', kernel_initializer = 'he_normal')(merge6)\n",
    "    conv6 = Conv2D(512, 3, activation = 'relu', padding = 'same', kernel_initializer = 'he_normal')(conv6)\n",
    "\n",
    "    up7 = Conv2D(256, 2, activation = 'relu', padding = 'same', kernel_initializer = 'he_normal')(UpSampling2D(size = (2,2))(conv6))\n",
    "    merge7 = concatenate([conv3,up7], axis = 3)\n",
    "    conv7 = Conv2D(256, 3, activation = 'relu', padding = 'same', kernel_initializer = 'he_normal')(merge7)\n",
    "    conv7 = Conv2D(256, 3, activation = 'relu', padding = 'same', kernel_initializer = 'he_normal')(conv7)\n",
    "\n",
    "    up8 = Conv2D(128, 2, activation = 'relu', padding = 'same', kernel_initializer = 'he_normal')(UpSampling2D(size = (2,2))(conv7))\n",
    "    merge8 = concatenate([conv2,up8], axis = 3)\n",
    "    conv8 = Conv2D(128, 3, activation = 'relu', padding = 'same', kernel_initializer = 'he_normal')(merge8)\n",
    "    conv8 = Conv2D(128, 3, activation = 'relu', padding = 'same', kernel_initializer = 'he_normal')(conv8)\n",
    "\n",
    "    up9 = Conv2D(64, 2, activation = 'relu', padding = 'same', kernel_initializer = 'he_normal')(UpSampling2D(size = (2,2))(conv8))\n",
    "    merge9 = concatenate([conv1,up9], axis = 3)\n",
    "    conv9 = Conv2D(64, 3, activation = 'relu', padding = 'same', kernel_initializer = 'he_normal')(merge9)\n",
    "    conv9 = Conv2D(64, 3, activation = 'relu', padding = 'same', kernel_initializer = 'he_normal')(conv9)\n",
    "    conv9 = Conv2D(2, 3, activation = 'relu', padding = 'same', kernel_initializer = 'he_normal')(conv9)\n",
    "    conv10 = Conv2D(1, 1, activation = 'sigmoid')(conv9)\n",
    "\n",
    "    model = Model(input = inputs, output = conv10)\n",
    "    return model"
   ]
  },
  {
   "cell_type": "code",
   "execution_count": 8,
   "metadata": {},
   "outputs": [
    {
     "name": "stdout",
     "output_type": "stream",
     "text": [
      "Found 26112 images belonging to 1 classes.\n",
      "Found 26112 images belonging to 1 classes.\n",
      "Found 8704 images belonging to 1 classes.\n",
      "Found 8704 images belonging to 1 classes.\n",
      "Found 28 images belonging to 1 classes.\n",
      "Found 28 images belonging to 1 classes.\n"
     ]
    }
   ],
   "source": [
    "seed = 1142\n",
    "data_gen_args = dict(rescale=1. / 255, featurewise_center=True, featurewise_std_normalization=True)\n",
    "image_datagen = ImageDataGenerator(**data_gen_args)\n",
    "masks_datagen = ImageDataGenerator(**data_gen_args)\n",
    "\n",
    "test_datagen = ImageDataGenerator(rescale=1./255)\n",
    "\n",
    "image_generator = image_datagen.flow_from_directory(\n",
    "    train_dir,\n",
    "    classes = [image_folder],\n",
    "    target_size=(img_rows, img_cols),\n",
    "    batch_size=batch_size,\n",
    "    class_mode=None,\n",
    "    seed=seed)\n",
    "\n",
    "mask_generator = masks_datagen.flow_from_directory(\n",
    "    train_dir,\n",
    "    classes = [masks_folder],\n",
    "    color_mode='grayscale',\n",
    "    target_size=(img_rows, img_cols),\n",
    "    batch_size=batch_size,\n",
    "    class_mode=None,\n",
    "    seed=seed)\n",
    "\n",
    "validation_image_generator = image_datagen.flow_from_directory(\n",
    "    validation_dir,\n",
    "    classes = [image_folder],\n",
    "    target_size=(img_rows, img_cols),\n",
    "    batch_size=batch_size,\n",
    "    class_mode=None,\n",
    "    seed=seed)\n",
    "\n",
    "validation_mask_generator = masks_datagen.flow_from_directory(\n",
    "    validation_dir,\n",
    "    classes = [masks_folder],\n",
    "    color_mode='grayscale',\n",
    "    target_size=(img_rows, img_cols),\n",
    "    batch_size=batch_size,\n",
    "    class_mode=None,\n",
    "    seed=seed)\n",
    "\n",
    "test_image_generator = test_datagen.flow_from_directory(\n",
    "    test_dir,\n",
    "    classes = [image_folder],\n",
    "    target_size=(img_rows, img_cols),\n",
    "    batch_size=batch_size,\n",
    "    class_mode=None,\n",
    "    seed=seed)\n",
    "\n",
    "test_mask_generator = test_datagen.flow_from_directory(\n",
    "    test_dir,\n",
    "    classes = [masks_folder],\n",
    "    color_mode='grayscale',\n",
    "    target_size=(img_rows, img_cols),\n",
    "    batch_size=batch_size,\n",
    "    class_mode=None,\n",
    "    seed=seed)"
   ]
  },
  {
   "cell_type": "code",
   "execution_count": 9,
   "metadata": {},
   "outputs": [],
   "source": [
    "train_generator = zip(image_generator, mask_generator)\n",
    "validation_generator = zip(validation_image_generator, validation_mask_generator)\n",
    "test_generator = zip(test_image_generator, test_mask_generator)"
   ]
  },
  {
   "cell_type": "code",
   "execution_count": 10,
   "metadata": {},
   "outputs": [
    {
     "name": "stdout",
     "output_type": "stream",
     "text": [
      "nb_train_samples: 26112\n",
      "nb_validation_samples: 8704\n",
      "nb_test_samples: 28\n",
      "\n",
      "predict_size_train: 1632\n",
      "predict_size_validation: 544\n",
      "predict_size_test: 2\n"
     ]
    }
   ],
   "source": [
    "nb_train_samples = len(image_generator.filenames)\n",
    "nb_validation_samples = len(validation_image_generator.filenames)\n",
    "nb_test_samples = len(test_image_generator.filenames)\n",
    "\n",
    "predict_size_train = int(math.ceil(nb_train_samples / batch_size))\n",
    "predict_size_validation = int(math.ceil(nb_validation_samples / batch_size))\n",
    "predict_size_test = int(math.ceil(nb_test_samples / batch_size))\n",
    "\n",
    "print(\"nb_train_samples:\", nb_train_samples)\n",
    "print(\"nb_validation_samples:\", nb_validation_samples)\n",
    "print(\"nb_test_samples:\", nb_test_samples)\n",
    "\n",
    "print(\"\\npredict_size_train:\", predict_size_train)\n",
    "print(\"predict_size_validation:\", predict_size_validation)\n",
    "print(\"predict_size_test:\", predict_size_test)"
   ]
  },
  {
   "cell_type": "code",
   "execution_count": 11,
   "metadata": {},
   "outputs": [],
   "source": [
    "smooth = 1.\n",
    "from keras import backend as K\n",
    "\n",
    "def dice_coef(y_true, y_pred):\n",
    "    y_true_f = K.flatten(y_true)\n",
    "    y_pred_f = K.flatten(y_pred)\n",
    "    intersection = K.sum(y_true_f * y_pred_f)\n",
    "    return (2. * intersection + smooth) / (K.sum(y_true_f) + K.sum(y_pred_f) + smooth)\n",
    "\n",
    "\n",
    "def dice_coef_loss(y_true, y_pred):\n",
    "    return -dice_coef(y_true, y_pred)\n",
    "\n",
    "\n",
    "def Specificity(y_true, y_pred):\n",
    "    true_negatives = K.abs(y_pred)- K.abs(y_true)\n",
    "    return ((true_negatives+smooth)/(y_pred+ smooth))\n",
    "\n",
    "def Sensitivity(y_true, y_pred):\n",
    "    y_true = K.flatten(y_true)\n",
    "    y_pred = K.flatten(y_pred)\n",
    "    return ((y_pred+smooth)/ (y_true+smooth))\n",
    "\n",
    "def Jaccard_index(y_true,y_pred):\n",
    "    y_true_f = K.flatten(y_true)\n",
    "    y_pred_f = K.flatten(y_pred)\n",
    "    intersection = K.sum(y_true_f * y_pred_f)\n",
    "    return ((intersection + smooth) / (K.sum(y_true_f) + K.sum(y_pred_f) - intersection + smooth))\n",
    "\n",
    "def precision(y_true, y_pred):\n",
    "    \"\"\"Precision metric.\n",
    "    Only computes a batch-wise average of precision.\n",
    "    Computes the precision, a metric for multi-label classification of\n",
    "    how many selected items are relevant.\n",
    "    \"\"\"\n",
    "    true_positives = K.sum(K.round(K.clip(y_true * y_pred, 0, 1)))\n",
    "    predicted_positives = K.sum(K.round(K.clip(y_pred, 0, 1)))\n",
    "    precision = true_positives / (predicted_positives + K.epsilon())\n",
    "    return precision\n",
    "\n",
    "\n",
    "def recall(y_true, y_pred):\n",
    "    \"\"\"Recall metric.\n",
    "    Only computes a batch-wise average of recall.\n",
    "    Computes the recall, a metric for multi-label classification of\n",
    "    how many relevant items are selected.\n",
    "    \"\"\"\n",
    "    true_positives = K.sum(K.round(K.clip(y_true * y_pred, 0, 1)))\n",
    "    possible_positives = K.sum(K.round(K.clip(y_true, 0, 1)))\n",
    "    recall = true_positives / (possible_positives + K.epsilon())\n",
    "    return recall\n",
    "\n",
    "\n",
    "def f1score(y_true, y_pred):\n",
    "    def recall(y_true, y_pred):\n",
    "        \"\"\"Recall metric.\n",
    "        Only computes a batch-wise average of recall.\n",
    "        Computes the recall, a metric for multi-label classification of\n",
    "        how many relevant items are selected.\n",
    "        \"\"\"\n",
    "        true_positives = K.sum(K.round(K.clip(y_true * y_pred, 0, 1)))\n",
    "        possible_positives = K.sum(K.round(K.clip(y_true, 0, 1)))\n",
    "        recall = true_positives / (possible_positives + K.epsilon())\n",
    "        return recall\n",
    "\n",
    "    def precision(y_true, y_pred):\n",
    "        \"\"\"Precision metric.\n",
    "        Only computes a batch-wise average of precision.\n",
    "        Computes the precision, a metric for multi-label classification of\n",
    "        how many selected items are relevant.\n",
    "        \"\"\"\n",
    "        true_positives = K.sum(K.round(K.clip(y_true * y_pred, 0, 1)))\n",
    "        predicted_positives = K.sum(K.round(K.clip(y_pred, 0, 1)))\n",
    "        precision = true_positives / (predicted_positives + K.epsilon())\n",
    "        return precision\n",
    "\n",
    "    precision = precision(y_true, y_pred)\n",
    "    recall = recall(y_true, y_pred)\n",
    "    return 2 * ((precision * recall) / (precision + recall))"
   ]
  },
  {
   "cell_type": "code",
   "execution_count": 12,
   "metadata": {},
   "outputs": [
    {
     "name": "stdout",
     "output_type": "stream",
     "text": [
      "__________________________________________________________________________________________________\n",
      "Layer (type)                    Output Shape         Param #     Connected to                     \n",
      "==================================================================================================\n",
      "input_1 (InputLayer)            (None, 256, 256, 3)  0                                            \n",
      "__________________________________________________________________________________________________\n",
      "conv2d_1 (Conv2D)               (None, 256, 256, 64) 1792        input_1[0][0]                    \n",
      "__________________________________________________________________________________________________\n",
      "conv2d_2 (Conv2D)               (None, 256, 256, 64) 36928       conv2d_1[0][0]                   \n",
      "__________________________________________________________________________________________________\n",
      "max_pooling2d_1 (MaxPooling2D)  (None, 128, 128, 64) 0           conv2d_2[0][0]                   \n",
      "__________________________________________________________________________________________________\n",
      "conv2d_3 (Conv2D)               (None, 128, 128, 128 73856       max_pooling2d_1[0][0]            \n",
      "__________________________________________________________________________________________________\n",
      "conv2d_4 (Conv2D)               (None, 128, 128, 128 147584      conv2d_3[0][0]                   \n",
      "__________________________________________________________________________________________________\n",
      "max_pooling2d_2 (MaxPooling2D)  (None, 64, 64, 128)  0           conv2d_4[0][0]                   \n",
      "__________________________________________________________________________________________________\n",
      "conv2d_5 (Conv2D)               (None, 64, 64, 256)  295168      max_pooling2d_2[0][0]            \n",
      "__________________________________________________________________________________________________\n",
      "conv2d_6 (Conv2D)               (None, 64, 64, 256)  590080      conv2d_5[0][0]                   \n",
      "__________________________________________________________________________________________________\n",
      "max_pooling2d_3 (MaxPooling2D)  (None, 32, 32, 256)  0           conv2d_6[0][0]                   \n",
      "__________________________________________________________________________________________________\n",
      "conv2d_7 (Conv2D)               (None, 32, 32, 512)  1180160     max_pooling2d_3[0][0]            \n",
      "__________________________________________________________________________________________________\n",
      "conv2d_8 (Conv2D)               (None, 32, 32, 512)  2359808     conv2d_7[0][0]                   \n",
      "__________________________________________________________________________________________________\n",
      "dropout_1 (Dropout)             (None, 32, 32, 512)  0           conv2d_8[0][0]                   \n",
      "__________________________________________________________________________________________________\n",
      "max_pooling2d_4 (MaxPooling2D)  (None, 16, 16, 512)  0           dropout_1[0][0]                  \n",
      "__________________________________________________________________________________________________\n",
      "conv2d_9 (Conv2D)               (None, 16, 16, 1024) 4719616     max_pooling2d_4[0][0]            \n",
      "__________________________________________________________________________________________________\n",
      "conv2d_10 (Conv2D)              (None, 16, 16, 1024) 9438208     conv2d_9[0][0]                   \n",
      "__________________________________________________________________________________________________\n",
      "dropout_2 (Dropout)             (None, 16, 16, 1024) 0           conv2d_10[0][0]                  \n",
      "__________________________________________________________________________________________________\n",
      "up_sampling2d_1 (UpSampling2D)  (None, 32, 32, 1024) 0           dropout_2[0][0]                  \n",
      "__________________________________________________________________________________________________\n",
      "conv2d_11 (Conv2D)              (None, 32, 32, 512)  2097664     up_sampling2d_1[0][0]            \n",
      "__________________________________________________________________________________________________\n",
      "concatenate_1 (Concatenate)     (None, 32, 32, 1024) 0           dropout_1[0][0]                  \n",
      "                                                                 conv2d_11[0][0]                  \n",
      "__________________________________________________________________________________________________\n",
      "conv2d_12 (Conv2D)              (None, 32, 32, 512)  4719104     concatenate_1[0][0]              \n",
      "__________________________________________________________________________________________________\n",
      "conv2d_13 (Conv2D)              (None, 32, 32, 512)  2359808     conv2d_12[0][0]                  \n",
      "__________________________________________________________________________________________________\n",
      "up_sampling2d_2 (UpSampling2D)  (None, 64, 64, 512)  0           conv2d_13[0][0]                  \n",
      "__________________________________________________________________________________________________\n",
      "conv2d_14 (Conv2D)              (None, 64, 64, 256)  524544      up_sampling2d_2[0][0]            \n",
      "__________________________________________________________________________________________________\n",
      "concatenate_2 (Concatenate)     (None, 64, 64, 512)  0           conv2d_6[0][0]                   \n",
      "                                                                 conv2d_14[0][0]                  \n",
      "__________________________________________________________________________________________________\n",
      "conv2d_15 (Conv2D)              (None, 64, 64, 256)  1179904     concatenate_2[0][0]              \n",
      "__________________________________________________________________________________________________\n",
      "conv2d_16 (Conv2D)              (None, 64, 64, 256)  590080      conv2d_15[0][0]                  \n",
      "__________________________________________________________________________________________________\n",
      "up_sampling2d_3 (UpSampling2D)  (None, 128, 128, 256 0           conv2d_16[0][0]                  \n",
      "__________________________________________________________________________________________________\n",
      "conv2d_17 (Conv2D)              (None, 128, 128, 128 131200      up_sampling2d_3[0][0]            \n",
      "__________________________________________________________________________________________________\n",
      "concatenate_3 (Concatenate)     (None, 128, 128, 256 0           conv2d_4[0][0]                   \n",
      "                                                                 conv2d_17[0][0]                  \n",
      "__________________________________________________________________________________________________\n",
      "conv2d_18 (Conv2D)              (None, 128, 128, 128 295040      concatenate_3[0][0]              \n",
      "__________________________________________________________________________________________________\n",
      "conv2d_19 (Conv2D)              (None, 128, 128, 128 147584      conv2d_18[0][0]                  \n",
      "__________________________________________________________________________________________________\n",
      "up_sampling2d_4 (UpSampling2D)  (None, 256, 256, 128 0           conv2d_19[0][0]                  \n",
      "__________________________________________________________________________________________________\n",
      "conv2d_20 (Conv2D)              (None, 256, 256, 64) 32832       up_sampling2d_4[0][0]            \n",
      "__________________________________________________________________________________________________\n",
      "concatenate_4 (Concatenate)     (None, 256, 256, 128 0           conv2d_2[0][0]                   \n",
      "                                                                 conv2d_20[0][0]                  \n",
      "__________________________________________________________________________________________________\n",
      "conv2d_21 (Conv2D)              (None, 256, 256, 64) 73792       concatenate_4[0][0]              \n",
      "__________________________________________________________________________________________________\n",
      "conv2d_22 (Conv2D)              (None, 256, 256, 64) 36928       conv2d_21[0][0]                  \n",
      "__________________________________________________________________________________________________\n",
      "conv2d_23 (Conv2D)              (None, 256, 256, 2)  1154        conv2d_22[0][0]                  \n",
      "__________________________________________________________________________________________________\n",
      "conv2d_24 (Conv2D)              (None, 256, 256, 1)  3           conv2d_23[0][0]                  \n",
      "==================================================================================================\n",
      "Total params: 31,032,837\n",
      "Trainable params: 31,032,837\n",
      "Non-trainable params: 0\n",
      "__________________________________________________________________________________________________\n"
     ]
    }
   ],
   "source": [
    "model = unet()\n",
    "model.summary()\n",
    "adam_opt = Adam(lr=1e-5, beta_1=0.9, beta_2=0.999, epsilon=None, decay=0.0, amsgrad=False)\n",
    "\n",
    "model.compile(optimizer= adam_opt, loss=dice_coef_loss, \n",
    "              metrics=[dice_coef, 'acc','mse', Jaccard_index, Specificity, Sensitivity, precision, recall, f1score])"
   ]
  },
  {
   "cell_type": "code",
   "execution_count": 13,
   "metadata": {
    "scrolled": true
   },
   "outputs": [
    {
     "name": "stdout",
     "output_type": "stream",
     "text": [
      "Epoch 1/150\n",
      "1632/1632 [==============================] - 997s 611ms/step - loss: -0.0939 - dice_coef: 0.0939 - acc: 0.5685 - mean_squared_error: 0.1774 - Jaccard_index: 0.0501 - Specificity: 0.9632 - Sensitivity: 1.2179 - precision: 0.0305 - recall: 0.2505 - f1score: nan - val_loss: -0.1615 - val_dice_coef: 0.1615 - val_acc: 0.5893 - val_mean_squared_error: 0.0942 - val_Jaccard_index: 0.0883 - val_Specificity: 0.9548 - val_Sensitivity: 1.1193 - val_precision: 0.0360 - val_recall: 0.1777 - val_f1score: nan\n",
      "Epoch 2/150\n",
      "1632/1632 [==============================] - 990s 607ms/step - loss: -0.1744 - dice_coef: 0.1744 - acc: 0.6937 - mean_squared_error: 0.0649 - Jaccard_index: 0.0967 - Specificity: 0.9614 - Sensitivity: 1.0644 - precision: 0.0499 - recall: 0.1587 - f1score: nan - val_loss: -0.2852 - val_dice_coef: 0.2852 - val_acc: 0.7694 - val_mean_squared_error: 0.0449 - val_Jaccard_index: 0.1669 - val_Specificity: 0.9539 - val_Sensitivity: 1.0164 - val_precision: 0.1218 - val_recall: 0.1968 - val_f1score: 0.1484\n",
      "Epoch 3/150\n",
      "1632/1632 [==============================] - 995s 609ms/step - loss: -0.3944 - dice_coef: 0.3944 - acc: 0.8095 - mean_squared_error: 0.0263 - Jaccard_index: 0.2483 - Specificity: 0.9641 - Sensitivity: 1.0021 - precision: 0.2006 - recall: 0.2306 - f1score: nan - val_loss: -0.4538 - val_dice_coef: 0.4538 - val_acc: 0.8128 - val_mean_squared_error: 0.0252 - val_Jaccard_index: 0.2946 - val_Specificity: 0.9576 - val_Sensitivity: 0.9965 - val_precision: 0.2661 - val_recall: 0.2868 - val_f1score: 0.2748\n",
      "Epoch 4/150\n",
      "1632/1632 [==============================] - 996s 610ms/step - loss: -0.5155 - dice_coef: 0.5155 - acc: 0.8296 - mean_squared_error: 0.0163 - Jaccard_index: 0.3481 - Specificity: 0.9661 - Sensitivity: 0.9926 - precision: 0.2981 - recall: 0.2953 - f1score: 0.2953 - val_loss: -0.4989 - val_dice_coef: 0.4989 - val_acc: 0.8169 - val_mean_squared_error: 0.0215 - val_Jaccard_index: 0.3333 - val_Specificity: 0.9588 - val_Sensitivity: 0.9951 - val_precision: 0.3014 - val_recall: 0.3344 - val_f1score: nan\n",
      "Epoch 5/150\n",
      "1632/1632 [==============================] - 992s 608ms/step - loss: -0.6151 - dice_coef: 0.6151 - acc: 0.8333 - mean_squared_error: 0.0131 - Jaccard_index: 0.4540 - Specificity: 0.9685 - Sensitivity: 0.9946 - precision: 0.4672 - recall: 0.4579 - f1score: nan - val_loss: -0.7538 - val_dice_coef: 0.7538 - val_acc: 0.8213 - val_mean_squared_error: 0.0212 - val_Jaccard_index: 0.6072 - val_Specificity: 0.9665 - val_Sensitivity: 1.0107 - val_precision: 0.7943 - val_recall: 0.8421 - val_f1score: 0.8151\n",
      "Epoch 6/150\n",
      "1632/1632 [==============================] - 989s 606ms/step - loss: -0.8310 - dice_coef: 0.8310 - acc: 0.8358 - mean_squared_error: 0.0097 - Jaccard_index: 0.7121 - Specificity: 0.9735 - Sensitivity: 1.0034 - precision: 0.9160 - recall: 0.8797 - f1score: 0.8964 - val_loss: -0.7752 - val_dice_coef: 0.7752 - val_acc: 0.8271 - val_mean_squared_error: 0.0171 - val_Jaccard_index: 0.6368 - val_Specificity: 0.9646 - val_Sensitivity: 1.0002 - val_precision: 0.9009 - val_recall: 0.7777 - val_f1score: 0.8314\n",
      "Epoch 7/150\n",
      "1632/1632 [==============================] - 988s 605ms/step - loss: -0.8506 - dice_coef: 0.8506 - acc: 0.8368 - mean_squared_error: 0.0081 - Jaccard_index: 0.7409 - Specificity: 0.9741 - Sensitivity: 1.0033 - precision: 0.9323 - recall: 0.9054 - f1score: 0.9181 - val_loss: -0.7875 - val_dice_coef: 0.7875 - val_acc: 0.8273 - val_mean_squared_error: 0.0161 - val_Jaccard_index: 0.6530 - val_Specificity: 0.9653 - val_Sensitivity: 1.0013 - val_precision: 0.9002 - val_recall: 0.8025 - val_f1score: 0.8458\n",
      "Epoch 8/150\n",
      "1632/1632 [==============================] - 986s 604ms/step - loss: -0.8599 - dice_coef: 0.8599 - acc: 0.8373 - mean_squared_error: 0.0073 - Jaccard_index: 0.7552 - Specificity: 0.9744 - Sensitivity: 1.0033 - precision: 0.9400 - recall: 0.9181 - f1score: 0.9285 - val_loss: -0.7927 - val_dice_coef: 0.7927 - val_acc: 0.8266 - val_mean_squared_error: 0.0163 - val_Jaccard_index: 0.6598 - val_Specificity: 0.9660 - val_Sensitivity: 1.0036 - val_precision: 0.8832 - val_recall: 0.8299 - val_f1score: 0.8531\n",
      "Epoch 9/150\n",
      "1632/1632 [==============================] - 986s 604ms/step - loss: -0.8673 - dice_coef: 0.8673 - acc: 0.8377 - mean_squared_error: 0.0066 - Jaccard_index: 0.7666 - Specificity: 0.9746 - Sensitivity: 1.0033 - precision: 0.9466 - recall: 0.9286 - f1score: 0.9372 - val_loss: -0.7863 - val_dice_coef: 0.7863 - val_acc: 0.8262 - val_mean_squared_error: 0.0170 - val_Jaccard_index: 0.6513 - val_Specificity: 0.9657 - val_Sensitivity: 1.0034 - val_precision: 0.8786 - val_recall: 0.8207 - val_f1score: 0.8457\n",
      "Epoch 10/150\n",
      "1632/1632 [==============================] - 981s 601ms/step - loss: -0.8721 - dice_coef: 0.8721 - acc: 0.8379 - mean_squared_error: 0.0062 - Jaccard_index: 0.7740 - Specificity: 0.9747 - Sensitivity: 1.0032 - precision: 0.9510 - recall: 0.9347 - f1score: 0.9426 - val_loss: -0.7972 - val_dice_coef: 0.7972 - val_acc: 0.8276 - val_mean_squared_error: 0.0156 - val_Jaccard_index: 0.6666 - val_Specificity: 0.9658 - val_Sensitivity: 1.0019 - val_precision: 0.9031 - val_recall: 0.8218 - val_f1score: 0.8576\n",
      "Epoch 11/150\n",
      "1632/1632 [==============================] - 985s 604ms/step - loss: -0.8769 - dice_coef: 0.8769 - acc: 0.8382 - mean_squared_error: 0.0058 - Jaccard_index: 0.7817 - Specificity: 0.9748 - Sensitivity: 1.0032 - precision: 0.9554 - recall: 0.9404 - f1score: 0.9477 - val_loss: -0.7916 - val_dice_coef: 0.7916 - val_acc: 0.8279 - val_mean_squared_error: 0.0158 - val_Jaccard_index: 0.6593 - val_Specificity: 0.9652 - val_Sensitivity: 1.0005 - val_precision: 0.9139 - val_recall: 0.8026 - val_f1score: 0.8511\n",
      "Epoch 12/150\n",
      "1632/1632 [==============================] - 985s 603ms/step - loss: -0.8804 - dice_coef: 0.8804 - acc: 0.8384 - mean_squared_error: 0.0055 - Jaccard_index: 0.7873 - Specificity: 0.9749 - Sensitivity: 1.0031 - precision: 0.9589 - recall: 0.9451 - f1score: 0.9518 - val_loss: -0.7967 - val_dice_coef: 0.7967 - val_acc: 0.8275 - val_mean_squared_error: 0.0157 - val_Jaccard_index: 0.6656 - val_Specificity: 0.9658 - val_Sensitivity: 1.0021 - val_precision: 0.9012 - val_recall: 0.8238 - val_f1score: 0.8578\n",
      "Epoch 13/150\n",
      "1632/1632 [==============================] - 984s 603ms/step - loss: -0.8823 - dice_coef: 0.8823 - acc: 0.8385 - mean_squared_error: 0.0054 - Jaccard_index: 0.7903 - Specificity: 0.9750 - Sensitivity: 1.0031 - precision: 0.9606 - recall: 0.9473 - f1score: 0.9538 - val_loss: -0.7987 - val_dice_coef: 0.7987 - val_acc: 0.8286 - val_mean_squared_error: 0.0151 - val_Jaccard_index: 0.6693 - val_Specificity: 0.9654 - val_Sensitivity: 1.0001 - val_precision: 0.9252 - val_recall: 0.8083 - val_f1score: 0.8595\n",
      "Epoch 14/150\n",
      "1632/1632 [==============================] - 984s 603ms/step - loss: -0.8857 - dice_coef: 0.8857 - acc: 0.8386 - mean_squared_error: 0.0051 - Jaccard_index: 0.7957 - Specificity: 0.9751 - Sensitivity: 1.0030 - precision: 0.9640 - recall: 0.9511 - f1score: 0.9574 - val_loss: -0.7949 - val_dice_coef: 0.7949 - val_acc: 0.8289 - val_mean_squared_error: 0.0151 - val_Jaccard_index: 0.6643 - val_Specificity: 0.9649 - val_Sensitivity: 0.9988 - val_precision: 0.9362 - val_recall: 0.7910 - val_f1score: 0.8536\n",
      "Epoch 15/150\n",
      "1632/1632 [==============================] - 984s 603ms/step - loss: -0.8857 - dice_coef: 0.8857 - acc: 0.8386 - mean_squared_error: 0.0051 - Jaccard_index: 0.7957 - Specificity: 0.9751 - Sensitivity: 1.0030 - precision: 0.9642 - recall: 0.9514 - f1score: 0.9576 - val_loss: -0.7991 - val_dice_coef: 0.7991 - val_acc: 0.8287 - val_mean_squared_error: 0.0151 - val_Jaccard_index: 0.6694 - val_Specificity: 0.9653 - val_Sensitivity: 0.9998 - val_precision: 0.9284 - val_recall: 0.8068 - val_f1score: 0.8599\n",
      "Epoch 16/150\n",
      "1632/1632 [==============================] - 984s 603ms/step - loss: -0.8894 - dice_coef: 0.8894 - acc: 0.8388 - mean_squared_error: 0.0048 - Jaccard_index: 0.8017 - Specificity: 0.9752 - Sensitivity: 1.0030 - precision: 0.9678 - recall: 0.9556 - f1score: 0.9616 - val_loss: -0.7889 - val_dice_coef: 0.7889 - val_acc: 0.8289 - val_mean_squared_error: 0.0156 - val_Jaccard_index: 0.6564 - val_Specificity: 0.9646 - val_Sensitivity: 0.9983 - val_precision: 0.9390 - val_recall: 0.7805 - val_f1score: 0.8483\n"
     ]
    },
    {
     "name": "stdout",
     "output_type": "stream",
     "text": [
      "Epoch 17/150\n",
      "1632/1632 [==============================] - 983s 603ms/step - loss: -0.8898 - dice_coef: 0.8898 - acc: 0.8389 - mean_squared_error: 0.0047 - Jaccard_index: 0.8025 - Specificity: 0.9752 - Sensitivity: 1.0030 - precision: 0.9685 - recall: 0.9564 - f1score: 0.9623 - val_loss: -0.8014 - val_dice_coef: 0.8014 - val_acc: 0.8295 - val_mean_squared_error: 0.0145 - val_Jaccard_index: 0.6731 - val_Specificity: 0.9650 - val_Sensitivity: 0.9983 - val_precision: 0.9482 - val_recall: 0.7955 - val_f1score: 0.8613\n",
      "Epoch 18/150\n",
      "1632/1632 [==============================] - 983s 602ms/step - loss: -0.8913 - dice_coef: 0.8913 - acc: 0.8390 - mean_squared_error: 0.0046 - Jaccard_index: 0.8049 - Specificity: 0.9752 - Sensitivity: 1.0029 - precision: 0.9698 - recall: 0.9584 - f1score: 0.9640 - val_loss: -0.7911 - val_dice_coef: 0.7911 - val_acc: 0.8289 - val_mean_squared_error: 0.0155 - val_Jaccard_index: 0.6596 - val_Specificity: 0.9646 - val_Sensitivity: 0.9982 - val_precision: 0.9409 - val_recall: 0.7832 - val_f1score: 0.8503\n",
      "Epoch 19/150\n",
      "1632/1632 [==============================] - 983s 602ms/step - loss: -0.8927 - dice_coef: 0.8927 - acc: 0.8390 - mean_squared_error: 0.0044 - Jaccard_index: 0.8070 - Specificity: 0.9753 - Sensitivity: 1.0029 - precision: 0.9713 - recall: 0.9601 - f1score: 0.9656 - val_loss: -0.7985 - val_dice_coef: 0.7985 - val_acc: 0.8289 - val_mean_squared_error: 0.0151 - val_Jaccard_index: 0.6687 - val_Specificity: 0.9651 - val_Sensitivity: 0.9993 - val_precision: 0.9342 - val_recall: 0.8019 - val_f1score: 0.8592\n",
      "Epoch 20/150\n",
      "1632/1632 [==============================] - 983s 602ms/step - loss: -0.8938 - dice_coef: 0.8938 - acc: 0.8391 - mean_squared_error: 0.0044 - Jaccard_index: 0.8090 - Specificity: 0.9753 - Sensitivity: 1.0029 - precision: 0.9724 - recall: 0.9614 - f1score: 0.9668 - val_loss: -0.7979 - val_dice_coef: 0.7979 - val_acc: 0.8288 - val_mean_squared_error: 0.0152 - val_Jaccard_index: 0.6685 - val_Specificity: 0.9652 - val_Sensitivity: 0.9995 - val_precision: 0.9311 - val_recall: 0.8033 - val_f1score: 0.8584\n",
      "Epoch 21/150\n",
      "1632/1632 [==============================] - 982s 602ms/step - loss: -0.8944 - dice_coef: 0.8944 - acc: 0.8391 - mean_squared_error: 0.0043 - Jaccard_index: 0.8098 - Specificity: 0.9753 - Sensitivity: 1.0029 - precision: 0.9728 - recall: 0.9620 - f1score: 0.9673 - val_loss: -0.8002 - val_dice_coef: 0.8002 - val_acc: 0.8290 - val_mean_squared_error: 0.0149 - val_Jaccard_index: 0.6716 - val_Specificity: 0.9651 - val_Sensitivity: 0.9992 - val_precision: 0.9366 - val_recall: 0.8037 - val_f1score: 0.8611\n",
      "Epoch 22/150\n",
      "1632/1632 [==============================] - 982s 602ms/step - loss: -0.8959 - dice_coef: 0.8959 - acc: 0.8392 - mean_squared_error: 0.0042 - Jaccard_index: 0.8124 - Specificity: 0.9753 - Sensitivity: 1.0029 - precision: 0.9742 - recall: 0.9641 - f1score: 0.9690 - val_loss: -0.7981 - val_dice_coef: 0.7981 - val_acc: 0.8291 - val_mean_squared_error: 0.0150 - val_Jaccard_index: 0.6687 - val_Specificity: 0.9649 - val_Sensitivity: 0.9986 - val_precision: 0.9414 - val_recall: 0.7949 - val_f1score: 0.8578\n",
      "Epoch 23/150\n",
      "1632/1632 [==============================] - 982s 602ms/step - loss: -0.8966 - dice_coef: 0.8966 - acc: 0.8393 - mean_squared_error: 0.0041 - Jaccard_index: 0.8135 - Specificity: 0.9754 - Sensitivity: 1.0029 - precision: 0.9749 - recall: 0.9650 - f1score: 0.9699 - val_loss: -0.7958 - val_dice_coef: 0.7958 - val_acc: 0.8288 - val_mean_squared_error: 0.0153 - val_Jaccard_index: 0.6657 - val_Specificity: 0.9649 - val_Sensitivity: 0.9990 - val_precision: 0.9347 - val_recall: 0.7963 - val_f1score: 0.8553\n",
      "Epoch 24/150\n",
      "1632/1632 [==============================] - 982s 602ms/step - loss: -0.8969 - dice_coef: 0.8969 - acc: 0.8393 - mean_squared_error: 0.0041 - Jaccard_index: 0.8140 - Specificity: 0.9754 - Sensitivity: 1.0029 - precision: 0.9753 - recall: 0.9654 - f1score: 0.9703 - val_loss: -0.7910 - val_dice_coef: 0.7910 - val_acc: 0.8291 - val_mean_squared_error: 0.0155 - val_Jaccard_index: 0.6595 - val_Specificity: 0.9644 - val_Sensitivity: 0.9978 - val_precision: 0.9466 - val_recall: 0.7800 - val_f1score: 0.8508\n",
      "Epoch 25/150\n",
      "1632/1632 [==============================] - 982s 601ms/step - loss: -0.8973 - dice_coef: 0.8973 - acc: 0.8393 - mean_squared_error: 0.0041 - Jaccard_index: 0.8147 - Specificity: 0.9754 - Sensitivity: 1.0028 - precision: 0.9757 - recall: 0.9657 - f1score: 0.9706 - val_loss: -0.8043 - val_dice_coef: 0.8043 - val_acc: 0.8287 - val_mean_squared_error: 0.0148 - val_Jaccard_index: 0.6763 - val_Specificity: 0.9655 - val_Sensitivity: 1.0003 - val_precision: 0.9265 - val_recall: 0.8179 - val_f1score: 0.8655\n",
      "Epoch 26/150\n",
      "1632/1632 [==============================] - 982s 602ms/step - loss: -0.8987 - dice_coef: 0.8987 - acc: 0.8394 - mean_squared_error: 0.0039 - Jaccard_index: 0.8170 - Specificity: 0.9754 - Sensitivity: 1.0028 - precision: 0.9771 - recall: 0.9675 - f1score: 0.9722 - val_loss: -0.8074 - val_dice_coef: 0.8074 - val_acc: 0.8295 - val_mean_squared_error: 0.0142 - val_Jaccard_index: 0.6801 - val_Specificity: 0.9654 - val_Sensitivity: 0.9992 - val_precision: 0.9430 - val_recall: 0.8099 - val_f1score: 0.8686\n",
      "Epoch 27/150\n",
      "1632/1632 [==============================] - 982s 602ms/step - loss: -0.8992 - dice_coef: 0.8992 - acc: 0.8394 - mean_squared_error: 0.0039 - Jaccard_index: 0.8178 - Specificity: 0.9754 - Sensitivity: 1.0028 - precision: 0.9776 - recall: 0.9681 - f1score: 0.9727 - val_loss: -0.7963 - val_dice_coef: 0.7963 - val_acc: 0.8292 - val_mean_squared_error: 0.0150 - val_Jaccard_index: 0.6668 - val_Specificity: 0.9648 - val_Sensitivity: 0.9983 - val_precision: 0.9456 - val_recall: 0.7906 - val_f1score: 0.8567\n",
      "Epoch 28/150\n",
      "1632/1632 [==============================] - 981s 601ms/step - loss: -0.8992 - dice_coef: 0.8992 - acc: 0.8394 - mean_squared_error: 0.0039 - Jaccard_index: 0.8178 - Specificity: 0.9754 - Sensitivity: 1.0028 - precision: 0.9778 - recall: 0.9683 - f1score: 0.9730 - val_loss: -0.7928 - val_dice_coef: 0.7928 - val_acc: 0.8290 - val_mean_squared_error: 0.0153 - val_Jaccard_index: 0.6615 - val_Specificity: 0.9647 - val_Sensitivity: 0.9983 - val_precision: 0.9419 - val_recall: 0.7852 - val_f1score: 0.8522\n",
      "Epoch 29/150\n",
      "1632/1632 [==============================] - 981s 601ms/step - loss: -0.9002 - dice_coef: 0.9002 - acc: 0.8394 - mean_squared_error: 0.0038 - Jaccard_index: 0.8194 - Specificity: 0.9754 - Sensitivity: 1.0028 - precision: 0.9787 - recall: 0.9691 - f1score: 0.9738 - val_loss: -0.8073 - val_dice_coef: 0.8073 - val_acc: 0.8290 - val_mean_squared_error: 0.0145 - val_Jaccard_index: 0.6807 - val_Specificity: 0.9656 - val_Sensitivity: 1.0002 - val_precision: 0.9312 - val_recall: 0.8204 - val_f1score: 0.8694\n",
      "Epoch 30/150\n",
      "1632/1632 [==============================] - 981s 601ms/step - loss: -0.9005 - dice_coef: 0.9005 - acc: 0.8395 - mean_squared_error: 0.0038 - Jaccard_index: 0.8199 - Specificity: 0.9755 - Sensitivity: 1.0028 - precision: 0.9791 - recall: 0.9697 - f1score: 0.9743 - val_loss: -0.7942 - val_dice_coef: 0.7942 - val_acc: 0.8291 - val_mean_squared_error: 0.0153 - val_Jaccard_index: 0.6640 - val_Specificity: 0.9647 - val_Sensitivity: 0.9983 - val_precision: 0.9421 - val_recall: 0.7889 - val_f1score: 0.8540\n",
      "Epoch 31/150\n",
      "1632/1632 [==============================] - 981s 601ms/step - loss: -0.9009 - dice_coef: 0.9009 - acc: 0.8395 - mean_squared_error: 0.0037 - Jaccard_index: 0.8206 - Specificity: 0.9755 - Sensitivity: 1.0028 - precision: 0.9794 - recall: 0.9701 - f1score: 0.9747 - val_loss: -0.7970 - val_dice_coef: 0.7970 - val_acc: 0.8293 - val_mean_squared_error: 0.0150 - val_Jaccard_index: 0.6671 - val_Specificity: 0.9648 - val_Sensitivity: 0.9982 - val_precision: 0.9469 - val_recall: 0.7903 - val_f1score: 0.8575\n",
      "Epoch 32/150\n",
      "1632/1632 [==============================] - 981s 601ms/step - loss: -0.9013 - dice_coef: 0.9013 - acc: 0.8395 - mean_squared_error: 0.0037 - Jaccard_index: 0.8211 - Specificity: 0.9755 - Sensitivity: 1.0028 - precision: 0.9801 - recall: 0.9707 - f1score: 0.9753 - val_loss: -0.7990 - val_dice_coef: 0.7990 - val_acc: 0.8290 - val_mean_squared_error: 0.0151 - val_Jaccard_index: 0.6702 - val_Specificity: 0.9650 - val_Sensitivity: 0.9991 - val_precision: 0.9373 - val_recall: 0.8008 - val_f1score: 0.8596\n"
     ]
    },
    {
     "name": "stdout",
     "output_type": "stream",
     "text": [
      "Epoch 33/150\n",
      "1632/1632 [==============================] - 981s 601ms/step - loss: -0.9019 - dice_coef: 0.9019 - acc: 0.8395 - mean_squared_error: 0.0037 - Jaccard_index: 0.8222 - Specificity: 0.9755 - Sensitivity: 1.0028 - precision: 0.9803 - recall: 0.9712 - f1score: 0.9757 - val_loss: -0.7980 - val_dice_coef: 0.7980 - val_acc: 0.8292 - val_mean_squared_error: 0.0150 - val_Jaccard_index: 0.6686 - val_Specificity: 0.9649 - val_Sensitivity: 0.9985 - val_precision: 0.9435 - val_recall: 0.7946 - val_f1score: 0.8587\n",
      "Epoch 34/150\n",
      "1632/1632 [==============================] - 981s 601ms/step - loss: -0.9022 - dice_coef: 0.9022 - acc: 0.8396 - mean_squared_error: 0.0036 - Jaccard_index: 0.8228 - Specificity: 0.9755 - Sensitivity: 1.0028 - precision: 0.9807 - recall: 0.9716 - f1score: 0.9761 - val_loss: -0.7989 - val_dice_coef: 0.7989 - val_acc: 0.8292 - val_mean_squared_error: 0.0150 - val_Jaccard_index: 0.6703 - val_Specificity: 0.9649 - val_Sensitivity: 0.9986 - val_precision: 0.9421 - val_recall: 0.7972 - val_f1score: 0.8592\n",
      "Epoch 35/150\n",
      "1632/1632 [==============================] - 981s 601ms/step - loss: -0.9026 - dice_coef: 0.9026 - acc: 0.8396 - mean_squared_error: 0.0036 - Jaccard_index: 0.8234 - Specificity: 0.9755 - Sensitivity: 1.0028 - precision: 0.9812 - recall: 0.9721 - f1score: 0.9766 - val_loss: -0.7954 - val_dice_coef: 0.7954 - val_acc: 0.8290 - val_mean_squared_error: 0.0153 - val_Jaccard_index: 0.6649 - val_Specificity: 0.9649 - val_Sensitivity: 0.9987 - val_precision: 0.9392 - val_recall: 0.7938 - val_f1score: 0.8562\n",
      "Epoch 36/150\n",
      "1632/1632 [==============================] - 981s 601ms/step - loss: -0.9031 - dice_coef: 0.9031 - acc: 0.8396 - mean_squared_error: 0.0036 - Jaccard_index: 0.8242 - Specificity: 0.9755 - Sensitivity: 1.0028 - precision: 0.9814 - recall: 0.9727 - f1score: 0.9770 - val_loss: -0.7992 - val_dice_coef: 0.7992 - val_acc: 0.8292 - val_mean_squared_error: 0.0148 - val_Jaccard_index: 0.6706 - val_Specificity: 0.9650 - val_Sensitivity: 0.9986 - val_precision: 0.9432 - val_recall: 0.7964 - val_f1score: 0.8595\n",
      "Epoch 37/150\n",
      "1632/1632 [==============================] - 981s 601ms/step - loss: -0.9031 - dice_coef: 0.9031 - acc: 0.8396 - mean_squared_error: 0.0035 - Jaccard_index: 0.8243 - Specificity: 0.9755 - Sensitivity: 1.0027 - precision: 0.9818 - recall: 0.9728 - f1score: 0.9772 - val_loss: -0.7970 - val_dice_coef: 0.7970 - val_acc: 0.8292 - val_mean_squared_error: 0.0150 - val_Jaccard_index: 0.6674 - val_Specificity: 0.9648 - val_Sensitivity: 0.9984 - val_precision: 0.9448 - val_recall: 0.7929 - val_f1score: 0.8578\n",
      "Epoch 38/150\n",
      "1632/1632 [==============================] - 981s 601ms/step - loss: -0.9034 - dice_coef: 0.9034 - acc: 0.8396 - mean_squared_error: 0.0035 - Jaccard_index: 0.8247 - Specificity: 0.9755 - Sensitivity: 1.0027 - precision: 0.9822 - recall: 0.9732 - f1score: 0.9776 - val_loss: -0.7988 - val_dice_coef: 0.7988 - val_acc: 0.8291 - val_mean_squared_error: 0.0151 - val_Jaccard_index: 0.6700 - val_Specificity: 0.9650 - val_Sensitivity: 0.9991 - val_precision: 0.9381 - val_recall: 0.8016 - val_f1score: 0.8601\n",
      "Epoch 39/150\n",
      "1632/1632 [==============================] - 981s 601ms/step - loss: -0.9037 - dice_coef: 0.9037 - acc: 0.8396 - mean_squared_error: 0.0035 - Jaccard_index: 0.8252 - Specificity: 0.9755 - Sensitivity: 1.0027 - precision: 0.9824 - recall: 0.9735 - f1score: 0.9779 - val_loss: -0.7944 - val_dice_coef: 0.7944 - val_acc: 0.8288 - val_mean_squared_error: 0.0155 - val_Jaccard_index: 0.6641 - val_Specificity: 0.9649 - val_Sensitivity: 0.9991 - val_precision: 0.9345 - val_recall: 0.7962 - val_f1score: 0.8550\n",
      "Epoch 40/150\n",
      "1632/1632 [==============================] - 993s 608ms/step - loss: -0.9041 - dice_coef: 0.9041 - acc: 0.8397 - mean_squared_error: 0.0035 - Jaccard_index: 0.8259 - Specificity: 0.9755 - Sensitivity: 1.0027 - precision: 0.9827 - recall: 0.9739 - f1score: 0.9782 - val_loss: -0.7982 - val_dice_coef: 0.7982 - val_acc: 0.8290 - val_mean_squared_error: 0.0152 - val_Jaccard_index: 0.6688 - val_Specificity: 0.9651 - val_Sensitivity: 0.9992 - val_precision: 0.9358 - val_recall: 0.8010 - val_f1score: 0.8594\n",
      "Epoch 41/150\n",
      "1632/1632 [==============================] - 985s 604ms/step - loss: -0.9042 - dice_coef: 0.9042 - acc: 0.8397 - mean_squared_error: 0.0035 - Jaccard_index: 0.8260 - Specificity: 0.9755 - Sensitivity: 1.0027 - precision: 0.9828 - recall: 0.9738 - f1score: 0.9783 - val_loss: -0.7655 - val_dice_coef: 0.7655 - val_acc: 0.8283 - val_mean_squared_error: 0.0176 - val_Jaccard_index: 0.6265 - val_Specificity: 0.9633 - val_Sensitivity: 0.9965 - val_precision: 0.9426 - val_recall: 0.7395 - val_f1score: 0.8228\n",
      "Epoch 42/150\n",
      "1632/1632 [==============================] - 982s 602ms/step - loss: -0.9045 - dice_coef: 0.9045 - acc: 0.8397 - mean_squared_error: 0.0034 - Jaccard_index: 0.8266 - Specificity: 0.9756 - Sensitivity: 1.0027 - precision: 0.9832 - recall: 0.9744 - f1score: 0.9787 - val_loss: -0.7922 - val_dice_coef: 0.7922 - val_acc: 0.8290 - val_mean_squared_error: 0.0156 - val_Jaccard_index: 0.6609 - val_Specificity: 0.9646 - val_Sensitivity: 0.9983 - val_precision: 0.9413 - val_recall: 0.7871 - val_f1score: 0.8527\n",
      "Epoch 43/150\n",
      "1632/1632 [==============================] - 981s 601ms/step - loss: -0.9050 - dice_coef: 0.9050 - acc: 0.8397 - mean_squared_error: 0.0034 - Jaccard_index: 0.8274 - Specificity: 0.9756 - Sensitivity: 1.0027 - precision: 0.9834 - recall: 0.9750 - f1score: 0.9791 - val_loss: -0.8025 - val_dice_coef: 0.8025 - val_acc: 0.8292 - val_mean_squared_error: 0.0147 - val_Jaccard_index: 0.6747 - val_Specificity: 0.9652 - val_Sensitivity: 0.9990 - val_precision: 0.9405 - val_recall: 0.8045 - val_f1score: 0.8631\n",
      "Epoch 44/150\n",
      "1632/1632 [==============================] - 981s 601ms/step - loss: -0.9050 - dice_coef: 0.9050 - acc: 0.8397 - mean_squared_error: 0.0034 - Jaccard_index: 0.8274 - Specificity: 0.9756 - Sensitivity: 1.0027 - precision: 0.9837 - recall: 0.9751 - f1score: 0.9793 - val_loss: -0.7989 - val_dice_coef: 0.7989 - val_acc: 0.8291 - val_mean_squared_error: 0.0151 - val_Jaccard_index: 0.6695 - val_Specificity: 0.9650 - val_Sensitivity: 0.9989 - val_precision: 0.9395 - val_recall: 0.7990 - val_f1score: 0.8599\n",
      "Epoch 45/150\n",
      "1632/1632 [==============================] - 981s 601ms/step - loss: -0.9052 - dice_coef: 0.9052 - acc: 0.8397 - mean_squared_error: 0.0034 - Jaccard_index: 0.8277 - Specificity: 0.9756 - Sensitivity: 1.0027 - precision: 0.9838 - recall: 0.9752 - f1score: 0.9795 - val_loss: -0.7958 - val_dice_coef: 0.7958 - val_acc: 0.8291 - val_mean_squared_error: 0.0153 - val_Jaccard_index: 0.6659 - val_Specificity: 0.9648 - val_Sensitivity: 0.9985 - val_precision: 0.9425 - val_recall: 0.7911 - val_f1score: 0.8558\n",
      "Epoch 46/150\n",
      "1632/1632 [==============================] - 981s 601ms/step - loss: -0.9055 - dice_coef: 0.9055 - acc: 0.8397 - mean_squared_error: 0.0033 - Jaccard_index: 0.8282 - Specificity: 0.9756 - Sensitivity: 1.0027 - precision: 0.9842 - recall: 0.9755 - f1score: 0.9798 - val_loss: -0.7917 - val_dice_coef: 0.7917 - val_acc: 0.8290 - val_mean_squared_error: 0.0155 - val_Jaccard_index: 0.6611 - val_Specificity: 0.9646 - val_Sensitivity: 0.9981 - val_precision: 0.9434 - val_recall: 0.7838 - val_f1score: 0.8509\n",
      "Epoch 47/150\n",
      "1632/1632 [==============================] - 981s 601ms/step - loss: -0.9057 - dice_coef: 0.9057 - acc: 0.8397 - mean_squared_error: 0.0033 - Jaccard_index: 0.8287 - Specificity: 0.9756 - Sensitivity: 1.0027 - precision: 0.9844 - recall: 0.9759 - f1score: 0.9801 - val_loss: -0.7981 - val_dice_coef: 0.7981 - val_acc: 0.8293 - val_mean_squared_error: 0.0150 - val_Jaccard_index: 0.6685 - val_Specificity: 0.9648 - val_Sensitivity: 0.9984 - val_precision: 0.9464 - val_recall: 0.7929 - val_f1score: 0.8590\n",
      "Epoch 48/150\n",
      "1632/1632 [==============================] - 983s 602ms/step - loss: -0.9059 - dice_coef: 0.9059 - acc: 0.8398 - mean_squared_error: 0.0033 - Jaccard_index: 0.8289 - Specificity: 0.9756 - Sensitivity: 1.0027 - precision: 0.9846 - recall: 0.9761 - f1score: 0.9803 - val_loss: -0.7939 - val_dice_coef: 0.7939 - val_acc: 0.8292 - val_mean_squared_error: 0.0153 - val_Jaccard_index: 0.6628 - val_Specificity: 0.9646 - val_Sensitivity: 0.9979 - val_precision: 0.9486 - val_recall: 0.7836 - val_f1score: 0.8543\n"
     ]
    },
    {
     "name": "stdout",
     "output_type": "stream",
     "text": [
      "Epoch 49/150\n",
      "1632/1632 [==============================] - 984s 603ms/step - loss: -0.9059 - dice_coef: 0.9059 - acc: 0.8398 - mean_squared_error: 0.0033 - Jaccard_index: 0.8290 - Specificity: 0.9756 - Sensitivity: 1.0027 - precision: 0.9847 - recall: 0.9762 - f1score: 0.9804 - val_loss: -0.7971 - val_dice_coef: 0.7971 - val_acc: 0.8292 - val_mean_squared_error: 0.0152 - val_Jaccard_index: 0.6677 - val_Specificity: 0.9646 - val_Sensitivity: 0.9979 - val_precision: 0.9479 - val_recall: 0.7895 - val_f1score: 0.8568\n",
      "Epoch 50/150\n",
      "1632/1632 [==============================] - 984s 603ms/step - loss: -0.9060 - dice_coef: 0.9060 - acc: 0.8398 - mean_squared_error: 0.0033 - Jaccard_index: 0.8291 - Specificity: 0.9756 - Sensitivity: 1.0027 - precision: 0.9850 - recall: 0.9764 - f1score: 0.9806 - val_loss: -0.8014 - val_dice_coef: 0.8014 - val_acc: 0.8291 - val_mean_squared_error: 0.0149 - val_Jaccard_index: 0.6731 - val_Specificity: 0.9652 - val_Sensitivity: 0.9994 - val_precision: 0.9368 - val_recall: 0.8069 - val_f1score: 0.8631\n",
      "Epoch 51/150\n",
      "1632/1632 [==============================] - 984s 603ms/step - loss: -0.9063 - dice_coef: 0.9063 - acc: 0.8398 - mean_squared_error: 0.0033 - Jaccard_index: 0.8296 - Specificity: 0.9756 - Sensitivity: 1.0027 - precision: 0.9850 - recall: 0.9765 - f1score: 0.9807 - val_loss: -0.7911 - val_dice_coef: 0.7911 - val_acc: 0.8290 - val_mean_squared_error: 0.0156 - val_Jaccard_index: 0.6596 - val_Specificity: 0.9646 - val_Sensitivity: 0.9981 - val_precision: 0.9430 - val_recall: 0.7832 - val_f1score: 0.8509\n",
      "Epoch 52/150\n",
      "1632/1632 [==============================] - 984s 603ms/step - loss: -0.9064 - dice_coef: 0.9064 - acc: 0.8398 - mean_squared_error: 0.0032 - Jaccard_index: 0.8297 - Specificity: 0.9756 - Sensitivity: 1.0027 - precision: 0.9855 - recall: 0.9769 - f1score: 0.9811 - val_loss: -0.7942 - val_dice_coef: 0.7942 - val_acc: 0.8292 - val_mean_squared_error: 0.0152 - val_Jaccard_index: 0.6636 - val_Specificity: 0.9647 - val_Sensitivity: 0.9980 - val_precision: 0.9473 - val_recall: 0.7860 - val_f1score: 0.8548\n",
      "Epoch 53/150\n",
      "1632/1632 [==============================] - 984s 603ms/step - loss: -0.9067 - dice_coef: 0.9067 - acc: 0.8398 - mean_squared_error: 0.0032 - Jaccard_index: 0.8302 - Specificity: 0.9756 - Sensitivity: 1.0027 - precision: 0.9854 - recall: 0.9769 - f1score: 0.9811 - val_loss: -0.7903 - val_dice_coef: 0.7903 - val_acc: 0.8290 - val_mean_squared_error: 0.0157 - val_Jaccard_index: 0.6580 - val_Specificity: 0.9645 - val_Sensitivity: 0.9980 - val_precision: 0.9442 - val_recall: 0.7816 - val_f1score: 0.8510\n",
      "Epoch 54/150\n",
      "1632/1632 [==============================] - 984s 603ms/step - loss: -0.9067 - dice_coef: 0.9067 - acc: 0.8398 - mean_squared_error: 0.0032 - Jaccard_index: 0.8303 - Specificity: 0.9756 - Sensitivity: 1.0027 - precision: 0.9857 - recall: 0.9770 - f1score: 0.9813 - val_loss: -0.7934 - val_dice_coef: 0.7934 - val_acc: 0.8291 - val_mean_squared_error: 0.0154 - val_Jaccard_index: 0.6623 - val_Specificity: 0.9646 - val_Sensitivity: 0.9980 - val_precision: 0.9458 - val_recall: 0.7853 - val_f1score: 0.8537\n",
      "Epoch 55/150\n",
      "1632/1632 [==============================] - 984s 603ms/step - loss: -0.9070 - dice_coef: 0.9070 - acc: 0.8398 - mean_squared_error: 0.0032 - Jaccard_index: 0.8307 - Specificity: 0.9756 - Sensitivity: 1.0027 - precision: 0.9859 - recall: 0.9773 - f1score: 0.9815 - val_loss: -0.7913 - val_dice_coef: 0.7913 - val_acc: 0.8292 - val_mean_squared_error: 0.0155 - val_Jaccard_index: 0.6595 - val_Specificity: 0.9644 - val_Sensitivity: 0.9977 - val_precision: 0.9484 - val_recall: 0.7793 - val_f1score: 0.8511\n",
      "Epoch 56/150\n",
      "1632/1632 [==============================] - 985s 603ms/step - loss: -0.9073 - dice_coef: 0.9073 - acc: 0.8398 - mean_squared_error: 0.0032 - Jaccard_index: 0.8312 - Specificity: 0.9756 - Sensitivity: 1.0027 - precision: 0.9860 - recall: 0.9776 - f1score: 0.9818 - val_loss: -0.7946 - val_dice_coef: 0.7946 - val_acc: 0.8290 - val_mean_squared_error: 0.0154 - val_Jaccard_index: 0.6644 - val_Specificity: 0.9648 - val_Sensitivity: 0.9986 - val_precision: 0.9409 - val_recall: 0.7914 - val_f1score: 0.8553\n",
      "Epoch 57/150\n",
      "1632/1632 [==============================] - 986s 604ms/step - loss: -0.9073 - dice_coef: 0.9073 - acc: 0.8398 - mean_squared_error: 0.0032 - Jaccard_index: 0.8312 - Specificity: 0.9756 - Sensitivity: 1.0027 - precision: 0.9862 - recall: 0.9777 - f1score: 0.9819 - val_loss: -0.7943 - val_dice_coef: 0.7943 - val_acc: 0.8291 - val_mean_squared_error: 0.0154 - val_Jaccard_index: 0.6634 - val_Specificity: 0.9647 - val_Sensitivity: 0.9984 - val_precision: 0.9433 - val_recall: 0.7892 - val_f1score: 0.8555\n",
      "Epoch 58/150\n",
      "1632/1632 [==============================] - 982s 602ms/step - loss: -0.9073 - dice_coef: 0.9073 - acc: 0.8398 - mean_squared_error: 0.0032 - Jaccard_index: 0.8312 - Specificity: 0.9756 - Sensitivity: 1.0027 - precision: 0.9863 - recall: 0.9778 - f1score: 0.9820 - val_loss: -0.7938 - val_dice_coef: 0.7938 - val_acc: 0.8292 - val_mean_squared_error: 0.0154 - val_Jaccard_index: 0.6628 - val_Specificity: 0.9647 - val_Sensitivity: 0.9982 - val_precision: 0.9454 - val_recall: 0.7865 - val_f1score: 0.8545\n",
      "Epoch 59/150\n",
      "1632/1632 [==============================] - 981s 601ms/step - loss: -0.9076 - dice_coef: 0.9076 - acc: 0.8398 - mean_squared_error: 0.0031 - Jaccard_index: 0.8316 - Specificity: 0.9756 - Sensitivity: 1.0027 - precision: 0.9865 - recall: 0.9780 - f1score: 0.9822 - val_loss: -0.8000 - val_dice_coef: 0.8000 - val_acc: 0.8291 - val_mean_squared_error: 0.0150 - val_Jaccard_index: 0.6712 - val_Specificity: 0.9651 - val_Sensitivity: 0.9991 - val_precision: 0.9385 - val_recall: 0.8029 - val_f1score: 0.8615\n",
      "Epoch 60/150\n",
      "1632/1632 [==============================] - 981s 601ms/step - loss: -0.9076 - dice_coef: 0.9076 - acc: 0.8398 - mean_squared_error: 0.0031 - Jaccard_index: 0.8318 - Specificity: 0.9756 - Sensitivity: 1.0027 - precision: 0.9865 - recall: 0.9783 - f1score: 0.9823 - val_loss: -0.7972 - val_dice_coef: 0.7972 - val_acc: 0.8291 - val_mean_squared_error: 0.0152 - val_Jaccard_index: 0.6674 - val_Specificity: 0.9649 - val_Sensitivity: 0.9987 - val_precision: 0.9417 - val_recall: 0.7952 - val_f1score: 0.8584\n",
      "Epoch 61/150\n",
      "1632/1632 [==============================] - 982s 602ms/step - loss: -0.9078 - dice_coef: 0.9078 - acc: 0.8399 - mean_squared_error: 0.0031 - Jaccard_index: 0.8321 - Specificity: 0.9756 - Sensitivity: 1.0026 - precision: 0.9867 - recall: 0.9783 - f1score: 0.9824 - val_loss: -0.7982 - val_dice_coef: 0.7982 - val_acc: 0.8291 - val_mean_squared_error: 0.0152 - val_Jaccard_index: 0.6691 - val_Specificity: 0.9650 - val_Sensitivity: 0.9989 - val_precision: 0.9399 - val_recall: 0.7987 - val_f1score: 0.8593\n",
      "Epoch 62/150\n",
      "1632/1632 [==============================] - 981s 601ms/step - loss: -0.9080 - dice_coef: 0.9080 - acc: 0.8399 - mean_squared_error: 0.0031 - Jaccard_index: 0.8324 - Specificity: 0.9756 - Sensitivity: 1.0026 - precision: 0.9868 - recall: 0.9785 - f1score: 0.9826 - val_loss: -0.7949 - val_dice_coef: 0.7949 - val_acc: 0.8292 - val_mean_squared_error: 0.0153 - val_Jaccard_index: 0.6646 - val_Specificity: 0.9647 - val_Sensitivity: 0.9983 - val_precision: 0.9446 - val_recall: 0.7897 - val_f1score: 0.8560\n",
      "Epoch 63/150\n",
      "1632/1632 [==============================] - 980s 600ms/step - loss: -0.9081 - dice_coef: 0.9081 - acc: 0.8399 - mean_squared_error: 0.0031 - Jaccard_index: 0.8325 - Specificity: 0.9756 - Sensitivity: 1.0026 - precision: 0.9870 - recall: 0.9786 - f1score: 0.9827 - val_loss: -0.7961 - val_dice_coef: 0.7961 - val_acc: 0.8292 - val_mean_squared_error: 0.0152 - val_Jaccard_index: 0.6657 - val_Specificity: 0.9648 - val_Sensitivity: 0.9983 - val_precision: 0.9443 - val_recall: 0.7906 - val_f1score: 0.8566\n",
      "Epoch 64/150\n",
      "1632/1632 [==============================] - 981s 601ms/step - loss: -0.9083 - dice_coef: 0.9083 - acc: 0.8399 - mean_squared_error: 0.0031 - Jaccard_index: 0.8330 - Specificity: 0.9756 - Sensitivity: 1.0026 - precision: 0.9871 - recall: 0.9789 - f1score: 0.9829 - val_loss: -0.7917 - val_dice_coef: 0.7917 - val_acc: 0.8291 - val_mean_squared_error: 0.0154 - val_Jaccard_index: 0.6608 - val_Specificity: 0.9646 - val_Sensitivity: 0.9981 - val_precision: 0.9460 - val_recall: 0.7834 - val_f1score: 0.8525\n"
     ]
    },
    {
     "name": "stdout",
     "output_type": "stream",
     "text": [
      "Epoch 65/150\n",
      "1632/1632 [==============================] - 984s 603ms/step - loss: -0.9084 - dice_coef: 0.9084 - acc: 0.8399 - mean_squared_error: 0.0031 - Jaccard_index: 0.8331 - Specificity: 0.9756 - Sensitivity: 1.0026 - precision: 0.9872 - recall: 0.9789 - f1score: 0.9830 - val_loss: -0.7958 - val_dice_coef: 0.7958 - val_acc: 0.8291 - val_mean_squared_error: 0.0153 - val_Jaccard_index: 0.6658 - val_Specificity: 0.9648 - val_Sensitivity: 0.9985 - val_precision: 0.9418 - val_recall: 0.7920 - val_f1score: 0.8560\n",
      "Epoch 66/150\n",
      "1632/1632 [==============================] - 984s 603ms/step - loss: -0.9085 - dice_coef: 0.9085 - acc: 0.8399 - mean_squared_error: 0.0031 - Jaccard_index: 0.8332 - Specificity: 0.9757 - Sensitivity: 1.0026 - precision: 0.9873 - recall: 0.9791 - f1score: 0.9832 - val_loss: -0.7895 - val_dice_coef: 0.7895 - val_acc: 0.8291 - val_mean_squared_error: 0.0157 - val_Jaccard_index: 0.6574 - val_Specificity: 0.9644 - val_Sensitivity: 0.9977 - val_precision: 0.9470 - val_recall: 0.7775 - val_f1score: 0.8493\n",
      "Epoch 67/150\n",
      "1632/1632 [==============================] - 984s 603ms/step - loss: -0.9080 - dice_coef: 0.9080 - acc: 0.8399 - mean_squared_error: 0.0031 - Jaccard_index: 0.8325 - Specificity: 0.9756 - Sensitivity: 1.0026 - precision: 0.9869 - recall: 0.9785 - f1score: 0.9826 - val_loss: -0.7890 - val_dice_coef: 0.7890 - val_acc: 0.8290 - val_mean_squared_error: 0.0157 - val_Jaccard_index: 0.6574 - val_Specificity: 0.9644 - val_Sensitivity: 0.9979 - val_precision: 0.9452 - val_recall: 0.7788 - val_f1score: 0.8488\n",
      "Epoch 68/150\n",
      "1632/1632 [==============================] - 984s 603ms/step - loss: -0.9088 - dice_coef: 0.9088 - acc: 0.8399 - mean_squared_error: 0.0030 - Jaccard_index: 0.8337 - Specificity: 0.9757 - Sensitivity: 1.0026 - precision: 0.9879 - recall: 0.9795 - f1score: 0.9836 - val_loss: -0.7885 - val_dice_coef: 0.7885 - val_acc: 0.8291 - val_mean_squared_error: 0.0157 - val_Jaccard_index: 0.6563 - val_Specificity: 0.9643 - val_Sensitivity: 0.9975 - val_precision: 0.9492 - val_recall: 0.7751 - val_f1score: 0.8487\n",
      "Epoch 69/150\n",
      "1632/1632 [==============================] - 983s 603ms/step - loss: -0.9087 - dice_coef: 0.9087 - acc: 0.8399 - mean_squared_error: 0.0030 - Jaccard_index: 0.8336 - Specificity: 0.9757 - Sensitivity: 1.0026 - precision: 0.9877 - recall: 0.9795 - f1score: 0.9835 - val_loss: -0.7766 - val_dice_coef: 0.7766 - val_acc: 0.8286 - val_mean_squared_error: 0.0169 - val_Jaccard_index: 0.6408 - val_Specificity: 0.9638 - val_Sensitivity: 0.9972 - val_precision: 0.9433 - val_recall: 0.7598 - val_f1score: 0.8361\n",
      "Epoch 70/150\n",
      "1632/1632 [==============================] - 983s 603ms/step - loss: -0.9088 - dice_coef: 0.9088 - acc: 0.8399 - mean_squared_error: 0.0030 - Jaccard_index: 0.8338 - Specificity: 0.9757 - Sensitivity: 1.0026 - precision: 0.9877 - recall: 0.9795 - f1score: 0.9836 - val_loss: -0.7929 - val_dice_coef: 0.7929 - val_acc: 0.8290 - val_mean_squared_error: 0.0155 - val_Jaccard_index: 0.6620 - val_Specificity: 0.9647 - val_Sensitivity: 0.9984 - val_precision: 0.9417 - val_recall: 0.7883 - val_f1score: 0.8535\n",
      "Epoch 71/150\n",
      "1632/1632 [==============================] - 984s 603ms/step - loss: -0.9088 - dice_coef: 0.9088 - acc: 0.8399 - mean_squared_error: 0.0030 - Jaccard_index: 0.8338 - Specificity: 0.9757 - Sensitivity: 1.0026 - precision: 0.9878 - recall: 0.9797 - f1score: 0.9837 - val_loss: -0.7967 - val_dice_coef: 0.7967 - val_acc: 0.8291 - val_mean_squared_error: 0.0152 - val_Jaccard_index: 0.6672 - val_Specificity: 0.9649 - val_Sensitivity: 0.9987 - val_precision: 0.9412 - val_recall: 0.7957 - val_f1score: 0.8578\n",
      "Epoch 72/150\n",
      "1632/1632 [==============================] - 983s 602ms/step - loss: -0.9089 - dice_coef: 0.9089 - acc: 0.8399 - mean_squared_error: 0.0030 - Jaccard_index: 0.8339 - Specificity: 0.9757 - Sensitivity: 1.0026 - precision: 0.9879 - recall: 0.9798 - f1score: 0.9838 - val_loss: -0.7885 - val_dice_coef: 0.7885 - val_acc: 0.8291 - val_mean_squared_error: 0.0157 - val_Jaccard_index: 0.6561 - val_Specificity: 0.9643 - val_Sensitivity: 0.9975 - val_precision: 0.9497 - val_recall: 0.7738 - val_f1score: 0.8484\n",
      "Epoch 73/150\n",
      "1632/1632 [==============================] - 983s 602ms/step - loss: -0.9090 - dice_coef: 0.9090 - acc: 0.8399 - mean_squared_error: 0.0030 - Jaccard_index: 0.8341 - Specificity: 0.9757 - Sensitivity: 1.0026 - precision: 0.9881 - recall: 0.9798 - f1score: 0.9839 - val_loss: -0.7993 - val_dice_coef: 0.7993 - val_acc: 0.8291 - val_mean_squared_error: 0.0150 - val_Jaccard_index: 0.6710 - val_Specificity: 0.9650 - val_Sensitivity: 0.9990 - val_precision: 0.9401 - val_recall: 0.8012 - val_f1score: 0.8607\n",
      "Epoch 74/150\n",
      "1632/1632 [==============================] - 983s 603ms/step - loss: -0.9092 - dice_coef: 0.9092 - acc: 0.8399 - mean_squared_error: 0.0030 - Jaccard_index: 0.8345 - Specificity: 0.9757 - Sensitivity: 1.0026 - precision: 0.9881 - recall: 0.9799 - f1score: 0.9840 - val_loss: -0.7875 - val_dice_coef: 0.7875 - val_acc: 0.8290 - val_mean_squared_error: 0.0159 - val_Jaccard_index: 0.6551 - val_Specificity: 0.9643 - val_Sensitivity: 0.9975 - val_precision: 0.9474 - val_recall: 0.7745 - val_f1score: 0.8473\n",
      "Epoch 75/150\n",
      "1632/1632 [==============================] - 983s 602ms/step - loss: -0.9093 - dice_coef: 0.9093 - acc: 0.8399 - mean_squared_error: 0.0030 - Jaccard_index: 0.8346 - Specificity: 0.9757 - Sensitivity: 1.0026 - precision: 0.9883 - recall: 0.9800 - f1score: 0.9841 - val_loss: -0.8003 - val_dice_coef: 0.8003 - val_acc: 0.8291 - val_mean_squared_error: 0.0150 - val_Jaccard_index: 0.6722 - val_Specificity: 0.9650 - val_Sensitivity: 0.9989 - val_precision: 0.9413 - val_recall: 0.8012 - val_f1score: 0.8613\n",
      "Epoch 76/150\n",
      "1632/1632 [==============================] - 983s 602ms/step - loss: -0.9094 - dice_coef: 0.9094 - acc: 0.8399 - mean_squared_error: 0.0030 - Jaccard_index: 0.8348 - Specificity: 0.9757 - Sensitivity: 1.0026 - precision: 0.9883 - recall: 0.9802 - f1score: 0.9842 - val_loss: -0.7916 - val_dice_coef: 0.7916 - val_acc: 0.8290 - val_mean_squared_error: 0.0156 - val_Jaccard_index: 0.6601 - val_Specificity: 0.9647 - val_Sensitivity: 0.9985 - val_precision: 0.9408 - val_recall: 0.7868 - val_f1score: 0.8525\n",
      "Epoch 77/150\n",
      "1632/1632 [==============================] - 983s 603ms/step - loss: -0.9096 - dice_coef: 0.9096 - acc: 0.8399 - mean_squared_error: 0.0030 - Jaccard_index: 0.8351 - Specificity: 0.9757 - Sensitivity: 1.0026 - precision: 0.9884 - recall: 0.9803 - f1score: 0.9843 - val_loss: -0.7898 - val_dice_coef: 0.7898 - val_acc: 0.8288 - val_mean_squared_error: 0.0159 - val_Jaccard_index: 0.6579 - val_Specificity: 0.9646 - val_Sensitivity: 0.9984 - val_precision: 0.9391 - val_recall: 0.7852 - val_f1score: 0.8506\n",
      "Epoch 78/150\n",
      "1632/1632 [==============================] - 983s 603ms/step - loss: -0.9096 - dice_coef: 0.9096 - acc: 0.8399 - mean_squared_error: 0.0030 - Jaccard_index: 0.8351 - Specificity: 0.9757 - Sensitivity: 1.0026 - precision: 0.9885 - recall: 0.9805 - f1score: 0.9845 - val_loss: -0.7927 - val_dice_coef: 0.7927 - val_acc: 0.8290 - val_mean_squared_error: 0.0156 - val_Jaccard_index: 0.6619 - val_Specificity: 0.9647 - val_Sensitivity: 0.9984 - val_precision: 0.9412 - val_recall: 0.7883 - val_f1score: 0.8533\n",
      "Epoch 79/150\n",
      "1632/1632 [==============================] - 984s 603ms/step - loss: -0.9093 - dice_coef: 0.9093 - acc: 0.8399 - mean_squared_error: 0.0030 - Jaccard_index: 0.8346 - Specificity: 0.9757 - Sensitivity: 1.0026 - precision: 0.9883 - recall: 0.9802 - f1score: 0.9842 - val_loss: -0.7953 - val_dice_coef: 0.7953 - val_acc: 0.8291 - val_mean_squared_error: 0.0154 - val_Jaccard_index: 0.6654 - val_Specificity: 0.9647 - val_Sensitivity: 0.9984 - val_precision: 0.9435 - val_recall: 0.7908 - val_f1score: 0.8558\n",
      "Epoch 80/150\n",
      "1632/1632 [==============================] - 984s 603ms/step - loss: -0.9096 - dice_coef: 0.9096 - acc: 0.8400 - mean_squared_error: 0.0029 - Jaccard_index: 0.8352 - Specificity: 0.9757 - Sensitivity: 1.0026 - precision: 0.9888 - recall: 0.9806 - f1score: 0.9847 - val_loss: -0.7961 - val_dice_coef: 0.7961 - val_acc: 0.8291 - val_mean_squared_error: 0.0152 - val_Jaccard_index: 0.6661 - val_Specificity: 0.9648 - val_Sensitivity: 0.9986 - val_precision: 0.9417 - val_recall: 0.7938 - val_f1score: 0.8572\n"
     ]
    },
    {
     "name": "stdout",
     "output_type": "stream",
     "text": [
      "Epoch 81/150\n",
      "1632/1632 [==============================] - 983s 602ms/step - loss: -0.9098 - dice_coef: 0.9098 - acc: 0.8400 - mean_squared_error: 0.0029 - Jaccard_index: 0.8354 - Specificity: 0.9757 - Sensitivity: 1.0026 - precision: 0.9888 - recall: 0.9808 - f1score: 0.9847 - val_loss: -0.7957 - val_dice_coef: 0.7957 - val_acc: 0.8291 - val_mean_squared_error: 0.0153 - val_Jaccard_index: 0.6648 - val_Specificity: 0.9648 - val_Sensitivity: 0.9985 - val_precision: 0.9435 - val_recall: 0.7912 - val_f1score: 0.8570\n",
      "Epoch 82/150\n",
      "1632/1632 [==============================] - 983s 602ms/step - loss: -0.9099 - dice_coef: 0.9099 - acc: 0.8400 - mean_squared_error: 0.0029 - Jaccard_index: 0.8356 - Specificity: 0.9757 - Sensitivity: 1.0026 - precision: 0.9889 - recall: 0.9807 - f1score: 0.9848 - val_loss: -0.8003 - val_dice_coef: 0.8003 - val_acc: 0.8291 - val_mean_squared_error: 0.0150 - val_Jaccard_index: 0.6716 - val_Specificity: 0.9651 - val_Sensitivity: 0.9992 - val_precision: 0.9380 - val_recall: 0.8039 - val_f1score: 0.8621\n",
      "Epoch 83/150\n",
      "1632/1632 [==============================] - 984s 603ms/step - loss: -0.9098 - dice_coef: 0.9098 - acc: 0.8400 - mean_squared_error: 0.0029 - Jaccard_index: 0.8355 - Specificity: 0.9757 - Sensitivity: 1.0026 - precision: 0.9888 - recall: 0.9808 - f1score: 0.9848 - val_loss: -0.7959 - val_dice_coef: 0.7959 - val_acc: 0.8292 - val_mean_squared_error: 0.0152 - val_Jaccard_index: 0.6660 - val_Specificity: 0.9647 - val_Sensitivity: 0.9983 - val_precision: 0.9450 - val_recall: 0.7906 - val_f1score: 0.8565\n",
      "Epoch 84/150\n",
      "1632/1632 [==============================] - 983s 602ms/step - loss: -0.9099 - dice_coef: 0.9099 - acc: 0.8400 - mean_squared_error: 0.0029 - Jaccard_index: 0.8357 - Specificity: 0.9757 - Sensitivity: 1.0026 - precision: 0.9890 - recall: 0.9810 - f1score: 0.9849 - val_loss: -0.7917 - val_dice_coef: 0.7917 - val_acc: 0.8290 - val_mean_squared_error: 0.0156 - val_Jaccard_index: 0.6604 - val_Specificity: 0.9646 - val_Sensitivity: 0.9982 - val_precision: 0.9425 - val_recall: 0.7851 - val_f1score: 0.8522\n",
      "Epoch 85/150\n",
      "1632/1632 [==============================] - 983s 603ms/step - loss: -0.9100 - dice_coef: 0.9100 - acc: 0.8400 - mean_squared_error: 0.0029 - Jaccard_index: 0.8359 - Specificity: 0.9757 - Sensitivity: 1.0026 - precision: 0.9891 - recall: 0.9810 - f1score: 0.9850 - val_loss: -0.7968 - val_dice_coef: 0.7968 - val_acc: 0.8291 - val_mean_squared_error: 0.0152 - val_Jaccard_index: 0.6672 - val_Specificity: 0.9648 - val_Sensitivity: 0.9986 - val_precision: 0.9429 - val_recall: 0.7939 - val_f1score: 0.8578\n",
      "Epoch 86/150\n",
      "1632/1632 [==============================] - 983s 602ms/step - loss: -0.9097 - dice_coef: 0.9097 - acc: 0.8400 - mean_squared_error: 0.0029 - Jaccard_index: 0.8353 - Specificity: 0.9757 - Sensitivity: 1.0026 - precision: 0.9890 - recall: 0.9809 - f1score: 0.9849 - val_loss: -0.7996 - val_dice_coef: 0.7996 - val_acc: 0.8291 - val_mean_squared_error: 0.0150 - val_Jaccard_index: 0.6700 - val_Specificity: 0.9651 - val_Sensitivity: 0.9991 - val_precision: 0.9393 - val_recall: 0.8021 - val_f1score: 0.8620\n",
      "Epoch 87/150\n",
      "1632/1632 [==============================] - 983s 602ms/step - loss: -0.9103 - dice_coef: 0.9103 - acc: 0.8400 - mean_squared_error: 0.0029 - Jaccard_index: 0.8363 - Specificity: 0.9757 - Sensitivity: 1.0026 - precision: 0.9893 - recall: 0.9813 - f1score: 0.9852 - val_loss: -0.7908 - val_dice_coef: 0.7908 - val_acc: 0.8292 - val_mean_squared_error: 0.0156 - val_Jaccard_index: 0.6590 - val_Specificity: 0.9644 - val_Sensitivity: 0.9976 - val_precision: 0.9495 - val_recall: 0.7791 - val_f1score: 0.8516\n",
      "Epoch 88/150\n",
      "1632/1632 [==============================] - 983s 602ms/step - loss: -0.9102 - dice_coef: 0.9102 - acc: 0.8400 - mean_squared_error: 0.0029 - Jaccard_index: 0.8362 - Specificity: 0.9757 - Sensitivity: 1.0026 - precision: 0.9892 - recall: 0.9811 - f1score: 0.9851 - val_loss: -0.7946 - val_dice_coef: 0.7946 - val_acc: 0.8292 - val_mean_squared_error: 0.0153 - val_Jaccard_index: 0.6639 - val_Specificity: 0.9646 - val_Sensitivity: 0.9981 - val_precision: 0.9469 - val_recall: 0.7870 - val_f1score: 0.8554\n",
      "Epoch 89/150\n",
      "1632/1632 [==============================] - 983s 602ms/step - loss: -0.9105 - dice_coef: 0.9105 - acc: 0.8400 - mean_squared_error: 0.0029 - Jaccard_index: 0.8366 - Specificity: 0.9757 - Sensitivity: 1.0026 - precision: 0.9893 - recall: 0.9815 - f1score: 0.9854 - val_loss: -0.7933 - val_dice_coef: 0.7933 - val_acc: 0.8292 - val_mean_squared_error: 0.0154 - val_Jaccard_index: 0.6620 - val_Specificity: 0.9646 - val_Sensitivity: 0.9980 - val_precision: 0.9467 - val_recall: 0.7843 - val_f1score: 0.8540\n",
      "Epoch 90/150\n",
      "1632/1632 [==============================] - 983s 602ms/step - loss: -0.9103 - dice_coef: 0.9103 - acc: 0.8400 - mean_squared_error: 0.0029 - Jaccard_index: 0.8363 - Specificity: 0.9757 - Sensitivity: 1.0026 - precision: 0.9895 - recall: 0.9814 - f1score: 0.9854 - val_loss: -0.7963 - val_dice_coef: 0.7963 - val_acc: 0.8292 - val_mean_squared_error: 0.0152 - val_Jaccard_index: 0.6668 - val_Specificity: 0.9647 - val_Sensitivity: 0.9982 - val_precision: 0.9465 - val_recall: 0.7911 - val_f1score: 0.8573\n",
      "Epoch 91/150\n",
      "1632/1632 [==============================] - 983s 602ms/step - loss: -0.9105 - dice_coef: 0.9105 - acc: 0.8400 - mean_squared_error: 0.0029 - Jaccard_index: 0.8366 - Specificity: 0.9757 - Sensitivity: 1.0026 - precision: 0.9895 - recall: 0.9816 - f1score: 0.9855 - val_loss: -0.7893 - val_dice_coef: 0.7893 - val_acc: 0.8290 - val_mean_squared_error: 0.0158 - val_Jaccard_index: 0.6575 - val_Specificity: 0.9643 - val_Sensitivity: 0.9977 - val_precision: 0.9466 - val_recall: 0.7784 - val_f1score: 0.8494\n",
      "Epoch 92/150\n",
      "1632/1632 [==============================] - 982s 602ms/step - loss: -0.9104 - dice_coef: 0.9104 - acc: 0.8400 - mean_squared_error: 0.0029 - Jaccard_index: 0.8365 - Specificity: 0.9757 - Sensitivity: 1.0026 - precision: 0.9895 - recall: 0.9816 - f1score: 0.9855 - val_loss: -0.7958 - val_dice_coef: 0.7958 - val_acc: 0.8291 - val_mean_squared_error: 0.0153 - val_Jaccard_index: 0.6655 - val_Specificity: 0.9648 - val_Sensitivity: 0.9986 - val_precision: 0.9421 - val_recall: 0.7928 - val_f1score: 0.8569\n",
      "Epoch 93/150\n",
      "1632/1632 [==============================] - 983s 602ms/step - loss: -0.9105 - dice_coef: 0.9105 - acc: 0.8400 - mean_squared_error: 0.0029 - Jaccard_index: 0.8367 - Specificity: 0.9757 - Sensitivity: 1.0026 - precision: 0.9896 - recall: 0.9816 - f1score: 0.9856 - val_loss: -0.7940 - val_dice_coef: 0.7940 - val_acc: 0.8291 - val_mean_squared_error: 0.0154 - val_Jaccard_index: 0.6632 - val_Specificity: 0.9647 - val_Sensitivity: 0.9982 - val_precision: 0.9450 - val_recall: 0.7873 - val_f1score: 0.8547\n",
      "Epoch 94/150\n",
      "1632/1632 [==============================] - 983s 602ms/step - loss: -0.9106 - dice_coef: 0.9106 - acc: 0.8400 - mean_squared_error: 0.0029 - Jaccard_index: 0.8368 - Specificity: 0.9757 - Sensitivity: 1.0026 - precision: 0.9897 - recall: 0.9817 - f1score: 0.9857 - val_loss: -0.7865 - val_dice_coef: 0.7865 - val_acc: 0.8288 - val_mean_squared_error: 0.0161 - val_Jaccard_index: 0.6536 - val_Specificity: 0.9643 - val_Sensitivity: 0.9980 - val_precision: 0.9412 - val_recall: 0.7781 - val_f1score: 0.8471\n",
      "Epoch 95/150\n",
      "1632/1632 [==============================] - 983s 602ms/step - loss: -0.9106 - dice_coef: 0.9106 - acc: 0.8400 - mean_squared_error: 0.0028 - Jaccard_index: 0.8369 - Specificity: 0.9757 - Sensitivity: 1.0026 - precision: 0.9898 - recall: 0.9818 - f1score: 0.9858 - val_loss: -0.7889 - val_dice_coef: 0.7889 - val_acc: 0.8290 - val_mean_squared_error: 0.0158 - val_Jaccard_index: 0.6564 - val_Specificity: 0.9644 - val_Sensitivity: 0.9978 - val_precision: 0.9450 - val_recall: 0.7783 - val_f1score: 0.8490\n",
      "Epoch 96/150\n",
      "1632/1632 [==============================] - 983s 602ms/step - loss: -0.9109 - dice_coef: 0.9109 - acc: 0.8400 - mean_squared_error: 0.0028 - Jaccard_index: 0.8373 - Specificity: 0.9757 - Sensitivity: 1.0026 - precision: 0.9898 - recall: 0.9819 - f1score: 0.9858 - val_loss: -0.7914 - val_dice_coef: 0.7914 - val_acc: 0.8291 - val_mean_squared_error: 0.0156 - val_Jaccard_index: 0.6598 - val_Specificity: 0.9645 - val_Sensitivity: 0.9981 - val_precision: 0.9452 - val_recall: 0.7832 - val_f1score: 0.8524\n"
     ]
    },
    {
     "name": "stdout",
     "output_type": "stream",
     "text": [
      "Epoch 97/150\n",
      "1632/1632 [==============================] - 983s 602ms/step - loss: -0.9108 - dice_coef: 0.9108 - acc: 0.8400 - mean_squared_error: 0.0028 - Jaccard_index: 0.8373 - Specificity: 0.9757 - Sensitivity: 1.0026 - precision: 0.9899 - recall: 0.9819 - f1score: 0.9858 - val_loss: -0.7902 - val_dice_coef: 0.7902 - val_acc: 0.8290 - val_mean_squared_error: 0.0157 - val_Jaccard_index: 0.6581 - val_Specificity: 0.9645 - val_Sensitivity: 0.9979 - val_precision: 0.9453 - val_recall: 0.7816 - val_f1score: 0.8511\n",
      "Epoch 98/150\n",
      "1632/1632 [==============================] - 983s 602ms/step - loss: -0.9108 - dice_coef: 0.9108 - acc: 0.8400 - mean_squared_error: 0.0028 - Jaccard_index: 0.8371 - Specificity: 0.9757 - Sensitivity: 1.0026 - precision: 0.9900 - recall: 0.9820 - f1score: 0.9859 - val_loss: -0.7908 - val_dice_coef: 0.7908 - val_acc: 0.8290 - val_mean_squared_error: 0.0157 - val_Jaccard_index: 0.6587 - val_Specificity: 0.9644 - val_Sensitivity: 0.9979 - val_precision: 0.9458 - val_recall: 0.7806 - val_f1score: 0.8509\n",
      "Epoch 99/150\n",
      "1632/1632 [==============================] - 983s 602ms/step - loss: -0.9108 - dice_coef: 0.9108 - acc: 0.8400 - mean_squared_error: 0.0028 - Jaccard_index: 0.8372 - Specificity: 0.9757 - Sensitivity: 1.0026 - precision: 0.9901 - recall: 0.9820 - f1score: 0.9860 - val_loss: -0.7900 - val_dice_coef: 0.7900 - val_acc: 0.8290 - val_mean_squared_error: 0.0158 - val_Jaccard_index: 0.6578 - val_Specificity: 0.9645 - val_Sensitivity: 0.9981 - val_precision: 0.9430 - val_recall: 0.7817 - val_f1score: 0.8504\n",
      "Epoch 100/150\n",
      "1632/1632 [==============================] - 983s 602ms/step - loss: -0.9108 - dice_coef: 0.9108 - acc: 0.8400 - mean_squared_error: 0.0028 - Jaccard_index: 0.8372 - Specificity: 0.9757 - Sensitivity: 1.0026 - precision: 0.9901 - recall: 0.9821 - f1score: 0.9860 - val_loss: -0.7906 - val_dice_coef: 0.7906 - val_acc: 0.8290 - val_mean_squared_error: 0.0157 - val_Jaccard_index: 0.6592 - val_Specificity: 0.9645 - val_Sensitivity: 0.9980 - val_precision: 0.9447 - val_recall: 0.7812 - val_f1score: 0.8505\n",
      "Epoch 101/150\n",
      "1632/1632 [==============================] - 983s 602ms/step - loss: -0.9111 - dice_coef: 0.9111 - acc: 0.8400 - mean_squared_error: 0.0028 - Jaccard_index: 0.8376 - Specificity: 0.9757 - Sensitivity: 1.0026 - precision: 0.9902 - recall: 0.9821 - f1score: 0.9861 - val_loss: -0.7937 - val_dice_coef: 0.7937 - val_acc: 0.8291 - val_mean_squared_error: 0.0155 - val_Jaccard_index: 0.6630 - val_Specificity: 0.9646 - val_Sensitivity: 0.9982 - val_precision: 0.9442 - val_recall: 0.7867 - val_f1score: 0.8538\n",
      "Epoch 102/150\n",
      "1632/1632 [==============================] - 983s 602ms/step - loss: -0.9113 - dice_coef: 0.9113 - acc: 0.8400 - mean_squared_error: 0.0028 - Jaccard_index: 0.8380 - Specificity: 0.9757 - Sensitivity: 1.0026 - precision: 0.9902 - recall: 0.9824 - f1score: 0.9863 - val_loss: -0.7888 - val_dice_coef: 0.7888 - val_acc: 0.8290 - val_mean_squared_error: 0.0159 - val_Jaccard_index: 0.6562 - val_Specificity: 0.9644 - val_Sensitivity: 0.9978 - val_precision: 0.9451 - val_recall: 0.7786 - val_f1score: 0.8492\n",
      "Epoch 103/150\n",
      "1632/1632 [==============================] - 983s 602ms/step - loss: -0.9111 - dice_coef: 0.9111 - acc: 0.8400 - mean_squared_error: 0.0028 - Jaccard_index: 0.8377 - Specificity: 0.9757 - Sensitivity: 1.0026 - precision: 0.9903 - recall: 0.9823 - f1score: 0.9862 - val_loss: -0.7907 - val_dice_coef: 0.7907 - val_acc: 0.8291 - val_mean_squared_error: 0.0157 - val_Jaccard_index: 0.6586 - val_Specificity: 0.9645 - val_Sensitivity: 0.9980 - val_precision: 0.9448 - val_recall: 0.7821 - val_f1score: 0.8517\n",
      "Epoch 104/150\n",
      "1632/1632 [==============================] - 983s 602ms/step - loss: -0.9112 - dice_coef: 0.9112 - acc: 0.8400 - mean_squared_error: 0.0028 - Jaccard_index: 0.8378 - Specificity: 0.9757 - Sensitivity: 1.0026 - precision: 0.9903 - recall: 0.9824 - f1score: 0.9863 - val_loss: -0.7957 - val_dice_coef: 0.7957 - val_acc: 0.8292 - val_mean_squared_error: 0.0153 - val_Jaccard_index: 0.6657 - val_Specificity: 0.9646 - val_Sensitivity: 0.9979 - val_precision: 0.9486 - val_recall: 0.7867 - val_f1score: 0.8560\n",
      "Epoch 105/150\n",
      "1632/1632 [==============================] - 983s 602ms/step - loss: -0.9114 - dice_coef: 0.9114 - acc: 0.8400 - mean_squared_error: 0.0028 - Jaccard_index: 0.8382 - Specificity: 0.9757 - Sensitivity: 1.0026 - precision: 0.9904 - recall: 0.9826 - f1score: 0.9864 - val_loss: -0.7913 - val_dice_coef: 0.7913 - val_acc: 0.8289 - val_mean_squared_error: 0.0157 - val_Jaccard_index: 0.6597 - val_Specificity: 0.9646 - val_Sensitivity: 0.9984 - val_precision: 0.9400 - val_recall: 0.7856 - val_f1score: 0.8515\n",
      "Epoch 106/150\n",
      "1632/1632 [==============================] - 983s 602ms/step - loss: -0.9114 - dice_coef: 0.9114 - acc: 0.8400 - mean_squared_error: 0.0028 - Jaccard_index: 0.8381 - Specificity: 0.9757 - Sensitivity: 1.0026 - precision: 0.9905 - recall: 0.9826 - f1score: 0.9865 - val_loss: -0.7944 - val_dice_coef: 0.7944 - val_acc: 0.8292 - val_mean_squared_error: 0.0154 - val_Jaccard_index: 0.6636 - val_Specificity: 0.9647 - val_Sensitivity: 0.9982 - val_precision: 0.9460 - val_recall: 0.7872 - val_f1score: 0.8552\n",
      "Epoch 107/150\n",
      "1632/1632 [==============================] - 983s 602ms/step - loss: -0.9114 - dice_coef: 0.9114 - acc: 0.8400 - mean_squared_error: 0.0028 - Jaccard_index: 0.8382 - Specificity: 0.9757 - Sensitivity: 1.0026 - precision: 0.9905 - recall: 0.9825 - f1score: 0.9865 - val_loss: -0.7931 - val_dice_coef: 0.7931 - val_acc: 0.8290 - val_mean_squared_error: 0.0155 - val_Jaccard_index: 0.6620 - val_Specificity: 0.9647 - val_Sensitivity: 0.9985 - val_precision: 0.9411 - val_recall: 0.7880 - val_f1score: 0.8538\n",
      "Epoch 108/150\n",
      "1632/1632 [==============================] - 983s 602ms/step - loss: -0.9116 - dice_coef: 0.9116 - acc: 0.8400 - mean_squared_error: 0.0028 - Jaccard_index: 0.8384 - Specificity: 0.9757 - Sensitivity: 1.0026 - precision: 0.9906 - recall: 0.9827 - f1score: 0.9866 - val_loss: -0.7938 - val_dice_coef: 0.7938 - val_acc: 0.8291 - val_mean_squared_error: 0.0154 - val_Jaccard_index: 0.6628 - val_Specificity: 0.9647 - val_Sensitivity: 0.9982 - val_precision: 0.9448 - val_recall: 0.7876 - val_f1score: 0.8550\n",
      "Epoch 109/150\n",
      "1632/1632 [==============================] - 983s 602ms/step - loss: -0.9115 - dice_coef: 0.9115 - acc: 0.8400 - mean_squared_error: 0.0028 - Jaccard_index: 0.8383 - Specificity: 0.9757 - Sensitivity: 1.0026 - precision: 0.9906 - recall: 0.9827 - f1score: 0.9866 - val_loss: -0.7936 - val_dice_coef: 0.7936 - val_acc: 0.8292 - val_mean_squared_error: 0.0154 - val_Jaccard_index: 0.6627 - val_Specificity: 0.9646 - val_Sensitivity: 0.9981 - val_precision: 0.9460 - val_recall: 0.7852 - val_f1score: 0.8542\n",
      "Epoch 110/150\n",
      "1632/1632 [==============================] - 983s 602ms/step - loss: -0.9115 - dice_coef: 0.9115 - acc: 0.8400 - mean_squared_error: 0.0028 - Jaccard_index: 0.8383 - Specificity: 0.9757 - Sensitivity: 1.0026 - precision: 0.9906 - recall: 0.9828 - f1score: 0.9866 - val_loss: -0.7930 - val_dice_coef: 0.7930 - val_acc: 0.8291 - val_mean_squared_error: 0.0155 - val_Jaccard_index: 0.6624 - val_Specificity: 0.9646 - val_Sensitivity: 0.9980 - val_precision: 0.9462 - val_recall: 0.7853 - val_f1score: 0.8535\n",
      "Epoch 111/150\n",
      "1632/1632 [==============================] - 983s 602ms/step - loss: -0.9115 - dice_coef: 0.9115 - acc: 0.8400 - mean_squared_error: 0.0028 - Jaccard_index: 0.8383 - Specificity: 0.9757 - Sensitivity: 1.0026 - precision: 0.9907 - recall: 0.9829 - f1score: 0.9868 - val_loss: -0.7930 - val_dice_coef: 0.7930 - val_acc: 0.8290 - val_mean_squared_error: 0.0156 - val_Jaccard_index: 0.6616 - val_Specificity: 0.9647 - val_Sensitivity: 0.9985 - val_precision: 0.9409 - val_recall: 0.7888 - val_f1score: 0.8541\n",
      "Epoch 112/150\n",
      "1632/1632 [==============================] - 983s 602ms/step - loss: -0.9115 - dice_coef: 0.9115 - acc: 0.8400 - mean_squared_error: 0.0028 - Jaccard_index: 0.8384 - Specificity: 0.9757 - Sensitivity: 1.0026 - precision: 0.9907 - recall: 0.9830 - f1score: 0.9868 - val_loss: -0.7942 - val_dice_coef: 0.7942 - val_acc: 0.8291 - val_mean_squared_error: 0.0154 - val_Jaccard_index: 0.6633 - val_Specificity: 0.9647 - val_Sensitivity: 0.9983 - val_precision: 0.9438 - val_recall: 0.7880 - val_f1score: 0.8548\n"
     ]
    },
    {
     "name": "stdout",
     "output_type": "stream",
     "text": [
      "Epoch 113/150\n",
      "1632/1632 [==============================] - 982s 602ms/step - loss: -0.9116 - dice_coef: 0.9116 - acc: 0.8400 - mean_squared_error: 0.0028 - Jaccard_index: 0.8385 - Specificity: 0.9757 - Sensitivity: 1.0026 - precision: 0.9907 - recall: 0.9829 - f1score: 0.9868 - val_loss: -0.7893 - val_dice_coef: 0.7893 - val_acc: 0.8290 - val_mean_squared_error: 0.0159 - val_Jaccard_index: 0.6570 - val_Specificity: 0.9643 - val_Sensitivity: 0.9978 - val_precision: 0.9455 - val_recall: 0.7784 - val_f1score: 0.8492\n",
      "Epoch 114/150\n",
      "1632/1632 [==============================] - 983s 602ms/step - loss: -0.9118 - dice_coef: 0.9118 - acc: 0.8401 - mean_squared_error: 0.0028 - Jaccard_index: 0.8388 - Specificity: 0.9757 - Sensitivity: 1.0026 - precision: 0.9909 - recall: 0.9830 - f1score: 0.9869 - val_loss: -0.7879 - val_dice_coef: 0.7879 - val_acc: 0.8290 - val_mean_squared_error: 0.0159 - val_Jaccard_index: 0.6554 - val_Specificity: 0.9643 - val_Sensitivity: 0.9977 - val_precision: 0.9461 - val_recall: 0.7757 - val_f1score: 0.8479\n",
      "Epoch 115/150\n",
      "1632/1632 [==============================] - 983s 602ms/step - loss: -0.9118 - dice_coef: 0.9118 - acc: 0.8401 - mean_squared_error: 0.0028 - Jaccard_index: 0.8389 - Specificity: 0.9757 - Sensitivity: 1.0026 - precision: 0.9908 - recall: 0.9832 - f1score: 0.9870 - val_loss: -0.7842 - val_dice_coef: 0.7842 - val_acc: 0.8289 - val_mean_squared_error: 0.0161 - val_Jaccard_index: 0.6506 - val_Specificity: 0.9642 - val_Sensitivity: 0.9976 - val_precision: 0.9450 - val_recall: 0.7717 - val_f1score: 0.8446\n",
      "Epoch 116/150\n",
      "1632/1632 [==============================] - 983s 602ms/step - loss: -0.9117 - dice_coef: 0.9117 - acc: 0.8401 - mean_squared_error: 0.0027 - Jaccard_index: 0.8387 - Specificity: 0.9757 - Sensitivity: 1.0026 - precision: 0.9909 - recall: 0.9831 - f1score: 0.9869 - val_loss: -0.7879 - val_dice_coef: 0.7879 - val_acc: 0.8290 - val_mean_squared_error: 0.0159 - val_Jaccard_index: 0.6557 - val_Specificity: 0.9643 - val_Sensitivity: 0.9976 - val_precision: 0.9468 - val_recall: 0.7758 - val_f1score: 0.8478\n",
      "Epoch 117/150\n",
      "1632/1632 [==============================] - 982s 602ms/step - loss: -0.9118 - dice_coef: 0.9118 - acc: 0.8401 - mean_squared_error: 0.0027 - Jaccard_index: 0.8389 - Specificity: 0.9757 - Sensitivity: 1.0026 - precision: 0.9909 - recall: 0.9831 - f1score: 0.9870 - val_loss: -0.7872 - val_dice_coef: 0.7872 - val_acc: 0.8289 - val_mean_squared_error: 0.0160 - val_Jaccard_index: 0.6541 - val_Specificity: 0.9643 - val_Sensitivity: 0.9978 - val_precision: 0.9448 - val_recall: 0.7751 - val_f1score: 0.8473\n",
      "Epoch 118/150\n",
      "1632/1632 [==============================] - 983s 602ms/step - loss: -0.9118 - dice_coef: 0.9118 - acc: 0.8401 - mean_squared_error: 0.0027 - Jaccard_index: 0.8389 - Specificity: 0.9757 - Sensitivity: 1.0026 - precision: 0.9910 - recall: 0.9833 - f1score: 0.9871 - val_loss: -0.7904 - val_dice_coef: 0.7904 - val_acc: 0.8290 - val_mean_squared_error: 0.0157 - val_Jaccard_index: 0.6588 - val_Specificity: 0.9644 - val_Sensitivity: 0.9979 - val_precision: 0.9455 - val_recall: 0.7808 - val_f1score: 0.8505\n",
      "Epoch 119/150\n",
      "1632/1632 [==============================] - 983s 602ms/step - loss: -0.9119 - dice_coef: 0.9119 - acc: 0.8401 - mean_squared_error: 0.0027 - Jaccard_index: 0.8391 - Specificity: 0.9757 - Sensitivity: 1.0026 - precision: 0.9910 - recall: 0.9834 - f1score: 0.9871 - val_loss: -0.7914 - val_dice_coef: 0.7914 - val_acc: 0.8290 - val_mean_squared_error: 0.0156 - val_Jaccard_index: 0.6599 - val_Specificity: 0.9645 - val_Sensitivity: 0.9981 - val_precision: 0.9442 - val_recall: 0.7838 - val_f1score: 0.8520\n",
      "Epoch 120/150\n",
      "1632/1632 [==============================] - 983s 602ms/step - loss: -0.9119 - dice_coef: 0.9119 - acc: 0.8401 - mean_squared_error: 0.0027 - Jaccard_index: 0.8389 - Specificity: 0.9757 - Sensitivity: 1.0026 - precision: 0.9910 - recall: 0.9832 - f1score: 0.9871 - val_loss: -0.7918 - val_dice_coef: 0.7918 - val_acc: 0.8291 - val_mean_squared_error: 0.0156 - val_Jaccard_index: 0.6601 - val_Specificity: 0.9645 - val_Sensitivity: 0.9979 - val_precision: 0.9469 - val_recall: 0.7824 - val_f1score: 0.8524\n",
      "Epoch 121/150\n",
      "1632/1632 [==============================] - 982s 602ms/step - loss: -0.9121 - dice_coef: 0.9121 - acc: 0.8401 - mean_squared_error: 0.0027 - Jaccard_index: 0.8394 - Specificity: 0.9757 - Sensitivity: 1.0026 - precision: 0.9911 - recall: 0.9835 - f1score: 0.9872 - val_loss: -0.7911 - val_dice_coef: 0.7911 - val_acc: 0.8291 - val_mean_squared_error: 0.0156 - val_Jaccard_index: 0.6590 - val_Specificity: 0.9644 - val_Sensitivity: 0.9978 - val_precision: 0.9476 - val_recall: 0.7804 - val_f1score: 0.8518\n",
      "Epoch 122/150\n",
      "1632/1632 [==============================] - 983s 602ms/step - loss: -0.9121 - dice_coef: 0.9121 - acc: 0.8401 - mean_squared_error: 0.0027 - Jaccard_index: 0.8394 - Specificity: 0.9757 - Sensitivity: 1.0026 - precision: 0.9911 - recall: 0.9835 - f1score: 0.9873 - val_loss: -0.7886 - val_dice_coef: 0.7886 - val_acc: 0.8290 - val_mean_squared_error: 0.0158 - val_Jaccard_index: 0.6561 - val_Specificity: 0.9644 - val_Sensitivity: 0.9979 - val_precision: 0.9458 - val_recall: 0.7780 - val_f1score: 0.8493\n",
      "Epoch 123/150\n",
      "1632/1632 [==============================] - 983s 602ms/step - loss: -0.9122 - dice_coef: 0.9122 - acc: 0.8401 - mean_squared_error: 0.0027 - Jaccard_index: 0.8395 - Specificity: 0.9757 - Sensitivity: 1.0026 - precision: 0.9912 - recall: 0.9836 - f1score: 0.9873 - val_loss: -0.7841 - val_dice_coef: 0.7841 - val_acc: 0.8289 - val_mean_squared_error: 0.0162 - val_Jaccard_index: 0.6501 - val_Specificity: 0.9641 - val_Sensitivity: 0.9973 - val_precision: 0.9475 - val_recall: 0.7681 - val_f1score: 0.8436\n",
      "Epoch 124/150\n",
      "1632/1632 [==============================] - 983s 602ms/step - loss: -0.9121 - dice_coef: 0.9121 - acc: 0.8401 - mean_squared_error: 0.0027 - Jaccard_index: 0.8394 - Specificity: 0.9757 - Sensitivity: 1.0026 - precision: 0.9912 - recall: 0.9836 - f1score: 0.9874 - val_loss: -0.7918 - val_dice_coef: 0.7918 - val_acc: 0.8292 - val_mean_squared_error: 0.0155 - val_Jaccard_index: 0.6602 - val_Specificity: 0.9645 - val_Sensitivity: 0.9977 - val_precision: 0.9494 - val_recall: 0.7803 - val_f1score: 0.8524\n",
      "Epoch 125/150\n",
      "1632/1632 [==============================] - 982s 602ms/step - loss: -0.9122 - dice_coef: 0.9122 - acc: 0.8401 - mean_squared_error: 0.0027 - Jaccard_index: 0.8394 - Specificity: 0.9757 - Sensitivity: 1.0026 - precision: 0.9913 - recall: 0.9836 - f1score: 0.9874 - val_loss: -0.7940 - val_dice_coef: 0.7940 - val_acc: 0.8290 - val_mean_squared_error: 0.0155 - val_Jaccard_index: 0.6634 - val_Specificity: 0.9647 - val_Sensitivity: 0.9984 - val_precision: 0.9420 - val_recall: 0.7895 - val_f1score: 0.8547\n",
      "Epoch 126/150\n",
      "1632/1632 [==============================] - 983s 602ms/step - loss: -0.9121 - dice_coef: 0.9121 - acc: 0.8401 - mean_squared_error: 0.0027 - Jaccard_index: 0.8393 - Specificity: 0.9757 - Sensitivity: 1.0026 - precision: 0.9914 - recall: 0.9836 - f1score: 0.9874 - val_loss: -0.7895 - val_dice_coef: 0.7895 - val_acc: 0.8290 - val_mean_squared_error: 0.0157 - val_Jaccard_index: 0.6576 - val_Specificity: 0.9645 - val_Sensitivity: 0.9980 - val_precision: 0.9442 - val_recall: 0.7798 - val_f1score: 0.8497\n",
      "Epoch 127/150\n",
      "1632/1632 [==============================] - 983s 602ms/step - loss: -0.9124 - dice_coef: 0.9124 - acc: 0.8401 - mean_squared_error: 0.0027 - Jaccard_index: 0.8398 - Specificity: 0.9757 - Sensitivity: 1.0026 - precision: 0.9914 - recall: 0.9836 - f1score: 0.9875 - val_loss: -0.7926 - val_dice_coef: 0.7926 - val_acc: 0.8292 - val_mean_squared_error: 0.0155 - val_Jaccard_index: 0.6612 - val_Specificity: 0.9646 - val_Sensitivity: 0.9980 - val_precision: 0.9473 - val_recall: 0.7836 - val_f1score: 0.8537\n",
      "Epoch 128/150\n",
      "1632/1632 [==============================] - 987s 605ms/step - loss: -0.9123 - dice_coef: 0.9123 - acc: 0.8401 - mean_squared_error: 0.0027 - Jaccard_index: 0.8398 - Specificity: 0.9757 - Sensitivity: 1.0026 - precision: 0.9914 - recall: 0.9838 - f1score: 0.9876 - val_loss: -0.7893 - val_dice_coef: 0.7893 - val_acc: 0.8289 - val_mean_squared_error: 0.0159 - val_Jaccard_index: 0.6567 - val_Specificity: 0.9644 - val_Sensitivity: 0.9979 - val_precision: 0.9440 - val_recall: 0.7792 - val_f1score: 0.8494\n"
     ]
    },
    {
     "name": "stdout",
     "output_type": "stream",
     "text": [
      "Epoch 129/150\n",
      "1632/1632 [==============================] - 982s 602ms/step - loss: -0.9124 - dice_coef: 0.9124 - acc: 0.8401 - mean_squared_error: 0.0027 - Jaccard_index: 0.8398 - Specificity: 0.9758 - Sensitivity: 1.0026 - precision: 0.9914 - recall: 0.9838 - f1score: 0.9876 - val_loss: -0.7875 - val_dice_coef: 0.7875 - val_acc: 0.8290 - val_mean_squared_error: 0.0159 - val_Jaccard_index: 0.6544 - val_Specificity: 0.9643 - val_Sensitivity: 0.9977 - val_precision: 0.9461 - val_recall: 0.7746 - val_f1score: 0.8476\n",
      "Epoch 130/150\n",
      "1632/1632 [==============================] - 983s 602ms/step - loss: -0.9123 - dice_coef: 0.9123 - acc: 0.8401 - mean_squared_error: 0.0027 - Jaccard_index: 0.8397 - Specificity: 0.9758 - Sensitivity: 1.0026 - precision: 0.9915 - recall: 0.9838 - f1score: 0.9876 - val_loss: -0.7888 - val_dice_coef: 0.7888 - val_acc: 0.8289 - val_mean_squared_error: 0.0159 - val_Jaccard_index: 0.6563 - val_Specificity: 0.9644 - val_Sensitivity: 0.9979 - val_precision: 0.9436 - val_recall: 0.7798 - val_f1score: 0.8493\n",
      "Epoch 131/150\n",
      "1632/1632 [==============================] - 982s 602ms/step - loss: -0.9126 - dice_coef: 0.9126 - acc: 0.8401 - mean_squared_error: 0.0027 - Jaccard_index: 0.8403 - Specificity: 0.9758 - Sensitivity: 1.0026 - precision: 0.9916 - recall: 0.9840 - f1score: 0.9877 - val_loss: -0.7925 - val_dice_coef: 0.7925 - val_acc: 0.8291 - val_mean_squared_error: 0.0155 - val_Jaccard_index: 0.6612 - val_Specificity: 0.9645 - val_Sensitivity: 0.9979 - val_precision: 0.9466 - val_recall: 0.7833 - val_f1score: 0.8530\n",
      "Epoch 132/150\n",
      "1632/1632 [==============================] - 982s 602ms/step - loss: -0.9122 - dice_coef: 0.9122 - acc: 0.8401 - mean_squared_error: 0.0027 - Jaccard_index: 0.8395 - Specificity: 0.9758 - Sensitivity: 1.0026 - precision: 0.9916 - recall: 0.9836 - f1score: 0.9876 - val_loss: -0.7897 - val_dice_coef: 0.7897 - val_acc: 0.8290 - val_mean_squared_error: 0.0158 - val_Jaccard_index: 0.6571 - val_Specificity: 0.9645 - val_Sensitivity: 0.9981 - val_precision: 0.9443 - val_recall: 0.7816 - val_f1score: 0.8514\n",
      "Epoch 133/150\n",
      "1632/1632 [==============================] - 983s 602ms/step - loss: -0.9125 - dice_coef: 0.9125 - acc: 0.8401 - mean_squared_error: 0.0027 - Jaccard_index: 0.8399 - Specificity: 0.9758 - Sensitivity: 1.0026 - precision: 0.9916 - recall: 0.9839 - f1score: 0.9877 - val_loss: -0.7935 - val_dice_coef: 0.7935 - val_acc: 0.8292 - val_mean_squared_error: 0.0155 - val_Jaccard_index: 0.6627 - val_Specificity: 0.9646 - val_Sensitivity: 0.9980 - val_precision: 0.9472 - val_recall: 0.7857 - val_f1score: 0.8544\n",
      "Epoch 134/150\n",
      "1632/1632 [==============================] - 983s 602ms/step - loss: -0.9124 - dice_coef: 0.9124 - acc: 0.8401 - mean_squared_error: 0.0027 - Jaccard_index: 0.8398 - Specificity: 0.9758 - Sensitivity: 1.0026 - precision: 0.9916 - recall: 0.9840 - f1score: 0.9877 - val_loss: -0.7938 - val_dice_coef: 0.7938 - val_acc: 0.8291 - val_mean_squared_error: 0.0155 - val_Jaccard_index: 0.6630 - val_Specificity: 0.9646 - val_Sensitivity: 0.9981 - val_precision: 0.9458 - val_recall: 0.7859 - val_f1score: 0.8543\n",
      "Epoch 135/150\n",
      "1632/1632 [==============================] - 983s 602ms/step - loss: -0.9124 - dice_coef: 0.9124 - acc: 0.8401 - mean_squared_error: 0.0027 - Jaccard_index: 0.8399 - Specificity: 0.9758 - Sensitivity: 1.0026 - precision: 0.9917 - recall: 0.9840 - f1score: 0.9878 - val_loss: -0.7867 - val_dice_coef: 0.7867 - val_acc: 0.8290 - val_mean_squared_error: 0.0160 - val_Jaccard_index: 0.6541 - val_Specificity: 0.9642 - val_Sensitivity: 0.9976 - val_precision: 0.9470 - val_recall: 0.7740 - val_f1score: 0.8468\n",
      "Epoch 136/150\n",
      "1632/1632 [==============================] - 982s 602ms/step - loss: -0.9125 - dice_coef: 0.9125 - acc: 0.8401 - mean_squared_error: 0.0027 - Jaccard_index: 0.8400 - Specificity: 0.9758 - Sensitivity: 1.0026 - precision: 0.9916 - recall: 0.9840 - f1score: 0.9878 - val_loss: -0.7940 - val_dice_coef: 0.7940 - val_acc: 0.8291 - val_mean_squared_error: 0.0154 - val_Jaccard_index: 0.6627 - val_Specificity: 0.9646 - val_Sensitivity: 0.9981 - val_precision: 0.9456 - val_recall: 0.7868 - val_f1score: 0.8552\n",
      "Epoch 137/150\n",
      "1632/1632 [==============================] - 982s 602ms/step - loss: -0.9126 - dice_coef: 0.9126 - acc: 0.8401 - mean_squared_error: 0.0027 - Jaccard_index: 0.8401 - Specificity: 0.9758 - Sensitivity: 1.0026 - precision: 0.9918 - recall: 0.9840 - f1score: 0.9878 - val_loss: -0.7834 - val_dice_coef: 0.7834 - val_acc: 0.8290 - val_mean_squared_error: 0.0161 - val_Jaccard_index: 0.6493 - val_Specificity: 0.9640 - val_Sensitivity: 0.9970 - val_precision: 0.9515 - val_recall: 0.7638 - val_f1score: 0.8426\n",
      "Epoch 138/150\n",
      "1632/1632 [==============================] - 982s 602ms/step - loss: -0.9125 - dice_coef: 0.9125 - acc: 0.8401 - mean_squared_error: 0.0027 - Jaccard_index: 0.8401 - Specificity: 0.9758 - Sensitivity: 1.0026 - precision: 0.9917 - recall: 0.9841 - f1score: 0.9879 - val_loss: -0.7866 - val_dice_coef: 0.7866 - val_acc: 0.8290 - val_mean_squared_error: 0.0161 - val_Jaccard_index: 0.6530 - val_Specificity: 0.9642 - val_Sensitivity: 0.9974 - val_precision: 0.9474 - val_recall: 0.7718 - val_f1score: 0.8462\n",
      "Epoch 139/150\n",
      "1632/1632 [==============================] - 982s 602ms/step - loss: -0.9126 - dice_coef: 0.9126 - acc: 0.8401 - mean_squared_error: 0.0027 - Jaccard_index: 0.8402 - Specificity: 0.9758 - Sensitivity: 1.0026 - precision: 0.9918 - recall: 0.9842 - f1score: 0.9880 - val_loss: -0.7899 - val_dice_coef: 0.7899 - val_acc: 0.8290 - val_mean_squared_error: 0.0158 - val_Jaccard_index: 0.6578 - val_Specificity: 0.9645 - val_Sensitivity: 0.9980 - val_precision: 0.9449 - val_recall: 0.7798 - val_f1score: 0.8500\n",
      "Epoch 140/150\n",
      "1632/1632 [==============================] - 987s 605ms/step - loss: -0.9127 - dice_coef: 0.9127 - acc: 0.8401 - mean_squared_error: 0.0027 - Jaccard_index: 0.8403 - Specificity: 0.9758 - Sensitivity: 1.0026 - precision: 0.9918 - recall: 0.9841 - f1score: 0.9879 - val_loss: -0.7878 - val_dice_coef: 0.7878 - val_acc: 0.8289 - val_mean_squared_error: 0.0159 - val_Jaccard_index: 0.6551 - val_Specificity: 0.9644 - val_Sensitivity: 0.9979 - val_precision: 0.9440 - val_recall: 0.7775 - val_f1score: 0.8480\n",
      "Epoch 141/150\n",
      "1632/1632 [==============================] - 982s 602ms/step - loss: -0.9127 - dice_coef: 0.9127 - acc: 0.8401 - mean_squared_error: 0.0027 - Jaccard_index: 0.8403 - Specificity: 0.9758 - Sensitivity: 1.0026 - precision: 0.9919 - recall: 0.9843 - f1score: 0.9880 - val_loss: -0.7844 - val_dice_coef: 0.7844 - val_acc: 0.8289 - val_mean_squared_error: 0.0162 - val_Jaccard_index: 0.6505 - val_Specificity: 0.9641 - val_Sensitivity: 0.9974 - val_precision: 0.9463 - val_recall: 0.7699 - val_f1score: 0.8442\n",
      "Epoch 142/150\n",
      "1632/1632 [==============================] - 982s 602ms/step - loss: -0.9127 - dice_coef: 0.9127 - acc: 0.8401 - mean_squared_error: 0.0027 - Jaccard_index: 0.8404 - Specificity: 0.9758 - Sensitivity: 1.0025 - precision: 0.9919 - recall: 0.9843 - f1score: 0.9880 - val_loss: -0.7940 - val_dice_coef: 0.7940 - val_acc: 0.8291 - val_mean_squared_error: 0.0155 - val_Jaccard_index: 0.6631 - val_Specificity: 0.9647 - val_Sensitivity: 0.9982 - val_precision: 0.9445 - val_recall: 0.7879 - val_f1score: 0.8550\n",
      "Epoch 143/150\n",
      "1632/1632 [==============================] - 982s 602ms/step - loss: -0.9128 - dice_coef: 0.9128 - acc: 0.8401 - mean_squared_error: 0.0027 - Jaccard_index: 0.8405 - Specificity: 0.9758 - Sensitivity: 1.0025 - precision: 0.9919 - recall: 0.9844 - f1score: 0.9881 - val_loss: -0.7891 - val_dice_coef: 0.7891 - val_acc: 0.8290 - val_mean_squared_error: 0.0159 - val_Jaccard_index: 0.6562 - val_Specificity: 0.9644 - val_Sensitivity: 0.9979 - val_precision: 0.9447 - val_recall: 0.7787 - val_f1score: 0.8495\n",
      "Epoch 144/150\n",
      "1632/1632 [==============================] - 982s 602ms/step - loss: -0.9126 - dice_coef: 0.9126 - acc: 0.8401 - mean_squared_error: 0.0027 - Jaccard_index: 0.8403 - Specificity: 0.9758 - Sensitivity: 1.0025 - precision: 0.9920 - recall: 0.9843 - f1score: 0.9881 - val_loss: -0.7836 - val_dice_coef: 0.7836 - val_acc: 0.8289 - val_mean_squared_error: 0.0163 - val_Jaccard_index: 0.6498 - val_Specificity: 0.9641 - val_Sensitivity: 0.9973 - val_precision: 0.9474 - val_recall: 0.7685 - val_f1score: 0.8437\n"
     ]
    },
    {
     "name": "stdout",
     "output_type": "stream",
     "text": [
      "Epoch 145/150\n",
      "1632/1632 [==============================] - 982s 602ms/step - loss: -0.9129 - dice_coef: 0.9129 - acc: 0.8401 - mean_squared_error: 0.0027 - Jaccard_index: 0.8408 - Specificity: 0.9758 - Sensitivity: 1.0025 - precision: 0.9920 - recall: 0.9844 - f1score: 0.9882 - val_loss: -0.7880 - val_dice_coef: 0.7880 - val_acc: 0.8289 - val_mean_squared_error: 0.0159 - val_Jaccard_index: 0.6554 - val_Specificity: 0.9644 - val_Sensitivity: 0.9978 - val_precision: 0.9443 - val_recall: 0.7778 - val_f1score: 0.8482\n",
      "Epoch 146/150\n",
      "1632/1632 [==============================] - 982s 602ms/step - loss: -0.9127 - dice_coef: 0.9127 - acc: 0.8401 - mean_squared_error: 0.0027 - Jaccard_index: 0.8403 - Specificity: 0.9758 - Sensitivity: 1.0025 - precision: 0.9920 - recall: 0.9843 - f1score: 0.9881 - val_loss: -0.7951 - val_dice_coef: 0.7951 - val_acc: 0.8291 - val_mean_squared_error: 0.0153 - val_Jaccard_index: 0.6640 - val_Specificity: 0.9648 - val_Sensitivity: 0.9984 - val_precision: 0.9436 - val_recall: 0.7898 - val_f1score: 0.8562\n",
      "Epoch 147/150\n",
      "1632/1632 [==============================] - 988s 605ms/step - loss: -0.9128 - dice_coef: 0.9128 - acc: 0.8401 - mean_squared_error: 0.0026 - Jaccard_index: 0.8406 - Specificity: 0.9758 - Sensitivity: 1.0025 - precision: 0.9921 - recall: 0.9844 - f1score: 0.9882 - val_loss: -0.7948 - val_dice_coef: 0.7948 - val_acc: 0.8291 - val_mean_squared_error: 0.0154 - val_Jaccard_index: 0.6638 - val_Specificity: 0.9647 - val_Sensitivity: 0.9982 - val_precision: 0.9455 - val_recall: 0.7878 - val_f1score: 0.8558\n",
      "Epoch 148/150\n",
      "1632/1632 [==============================] - 990s 607ms/step - loss: -0.9129 - dice_coef: 0.9129 - acc: 0.8401 - mean_squared_error: 0.0026 - Jaccard_index: 0.8408 - Specificity: 0.9758 - Sensitivity: 1.0025 - precision: 0.9922 - recall: 0.9845 - f1score: 0.9883 - val_loss: -0.7889 - val_dice_coef: 0.7889 - val_acc: 0.8290 - val_mean_squared_error: 0.0158 - val_Jaccard_index: 0.6567 - val_Specificity: 0.9644 - val_Sensitivity: 0.9979 - val_precision: 0.9441 - val_recall: 0.7800 - val_f1score: 0.8497\n",
      "Epoch 149/150\n",
      "1632/1632 [==============================] - 990s 607ms/step - loss: -0.9130 - dice_coef: 0.9130 - acc: 0.8401 - mean_squared_error: 0.0026 - Jaccard_index: 0.8409 - Specificity: 0.9758 - Sensitivity: 1.0025 - precision: 0.9921 - recall: 0.9845 - f1score: 0.9883 - val_loss: -0.7874 - val_dice_coef: 0.7874 - val_acc: 0.8288 - val_mean_squared_error: 0.0161 - val_Jaccard_index: 0.6550 - val_Specificity: 0.9644 - val_Sensitivity: 0.9981 - val_precision: 0.9406 - val_recall: 0.7799 - val_f1score: 0.8476\n",
      "Epoch 150/150\n",
      "1632/1632 [==============================] - 991s 607ms/step - loss: -0.9127 - dice_coef: 0.9127 - acc: 0.8401 - mean_squared_error: 0.0026 - Jaccard_index: 0.8405 - Specificity: 0.9758 - Sensitivity: 1.0025 - precision: 0.9921 - recall: 0.9846 - f1score: 0.9883 - val_loss: -0.7857 - val_dice_coef: 0.7857 - val_acc: 0.8289 - val_mean_squared_error: 0.0160 - val_Jaccard_index: 0.6521 - val_Specificity: 0.9642 - val_Sensitivity: 0.9975 - val_precision: 0.9466 - val_recall: 0.7711 - val_f1score: 0.8455\n"
     ]
    }
   ],
   "source": [
    "history = model.fit_generator(train_generator,\n",
    "                    steps_per_epoch=nb_train_samples//batch_size,\n",
    "                    epochs=epochs,\n",
    "                    validation_data = validation_generator,\n",
    "                    validation_steps = nb_validation_samples//batch_size)"
   ]
  },
  {
   "cell_type": "code",
   "execution_count": 14,
   "metadata": {},
   "outputs": [
    {
     "name": "stdout",
     "output_type": "stream",
     "text": [
      "Validation Score:  -0.7890231275558471\n",
      "Validation Accuracy:  0.7890231275558471\n"
     ]
    }
   ],
   "source": [
    "score = model.evaluate_generator(validation_generator, steps=50)\n",
    "\n",
    "print ('Validation Score: ', score[0])\n",
    "print ('Validation Accuracy: ',score[1])"
   ]
  },
  {
   "cell_type": "code",
   "execution_count": 15,
   "metadata": {},
   "outputs": [
    {
     "name": "stdout",
     "output_type": "stream",
     "text": [
      "28/28 [==============================] - 6s 201ms/step\n"
     ]
    }
   ],
   "source": [
    "prediction = model.predict_generator(test_generator, verbose=1, steps=nb_test_samples)"
   ]
  },
  {
   "cell_type": "code",
   "execution_count": 16,
   "metadata": {},
   "outputs": [
    {
     "data": {
      "text/plain": [
       "(392, 256, 256, 1)"
      ]
     },
     "execution_count": 16,
     "metadata": {},
     "output_type": "execute_result"
    }
   ],
   "source": [
    "prediction.shape"
   ]
  },
  {
   "cell_type": "code",
   "execution_count": 17,
   "metadata": {},
   "outputs": [
    {
     "name": "stdout",
     "output_type": "stream",
     "text": [
      "['loss', 'dice_coef', 'acc', 'mean_squared_error', 'Jaccard_index', 'Specificity', 'Sensitivity', 'precision', 'recall', 'f1score']\n",
      "[-0.847023127419608, 0.8470231294631958, 0.9857708532469613, 0.01419655657772507, 0.7391278535979134, 0.9694751994950431, 0.9973936946051462, 0.9272227348600115, 0.7857990510123116, 0.8469940744127546]\n"
     ]
    }
   ],
   "source": [
    "test_results = model.evaluate_generator(test_generator, steps=50)\n",
    "\n",
    "print(model.metrics_names)\n",
    "print(test_results)"
   ]
  },
  {
   "cell_type": "code",
   "execution_count": 18,
   "metadata": {},
   "outputs": [
    {
     "name": "stdout",
     "output_type": "stream",
     "text": [
      "Training co-effiency    : 0.8409039471298456;\n",
      "Validation co-effiency : 0.6550274357637939\n"
     ]
    }
   ],
   "source": [
    "coef = np.array(history.history['Jaccard_index'])\n",
    "val_coef = np.array(history.history['val_Jaccard_index'])\n",
    "print(\"Training co-effiency    : {};\\nValidation co-effiency : {}\".format(coef[coef==max(coef)][0], val_coef[np.argmax(coef)]))"
   ]
  },
  {
   "cell_type": "code",
   "execution_count": 19,
   "metadata": {},
   "outputs": [],
   "source": [
    "import skimage.io as io\n",
    "\n",
    "def labelVisualize(num_class,color_dict,img):\n",
    "    img = img[:,:,0] if len(img.shape) == 3 else img\n",
    "    img_out = np.zeros(img.shape + (3,))\n",
    "    for i in range(num_class):\n",
    "        img_out[img == i,:] = color_dict[i]\n",
    "    return img_out / 255\n",
    "\n",
    "def saveResult(save_path,npyfile,flag_multi_class = False,num_class = 2):\n",
    "    for i,item in enumerate(npyfile):\n",
    "        img = labelVisualize(num_class,COLOR_DICT,item) if flag_multi_class else item[:,:,0]\n",
    "        io.imsave(os.path.join(save_path,\"%d_predict.png\"%i),img)\n",
    "\n",
    "os.mkdir('05.U-Net2_results_dir')"
   ]
  },
  {
   "cell_type": "code",
   "execution_count": 20,
   "metadata": {},
   "outputs": [],
   "source": [
    "saveResult('05.U-Net2_results_dir',prediction)"
   ]
  },
  {
   "cell_type": "code",
   "execution_count": 23,
   "metadata": {},
   "outputs": [],
   "source": [
    "def normalizeData(img,mask):\n",
    "    mean = np.mean(img)\n",
    "    std = np.std(img)\n",
    "    img -= mean\n",
    "    img /= std\n",
    "    mask = mask /255\n",
    "    mask[mask > 0.5] = 1\n",
    "    mask[mask <= 0.5] = 0\n",
    "    return (img,mask)\n",
    "\n",
    "test_data_dir= \"data_augmented/cvc300_test/images/\"\n",
    "test_data_mask_dir = \"data_augmented/cvc300_test/masks/\"\n",
    "test_data_pred_dir = \"05.U-Net2_results_dir\"\n",
    "img_rows, img_cols = 256, 256"
   ]
  },
  {
   "cell_type": "code",
   "execution_count": 24,
   "metadata": {},
   "outputs": [
    {
     "name": "stdout",
     "output_type": "stream",
     "text": [
      "1.png -- jaccard index: 0.0029498524963855743\n",
      "11.png -- jaccard index: 0.0001354830019408837\n",
      "113.png -- jaccard index: 0.3611471652984619\n",
      "12.png -- jaccard index: 0.01307440735399723\n",
      "144.png -- jaccard index: 0.0001247972104465589\n",
      "156.png -- jaccard index: 0.000501756148878485\n",
      "169.png -- jaccard index: 0.0003862495068460703\n",
      "171.png -- jaccard index: 8.291186532005668e-05\n",
      "175.png -- jaccard index: 0.4594744145870209\n",
      "182.png -- jaccard index: 0.000567859155125916\n",
      "185.png -- jaccard index: 0.3222818672657013\n",
      "19.png -- jaccard index: 0.9195354580879211\n",
      "193.png -- jaccard index: 0.14220920205116272\n",
      "214.png -- jaccard index: 0.5593185424804688\n",
      "23.png -- jaccard index: 0.0002912904310505837\n",
      "238.png -- jaccard index: 0.2930622696876526\n",
      "239.png -- jaccard index: 0.21719202399253845\n",
      "244.png -- jaccard index: 0.0005512679344974458\n",
      "246.png -- jaccard index: 0.862852156162262\n",
      "256.png -- jaccard index: 0.874769389629364\n",
      "269.png -- jaccard index: 0.0008865247946232557\n",
      "3.png -- jaccard index: 0.00029894235194660723\n",
      "42.png -- jaccard index: 0.4817318320274353\n",
      "44.png -- jaccard index: 0.23465321958065033\n",
      "68.png -- jaccard index: 0.0003121098561678082\n",
      "74.png -- jaccard index: 0.0009756097570061684\n",
      "76.png -- jaccard index: 0.040690068155527115\n",
      "77.png -- jaccard index: 0.8193138241767883\n"
     ]
    }
   ],
   "source": [
    "from keras.preprocessing import image as image_utils\n",
    "from keras.preprocessing.image import load_img\n",
    "from keras.preprocessing.image import img_to_array\n",
    "from keras.preprocessing.image import array_to_img\n",
    "\n",
    "file_names = next(os.walk(test_data_dir))[2]\n",
    "scores = []\n",
    "for file in file_names:\n",
    "    grey_img = load_img(os.path.join(test_data_dir,file), target_size=(img_rows, img_cols), grayscale=False)\n",
    "    mask_img = load_img(os.path.join(test_data_mask_dir,file), target_size=(img_rows, img_cols), grayscale=True)\n",
    "    img = img_to_array(grey_img)\n",
    "    img_mask = img_to_array(mask_img)\n",
    "    \n",
    "    img, img_mask = normalizeData(img, img_mask)\n",
    "    img = np.reshape(img,(1,)+img.shape)\n",
    "    \n",
    "    pred = model.predict([img])\n",
    "    sess = tf.Session()\n",
    "    score = sess.run(Jaccard_index(img_mask, pred))\n",
    "    print(\"{} -- jaccard index: {}\".format(file,score))\n",
    "    scores.append([file,score])\n",
    "\n",
    "    result_img = array_to_img(pred[0] * 255 )\n",
    "    result_img.save(os.path.join(test_data_pred_dir, file.split('.')[0] + '_predict.jpg'))\n",
    "\n",
    "with open(\"unet_test_result.csv\", 'w') as f:\n",
    "    f.write(\"filename, jaccard_index\\n\")\n",
    "    for i in range(len(scores)):\n",
    "        #print(scores[i])\n",
    "        f.write(\"{},{}\\n\".format(scores[i][0], scores[i][1]))"
   ]
  },
  {
   "cell_type": "code",
   "execution_count": 27,
   "metadata": {},
   "outputs": [
    {
     "name": "stdout",
     "output_type": "stream",
     "text": [
      "Populating the interactive namespace from numpy and matplotlib\n"
     ]
    },
    {
     "data": {
      "image/png": "[encoded data removed]",
      "text/plain": [
       "<Figure size 432x288 with 1 Axes>"
      ]
     },
     "metadata": {
      "needs_background": "light"
     },
     "output_type": "display_data"
    }
   ],
   "source": [
    "%pylab inline\n",
    "import matplotlib.pyplot as plt\n",
    "import matplotlib.image as mpimg\n",
    "img=mpimg.imread('05.U-Net2_results_dir/102_predict.png')\n",
    "imgplot = plt.imshow(img)\n",
    "plt.show()"
   ]
  },
  {
   "cell_type": "code",
   "execution_count": 28,
   "metadata": {},
   "outputs": [
    {
     "data": {
      "text/plain": [
       "<matplotlib.image.AxesImage at 0x1e11ba64630>"
      ]
     },
     "execution_count": 28,
     "metadata": {},
     "output_type": "execute_result"
    },
    {
     "data": {
      "image/png": "[encoded data removed]",
      "text/plain": [
       "<Figure size 432x288 with 1 Axes>"
      ]
     },
     "metadata": {
      "needs_background": "light"
     },
     "output_type": "display_data"
    }
   ],
   "source": [
    "plt.imshow(np.squeeze(prediction[1]), cmap = \"gray\")"
   ]
  },
  {
   "cell_type": "code",
   "execution_count": 29,
   "metadata": {},
   "outputs": [
    {
     "data": {
      "text/plain": [
       "<matplotlib.image.AxesImage at 0x1e11ba13198>"
      ]
     },
     "execution_count": 29,
     "metadata": {},
     "output_type": "execute_result"
    },
    {
     "data": {
      "image/png": "[encoded data removed]",
      "text/plain": [
       "<Figure size 432x288 with 1 Axes>"
      ]
     },
     "metadata": {
      "needs_background": "light"
     },
     "output_type": "display_data"
    }
   ],
   "source": [
    "plt.imshow(np.squeeze(prediction[1]), cmap = \"gray\", vmin = 0.0, vmax= 0.09)"
   ]
  },
  {
   "cell_type": "code",
   "execution_count": 30,
   "metadata": {},
   "outputs": [
    {
     "name": "stdout",
     "output_type": "stream",
     "text": [
      "[[2.19191716e-04 1.53107887e-10 3.25305926e-15 ... 3.11135102e-12\n",
      "  5.04867792e-09 1.68627041e-04]\n",
      " [4.41433889e-10 4.42851417e-22 4.09696833e-31 ... 2.20362377e-24\n",
      "  1.94760709e-18 6.11532158e-10]\n",
      " [3.34252482e-14 2.37491913e-30 0.00000000e+00 ... 1.26116038e-31\n",
      "  4.41171487e-24 3.63402722e-13]\n",
      " ...\n",
      " [1.22308869e-12 7.07996731e-27 0.00000000e+00 ... 0.00000000e+00\n",
      "  7.17447365e-34 7.14279610e-19]\n",
      " [6.85287649e-09 2.11685005e-19 3.59521393e-27 ... 1.67054774e-33\n",
      "  1.29158902e-25 5.26242292e-14]\n",
      " [2.35994798e-04 3.13725240e-10 1.66365741e-14 ... 2.57261236e-18\n",
      "  1.01132556e-13 5.55746226e-07]]\n"
     ]
    },
    {
     "data": {
      "image/png": "[encoded data removed]",
      "text/plain": [
       "<Figure size 432x288 with 1 Axes>"
      ]
     },
     "metadata": {
      "needs_background": "light"
     },
     "output_type": "display_data"
    }
   ],
   "source": [
    "results_ =  np.squeeze(np.multiply(prediction[1], 255))\n",
    "print(results_)\n",
    "\n",
    "plt.imshow(results_, cmap = \"gray\", vmin = 0.0, vmax= 0.7)\n",
    "plt.show()"
   ]
  },
  {
   "cell_type": "code",
   "execution_count": 31,
   "metadata": {},
   "outputs": [
    {
     "name": "stdout",
     "output_type": "stream",
     "text": [
      "Populating the interactive namespace from numpy and matplotlib\n"
     ]
    },
    {
     "data": {
      "image/png": "[encoded data removed]",
      "text/plain": [
       "<Figure size 432x288 with 1 Axes>"
      ]
     },
     "metadata": {
      "needs_background": "light"
     },
     "output_type": "display_data"
    }
   ],
   "source": [
    "%pylab inline\n",
    "import matplotlib.pyplot as plt\n",
    "import matplotlib.image as mpimg\n",
    "img=mpimg.imread('05.U-Net2_results_dir/35_predict.png')\n",
    "imgplot = plt.imshow(img)\n",
    "plt.show()"
   ]
  },
  {
   "cell_type": "code",
   "execution_count": 32,
   "metadata": {},
   "outputs": [
    {
     "name": "stdout",
     "output_type": "stream",
     "text": [
      "dict_keys(['Jaccard_index', 'val_mean_squared_error', 'loss', 'val_loss', 'val_acc', 'val_precision', 'f1score', 'val_f1score', 'val_Jaccard_index', 'Sensitivity', 'val_recall', 'mean_squared_error', 'precision', 'recall', 'dice_coef', 'val_Specificity', 'Specificity', 'val_dice_coef', 'acc', 'val_Sensitivity'])\n"
     ]
    },
    {
     "data": {
      "image/png": "[encoded data removed]",
      "text/plain": [
       "<Figure size 432x288 with 1 Axes>"
      ]
     },
     "metadata": {
      "needs_background": "light"
     },
     "output_type": "display_data"
    },
    {
     "data": {
      "image/png": "[encoded data removed]",
      "text/plain": [
       "<Figure size 432x288 with 1 Axes>"
      ]
     },
     "metadata": {
      "needs_background": "light"
     },
     "output_type": "display_data"
    }
   ],
   "source": [
    "print(history.history.keys())\n",
    "# summarize history for accuracy\n",
    "plt.plot(history.history['dice_coef'])\n",
    "plt.plot(history.history['val_dice_coef'])\n",
    "plt.title('model dice_coeff')\n",
    "plt.ylabel('dice_coef')\n",
    "plt.xlabel('epoch')\n",
    "plt.legend(['train', 'validation'], loc='upper left')\n",
    "plt.show()\n",
    "# summarize history for loss\n",
    "plt.plot(history.history['loss'])\n",
    "plt.plot(history.history['val_loss'])\n",
    "plt.title('model loss')\n",
    "plt.ylabel('loss')\n",
    "plt.xlabel('epoch')\n",
    "plt.legend(['train', 'validation'], loc='upper left')\n",
    "plt.show()"
   ]
  },
  {
   "cell_type": "code",
   "execution_count": null,
   "metadata": {},
   "outputs": [],
   "source": []
  }
 ],
 "metadata": {
  "kernelspec": {
   "display_name": "Python 3",
   "language": "python",
   "name": "python3"
  },
  "language_info": {
   "codemirror_mode": {
    "name": "ipython",
    "version": 3
   },
   "file_extension": ".py",
   "mimetype": "text/x-python",
   "name": "python",
   "nbconvert_exporter": "python",
   "pygments_lexer": "ipython3",
   "version": "3.5.2"
  }
 },
 "nbformat": 4,
 "nbformat_minor": 1
}
