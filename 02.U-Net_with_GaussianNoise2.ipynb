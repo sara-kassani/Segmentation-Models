{
 "cells": [
  {
   "cell_type": "code",
   "execution_count": 1,
   "metadata": {},
   "outputs": [],
   "source": [
    "import warnings\n",
    "warnings.filterwarnings('always')\n",
    "warnings.filterwarnings('ignore')"
   ]
  },
  {
   "cell_type": "code",
   "execution_count": 2,
   "metadata": {},
   "outputs": [
    {
     "data": {
      "text/plain": [
       "[name: \"/device:CPU:0\"\n",
       " device_type: \"CPU\"\n",
       " memory_limit: 268435456\n",
       " locality {\n",
       " }\n",
       " incarnation: 11376736727829093585, name: \"/device:GPU:0\"\n",
       " device_type: \"GPU\"\n",
       " memory_limit: 9234857329\n",
       " locality {\n",
       "   bus_id: 1\n",
       "   links {\n",
       "   }\n",
       " }\n",
       " incarnation: 8306154333840106843\n",
       " physical_device_desc: \"device: 0, name: GeForce GTX 1080 Ti, pci bus id: 0000:01:00.0, compute capability: 6.1\"]"
      ]
     },
     "execution_count": 2,
     "metadata": {},
     "output_type": "execute_result"
    }
   ],
   "source": [
    "from tensorflow.python.client import device_lib\n",
    "device_lib.list_local_devices()"
   ]
  },
  {
   "cell_type": "code",
   "execution_count": 3,
   "metadata": {},
   "outputs": [
    {
     "name": "stderr",
     "output_type": "stream",
     "text": [
      "Using TensorFlow backend.\n"
     ]
    }
   ],
   "source": [
    "import sys\n",
    "import time\n",
    "import math\n",
    "import os\n",
    "import pandas as pd\n",
    "import numpy as np\n",
    "\n",
    "import keras\n",
    "from keras import layers, metrics, models, optimizers\n",
    "from keras.optimizers import Adam, RMSprop,SGD\n",
    "from keras.models import Model\n",
    "from keras.models import Sequential\n",
    "from keras.layers import Input, concatenate, Flatten, Dense, Activation, Dropout, Conv2D, MaxPooling2D, BatchNormalization, GlobalAveragePooling2D\n",
    "from keras.preprocessing.image import ImageDataGenerator\n",
    "\n",
    "\n",
    "import matplotlib.pyplot as plt\n",
    "%matplotlib inline"
   ]
  },
  {
   "cell_type": "code",
   "execution_count": 4,
   "metadata": {},
   "outputs": [
    {
     "name": "stdout",
     "output_type": "stream",
     "text": [
      "Keras Version 2.1.6\n",
      "tensorflow Version 1.10.0\n"
     ]
    }
   ],
   "source": [
    "import keras\n",
    "import tensorflow as tf\n",
    "\n",
    "print(\"Keras Version\", keras.__version__)\n",
    "print(\"tensorflow Version\", tf.__version__)\n",
    "# print(\"dim_ordering:\", K.image_dim_ordering())"
   ]
  },
  {
   "cell_type": "code",
   "execution_count": 5,
   "metadata": {},
   "outputs": [],
   "source": [
    "batch_size = 8\n",
    "img_rows, img_cols =256, 256\n",
    "input_shape = (img_rows, img_cols, 3)\n",
    "epochs = 150"
   ]
  },
  {
   "cell_type": "code",
   "execution_count": 6,
   "metadata": {},
   "outputs": [],
   "source": [
    "train_dir = 'data/cvc300_train/'\n",
    "validation_dir = 'data/cvc300_validation/'\n",
    "test_dir = 'data/cvc300_test/'\n",
    "\n",
    "image_folder = 'images'\n",
    "masks_folder = 'masks'"
   ]
  },
  {
   "cell_type": "code",
   "execution_count": 7,
   "metadata": {},
   "outputs": [
    {
     "name": "stdout",
     "output_type": "stream",
     "text": [
      "Found 204 images belonging to 1 classes.\n",
      "Found 204 images belonging to 1 classes.\n",
      "Found 68 images belonging to 1 classes.\n",
      "Found 68 images belonging to 1 classes.\n",
      "Found 28 images belonging to 1 classes.\n",
      "Found 28 images belonging to 1 classes.\n"
     ]
    }
   ],
   "source": [
    "seed = 1142\n",
    "data_gen_args = dict(rescale=1. / 255, featurewise_center=True, featurewise_std_normalization=True)\n",
    "image_datagen = ImageDataGenerator(**data_gen_args)\n",
    "masks_datagen = ImageDataGenerator(**data_gen_args)\n",
    "\n",
    "test_datagen = ImageDataGenerator(rescale=1./255)\n",
    "\n",
    "image_generator = image_datagen.flow_from_directory(\n",
    "    train_dir,\n",
    "    classes = [image_folder],\n",
    "    target_size=(img_rows, img_cols),\n",
    "    batch_size=batch_size,\n",
    "    class_mode=None,\n",
    "    seed=seed)\n",
    "\n",
    "mask_generator = masks_datagen.flow_from_directory(\n",
    "    train_dir,\n",
    "    classes = [masks_folder],\n",
    "    color_mode='grayscale',\n",
    "    target_size=(img_rows, img_cols),\n",
    "    batch_size=batch_size,\n",
    "    class_mode=None,\n",
    "    seed=seed)\n",
    "\n",
    "validation_image_generator = image_datagen.flow_from_directory(\n",
    "    validation_dir,\n",
    "    classes = [image_folder],\n",
    "    target_size=(img_rows, img_cols),\n",
    "    batch_size=batch_size,\n",
    "    class_mode=None,\n",
    "    seed=seed)\n",
    "\n",
    "validation_mask_generator = masks_datagen.flow_from_directory(\n",
    "    validation_dir,\n",
    "    classes = [masks_folder],\n",
    "    color_mode='grayscale',\n",
    "    target_size=(img_rows, img_cols),\n",
    "    batch_size=batch_size,\n",
    "    class_mode=None,\n",
    "    seed=seed)\n",
    "\n",
    "test_image_generator = test_datagen.flow_from_directory(\n",
    "    test_dir,\n",
    "    classes = [image_folder],\n",
    "    target_size=(img_rows, img_cols),\n",
    "    batch_size=batch_size,\n",
    "    class_mode=None,\n",
    "    seed=seed)\n",
    "\n",
    "test_mask_generator = test_datagen.flow_from_directory(\n",
    "    test_dir,\n",
    "    classes = [masks_folder],\n",
    "    color_mode='grayscale',\n",
    "    target_size=(img_rows, img_cols),\n",
    "    batch_size=batch_size,\n",
    "    class_mode=None,\n",
    "    seed=seed)"
   ]
  },
  {
   "cell_type": "code",
   "execution_count": 8,
   "metadata": {},
   "outputs": [],
   "source": [
    "train_generator = zip(image_generator, mask_generator)\n",
    "validation_generator = zip(validation_image_generator, validation_mask_generator)\n",
    "test_generator = zip(test_image_generator, test_mask_generator)"
   ]
  },
  {
   "cell_type": "code",
   "execution_count": 9,
   "metadata": {},
   "outputs": [
    {
     "name": "stdout",
     "output_type": "stream",
     "text": [
      "nb_train_samples: 204\n",
      "nb_validation_samples: 68\n",
      "nb_test_samples: 28\n",
      "\n",
      "predict_size_train: 26\n",
      "predict_size_validation: 9\n",
      "predict_size_test: 4\n"
     ]
    }
   ],
   "source": [
    "nb_train_samples = len(image_generator.filenames)\n",
    "nb_validation_samples = len(validation_image_generator.filenames)\n",
    "nb_test_samples = len(test_image_generator.filenames)\n",
    "\n",
    "predict_size_train = int(math.ceil(nb_train_samples / batch_size))\n",
    "predict_size_validation = int(math.ceil(nb_validation_samples / batch_size))\n",
    "predict_size_test = int(math.ceil(nb_test_samples / batch_size))\n",
    "\n",
    "print(\"nb_train_samples:\", nb_train_samples)\n",
    "print(\"nb_validation_samples:\", nb_validation_samples)\n",
    "print(\"nb_test_samples:\", nb_test_samples)\n",
    "\n",
    "print(\"\\npredict_size_train:\", predict_size_train)\n",
    "print(\"predict_size_validation:\", predict_size_validation)\n",
    "print(\"predict_size_test:\", predict_size_test)"
   ]
  },
  {
   "cell_type": "code",
   "execution_count": 12,
   "metadata": {},
   "outputs": [],
   "source": [
    "from keras.layers.noise import GaussianNoise\n",
    "\n",
    "import numpy as np\n",
    "from keras.models import Model\n",
    "from keras.layers import add,concatenate, Flatten, Dense, Input, Dropout, Activation, Reshape\n",
    "from keras.layers import Conv2D, MaxPooling2D, ZeroPadding2D, UpSampling2D,Conv2DTranspose\n",
    "from keras.layers import BatchNormalization\n",
    "\n",
    "\n",
    "def get_unet_mod(learning_rate = 1e-5):\n",
    "    ''' Get U-Net model with gaussian noise and dropout'''\n",
    "    \n",
    "    gaussian_noise_std = 0.025\n",
    "    dropout = 0.25\n",
    "    \n",
    "    inputs = Input(input_shape)\n",
    "    input_with_noise = GaussianNoise(gaussian_noise_std)(inputs)    \n",
    "\n",
    "    conv1 = Conv2D(32, (3, 3), activation='relu', padding='same')(input_with_noise)\n",
    "    conv1 = Conv2D(32, (3, 3), activation='relu', padding='same')(conv1)\n",
    "    pool1 = MaxPooling2D(pool_size=(2, 2))(conv1)\n",
    "\n",
    "    conv2 = Conv2D(64, (3, 3), activation='relu', padding='same')(pool1)\n",
    "    conv2 = Conv2D(64, (3, 3), activation='relu', padding='same')(conv2)\n",
    "    pool2 = MaxPooling2D(pool_size=(2, 2))(conv2)\n",
    "    \n",
    "    conv3 = Conv2D(128, (3, 3), activation='relu', padding='same')(pool2)\n",
    "    conv3 = Conv2D(128, (3, 3), activation='relu', padding='same')(conv3)\n",
    "    pool3 = MaxPooling2D(pool_size=(2, 2))(conv3)\n",
    "    \n",
    "    conv4 = Conv2D(256, (3, 3), activation='relu', padding='same')(pool3)\n",
    "    conv4 = Conv2D(256, (3, 3), activation='relu', padding='same')(conv4)\n",
    "    pool4 = MaxPooling2D(pool_size=(2, 2))(conv4)\n",
    "    pool4 = Dropout(dropout)(pool4)\n",
    "\n",
    "    conv5 = Conv2D(512, (3, 3), activation='relu', padding='same')(pool4)\n",
    "    conv5 = Conv2D(512, (3, 3), activation='relu', padding='same')(conv5)\n",
    "\n",
    "    up6 = concatenate([UpSampling2D(size=(2, 2))(conv5), conv4],axis=-1)\n",
    "    up6 = Dropout(dropout)(up6)\n",
    "    conv6 = Conv2D(256, (3, 3), activation='relu', padding='same')(up6)\n",
    "    conv6 = Conv2D(256, (3, 3), activation='relu', padding='same')(conv6)\n",
    "\n",
    "    up7 = concatenate([UpSampling2D(size=(2, 2))(conv6), conv3],axis=-1)\n",
    "    up7 = Dropout(dropout)(up7)\n",
    "    conv7 = Conv2D(128, (3, 3), activation='relu', padding='same')(up7)\n",
    "    conv7 = Conv2D(128, (3, 3), activation='relu', padding='same')(conv7)\n",
    "\n",
    "    up8 = concatenate([UpSampling2D(size=(2, 2))(conv7), conv2],axis=-1)\n",
    "    up8 = Dropout(dropout)(up8)\n",
    "    conv8 = Conv2D(64, (3, 3), activation='relu', padding='same')(up8)\n",
    "    conv8 = Conv2D(64, (3, 3), activation='relu', padding='same')(conv8)\n",
    "\n",
    "    up9 = concatenate([UpSampling2D(size=(2, 2))(conv8), conv1], axis=-1)\n",
    "    up9 = Dropout(dropout)(up9)\n",
    "    conv9 = Conv2D(32, (3, 3), activation='relu', padding='same')(up9)\n",
    "    conv9 = Conv2D(32, (3, 3), activation='relu', padding='same')(conv9)\n",
    "\n",
    "    conv10 = Conv2D(1, (1, 1), activation='sigmoid')(conv9)\n",
    "\n",
    "    model = Model(input=inputs, output=conv10)\n",
    "#     opt = Adam(lr=learning_rate, decay = 1e-6)\n",
    "#     model.compile(optimizer= opt,loss=dice_coef_loss, metrics=[dice_coef])\n",
    "\n",
    "    return model"
   ]
  },
  {
   "cell_type": "code",
   "execution_count": 13,
   "metadata": {},
   "outputs": [],
   "source": [
    "smooth = 1.\n",
    "from keras import backend as K\n",
    "\n",
    "def dice_coef(y_true, y_pred):\n",
    "    y_true_f = K.flatten(y_true)\n",
    "    y_pred_f = K.flatten(y_pred)\n",
    "    intersection = K.sum(y_true_f * y_pred_f)\n",
    "    return (2. * intersection + smooth) / (K.sum(y_true_f) + K.sum(y_pred_f) + smooth)\n",
    "\n",
    "\n",
    "def dice_coef_loss(y_true, y_pred):\n",
    "    return -dice_coef(y_true, y_pred)\n",
    "\n",
    "\n",
    "def Specificity(y_true, y_pred):\n",
    "    true_negatives = K.abs(y_pred)- K.abs(y_true)\n",
    "    return ((true_negatives+smooth)/(y_pred+ smooth))\n",
    "\n",
    "def Sensitivity(y_true, y_pred):\n",
    "    y_true = K.flatten(y_true)\n",
    "    y_pred = K.flatten(y_pred)\n",
    "    return ((y_pred+smooth)/ (y_true+smooth))\n",
    "\n",
    "def Jaccard_index(y_true,y_pred):\n",
    "    y_true_f = K.flatten(y_true)\n",
    "    y_pred_f = K.flatten(y_pred)\n",
    "    intersection = K.sum(y_true_f * y_pred_f)\n",
    "    return ((intersection + smooth) / (K.sum(y_true_f) + K.sum(y_pred_f) - intersection + smooth))\n",
    "\n",
    "def precision(y_true, y_pred):\n",
    "    \"\"\"Precision metric.\n",
    "    Only computes a batch-wise average of precision.\n",
    "    Computes the precision, a metric for multi-label classification of\n",
    "    how many selected items are relevant.\n",
    "    \"\"\"\n",
    "    true_positives = K.sum(K.round(K.clip(y_true * y_pred, 0, 1)))\n",
    "    predicted_positives = K.sum(K.round(K.clip(y_pred, 0, 1)))\n",
    "    precision = true_positives / (predicted_positives + K.epsilon())\n",
    "    return precision\n",
    "\n",
    "\n",
    "def recall(y_true, y_pred):\n",
    "    \"\"\"Recall metric.\n",
    "    Only computes a batch-wise average of recall.\n",
    "    Computes the recall, a metric for multi-label classification of\n",
    "    how many relevant items are selected.\n",
    "    \"\"\"\n",
    "    true_positives = K.sum(K.round(K.clip(y_true * y_pred, 0, 1)))\n",
    "    possible_positives = K.sum(K.round(K.clip(y_true, 0, 1)))\n",
    "    recall = true_positives / (possible_positives + K.epsilon())\n",
    "    return recall\n",
    "\n",
    "\n",
    "def f1score(y_true, y_pred):\n",
    "    def recall(y_true, y_pred):\n",
    "        \"\"\"Recall metric.\n",
    "        Only computes a batch-wise average of recall.\n",
    "        Computes the recall, a metric for multi-label classification of\n",
    "        how many relevant items are selected.\n",
    "        \"\"\"\n",
    "        true_positives = K.sum(K.round(K.clip(y_true * y_pred, 0, 1)))\n",
    "        possible_positives = K.sum(K.round(K.clip(y_true, 0, 1)))\n",
    "        recall = true_positives / (possible_positives + K.epsilon())\n",
    "        return recall\n",
    "\n",
    "    def precision(y_true, y_pred):\n",
    "        \"\"\"Precision metric.\n",
    "        Only computes a batch-wise average of precision.\n",
    "        Computes the precision, a metric for multi-label classification of\n",
    "        how many selected items are relevant.\n",
    "        \"\"\"\n",
    "        true_positives = K.sum(K.round(K.clip(y_true * y_pred, 0, 1)))\n",
    "        predicted_positives = K.sum(K.round(K.clip(y_pred, 0, 1)))\n",
    "        precision = true_positives / (predicted_positives + K.epsilon())\n",
    "        return precision\n",
    "\n",
    "    precision = precision(y_true, y_pred)\n",
    "    recall = recall(y_true, y_pred)\n",
    "    return 2 * ((precision * recall) / (precision + recall))"
   ]
  },
  {
   "cell_type": "code",
   "execution_count": 17,
   "metadata": {},
   "outputs": [
    {
     "name": "stdout",
     "output_type": "stream",
     "text": [
      "__________________________________________________________________________________________________\n",
      "Layer (type)                    Output Shape         Param #     Connected to                     \n",
      "==================================================================================================\n",
      "input_2 (InputLayer)            (None, 256, 256, 3)  0                                            \n",
      "__________________________________________________________________________________________________\n",
      "gaussian_noise_2 (GaussianNoise (None, 256, 256, 3)  0           input_2[0][0]                    \n",
      "__________________________________________________________________________________________________\n",
      "conv2d_20 (Conv2D)              (None, 256, 256, 32) 896         gaussian_noise_2[0][0]           \n",
      "__________________________________________________________________________________________________\n",
      "conv2d_21 (Conv2D)              (None, 256, 256, 32) 9248        conv2d_20[0][0]                  \n",
      "__________________________________________________________________________________________________\n",
      "max_pooling2d_5 (MaxPooling2D)  (None, 128, 128, 32) 0           conv2d_21[0][0]                  \n",
      "__________________________________________________________________________________________________\n",
      "conv2d_22 (Conv2D)              (None, 128, 128, 64) 18496       max_pooling2d_5[0][0]            \n",
      "__________________________________________________________________________________________________\n",
      "conv2d_23 (Conv2D)              (None, 128, 128, 64) 36928       conv2d_22[0][0]                  \n",
      "__________________________________________________________________________________________________\n",
      "max_pooling2d_6 (MaxPooling2D)  (None, 64, 64, 64)   0           conv2d_23[0][0]                  \n",
      "__________________________________________________________________________________________________\n",
      "conv2d_24 (Conv2D)              (None, 64, 64, 128)  73856       max_pooling2d_6[0][0]            \n",
      "__________________________________________________________________________________________________\n",
      "conv2d_25 (Conv2D)              (None, 64, 64, 128)  147584      conv2d_24[0][0]                  \n",
      "__________________________________________________________________________________________________\n",
      "max_pooling2d_7 (MaxPooling2D)  (None, 32, 32, 128)  0           conv2d_25[0][0]                  \n",
      "__________________________________________________________________________________________________\n",
      "conv2d_26 (Conv2D)              (None, 32, 32, 256)  295168      max_pooling2d_7[0][0]            \n",
      "__________________________________________________________________________________________________\n",
      "conv2d_27 (Conv2D)              (None, 32, 32, 256)  590080      conv2d_26[0][0]                  \n",
      "__________________________________________________________________________________________________\n",
      "max_pooling2d_8 (MaxPooling2D)  (None, 16, 16, 256)  0           conv2d_27[0][0]                  \n",
      "__________________________________________________________________________________________________\n",
      "dropout_6 (Dropout)             (None, 16, 16, 256)  0           max_pooling2d_8[0][0]            \n",
      "__________________________________________________________________________________________________\n",
      "conv2d_28 (Conv2D)              (None, 16, 16, 512)  1180160     dropout_6[0][0]                  \n",
      "__________________________________________________________________________________________________\n",
      "conv2d_29 (Conv2D)              (None, 16, 16, 512)  2359808     conv2d_28[0][0]                  \n",
      "__________________________________________________________________________________________________\n",
      "up_sampling2d_5 (UpSampling2D)  (None, 32, 32, 512)  0           conv2d_29[0][0]                  \n",
      "__________________________________________________________________________________________________\n",
      "concatenate_5 (Concatenate)     (None, 32, 32, 768)  0           up_sampling2d_5[0][0]            \n",
      "                                                                 conv2d_27[0][0]                  \n",
      "__________________________________________________________________________________________________\n",
      "dropout_7 (Dropout)             (None, 32, 32, 768)  0           concatenate_5[0][0]              \n",
      "__________________________________________________________________________________________________\n",
      "conv2d_30 (Conv2D)              (None, 32, 32, 256)  1769728     dropout_7[0][0]                  \n",
      "__________________________________________________________________________________________________\n",
      "conv2d_31 (Conv2D)              (None, 32, 32, 256)  590080      conv2d_30[0][0]                  \n",
      "__________________________________________________________________________________________________\n",
      "up_sampling2d_6 (UpSampling2D)  (None, 64, 64, 256)  0           conv2d_31[0][0]                  \n",
      "__________________________________________________________________________________________________\n",
      "concatenate_6 (Concatenate)     (None, 64, 64, 384)  0           up_sampling2d_6[0][0]            \n",
      "                                                                 conv2d_25[0][0]                  \n",
      "__________________________________________________________________________________________________\n",
      "dropout_8 (Dropout)             (None, 64, 64, 384)  0           concatenate_6[0][0]              \n",
      "__________________________________________________________________________________________________\n",
      "conv2d_32 (Conv2D)              (None, 64, 64, 128)  442496      dropout_8[0][0]                  \n",
      "__________________________________________________________________________________________________\n",
      "conv2d_33 (Conv2D)              (None, 64, 64, 128)  147584      conv2d_32[0][0]                  \n",
      "__________________________________________________________________________________________________\n",
      "up_sampling2d_7 (UpSampling2D)  (None, 128, 128, 128 0           conv2d_33[0][0]                  \n",
      "__________________________________________________________________________________________________\n",
      "concatenate_7 (Concatenate)     (None, 128, 128, 192 0           up_sampling2d_7[0][0]            \n",
      "                                                                 conv2d_23[0][0]                  \n",
      "__________________________________________________________________________________________________\n",
      "dropout_9 (Dropout)             (None, 128, 128, 192 0           concatenate_7[0][0]              \n",
      "__________________________________________________________________________________________________\n",
      "conv2d_34 (Conv2D)              (None, 128, 128, 64) 110656      dropout_9[0][0]                  \n",
      "__________________________________________________________________________________________________\n",
      "conv2d_35 (Conv2D)              (None, 128, 128, 64) 36928       conv2d_34[0][0]                  \n",
      "__________________________________________________________________________________________________\n",
      "up_sampling2d_8 (UpSampling2D)  (None, 256, 256, 64) 0           conv2d_35[0][0]                  \n",
      "__________________________________________________________________________________________________\n",
      "concatenate_8 (Concatenate)     (None, 256, 256, 96) 0           up_sampling2d_8[0][0]            \n",
      "                                                                 conv2d_21[0][0]                  \n",
      "__________________________________________________________________________________________________\n",
      "dropout_10 (Dropout)            (None, 256, 256, 96) 0           concatenate_8[0][0]              \n",
      "__________________________________________________________________________________________________\n",
      "conv2d_36 (Conv2D)              (None, 256, 256, 32) 27680       dropout_10[0][0]                 \n",
      "__________________________________________________________________________________________________\n",
      "conv2d_37 (Conv2D)              (None, 256, 256, 32) 9248        conv2d_36[0][0]                  \n",
      "__________________________________________________________________________________________________\n",
      "conv2d_38 (Conv2D)              (None, 256, 256, 1)  33          conv2d_37[0][0]                  \n",
      "==================================================================================================\n",
      "Total params: 7,846,657\n",
      "Trainable params: 7,846,657\n",
      "Non-trainable params: 0\n",
      "__________________________________________________________________________________________________\n"
     ]
    }
   ],
   "source": [
    "model = get_unet_mod()\n",
    "model.summary()\n",
    "adam_opt = Adam(lr=1e-5, beta_1=0.9, beta_2=0.999, epsilon=None, decay=0.0, amsgrad=False)\n",
    "\n",
    "model.compile(optimizer= adam_opt, loss=dice_coef_loss, \n",
    "              metrics=[dice_coef, 'acc','mse', Jaccard_index, Specificity, Sensitivity, precision, recall, f1score])"
   ]
  },
  {
   "cell_type": "code",
   "execution_count": 18,
   "metadata": {
    "scrolled": true
   },
   "outputs": [
    {
     "name": "stdout",
     "output_type": "stream",
     "text": [
      "Epoch 1/25\n",
      "25/25 [==============================] - 9s 373ms/step - loss: -0.0887 - dice_coef: 0.0887 - acc: 0.6748 - mean_squared_error: 0.2488 - Jaccard_index: 0.0465 - Specificity: 0.9672 - Sensitivity: 1.4618 - precision: 0.0469 - recall: 0.2998 - f1score: 0.0780 - val_loss: -0.1075 - val_dice_coef: 0.1075 - val_acc: 0.1316 - val_mean_squared_error: 0.2515 - val_Jaccard_index: 0.0569 - val_Specificity: 0.9598 - val_Sensitivity: 1.4564 - val_precision: 0.0640 - val_recall: 0.9829 - val_f1score: 0.1199\n",
      "Epoch 2/25\n",
      "25/25 [==============================] - 5s 182ms/step - loss: -0.0884 - dice_coef: 0.0884 - acc: 0.2404 - mean_squared_error: 0.2520 - Jaccard_index: 0.0464 - Specificity: 0.9676 - Sensitivity: 1.4657 - precision: 0.0512 - recall: 0.8335 - f1score: 0.0959 - val_loss: -0.1039 - val_dice_coef: 0.1039 - val_acc: 0.0866 - val_mean_squared_error: 0.2548 - val_Jaccard_index: 0.0550 - val_Specificity: 0.9615 - val_Sensitivity: 1.4620 - val_precision: 0.0597 - val_recall: 0.9993 - val_f1score: 0.1122\n",
      "Epoch 3/25\n",
      "25/25 [==============================] - 4s 149ms/step - loss: -0.0880 - dice_coef: 0.0880 - acc: 0.0835 - mean_squared_error: 0.2571 - Jaccard_index: 0.0461 - Specificity: 0.9682 - Sensitivity: 1.4718 - precision: 0.0495 - recall: 0.9944 - f1score: 0.0941 - val_loss: -0.1119 - val_dice_coef: 0.1119 - val_acc: 0.0663 - val_mean_squared_error: 0.2637 - val_Jaccard_index: 0.0594 - val_Specificity: 0.9593 - val_Sensitivity: 1.4690 - val_precision: 0.0623 - val_recall: 1.0000 - val_f1score: 0.1171\n",
      "Epoch 4/25\n",
      "25/25 [==============================] - 4s 149ms/step - loss: -0.0936 - dice_coef: 0.0936 - acc: 0.0556 - mean_squared_error: 0.3120 - Jaccard_index: 0.0492 - Specificity: 0.9690 - Sensitivity: 1.5233 - precision: 0.0495 - recall: 1.0000 - f1score: 0.0939 - val_loss: -0.1269 - val_dice_coef: 0.1269 - val_acc: 0.0625 - val_mean_squared_error: 0.4789 - val_Jaccard_index: 0.0680 - val_Specificity: 0.9651 - val_Sensitivity: 1.6547 - val_precision: 0.0624 - val_recall: 1.0000 - val_f1score: 0.1170\n",
      "Epoch 5/25\n",
      "25/25 [==============================] - 4s 146ms/step - loss: -0.0998 - dice_coef: 0.0998 - acc: 0.0511 - mean_squared_error: 0.6415 - Jaccard_index: 0.0527 - Specificity: 0.9750 - Sensitivity: 1.7689 - precision: 0.0477 - recall: 1.0000 - f1score: 0.0909 - val_loss: -0.1237 - val_dice_coef: 0.1237 - val_acc: 0.0590 - val_mean_squared_error: 0.5631 - val_Jaccard_index: 0.0662 - val_Specificity: 0.9686 - val_Sensitivity: 1.7137 - val_precision: 0.0588 - val_recall: 1.0000 - val_f1score: 0.1107\n",
      "Epoch 6/25\n",
      "25/25 [==============================] - 4s 146ms/step - loss: -0.1116 - dice_coef: 0.1116 - acc: 0.0560 - mean_squared_error: 0.5863 - Jaccard_index: 0.0593 - Specificity: 0.9724 - Sensitivity: 1.7312 - precision: 0.0524 - recall: 1.0000 - f1score: 0.0993 - val_loss: -0.1338 - val_dice_coef: 0.1338 - val_acc: 0.0797 - val_mean_squared_error: 0.5625 - val_Jaccard_index: 0.0719 - val_Specificity: 0.9674 - val_Sensitivity: 1.7093 - val_precision: 0.0630 - val_recall: 1.0000 - val_f1score: 0.1184\n",
      "Epoch 7/25\n",
      "25/25 [==============================] - 4s 146ms/step - loss: -0.1075 - dice_coef: 0.1075 - acc: 0.0859 - mean_squared_error: 0.5610 - Jaccard_index: 0.0570 - Specificity: 0.9743 - Sensitivity: 1.7120 - precision: 0.0506 - recall: 1.0000 - f1score: 0.0960 - val_loss: -0.1339 - val_dice_coef: 0.1339 - val_acc: 0.1540 - val_mean_squared_error: 0.5705 - val_Jaccard_index: 0.0720 - val_Specificity: 0.9693 - val_Sensitivity: 1.7088 - val_precision: 0.0652 - val_recall: 1.0000 - val_f1score: 0.1220\n",
      "Epoch 8/25\n",
      "25/25 [==============================] - 4s 147ms/step - loss: -0.1037 - dice_coef: 0.1037 - acc: 0.2474 - mean_squared_error: 0.5447 - Jaccard_index: 0.0550 - Specificity: 0.9766 - Sensitivity: 1.6945 - precision: 0.0564 - recall: 0.9879 - f1score: 0.1060 - val_loss: -0.1374 - val_dice_coef: 0.1374 - val_acc: 0.4419 - val_mean_squared_error: 0.4982 - val_Jaccard_index: 0.0741 - val_Specificity: 0.9695 - val_Sensitivity: 1.6498 - val_precision: 0.0919 - val_recall: 0.9619 - val_f1score: 0.1669\n",
      "Epoch 9/25\n",
      "25/25 [==============================] - 4s 146ms/step - loss: -0.1336 - dice_coef: 0.1336 - acc: 0.5006 - mean_squared_error: 0.4515 - Jaccard_index: 0.0718 - Specificity: 0.9710 - Sensitivity: 1.5888 - precision: 0.0907 - recall: 0.9031 - f1score: 0.1633 - val_loss: -0.1656 - val_dice_coef: 0.1656 - val_acc: 0.5654 - val_mean_squared_error: 0.4337 - val_Jaccard_index: 0.0915 - val_Specificity: 0.9691 - val_Sensitivity: 1.5256 - val_precision: 0.1123 - val_recall: 0.9273 - val_f1score: 0.1970\n",
      "Epoch 10/25\n",
      "25/25 [==============================] - 4s 146ms/step - loss: -0.1373 - dice_coef: 0.1373 - acc: 0.5629 - mean_squared_error: 0.4220 - Jaccard_index: 0.0742 - Specificity: 0.9733 - Sensitivity: 1.4671 - precision: 0.0837 - recall: 0.8422 - f1score: 0.1493 - val_loss: -0.1919 - val_dice_coef: 0.1919 - val_acc: 0.5679 - val_mean_squared_error: 0.4258 - val_Jaccard_index: 0.1070 - val_Specificity: 0.9677 - val_Sensitivity: 1.4430 - val_precision: 0.1127 - val_recall: 0.9014 - val_f1score: 0.1990\n",
      "Epoch 11/25\n",
      "25/25 [==============================] - 4s 146ms/step - loss: -0.1802 - dice_coef: 0.1802 - acc: 0.7068 - mean_squared_error: 0.2779 - Jaccard_index: 0.0998 - Specificity: 0.9670 - Sensitivity: 1.2782 - precision: 0.1122 - recall: 0.6678 - f1score: 0.1866 - val_loss: -0.2086 - val_dice_coef: 0.2086 - val_acc: 0.6209 - val_mean_squared_error: 0.3734 - val_Jaccard_index: 0.1175 - val_Specificity: 0.9677 - val_Sensitivity: 1.3770 - val_precision: 0.1216 - val_recall: 0.8785 - val_f1score: 0.2122\n",
      "Epoch 12/25\n",
      "25/25 [==============================] - 4s 146ms/step - loss: -0.1940 - dice_coef: 0.1940 - acc: 0.7607 - mean_squared_error: 0.2278 - Jaccard_index: 0.1081 - Specificity: 0.9660 - Sensitivity: 1.2156 - precision: 0.1270 - recall: 0.5945 - f1score: 0.1991 - val_loss: -0.2118 - val_dice_coef: 0.2118 - val_acc: 0.5886 - val_mean_squared_error: 0.4077 - val_Jaccard_index: 0.1190 - val_Specificity: 0.9658 - val_Sensitivity: 1.4075 - val_precision: 0.1221 - val_recall: 0.9012 - val_f1score: 0.2140\n",
      "Epoch 13/25\n",
      "25/25 [==============================] - 4s 147ms/step - loss: -0.1716 - dice_coef: 0.1716 - acc: 0.6837 - mean_squared_error: 0.3093 - Jaccard_index: 0.0944 - Specificity: 0.9704 - Sensitivity: 1.3011 - precision: 0.1044 - recall: 0.7110 - f1score: 0.1740 - val_loss: -0.2155 - val_dice_coef: 0.2155 - val_acc: 0.5986 - val_mean_squared_error: 0.3983 - val_Jaccard_index: 0.1229 - val_Specificity: 0.9679 - val_Sensitivity: 1.4001 - val_precision: 0.1258 - val_recall: 0.9294 - val_f1score: 0.2178\n",
      "Epoch 14/25\n",
      "25/25 [==============================] - 4s 146ms/step - loss: -0.1909 - dice_coef: 0.1909 - acc: 0.7329 - mean_squared_error: 0.2607 - Jaccard_index: 0.1065 - Specificity: 0.9680 - Sensitivity: 1.2471 - precision: 0.1161 - recall: 0.6599 - f1score: 0.1936 - val_loss: -0.2076 - val_dice_coef: 0.2076 - val_acc: 0.6052 - val_mean_squared_error: 0.3915 - val_Jaccard_index: 0.1162 - val_Specificity: 0.9684 - val_Sensitivity: 1.3900 - val_precision: 0.1188 - val_recall: 0.9059 - val_f1score: 0.2092\n",
      "Epoch 15/25\n",
      "25/25 [==============================] - 4s 146ms/step - loss: -0.2157 - dice_coef: 0.2157 - acc: 0.8157 - mean_squared_error: 0.1775 - Jaccard_index: 0.1221 - Specificity: 0.9622 - Sensitivity: 1.1502 - precision: 0.1502 - recall: 0.5255 - f1score: 0.2191 - val_loss: -0.2577 - val_dice_coef: 0.2577 - val_acc: 0.7104 - val_mean_squared_error: 0.2863 - val_Jaccard_index: 0.1489 - val_Specificity: 0.9629 - val_Sensitivity: 1.2756 - val_precision: 0.1555 - val_recall: 0.8196 - val_f1score: 0.2597\n",
      "Epoch 16/25\n",
      "25/25 [==============================] - 4s 146ms/step - loss: -0.2145 - dice_coef: 0.2145 - acc: 0.7728 - mean_squared_error: 0.2210 - Jaccard_index: 0.1219 - Specificity: 0.9677 - Sensitivity: 1.2028 - precision: 0.1482 - recall: 0.6271 - f1score: 0.2171 - val_loss: -0.2097 - val_dice_coef: 0.2097 - val_acc: 0.5840 - val_mean_squared_error: 0.4130 - val_Jaccard_index: 0.1178 - val_Specificity: 0.9686 - val_Sensitivity: 1.4128 - val_precision: 0.1193 - val_recall: 0.9379 - val_f1score: 0.2107\n",
      "Epoch 17/25\n"
     ]
    },
    {
     "name": "stdout",
     "output_type": "stream",
     "text": [
      "25/25 [==============================] - 4s 146ms/step - loss: -0.1915 - dice_coef: 0.1915 - acc: 0.7506 - mean_squared_error: 0.2448 - Jaccard_index: 0.1075 - Specificity: 0.9671 - Sensitivity: 1.2249 - precision: 0.1243 - recall: 0.6372 - f1score: 0.1924 - val_loss: -0.2380 - val_dice_coef: 0.2380 - val_acc: 0.6799 - val_mean_squared_error: 0.3166 - val_Jaccard_index: 0.1366 - val_Specificity: 0.9663 - val_Sensitivity: 1.3090 - val_precision: 0.1405 - val_recall: 0.8540 - val_f1score: 0.2389\n",
      "Epoch 18/25\n",
      "25/25 [==============================] - 4s 148ms/step - loss: -0.2359 - dice_coef: 0.2359 - acc: 0.8199 - mean_squared_error: 0.1746 - Jaccard_index: 0.1351 - Specificity: 0.9632 - Sensitivity: 1.1460 - precision: 0.1786 - recall: 0.5319 - f1score: 0.2377 - val_loss: -0.2406 - val_dice_coef: 0.2406 - val_acc: 0.7028 - val_mean_squared_error: 0.2936 - val_Jaccard_index: 0.1384 - val_Specificity: 0.9662 - val_Sensitivity: 1.2829 - val_precision: 0.1430 - val_recall: 0.8157 - val_f1score: 0.2413\n",
      "Epoch 19/25\n",
      "25/25 [==============================] - 4s 146ms/step - loss: -0.2348 - dice_coef: 0.2348 - acc: 0.8069 - mean_squared_error: 0.1879 - Jaccard_index: 0.1353 - Specificity: 0.9640 - Sensitivity: 1.1607 - precision: 0.1626 - recall: 0.5745 - f1score: 0.2357 - val_loss: -0.2768 - val_dice_coef: 0.2768 - val_acc: 0.7812 - val_mean_squared_error: 0.2150 - val_Jaccard_index: 0.1645 - val_Specificity: 0.9630 - val_Sensitivity: 1.1963 - val_precision: 0.1750 - val_recall: 0.7133 - val_f1score: 0.2777\n",
      "Epoch 20/25\n",
      "25/25 [==============================] - 4s 147ms/step - loss: -0.2405 - dice_coef: 0.2405 - acc: 0.8888 - mean_squared_error: 0.1051 - Jaccard_index: 0.1376 - Specificity: 0.9619 - Sensitivity: 1.0678 - precision: 0.1923 - recall: 0.3799 - f1score: 0.2421 - val_loss: -0.2354 - val_dice_coef: 0.2354 - val_acc: 0.7117 - val_mean_squared_error: 0.2841 - val_Jaccard_index: 0.1351 - val_Specificity: 0.9662 - val_Sensitivity: 1.2722 - val_precision: 0.1406 - val_recall: 0.8159 - val_f1score: 0.2358\n",
      "Epoch 21/25\n",
      "25/25 [==============================] - 4s 146ms/step - loss: -0.2383 - dice_coef: 0.2383 - acc: 0.8168 - mean_squared_error: 0.1779 - Jaccard_index: 0.1366 - Specificity: 0.9661 - Sensitivity: 1.1530 - precision: 0.1847 - recall: 0.5811 - f1score: 0.2391 - val_loss: -0.2537 - val_dice_coef: 0.2537 - val_acc: 0.7125 - val_mean_squared_error: 0.2838 - val_Jaccard_index: 0.1468 - val_Specificity: 0.9659 - val_Sensitivity: 1.2738 - val_precision: 0.1514 - val_recall: 0.8375 - val_f1score: 0.2539\n",
      "Epoch 22/25\n",
      "25/25 [==============================] - 4s 148ms/step - loss: -0.2505 - dice_coef: 0.2505 - acc: 0.8601 - mean_squared_error: 0.1351 - Jaccard_index: 0.1455 - Specificity: 0.9640 - Sensitivity: 1.1028 - precision: 0.1978 - recall: 0.5001 - f1score: 0.2512 - val_loss: -0.2879 - val_dice_coef: 0.2879 - val_acc: 0.8431 - val_mean_squared_error: 0.1519 - val_Jaccard_index: 0.1712 - val_Specificity: 0.9566 - val_Sensitivity: 1.1165 - val_precision: 0.2030 - val_recall: 0.5387 - val_f1score: 0.2883\n",
      "Epoch 23/25\n",
      "25/25 [==============================] - 4s 149ms/step - loss: -0.2578 - dice_coef: 0.2578 - acc: 0.8678 - mean_squared_error: 0.1266 - Jaccard_index: 0.1506 - Specificity: 0.9625 - Sensitivity: 1.0928 - precision: 0.1998 - recall: 0.4679 - f1score: 0.2585 - val_loss: -0.3130 - val_dice_coef: 0.3130 - val_acc: 0.8621 - val_mean_squared_error: 0.1323 - val_Jaccard_index: 0.1884 - val_Specificity: 0.9540 - val_Sensitivity: 1.0930 - val_precision: 0.2322 - val_recall: 0.5159 - val_f1score: 0.3131\n",
      "Epoch 24/25\n",
      "25/25 [==============================] - 4s 147ms/step - loss: -0.3051 - dice_coef: 0.3051 - acc: 0.9074 - mean_squared_error: 0.0876 - Jaccard_index: 0.1834 - Specificity: 0.9633 - Sensitivity: 1.0527 - precision: 0.2705 - recall: 0.4337 - f1score: 0.3072 - val_loss: -0.2867 - val_dice_coef: 0.2867 - val_acc: 0.8395 - val_mean_squared_error: 0.1552 - val_Jaccard_index: 0.1720 - val_Specificity: 0.9633 - val_Sensitivity: 1.1292 - val_precision: 0.1963 - val_recall: 0.5941 - val_f1score: 0.2871\n",
      "Epoch 25/25\n",
      "25/25 [==============================] - 4s 147ms/step - loss: -0.3101 - dice_coef: 0.3101 - acc: 0.8964 - mean_squared_error: 0.0988 - Jaccard_index: 0.1875 - Specificity: 0.9619 - Sensitivity: 1.0637 - precision: 0.2803 - recall: 0.4536 - f1score: 0.3117 - val_loss: -0.3029 - val_dice_coef: 0.3029 - val_acc: 0.7988 - val_mean_squared_error: 0.1964 - val_Jaccard_index: 0.1833 - val_Specificity: 0.9602 - val_Sensitivity: 1.1750 - val_precision: 0.1991 - val_recall: 0.7080 - val_f1score: 0.3032\n"
     ]
    }
   ],
   "source": [
    "history = model.fit_generator(train_generator,\n",
    "                    steps_per_epoch=nb_train_samples//batch_size,\n",
    "                    epochs=25,\n",
    "                    validation_data = validation_generator,\n",
    "                    validation_steps = nb_validation_samples//batch_size)"
   ]
  },
  {
   "cell_type": "code",
   "execution_count": 19,
   "metadata": {},
   "outputs": [
    {
     "name": "stdout",
     "output_type": "stream",
     "text": [
      "Validation Score:  -0.2860064175568129\n",
      "Validation Accuracy:  0.2860064175568129\n"
     ]
    }
   ],
   "source": [
    "score = model.evaluate_generator(validation_generator, steps=50)\n",
    "\n",
    "print ('Validation Score: ', score[0])\n",
    "print ('Validation Accuracy: ',score[1])"
   ]
  },
  {
   "cell_type": "code",
   "execution_count": 20,
   "metadata": {},
   "outputs": [
    {
     "name": "stdout",
     "output_type": "stream",
     "text": [
      "28/28 [==============================] - 2s 61ms/step\n"
     ]
    }
   ],
   "source": [
    "prediction = model.predict_generator(test_generator, verbose=1, steps=nb_test_samples)"
   ]
  },
  {
   "cell_type": "code",
   "execution_count": 21,
   "metadata": {},
   "outputs": [
    {
     "data": {
      "text/plain": [
       "(196, 256, 256, 1)"
      ]
     },
     "execution_count": 21,
     "metadata": {},
     "output_type": "execute_result"
    }
   ],
   "source": [
    "prediction.shape"
   ]
  },
  {
   "cell_type": "code",
   "execution_count": 22,
   "metadata": {},
   "outputs": [
    {
     "name": "stdout",
     "output_type": "stream",
     "text": [
      "['loss', 'dice_coef', 'acc', 'mean_squared_error', 'Jaccard_index', 'Specificity', 'Sensitivity', 'precision', 'recall', 'f1score']\n",
      "[-0.241430255245756, 0.241430255245756, 0.7641178477894176, 0.23051314123652197, 0.13881941239180212, 0.9695184454321861, 1.2183441614562815, 0.14532158676196227, 0.7526524029672146, 0.24157202243804932]\n"
     ]
    }
   ],
   "source": [
    "test_results = model.evaluate_generator(test_generator, steps=50)\n",
    "\n",
    "print(model.metrics_names)\n",
    "print(test_results)"
   ]
  },
  {
   "cell_type": "code",
   "execution_count": 23,
   "metadata": {},
   "outputs": [
    {
     "name": "stdout",
     "output_type": "stream",
     "text": [
      "Training co-effiency    : 0.19002709294460257;\n",
      "Validation co-effiency : 0.18331893781820932\n"
     ]
    }
   ],
   "source": [
    "coef = np.array(history.history['Jaccard_index'])\n",
    "val_coef = np.array(history.history['val_Jaccard_index'])\n",
    "print(\"Training co-effiency    : {};\\nValidation co-effiency : {}\".format(coef[coef==max(coef)][0], val_coef[np.argmax(coef)]))"
   ]
  },
  {
   "cell_type": "code",
   "execution_count": null,
   "metadata": {},
   "outputs": [],
   "source": [
    "import skimage.io as io\n",
    "\n",
    "def labelVisualize(num_class,color_dict,img):\n",
    "    img = img[:,:,0] if len(img.shape) == 3 else img\n",
    "    img_out = np.zeros(img.shape + (3,))\n",
    "    for i in range(num_class):\n",
    "        img_out[img == i,:] = color_dict[i]\n",
    "    return img_out / 255\n",
    "\n",
    "def saveResult(save_path,npyfile,flag_multi_class = False,num_class = 2):\n",
    "    for i,item in enumerate(npyfile):\n",
    "        img = labelVisualize(num_class,COLOR_DICT,item) if flag_multi_class else item[:,:,0]\n",
    "        io.imsave(os.path.join(save_path,\"%d_predict.png\"%i),img)\n",
    "\n",
    "# os.mkdir('04.U-Net1_results_dir')"
   ]
  },
  {
   "cell_type": "code",
   "execution_count": null,
   "metadata": {},
   "outputs": [],
   "source": []
  },
  {
   "cell_type": "code",
   "execution_count": null,
   "metadata": {},
   "outputs": [],
   "source": []
  },
  {
   "cell_type": "code",
   "execution_count": null,
   "metadata": {},
   "outputs": [],
   "source": []
  },
  {
   "cell_type": "code",
   "execution_count": null,
   "metadata": {},
   "outputs": [],
   "source": []
  },
  {
   "cell_type": "code",
   "execution_count": null,
   "metadata": {},
   "outputs": [],
   "source": [
    "saveResult('04.U-Net1_results_dir',prediction)"
   ]
  },
  {
   "cell_type": "code",
   "execution_count": null,
   "metadata": {},
   "outputs": [],
   "source": [
    "def normalizeData(img,mask):\n",
    "    mean = np.mean(img)\n",
    "    std = np.std(img)\n",
    "    img -= mean\n",
    "    img /= std\n",
    "    mask = mask /255\n",
    "    mask[mask > 0.5] = 1\n",
    "    mask[mask <= 0.5] = 0\n",
    "    return (img,mask)\n",
    "\n",
    "test_data_dir= \"data_augmented/cvc300_test/images/\"\n",
    "test_data_mask_dir = \"data_augmented/cvc300_test/masks/\"\n",
    "test_data_pred_dir = \"04.U-Net1_results_dir\"\n",
    "img_rows, img_cols = 512, 512"
   ]
  },
  {
   "cell_type": "code",
   "execution_count": null,
   "metadata": {},
   "outputs": [],
   "source": [
    "from keras.preprocessing import image as image_utils\n",
    "from keras.preprocessing.image import load_img\n",
    "from keras.preprocessing.image import img_to_array\n",
    "from keras.preprocessing.image import array_to_img\n",
    "\n",
    "file_names = next(os.walk(test_data_dir))[2]\n",
    "scores = []\n",
    "for file in file_names:\n",
    "    grey_img = load_img(os.path.join(test_data_dir,file), target_size=(img_rows, img_cols), grayscale=False)\n",
    "    mask_img = load_img(os.path.join(test_data_mask_dir,file), target_size=(img_rows, img_cols), grayscale=True)\n",
    "    img = img_to_array(grey_img)\n",
    "    img_mask = img_to_array(mask_img)\n",
    "    \n",
    "    img, img_mask = normalizeData(img, img_mask)\n",
    "    img = np.reshape(img,(1,)+img.shape)\n",
    "    \n",
    "    pred = model.predict([img])\n",
    "    sess = tf.Session()\n",
    "    score = sess.run(Jaccard_index(img_mask, pred))\n",
    "    print(\"{} -- jaccard index: {}\".format(file,score))\n",
    "    scores.append([file,score])\n",
    "\n",
    "    result_img = array_to_img(pred[0] * 255 )\n",
    "    result_img.save(os.path.join(test_data_pred_dir, file.split('.')[0] + '_predict.jpg'))\n",
    "\n",
    "with open(\"unet_test_result.csv\", 'w') as f:\n",
    "    f.write(\"filename, jaccard_index\\n\")\n",
    "    for i in range(len(scores)):\n",
    "        #print(scores[i])\n",
    "        f.write(\"{},{}\\n\".format(scores[i][0], scores[i][1]))"
   ]
  },
  {
   "cell_type": "code",
   "execution_count": null,
   "metadata": {},
   "outputs": [],
   "source": [
    "%pylab inline\n",
    "import matplotlib.pyplot as plt\n",
    "import matplotlib.image as mpimg\n",
    "img=mpimg.imread('04.U-Net1_results_dir/101_predict.png')\n",
    "imgplot = plt.imshow(img)\n",
    "plt.show()"
   ]
  },
  {
   "cell_type": "code",
   "execution_count": null,
   "metadata": {},
   "outputs": [],
   "source": [
    "plt.imshow(np.squeeze(prediction[1]), cmap = \"gray\")"
   ]
  },
  {
   "cell_type": "code",
   "execution_count": null,
   "metadata": {},
   "outputs": [],
   "source": [
    "plt.imshow(np.squeeze(prediction[1]), cmap = \"gray\", vmin = 0.0, vmax= 0.09)"
   ]
  },
  {
   "cell_type": "code",
   "execution_count": null,
   "metadata": {},
   "outputs": [],
   "source": [
    "results_ =  np.squeeze(np.multiply(prediction[1], 255))\n",
    "print(results_)\n",
    "\n",
    "plt.imshow(results_, cmap = \"gray\", vmin = 0.0, vmax= 0.7)\n",
    "plt.show()"
   ]
  },
  {
   "cell_type": "code",
   "execution_count": null,
   "metadata": {},
   "outputs": [],
   "source": [
    "%pylab inline\n",
    "import matplotlib.pyplot as plt\n",
    "import matplotlib.image as mpimg\n",
    "img=mpimg.imread('04.U-Net1_results_dir/35_predict.png')\n",
    "imgplot = plt.imshow(img)\n",
    "plt.show()"
   ]
  },
  {
   "cell_type": "code",
   "execution_count": null,
   "metadata": {},
   "outputs": [],
   "source": [
    "print(history.history.keys())\n",
    "# summarize history for accuracy\n",
    "plt.plot(history.history['dice_coef'])\n",
    "plt.plot(history.history['val_dice_coef'])\n",
    "plt.title('model dice_coeff')\n",
    "plt.ylabel('dice_coef')\n",
    "plt.xlabel('epoch')\n",
    "plt.legend(['train', 'validation'], loc='upper left')\n",
    "plt.show()\n",
    "# summarize history for loss\n",
    "plt.plot(history.history['loss'])\n",
    "plt.plot(history.history['val_loss'])\n",
    "plt.title('model loss')\n",
    "plt.ylabel('loss')\n",
    "plt.xlabel('epoch')\n",
    "plt.legend(['train', 'validation'], loc='upper left')\n",
    "plt.show()"
   ]
  },
  {
   "cell_type": "code",
   "execution_count": null,
   "metadata": {},
   "outputs": [],
   "source": []
  }
 ],
 "metadata": {
  "kernelspec": {
   "display_name": "Python 3",
   "language": "python",
   "name": "python3"
  },
  "language_info": {
   "codemirror_mode": {
    "name": "ipython",
    "version": 3
   },
   "file_extension": ".py",
   "mimetype": "text/x-python",
   "name": "python",
   "nbconvert_exporter": "python",
   "pygments_lexer": "ipython3",
   "version": "3.6.5"
  }
 },
 "nbformat": 4,
 "nbformat_minor": 1
}
