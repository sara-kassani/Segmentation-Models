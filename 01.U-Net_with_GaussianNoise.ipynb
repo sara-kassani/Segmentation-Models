{
 "cells": [
  {
   "cell_type": "code",
   "execution_count": 1,
   "metadata": {},
   "outputs": [],
   "source": [
    "import warnings\n",
    "warnings.filterwarnings('always')\n",
    "warnings.filterwarnings('ignore')"
   ]
  },
  {
   "cell_type": "code",
   "execution_count": 2,
   "metadata": {},
   "outputs": [
    {
     "data": {
      "text/plain": [
       "[name: \"/device:CPU:0\"\n",
       " device_type: \"CPU\"\n",
       " memory_limit: 268435456\n",
       " locality {\n",
       " }\n",
       " incarnation: 15876653868658603436, name: \"/device:GPU:0\"\n",
       " device_type: \"GPU\"\n",
       " memory_limit: 9234857329\n",
       " locality {\n",
       "   bus_id: 1\n",
       "   links {\n",
       "   }\n",
       " }\n",
       " incarnation: 8076863969098733101\n",
       " physical_device_desc: \"device: 0, name: GeForce GTX 1080 Ti, pci bus id: 0000:01:00.0, compute capability: 6.1\"]"
      ]
     },
     "execution_count": 2,
     "metadata": {},
     "output_type": "execute_result"
    }
   ],
   "source": [
    "from tensorflow.python.client import device_lib\n",
    "device_lib.list_local_devices()"
   ]
  },
  {
   "cell_type": "code",
   "execution_count": 3,
   "metadata": {},
   "outputs": [
    {
     "name": "stderr",
     "output_type": "stream",
     "text": [
      "Using TensorFlow backend.\n"
     ]
    }
   ],
   "source": [
    "import sys\n",
    "import time\n",
    "import math\n",
    "import os\n",
    "import pandas as pd\n",
    "import numpy as np\n",
    "\n",
    "import keras\n",
    "from keras import layers, metrics, models, optimizers\n",
    "from keras.optimizers import Adam, RMSprop,SGD\n",
    "from keras.models import Model\n",
    "from keras.models import Sequential\n",
    "from keras.layers import Input, concatenate, Flatten, Dense, Activation, Dropout, Conv2D, MaxPooling2D, BatchNormalization, GlobalAveragePooling2D\n",
    "from keras.preprocessing.image import ImageDataGenerator\n",
    "\n",
    "\n",
    "import matplotlib.pyplot as plt\n",
    "%matplotlib inline"
   ]
  },
  {
   "cell_type": "code",
   "execution_count": 4,
   "metadata": {},
   "outputs": [
    {
     "name": "stdout",
     "output_type": "stream",
     "text": [
      "Keras Version 2.1.6\n",
      "tensorflow Version 1.10.0\n"
     ]
    }
   ],
   "source": [
    "import keras\n",
    "import tensorflow as tf\n",
    "\n",
    "print(\"Keras Version\", keras.__version__)\n",
    "print(\"tensorflow Version\", tf.__version__)\n",
    "# print(\"dim_ordering:\", K.image_dim_ordering())"
   ]
  },
  {
   "cell_type": "code",
   "execution_count": 5,
   "metadata": {},
   "outputs": [],
   "source": [
    "batch_size = 16\n",
    "img_rows, img_cols = 512, 512\n",
    "input_shape = (img_rows, img_cols, 3)\n",
    "epochs = 150"
   ]
  },
  {
   "cell_type": "code",
   "execution_count": 10,
   "metadata": {},
   "outputs": [],
   "source": [
    "train_dir = 'data/cvc300_train/'\n",
    "validation_dir = 'data/cvc300_validation/'\n",
    "test_dir = 'data/cvc300_test/'\n",
    "\n",
    "image_folder = 'images'\n",
    "masks_folder = 'masks'"
   ]
  },
  {
   "cell_type": "code",
   "execution_count": 11,
   "metadata": {},
   "outputs": [
    {
     "name": "stdout",
     "output_type": "stream",
     "text": [
      "Found 204 images belonging to 1 classes.\n",
      "Found 204 images belonging to 1 classes.\n",
      "Found 68 images belonging to 1 classes.\n",
      "Found 68 images belonging to 1 classes.\n",
      "Found 28 images belonging to 1 classes.\n",
      "Found 28 images belonging to 1 classes.\n"
     ]
    }
   ],
   "source": [
    "seed = 1142\n",
    "data_gen_args = dict(rescale=1. / 255, featurewise_center=True, featurewise_std_normalization=True)\n",
    "image_datagen = ImageDataGenerator(**data_gen_args)\n",
    "masks_datagen = ImageDataGenerator(**data_gen_args)\n",
    "\n",
    "test_datagen = ImageDataGenerator(rescale=1./255)\n",
    "\n",
    "image_generator = image_datagen.flow_from_directory(\n",
    "    train_dir,\n",
    "    classes = [image_folder],\n",
    "    target_size=(img_rows, img_cols),\n",
    "    batch_size=batch_size,\n",
    "    class_mode=None,\n",
    "    seed=seed)\n",
    "\n",
    "mask_generator = masks_datagen.flow_from_directory(\n",
    "    train_dir,\n",
    "    classes = [masks_folder],\n",
    "    color_mode='grayscale',\n",
    "    target_size=(img_rows, img_cols),\n",
    "    batch_size=batch_size,\n",
    "    class_mode=None,\n",
    "    seed=seed)\n",
    "\n",
    "validation_image_generator = image_datagen.flow_from_directory(\n",
    "    validation_dir,\n",
    "    classes = [image_folder],\n",
    "    target_size=(img_rows, img_cols),\n",
    "    batch_size=batch_size,\n",
    "    class_mode=None,\n",
    "    seed=seed)\n",
    "\n",
    "validation_mask_generator = masks_datagen.flow_from_directory(\n",
    "    validation_dir,\n",
    "    classes = [masks_folder],\n",
    "    color_mode='grayscale',\n",
    "    target_size=(img_rows, img_cols),\n",
    "    batch_size=batch_size,\n",
    "    class_mode=None,\n",
    "    seed=seed)\n",
    "\n",
    "test_image_generator = test_datagen.flow_from_directory(\n",
    "    test_dir,\n",
    "    classes = [image_folder],\n",
    "    target_size=(img_rows, img_cols),\n",
    "    batch_size=batch_size,\n",
    "    class_mode=None,\n",
    "    seed=seed)\n",
    "\n",
    "test_mask_generator = test_datagen.flow_from_directory(\n",
    "    test_dir,\n",
    "    classes = [masks_folder],\n",
    "    color_mode='grayscale',\n",
    "    target_size=(img_rows, img_cols),\n",
    "    batch_size=batch_size,\n",
    "    class_mode=None,\n",
    "    seed=seed)"
   ]
  },
  {
   "cell_type": "code",
   "execution_count": 12,
   "metadata": {},
   "outputs": [],
   "source": [
    "train_generator = zip(image_generator, mask_generator)\n",
    "validation_generator = zip(validation_image_generator, validation_mask_generator)\n",
    "test_generator = zip(test_image_generator, test_mask_generator)"
   ]
  },
  {
   "cell_type": "code",
   "execution_count": 13,
   "metadata": {},
   "outputs": [
    {
     "name": "stdout",
     "output_type": "stream",
     "text": [
      "nb_train_samples: 204\n",
      "nb_validation_samples: 68\n",
      "nb_test_samples: 28\n",
      "\n",
      "predict_size_train: 13\n",
      "predict_size_validation: 5\n",
      "predict_size_test: 2\n"
     ]
    }
   ],
   "source": [
    "nb_train_samples = len(image_generator.filenames)\n",
    "nb_validation_samples = len(validation_image_generator.filenames)\n",
    "nb_test_samples = len(test_image_generator.filenames)\n",
    "\n",
    "predict_size_train = int(math.ceil(nb_train_samples / batch_size))\n",
    "predict_size_validation = int(math.ceil(nb_validation_samples / batch_size))\n",
    "predict_size_test = int(math.ceil(nb_test_samples / batch_size))\n",
    "\n",
    "print(\"nb_train_samples:\", nb_train_samples)\n",
    "print(\"nb_validation_samples:\", nb_validation_samples)\n",
    "print(\"nb_test_samples:\", nb_test_samples)\n",
    "\n",
    "print(\"\\npredict_size_train:\", predict_size_train)\n",
    "print(\"predict_size_validation:\", predict_size_validation)\n",
    "print(\"predict_size_test:\", predict_size_test)"
   ]
  },
  {
   "cell_type": "code",
   "execution_count": 36,
   "metadata": {},
   "outputs": [],
   "source": [
    "from keras.layers.noise import GaussianNoise\n",
    "\n",
    "import numpy as np\n",
    "from keras.models import Model\n",
    "from keras.layers import add,concatenate, Flatten, Dense, Input, Dropout, Activation, Reshape\n",
    "from keras.layers import Conv2D, MaxPooling2D, ZeroPadding2D, UpSampling2D,Conv2DTranspose\n",
    "from keras.layers import BatchNormalization\n",
    "\n",
    "\n",
    "def get_unet(img_rows, img_cols, channels = 3):\n",
    "\n",
    "    inputs = Input((img_rows, img_cols, channels))\n",
    "    gaussian_noise_std = 0.025\n",
    "    input_with_noise = GaussianNoise(gaussian_noise_std)(inputs)\n",
    "    conv1 = Conv2D(32, (3, 3), activation='relu', padding='same')(input_with_noise)\n",
    "    conv1 = Conv2D(32, (3, 3), activation='relu', padding='same')(conv1)\n",
    "    pool1 = MaxPooling2D(pool_size=(2, 2))(conv1)\n",
    "\n",
    "    conv2 = Conv2D(64, (3, 3), activation='relu', padding='same')(pool1)\n",
    "    conv2 = Conv2D(64, (3, 3), activation='relu', padding='same')(conv2)\n",
    "    pool2 = MaxPooling2D(pool_size=(2, 2))(conv2)\n",
    "\n",
    "    conv3 = Conv2D(128, (3, 3), activation='relu', padding='same')(pool2)\n",
    "    conv3 = Conv2D(128, (3, 3), activation='relu', padding='same')(conv3)\n",
    "    pool3 = MaxPooling2D(pool_size=(2, 2))(conv3)\n",
    "\n",
    "    conv4 = Conv2D(256, (3, 3), activation='relu', padding='same')(pool3)\n",
    "    conv4 = Conv2D(256, (3, 3), activation='relu', padding='same')(conv4)\n",
    "    pool4 = MaxPooling2D(pool_size=(2, 2))(conv4)\n",
    "\n",
    "    conv5 = Conv2D(512, (3, 3), activation='relu', padding='same')(pool4)\n",
    "    conv5 = Conv2D(512, (3, 3), activation='relu', padding='same')(conv5)\n",
    "\n",
    "    up6 = concatenate([Conv2DTranspose(256, (2, 2), strides=(2, 2), padding='same')(conv5), conv4], axis=3)\n",
    "    conv6 = Conv2D(256, (3, 3), activation='relu', padding='same')(up6)\n",
    "    conv6 = Conv2D(256, (3, 3), activation='relu', padding='same')(conv6)\n",
    "\n",
    "    up7 = concatenate([Conv2DTranspose(128, (2, 2), strides=(2, 2), padding='same')(conv6), conv3], axis=3)\n",
    "    conv7 = Conv2D(128, (3, 3), activation='relu', padding='same')(up7)\n",
    "    conv7 = Conv2D(128, (3, 3), activation='relu', padding='same')(conv7)\n",
    "\n",
    "    up8 = concatenate([Conv2DTranspose(64, (2, 2), strides=(2, 2), padding='same')(conv7), conv2], axis=3)\n",
    "    conv8 = Conv2D(64, (3, 3), activation='relu', padding='same')(up8)\n",
    "    conv8 = Conv2D(64, (3, 3), activation='relu', padding='same')(conv8)\n",
    "\n",
    "    up9 = concatenate([Conv2DTranspose(32, (2, 2), strides=(2, 2), padding='same')(conv8), conv1], axis=3)\n",
    "    conv9 = Conv2D(32, (3, 3), activation='relu', padding='same')(up9)\n",
    "    conv9 = Conv2D(32, (3, 3), activation='relu', padding='same')(conv9)\n",
    "\n",
    "    conv10 = Conv2D(1, (1, 1), activation='sigmoid')(conv9)\n",
    "\n",
    "    model = Model(inputs=[inputs], outputs=[conv10])\n",
    "\n",
    "    return model"
   ]
  },
  {
   "cell_type": "code",
   "execution_count": 37,
   "metadata": {},
   "outputs": [],
   "source": [
    "smooth = 1.\n",
    "from keras import backend as K\n",
    "\n",
    "def dice_coef(y_true, y_pred):\n",
    "    y_true_f = K.flatten(y_true)\n",
    "    y_pred_f = K.flatten(y_pred)\n",
    "    intersection = K.sum(y_true_f * y_pred_f)\n",
    "    return (2. * intersection + smooth) / (K.sum(y_true_f) + K.sum(y_pred_f) + smooth)\n",
    "\n",
    "\n",
    "def dice_coef_loss(y_true, y_pred):\n",
    "    return -dice_coef(y_true, y_pred)\n",
    "\n",
    "\n",
    "def Specificity(y_true, y_pred):\n",
    "    true_negatives = K.abs(y_pred)- K.abs(y_true)\n",
    "    return ((true_negatives+smooth)/(y_pred+ smooth))\n",
    "\n",
    "def Sensitivity(y_true, y_pred):\n",
    "    y_true = K.flatten(y_true)\n",
    "    y_pred = K.flatten(y_pred)\n",
    "    return ((y_pred+smooth)/ (y_true+smooth))\n",
    "\n",
    "def Jaccard_index(y_true,y_pred):\n",
    "    y_true_f = K.flatten(y_true)\n",
    "    y_pred_f = K.flatten(y_pred)\n",
    "    intersection = K.sum(y_true_f * y_pred_f)\n",
    "    return ((intersection + smooth) / (K.sum(y_true_f) + K.sum(y_pred_f) - intersection + smooth))\n",
    "\n",
    "def precision(y_true, y_pred):\n",
    "    \"\"\"Precision metric.\n",
    "    Only computes a batch-wise average of precision.\n",
    "    Computes the precision, a metric for multi-label classification of\n",
    "    how many selected items are relevant.\n",
    "    \"\"\"\n",
    "    true_positives = K.sum(K.round(K.clip(y_true * y_pred, 0, 1)))\n",
    "    predicted_positives = K.sum(K.round(K.clip(y_pred, 0, 1)))\n",
    "    precision = true_positives / (predicted_positives + K.epsilon())\n",
    "    return precision\n",
    "\n",
    "\n",
    "def recall(y_true, y_pred):\n",
    "    \"\"\"Recall metric.\n",
    "    Only computes a batch-wise average of recall.\n",
    "    Computes the recall, a metric for multi-label classification of\n",
    "    how many relevant items are selected.\n",
    "    \"\"\"\n",
    "    true_positives = K.sum(K.round(K.clip(y_true * y_pred, 0, 1)))\n",
    "    possible_positives = K.sum(K.round(K.clip(y_true, 0, 1)))\n",
    "    recall = true_positives / (possible_positives + K.epsilon())\n",
    "    return recall\n",
    "\n",
    "\n",
    "def f1score(y_true, y_pred):\n",
    "    def recall(y_true, y_pred):\n",
    "        \"\"\"Recall metric.\n",
    "        Only computes a batch-wise average of recall.\n",
    "        Computes the recall, a metric for multi-label classification of\n",
    "        how many relevant items are selected.\n",
    "        \"\"\"\n",
    "        true_positives = K.sum(K.round(K.clip(y_true * y_pred, 0, 1)))\n",
    "        possible_positives = K.sum(K.round(K.clip(y_true, 0, 1)))\n",
    "        recall = true_positives / (possible_positives + K.epsilon())\n",
    "        return recall\n",
    "\n",
    "    def precision(y_true, y_pred):\n",
    "        \"\"\"Precision metric.\n",
    "        Only computes a batch-wise average of precision.\n",
    "        Computes the precision, a metric for multi-label classification of\n",
    "        how many selected items are relevant.\n",
    "        \"\"\"\n",
    "        true_positives = K.sum(K.round(K.clip(y_true * y_pred, 0, 1)))\n",
    "        predicted_positives = K.sum(K.round(K.clip(y_pred, 0, 1)))\n",
    "        precision = true_positives / (predicted_positives + K.epsilon())\n",
    "        return precision\n",
    "\n",
    "    precision = precision(y_true, y_pred)\n",
    "    recall = recall(y_true, y_pred)\n",
    "    return 2 * ((precision * recall) / (precision + recall))"
   ]
  },
  {
   "cell_type": "code",
   "execution_count": 38,
   "metadata": {},
   "outputs": [
    {
     "name": "stdout",
     "output_type": "stream",
     "text": [
      "__________________________________________________________________________________________________\n",
      "Layer (type)                    Output Shape         Param #     Connected to                     \n",
      "==================================================================================================\n",
      "input_3 (InputLayer)            (None, 512, 512, 3)  0                                            \n",
      "__________________________________________________________________________________________________\n",
      "gaussian_noise_2 (GaussianNoise (None, 512, 512, 3)  0           input_3[0][0]                    \n",
      "__________________________________________________________________________________________________\n",
      "conv2d_11 (Conv2D)              (None, 512, 512, 32) 896         gaussian_noise_2[0][0]           \n",
      "__________________________________________________________________________________________________\n",
      "conv2d_12 (Conv2D)              (None, 512, 512, 32) 9248        conv2d_11[0][0]                  \n",
      "__________________________________________________________________________________________________\n",
      "max_pooling2d_5 (MaxPooling2D)  (None, 256, 256, 32) 0           conv2d_12[0][0]                  \n",
      "__________________________________________________________________________________________________\n",
      "conv2d_13 (Conv2D)              (None, 256, 256, 64) 18496       max_pooling2d_5[0][0]            \n",
      "__________________________________________________________________________________________________\n",
      "conv2d_14 (Conv2D)              (None, 256, 256, 64) 36928       conv2d_13[0][0]                  \n",
      "__________________________________________________________________________________________________\n",
      "max_pooling2d_6 (MaxPooling2D)  (None, 128, 128, 64) 0           conv2d_14[0][0]                  \n",
      "__________________________________________________________________________________________________\n",
      "conv2d_15 (Conv2D)              (None, 128, 128, 128 73856       max_pooling2d_6[0][0]            \n",
      "__________________________________________________________________________________________________\n",
      "conv2d_16 (Conv2D)              (None, 128, 128, 128 147584      conv2d_15[0][0]                  \n",
      "__________________________________________________________________________________________________\n",
      "max_pooling2d_7 (MaxPooling2D)  (None, 64, 64, 128)  0           conv2d_16[0][0]                  \n",
      "__________________________________________________________________________________________________\n",
      "conv2d_17 (Conv2D)              (None, 64, 64, 256)  295168      max_pooling2d_7[0][0]            \n",
      "__________________________________________________________________________________________________\n",
      "conv2d_18 (Conv2D)              (None, 64, 64, 256)  590080      conv2d_17[0][0]                  \n",
      "__________________________________________________________________________________________________\n",
      "max_pooling2d_8 (MaxPooling2D)  (None, 32, 32, 256)  0           conv2d_18[0][0]                  \n",
      "__________________________________________________________________________________________________\n",
      "conv2d_19 (Conv2D)              (None, 32, 32, 512)  1180160     max_pooling2d_8[0][0]            \n",
      "__________________________________________________________________________________________________\n",
      "conv2d_20 (Conv2D)              (None, 32, 32, 512)  2359808     conv2d_19[0][0]                  \n",
      "__________________________________________________________________________________________________\n",
      "conv2d_transpose_1 (Conv2DTrans (None, 64, 64, 256)  524544      conv2d_20[0][0]                  \n",
      "__________________________________________________________________________________________________\n",
      "concatenate_1 (Concatenate)     (None, 64, 64, 512)  0           conv2d_transpose_1[0][0]         \n",
      "                                                                 conv2d_18[0][0]                  \n",
      "__________________________________________________________________________________________________\n",
      "conv2d_21 (Conv2D)              (None, 64, 64, 256)  1179904     concatenate_1[0][0]              \n",
      "__________________________________________________________________________________________________\n",
      "conv2d_22 (Conv2D)              (None, 64, 64, 256)  590080      conv2d_21[0][0]                  \n",
      "__________________________________________________________________________________________________\n",
      "conv2d_transpose_2 (Conv2DTrans (None, 128, 128, 128 131200      conv2d_22[0][0]                  \n",
      "__________________________________________________________________________________________________\n",
      "concatenate_2 (Concatenate)     (None, 128, 128, 256 0           conv2d_transpose_2[0][0]         \n",
      "                                                                 conv2d_16[0][0]                  \n",
      "__________________________________________________________________________________________________\n",
      "conv2d_23 (Conv2D)              (None, 128, 128, 128 295040      concatenate_2[0][0]              \n",
      "__________________________________________________________________________________________________\n",
      "conv2d_24 (Conv2D)              (None, 128, 128, 128 147584      conv2d_23[0][0]                  \n",
      "__________________________________________________________________________________________________\n",
      "conv2d_transpose_3 (Conv2DTrans (None, 256, 256, 64) 32832       conv2d_24[0][0]                  \n",
      "__________________________________________________________________________________________________\n",
      "concatenate_3 (Concatenate)     (None, 256, 256, 128 0           conv2d_transpose_3[0][0]         \n",
      "                                                                 conv2d_14[0][0]                  \n",
      "__________________________________________________________________________________________________\n",
      "conv2d_25 (Conv2D)              (None, 256, 256, 64) 73792       concatenate_3[0][0]              \n",
      "__________________________________________________________________________________________________\n",
      "conv2d_26 (Conv2D)              (None, 256, 256, 64) 36928       conv2d_25[0][0]                  \n",
      "__________________________________________________________________________________________________\n",
      "conv2d_transpose_4 (Conv2DTrans (None, 512, 512, 32) 8224        conv2d_26[0][0]                  \n",
      "__________________________________________________________________________________________________\n",
      "concatenate_4 (Concatenate)     (None, 512, 512, 64) 0           conv2d_transpose_4[0][0]         \n",
      "                                                                 conv2d_12[0][0]                  \n",
      "__________________________________________________________________________________________________\n",
      "conv2d_27 (Conv2D)              (None, 512, 512, 32) 18464       concatenate_4[0][0]              \n",
      "__________________________________________________________________________________________________\n",
      "conv2d_28 (Conv2D)              (None, 512, 512, 32) 9248        conv2d_27[0][0]                  \n",
      "__________________________________________________________________________________________________\n",
      "conv2d_29 (Conv2D)              (None, 512, 512, 1)  33          conv2d_28[0][0]                  \n",
      "==================================================================================================\n",
      "Total params: 7,760,097\n",
      "Trainable params: 7,760,097\n",
      "Non-trainable params: 0\n",
      "__________________________________________________________________________________________________\n"
     ]
    }
   ],
   "source": [
    "model = get_unet(img_rows, img_cols)\n",
    "model.summary()\n",
    "adam_opt = Adam(lr=1e-5, beta_1=0.9, beta_2=0.999, epsilon=None, decay=0.0, amsgrad=False)\n",
    "\n",
    "model.compile(optimizer= adam_opt, loss=dice_coef_loss, \n",
    "              metrics=[dice_coef, 'acc','mse', Jaccard_index, Specificity, Sensitivity, precision, recall, f1score])"
   ]
  },
  {
   "cell_type": "code",
   "execution_count": 40,
   "metadata": {
    "scrolled": true
   },
   "outputs": [
    {
     "name": "stdout",
     "output_type": "stream",
     "text": [
      "Epoch 1/25\n",
      "12/12 [==============================] - 12s 978ms/step - loss: -0.0899 - dice_coef: 0.0899 - acc: 0.9316 - mean_squared_error: 0.2473 - Jaccard_index: 0.0471 - Specificity: 0.9668 - Sensitivity: 1.4597 - precision: 0.0022 - recall: 8.7376e-04 - f1score: 0.0012 - val_loss: -0.1071 - val_dice_coef: 0.1071 - val_acc: 0.8874 - val_mean_squared_error: 0.2483 - val_Jaccard_index: 0.0567 - val_Specificity: 0.9597 - val_Sensitivity: 1.4527 - val_precision: 0.0010 - val_recall: 8.6716e-04 - val_f1score: 9.3475e-04\n",
      "Epoch 2/25\n",
      "12/12 [==============================] - 9s 770ms/step - loss: -0.0879 - dice_coef: 0.0879 - acc: 0.8959 - mean_squared_error: 0.2485 - Jaccard_index: 0.0461 - Specificity: 0.9676 - Sensitivity: 1.4619 - precision: 0.0146 - recall: 0.0278 - f1score: 0.0181 - val_loss: -0.0956 - val_dice_coef: 0.0956 - val_acc: 0.7463 - val_mean_squared_error: 0.2493 - val_Jaccard_index: 0.0503 - val_Specificity: 0.9646 - val_Sensitivity: 1.4594 - val_precision: 0.0345 - val_recall: 0.1401 - val_f1score: 0.0549\n",
      "Epoch 3/25\n",
      "12/12 [==============================] - 9s 712ms/step - loss: -0.0910 - dice_coef: 0.0910 - acc: 0.6298 - mean_squared_error: 0.2496 - Jaccard_index: 0.0477 - Specificity: 0.9665 - Sensitivity: 1.4619 - precision: 0.0553 - recall: 0.4164 - f1score: 0.0955 - val_loss: -0.1153 - val_dice_coef: 0.1153 - val_acc: 0.3716 - val_mean_squared_error: 0.2502 - val_Jaccard_index: 0.0614 - val_Specificity: 0.9563 - val_Sensitivity: 1.4511 - val_precision: 0.0813 - val_recall: 0.8235 - val_f1score: 0.1473\n",
      "Epoch 4/25\n",
      "12/12 [==============================] - 9s 712ms/step - loss: -0.0869 - dice_coef: 0.0869 - acc: 0.3354 - mean_squared_error: 0.2505 - Jaccard_index: 0.0455 - Specificity: 0.9683 - Sensitivity: 1.4649 - precision: 0.0601 - recall: 0.8857 - f1score: 0.1125 - val_loss: -0.1056 - val_dice_coef: 0.1056 - val_acc: 0.2763 - val_mean_squared_error: 0.2512 - val_Jaccard_index: 0.0559 - val_Specificity: 0.9605 - val_Sensitivity: 1.4569 - val_precision: 0.0742 - val_recall: 0.9745 - val_f1score: 0.1371\n",
      "Epoch 5/25\n",
      "12/12 [==============================] - 9s 723ms/step - loss: -0.0881 - dice_coef: 0.0881 - acc: 0.2790 - mean_squared_error: 0.2515 - Jaccard_index: 0.0461 - Specificity: 0.9679 - Sensitivity: 1.4655 - precision: 0.0609 - recall: 0.9638 - f1score: 0.1144 - val_loss: -0.1135 - val_dice_coef: 0.1135 - val_acc: 0.2694 - val_mean_squared_error: 0.2520 - val_Jaccard_index: 0.0603 - val_Specificity: 0.9575 - val_Sensitivity: 1.4545 - val_precision: 0.0796 - val_recall: 0.9866 - val_f1score: 0.1470\n",
      "Epoch 6/25\n",
      "12/12 [==============================] - 8s 707ms/step - loss: -0.0905 - dice_coef: 0.0905 - acc: 0.2655 - mean_squared_error: 0.2525 - Jaccard_index: 0.0474 - Specificity: 0.9670 - Sensitivity: 1.4656 - precision: 0.0621 - recall: 0.9800 - f1score: 0.1168 - val_loss: -0.0998 - val_dice_coef: 0.0998 - val_acc: 0.2628 - val_mean_squared_error: 0.2531 - val_Jaccard_index: 0.0526 - val_Specificity: 0.9633 - val_Sensitivity: 1.4620 - val_precision: 0.0694 - val_recall: 0.9918 - val_f1score: 0.1293\n",
      "Epoch 7/25\n",
      "12/12 [==============================] - 9s 709ms/step - loss: -0.0898 - dice_coef: 0.0898 - acc: 0.2619 - mean_squared_error: 0.2535 - Jaccard_index: 0.0470 - Specificity: 0.9674 - Sensitivity: 1.4672 - precision: 0.0618 - recall: 0.9905 - f1score: 0.1163 - val_loss: -0.0994 - val_dice_coef: 0.0994 - val_acc: 0.2524 - val_mean_squared_error: 0.2543 - val_Jaccard_index: 0.0525 - val_Specificity: 0.9635 - val_Sensitivity: 1.4637 - val_precision: 0.0687 - val_recall: 0.9964 - val_f1score: 0.1279\n",
      "Epoch 8/25\n",
      "12/12 [==============================] - 9s 713ms/step - loss: -0.0874 - dice_coef: 0.0874 - acc: 0.2592 - mean_squared_error: 0.2547 - Jaccard_index: 0.0457 - Specificity: 0.9685 - Sensitivity: 1.4696 - precision: 0.0601 - recall: 0.9960 - f1score: 0.1132 - val_loss: -0.1070 - val_dice_coef: 0.1070 - val_acc: 0.2629 - val_mean_squared_error: 0.2553 - val_Jaccard_index: 0.0569 - val_Specificity: 0.9601 - val_Sensitivity: 1.4611 - val_precision: 0.0759 - val_recall: 0.9988 - val_f1score: 0.1396\n",
      "Epoch 9/25\n",
      "12/12 [==============================] - 9s 708ms/step - loss: -0.0913 - dice_coef: 0.0913 - acc: 0.2519 - mean_squared_error: 0.2562 - Jaccard_index: 0.0479 - Specificity: 0.9671 - Sensitivity: 1.4697 - precision: 0.0623 - recall: 0.9979 - f1score: 0.1171 - val_loss: -0.1176 - val_dice_coef: 0.1176 - val_acc: 0.2643 - val_mean_squared_error: 0.2567 - val_Jaccard_index: 0.0626 - val_Specificity: 0.9563 - val_Sensitivity: 1.4583 - val_precision: 0.0826 - val_recall: 0.9992 - val_f1score: 0.1520\n",
      "Epoch 10/25\n",
      "12/12 [==============================] - 9s 711ms/step - loss: -0.0913 - dice_coef: 0.0913 - acc: 0.2498 - mean_squared_error: 0.2580 - Jaccard_index: 0.0479 - Specificity: 0.9672 - Sensitivity: 1.4718 - precision: 0.0619 - recall: 0.9986 - f1score: 0.1165 - val_loss: -0.1057 - val_dice_coef: 0.1057 - val_acc: 0.2599 - val_mean_squared_error: 0.2585 - val_Jaccard_index: 0.0560 - val_Specificity: 0.9615 - val_Sensitivity: 1.4660 - val_precision: 0.0730 - val_recall: 0.9995 - val_f1score: 0.1356\n",
      "Epoch 11/25\n",
      "12/12 [==============================] - 9s 710ms/step - loss: -0.0868 - dice_coef: 0.0868 - acc: 0.2464 - mean_squared_error: 0.2598 - Jaccard_index: 0.0454 - Specificity: 0.9692 - Sensitivity: 1.4757 - precision: 0.0584 - recall: 0.9989 - f1score: 0.1102 - val_loss: -0.1068 - val_dice_coef: 0.1068 - val_acc: 0.2649 - val_mean_squared_error: 0.2605 - val_Jaccard_index: 0.0567 - val_Specificity: 0.9610 - val_Sensitivity: 1.4676 - val_precision: 0.0747 - val_recall: 0.9992 - val_f1score: 0.1379\n",
      "Epoch 12/25\n",
      "12/12 [==============================] - 9s 714ms/step - loss: -0.0923 - dice_coef: 0.0923 - acc: 0.2471 - mean_squared_error: 0.2619 - Jaccard_index: 0.0484 - Specificity: 0.9672 - Sensitivity: 1.4758 - precision: 0.0621 - recall: 0.9992 - f1score: 0.1168 - val_loss: -0.1125 - val_dice_coef: 0.1125 - val_acc: 0.2624 - val_mean_squared_error: 0.2626 - val_Jaccard_index: 0.0597 - val_Specificity: 0.9592 - val_Sensitivity: 1.4679 - val_precision: 0.0779 - val_recall: 0.9995 - val_f1score: 0.1442\n",
      "Epoch 13/25\n",
      "12/12 [==============================] - 9s 736ms/step - loss: -0.0930 - dice_coef: 0.0930 - acc: 0.2514 - mean_squared_error: 0.2646 - Jaccard_index: 0.0489 - Specificity: 0.9672 - Sensitivity: 1.4786 - precision: 0.0628 - recall: 0.9993 - f1score: 0.1179 - val_loss: -0.1134 - val_dice_coef: 0.1134 - val_acc: 0.2520 - val_mean_squared_error: 0.2657 - val_Jaccard_index: 0.0602 - val_Specificity: 0.9593 - val_Sensitivity: 1.4713 - val_precision: 0.0769 - val_recall: 0.9998 - val_f1score: 0.1426\n",
      "Epoch 14/25\n",
      "12/12 [==============================] - 9s 727ms/step - loss: -0.0860 - dice_coef: 0.0860 - acc: 0.2339 - mean_squared_error: 0.2682 - Jaccard_index: 0.0450 - Specificity: 0.9701 - Sensitivity: 1.4854 - precision: 0.0564 - recall: 0.9995 - f1score: 0.1066 - val_loss: -0.1040 - val_dice_coef: 0.1040 - val_acc: 0.2399 - val_mean_squared_error: 0.2691 - val_Jaccard_index: 0.0549 - val_Specificity: 0.9634 - val_Sensitivity: 1.4792 - val_precision: 0.0688 - val_recall: 0.9999 - val_f1score: 0.1287\n",
      "Epoch 15/25\n",
      "12/12 [==============================] - 9s 710ms/step - loss: -0.0957 - dice_coef: 0.0957 - acc: 0.2473 - mean_squared_error: 0.2720 - Jaccard_index: 0.0503 - Specificity: 0.9668 - Sensitivity: 1.4857 - precision: 0.0637 - recall: 0.9995 - f1score: 0.1195 - val_loss: -0.1057 - val_dice_coef: 0.1057 - val_acc: 0.2447 - val_mean_squared_error: 0.2751 - val_Jaccard_index: 0.0560 - val_Specificity: 0.9632 - val_Sensitivity: 1.4850 - val_precision: 0.0704 - val_recall: 0.9999 - val_f1score: 0.1311\n",
      "Epoch 16/25\n",
      "12/12 [==============================] - 9s 713ms/step - loss: -0.0893 - dice_coef: 0.0893 - acc: 0.2333 - mean_squared_error: 0.2800 - Jaccard_index: 0.0468 - Specificity: 0.9697 - Sensitivity: 1.4967 - precision: 0.0578 - recall: 0.9997 - f1score: 0.1091 - val_loss: -0.1161 - val_dice_coef: 0.1161 - val_acc: 0.2495 - val_mean_squared_error: 0.2818 - val_Jaccard_index: 0.0618 - val_Specificity: 0.9600 - val_Sensitivity: 1.4883 - val_precision: 0.0768 - val_recall: 0.9999 - val_f1score: 0.1422\n",
      "Epoch 17/25\n"
     ]
    },
    {
     "name": "stdout",
     "output_type": "stream",
     "text": [
      "12/12 [==============================] - 9s 711ms/step - loss: -0.0932 - dice_coef: 0.0932 - acc: 0.2257 - mean_squared_error: 0.2925 - Jaccard_index: 0.0490 - Specificity: 0.9691 - Sensitivity: 1.5080 - precision: 0.0590 - recall: 0.9999 - f1score: 0.1112 - val_loss: -0.1129 - val_dice_coef: 0.1129 - val_acc: 0.2280 - val_mean_squared_error: 0.3006 - val_Jaccard_index: 0.0600 - val_Specificity: 0.9625 - val_Sensitivity: 1.5089 - val_precision: 0.0717 - val_recall: 1.0000 - val_f1score: 0.1334\n",
      "Epoch 18/25\n",
      "12/12 [==============================] - 9s 728ms/step - loss: -0.0953 - dice_coef: 0.0953 - acc: 0.2077 - mean_squared_error: 0.3172 - Jaccard_index: 0.0501 - Specificity: 0.9697 - Sensitivity: 1.5309 - precision: 0.0578 - recall: 1.0000 - f1score: 0.1091 - val_loss: -0.1112 - val_dice_coef: 0.1112 - val_acc: 0.2063 - val_mean_squared_error: 0.3326 - val_Jaccard_index: 0.0590 - val_Specificity: 0.9653 - val_Sensitivity: 1.5400 - val_precision: 0.0667 - val_recall: 1.0000 - val_f1score: 0.1247\n",
      "Epoch 19/25\n",
      "12/12 [==============================] - 9s 718ms/step - loss: -0.1009 - dice_coef: 0.1009 - acc: 0.1702 - mean_squared_error: 0.3680 - Jaccard_index: 0.0532 - Specificity: 0.9704 - Sensitivity: 1.5740 - precision: 0.0564 - recall: 1.0000 - f1score: 0.1067 - val_loss: -0.1172 - val_dice_coef: 0.1172 - val_acc: 0.1738 - val_mean_squared_error: 0.4067 - val_Jaccard_index: 0.0625 - val_Specificity: 0.9666 - val_Sensitivity: 1.6004 - val_precision: 0.0653 - val_recall: 1.0000 - val_f1score: 0.1221\n",
      "Epoch 20/25\n",
      "12/12 [==============================] - 9s 724ms/step - loss: -0.0992 - dice_coef: 0.0992 - acc: 0.0910 - mean_squared_error: 0.4907 - Jaccard_index: 0.0523 - Specificity: 0.9742 - Sensitivity: 1.6664 - precision: 0.0487 - recall: 1.0000 - f1score: 0.0928 - val_loss: -0.1222 - val_dice_coef: 0.1222 - val_acc: 0.1278 - val_mean_squared_error: 0.5648 - val_Jaccard_index: 0.0651 - val_Specificity: 0.9695 - val_Sensitivity: 1.7110 - val_precision: 0.0615 - val_recall: 1.0000 - val_f1score: 0.1158\n",
      "Epoch 21/25\n",
      "12/12 [==============================] - 9s 716ms/step - loss: -0.1105 - dice_coef: 0.1105 - acc: 0.0931 - mean_squared_error: 0.6181 - Jaccard_index: 0.0586 - Specificity: 0.9734 - Sensitivity: 1.7480 - precision: 0.0533 - recall: 1.0000 - f1score: 0.1011 - val_loss: -0.1321 - val_dice_coef: 0.1321 - val_acc: 0.1561 - val_mean_squared_error: 0.5945 - val_Jaccard_index: 0.0708 - val_Specificity: 0.9679 - val_Sensitivity: 1.7271 - val_precision: 0.0679 - val_recall: 1.0000 - val_f1score: 0.1270\n",
      "Epoch 22/25\n",
      "12/12 [==============================] - 9s 748ms/step - loss: -0.0985 - dice_coef: 0.0985 - acc: 0.1622 - mean_squared_error: 0.5817 - Jaccard_index: 0.0519 - Specificity: 0.9765 - Sensitivity: 1.7261 - precision: 0.0506 - recall: 1.0000 - f1score: 0.0962 - val_loss: -0.1230 - val_dice_coef: 0.1230 - val_acc: 0.1777 - val_mean_squared_error: 0.5642 - val_Jaccard_index: 0.0656 - val_Specificity: 0.9702 - val_Sensitivity: 1.7084 - val_precision: 0.0642 - val_recall: 1.0000 - val_f1score: 0.1205\n",
      "Epoch 23/25\n",
      "12/12 [==============================] - 9s 713ms/step - loss: -0.1176 - dice_coef: 0.1176 - acc: 0.2014 - mean_squared_error: 0.5972 - Jaccard_index: 0.0626 - Specificity: 0.9722 - Sensitivity: 1.7297 - precision: 0.0627 - recall: 1.0000 - f1score: 0.1179 - val_loss: -0.1278 - val_dice_coef: 0.1278 - val_acc: 0.2370 - val_mean_squared_error: 0.5708 - val_Jaccard_index: 0.0684 - val_Specificity: 0.9701 - val_Sensitivity: 1.7105 - val_precision: 0.0700 - val_recall: 1.0000 - val_f1score: 0.1306\n",
      "Epoch 24/25\n",
      "12/12 [==============================] - 9s 717ms/step - loss: -0.1061 - dice_coef: 0.1061 - acc: 0.2352 - mean_squared_error: 0.5816 - Jaccard_index: 0.0561 - Specificity: 0.9753 - Sensitivity: 1.7209 - precision: 0.0582 - recall: 1.0000 - f1score: 0.1098 - val_loss: -0.1325 - val_dice_coef: 0.1325 - val_acc: 0.2700 - val_mean_squared_error: 0.5724 - val_Jaccard_index: 0.0712 - val_Specificity: 0.9692 - val_Sensitivity: 1.7093 - val_precision: 0.0752 - val_recall: 1.0000 - val_f1score: 0.1394\n",
      "Epoch 25/25\n",
      "12/12 [==============================] - 9s 716ms/step - loss: -0.1107 - dice_coef: 0.1107 - acc: 0.2962 - mean_squared_error: 0.5721 - Jaccard_index: 0.0587 - Specificity: 0.9750 - Sensitivity: 1.7105 - precision: 0.0643 - recall: 0.9997 - f1score: 0.1206 - val_loss: -0.1395 - val_dice_coef: 0.1395 - val_acc: 0.3309 - val_mean_squared_error: 0.5467 - val_Jaccard_index: 0.0752 - val_Specificity: 0.9680 - val_Sensitivity: 1.6881 - val_precision: 0.0838 - val_recall: 0.9993 - val_f1score: 0.1543\n"
     ]
    }
   ],
   "source": [
    "history = model.fit_generator(train_generator,\n",
    "                    steps_per_epoch=nb_train_samples//batch_size,\n",
    "                    epochs=25,\n",
    "                    validation_data = validation_generator,\n",
    "                    validation_steps = nb_validation_samples//batch_size)"
   ]
  },
  {
   "cell_type": "code",
   "execution_count": 41,
   "metadata": {},
   "outputs": [
    {
     "name": "stdout",
     "output_type": "stream",
     "text": [
      "Validation Score:  -0.13431592285633087\n",
      "Validation Accuracy:  0.13431592285633087\n"
     ]
    }
   ],
   "source": [
    "score = model.evaluate_generator(validation_generator, steps=50)\n",
    "\n",
    "print ('Validation Score: ', score[0])\n",
    "print ('Validation Accuracy: ',score[1])"
   ]
  },
  {
   "cell_type": "code",
   "execution_count": 42,
   "metadata": {},
   "outputs": [
    {
     "name": "stdout",
     "output_type": "stream",
     "text": [
      "28/28 [==============================] - 6s 212ms/step\n"
     ]
    }
   ],
   "source": [
    "prediction = model.predict_generator(test_generator, verbose=1, steps=nb_test_samples)"
   ]
  },
  {
   "cell_type": "code",
   "execution_count": 43,
   "metadata": {},
   "outputs": [
    {
     "data": {
      "text/plain": [
       "(392, 512, 512, 1)"
      ]
     },
     "execution_count": 43,
     "metadata": {},
     "output_type": "execute_result"
    }
   ],
   "source": [
    "prediction.shape"
   ]
  },
  {
   "cell_type": "code",
   "execution_count": 44,
   "metadata": {},
   "outputs": [
    {
     "name": "stdout",
     "output_type": "stream",
     "text": [
      "['loss', 'dice_coef', 'acc', 'mean_squared_error', 'Jaccard_index', 'Specificity', 'Sensitivity', 'precision', 'recall', 'f1score']\n",
      "[-0.11650824278593064, 0.11650824253048216, 0.293470926795687, 0.5574011162349156, 0.061948953824383875, 0.974385130746024, 1.701814890589033, 0.06571148678660393, 0.9994682094029018, 0.12312035837343761]\n"
     ]
    }
   ],
   "source": [
    "test_results = model.evaluate_generator(test_generator, steps=50)\n",
    "\n",
    "print(model.metrics_names)\n",
    "print(test_results)"
   ]
  },
  {
   "cell_type": "code",
   "execution_count": 45,
   "metadata": {},
   "outputs": [
    {
     "name": "stdout",
     "output_type": "stream",
     "text": [
      "Training co-effiency    : 0.06227424598120628;\n",
      "Validation co-effiency : 0.0683744432261357\n"
     ]
    }
   ],
   "source": [
    "coef = np.array(history.history['Jaccard_index'])\n",
    "val_coef = np.array(history.history['val_Jaccard_index'])\n",
    "print(\"Training co-effiency    : {};\\nValidation co-effiency : {}\".format(coef[coef==max(coef)][0], val_coef[np.argmax(coef)]))"
   ]
  },
  {
   "cell_type": "code",
   "execution_count": 46,
   "metadata": {},
   "outputs": [],
   "source": [
    "import skimage.io as io\n",
    "\n",
    "def labelVisualize(num_class,color_dict,img):\n",
    "    img = img[:,:,0] if len(img.shape) == 3 else img\n",
    "    img_out = np.zeros(img.shape + (3,))\n",
    "    for i in range(num_class):\n",
    "        img_out[img == i,:] = color_dict[i]\n",
    "    return img_out / 255\n",
    "\n",
    "def saveResult(save_path,npyfile,flag_multi_class = False,num_class = 2):\n",
    "    for i,item in enumerate(npyfile):\n",
    "        img = labelVisualize(num_class,COLOR_DICT,item) if flag_multi_class else item[:,:,0]\n",
    "        io.imsave(os.path.join(save_path,\"%d_predict.png\"%i),img)\n",
    "\n",
    "# os.mkdir('04.U-Net1_results_dir')"
   ]
  },
  {
   "cell_type": "code",
   "execution_count": null,
   "metadata": {},
   "outputs": [],
   "source": [
    "saveResult('04.U-Net1_results_dir',prediction)"
   ]
  },
  {
   "cell_type": "code",
   "execution_count": null,
   "metadata": {},
   "outputs": [],
   "source": [
    "def normalizeData(img,mask):\n",
    "    mean = np.mean(img)\n",
    "    std = np.std(img)\n",
    "    img -= mean\n",
    "    img /= std\n",
    "    mask = mask /255\n",
    "    mask[mask > 0.5] = 1\n",
    "    mask[mask <= 0.5] = 0\n",
    "    return (img,mask)\n",
    "\n",
    "test_data_dir= \"data_augmented/cvc300_test/images/\"\n",
    "test_data_mask_dir = \"data_augmented/cvc300_test/masks/\"\n",
    "test_data_pred_dir = \"04.U-Net1_results_dir\"\n",
    "img_rows, img_cols = 512, 512"
   ]
  },
  {
   "cell_type": "code",
   "execution_count": null,
   "metadata": {},
   "outputs": [],
   "source": [
    "from keras.preprocessing import image as image_utils\n",
    "from keras.preprocessing.image import load_img\n",
    "from keras.preprocessing.image import img_to_array\n",
    "from keras.preprocessing.image import array_to_img\n",
    "\n",
    "file_names = next(os.walk(test_data_dir))[2]\n",
    "scores = []\n",
    "for file in file_names:\n",
    "    grey_img = load_img(os.path.join(test_data_dir,file), target_size=(img_rows, img_cols), grayscale=False)\n",
    "    mask_img = load_img(os.path.join(test_data_mask_dir,file), target_size=(img_rows, img_cols), grayscale=True)\n",
    "    img = img_to_array(grey_img)\n",
    "    img_mask = img_to_array(mask_img)\n",
    "    \n",
    "    img, img_mask = normalizeData(img, img_mask)\n",
    "    img = np.reshape(img,(1,)+img.shape)\n",
    "    \n",
    "    pred = model.predict([img])\n",
    "    sess = tf.Session()\n",
    "    score = sess.run(Jaccard_index(img_mask, pred))\n",
    "    print(\"{} -- jaccard index: {}\".format(file,score))\n",
    "    scores.append([file,score])\n",
    "\n",
    "    result_img = array_to_img(pred[0] * 255 )\n",
    "    result_img.save(os.path.join(test_data_pred_dir, file.split('.')[0] + '_predict.jpg'))\n",
    "\n",
    "with open(\"unet_test_result.csv\", 'w') as f:\n",
    "    f.write(\"filename, jaccard_index\\n\")\n",
    "    for i in range(len(scores)):\n",
    "        #print(scores[i])\n",
    "        f.write(\"{},{}\\n\".format(scores[i][0], scores[i][1]))"
   ]
  },
  {
   "cell_type": "code",
   "execution_count": null,
   "metadata": {},
   "outputs": [],
   "source": [
    "%pylab inline\n",
    "import matplotlib.pyplot as plt\n",
    "import matplotlib.image as mpimg\n",
    "img=mpimg.imread('04.U-Net1_results_dir/101_predict.png')\n",
    "imgplot = plt.imshow(img)\n",
    "plt.show()"
   ]
  },
  {
   "cell_type": "code",
   "execution_count": null,
   "metadata": {},
   "outputs": [],
   "source": [
    "plt.imshow(np.squeeze(prediction[1]), cmap = \"gray\")"
   ]
  },
  {
   "cell_type": "code",
   "execution_count": null,
   "metadata": {},
   "outputs": [],
   "source": [
    "plt.imshow(np.squeeze(prediction[1]), cmap = \"gray\", vmin = 0.0, vmax= 0.09)"
   ]
  },
  {
   "cell_type": "code",
   "execution_count": null,
   "metadata": {},
   "outputs": [],
   "source": [
    "results_ =  np.squeeze(np.multiply(prediction[1], 255))\n",
    "print(results_)\n",
    "\n",
    "plt.imshow(results_, cmap = \"gray\", vmin = 0.0, vmax= 0.7)\n",
    "plt.show()"
   ]
  },
  {
   "cell_type": "code",
   "execution_count": null,
   "metadata": {},
   "outputs": [],
   "source": [
    "%pylab inline\n",
    "import matplotlib.pyplot as plt\n",
    "import matplotlib.image as mpimg\n",
    "img=mpimg.imread('04.U-Net1_results_dir/35_predict.png')\n",
    "imgplot = plt.imshow(img)\n",
    "plt.show()"
   ]
  },
  {
   "cell_type": "code",
   "execution_count": null,
   "metadata": {},
   "outputs": [],
   "source": [
    "print(history.history.keys())\n",
    "# summarize history for accuracy\n",
    "plt.plot(history.history['dice_coef'])\n",
    "plt.plot(history.history['val_dice_coef'])\n",
    "plt.title('model dice_coeff')\n",
    "plt.ylabel('dice_coef')\n",
    "plt.xlabel('epoch')\n",
    "plt.legend(['train', 'validation'], loc='upper left')\n",
    "plt.show()\n",
    "# summarize history for loss\n",
    "plt.plot(history.history['loss'])\n",
    "plt.plot(history.history['val_loss'])\n",
    "plt.title('model loss')\n",
    "plt.ylabel('loss')\n",
    "plt.xlabel('epoch')\n",
    "plt.legend(['train', 'validation'], loc='upper left')\n",
    "plt.show()"
   ]
  },
  {
   "cell_type": "code",
   "execution_count": null,
   "metadata": {},
   "outputs": [],
   "source": []
  }
 ],
 "metadata": {
  "kernelspec": {
   "display_name": "Python 3",
   "language": "python",
   "name": "python3"
  },
  "language_info": {
   "codemirror_mode": {
    "name": "ipython",
    "version": 3
   },
   "file_extension": ".py",
   "mimetype": "text/x-python",
   "name": "python",
   "nbconvert_exporter": "python",
   "pygments_lexer": "ipython3",
   "version": "3.6.5"
  }
 },
 "nbformat": 4,
 "nbformat_minor": 1
}
